{
 "cells": [
  {
   "cell_type": "markdown",
   "id": "8588ebbc-02ae-4989-8741-626b2a2a03d0",
   "metadata": {},
   "source": [
    "# Loading Libraries"
   ]
  },
  {
   "cell_type": "code",
   "execution_count": null,
   "id": "28a62663-c4ac-4782-87df-369df086c32d",
   "metadata": {},
   "outputs": [],
   "source": [
    "import concurrent.futures\n",
    "import json\n",
    "import numpy as np\n",
    "import pandas as pd\n",
    "import requests\n",
    "import time\n",
    "import urllib.request\n",
    "import yfinance as yf\n",
    "yf.pdr_override()\n",
    "\n",
    "from datetime import datetime\n",
    "import matplotlib.pyplot as plt\n",
    "from pandas_datareader import data as pdr\n",
    "from pandas.io.json import json_normalize\n",
    "from tqdm import tqdm"
   ]
  },
  {
   "cell_type": "markdown",
   "id": "17f9da43-45df-45d1-982c-1df72abd1251",
   "metadata": {},
   "source": [
    "# Variables"
   ]
  },
  {
   "cell_type": "code",
   "execution_count": null,
   "id": "30509aed-64e0-4316-9c18-4d8c82451faa",
   "metadata": {},
   "outputs": [],
   "source": [
    "today = datetime.today().strftime('%Y-%m-%d')"
   ]
  },
  {
   "cell_type": "code",
   "execution_count": null,
   "id": "2eefa96b-0970-4f75-98a7-52e9715a23bc",
   "metadata": {},
   "outputs": [],
   "source": [
    "def years_ago(dt, years):\n",
    "    if dt.month == 2 and dt.day == 29:\n",
    "        dt = dt.replace(day=28)\n",
    "\n",
    "    return dt.replace(year=dt.year - years)"
   ]
  },
  {
   "cell_type": "code",
   "execution_count": null,
   "id": "d695c1e5-a7a1-4c98-b793-0d3f21e0c996",
   "metadata": {},
   "outputs": [],
   "source": [
    "one_year_ago = years_ago(datetime.today(), 1).strftime('%Y-%m-%d')"
   ]
  },
  {
   "cell_type": "code",
   "execution_count": null,
   "id": "f7431b9c-d76b-473c-bd2f-e772d5b4159b",
   "metadata": {},
   "outputs": [],
   "source": [
    "ticker_list = \"ticker_list.csv\""
   ]
  },
  {
   "cell_type": "code",
   "execution_count": null,
   "id": "7bc2a895-f62f-4539-8748-fb6db2bf24bd",
   "metadata": {},
   "outputs": [],
   "source": [
    "# token='c3dg1raad3icrjj6ha80'\n",
    "token='sandbox_c3dg1raad3icrjj6ha8g'\n",
    "api_key='sandbox_c3dg1raad3icrjj6ha8g'\n",
    "token='sandbox_c3dg1raad3icrjj6ha8g'\n",
    "url = f'https://finnhub.io/api/v1/stock/symbol?exchange=US&token={api_key}'\n",
    "hist_url = 'https://finnhub.io/api/v1/stock/metric?'\n",
    "\n",
    "MAX_THREADS = 300"
   ]
  },
  {
   "cell_type": "code",
   "execution_count": null,
   "id": "14151c0c-e389-4c21-9ef0-e5f74f5d1adf",
   "metadata": {},
   "outputs": [],
   "source": [
    "print(url)"
   ]
  },
  {
   "cell_type": "markdown",
   "id": "7dd9c9cc-93ad-4b53-9081-38b89646052c",
   "metadata": {},
   "source": [
    "# Getting list_of_tickers"
   ]
  },
  {
   "cell_type": "raw",
   "id": "266f312d-936f-483f-b871-1ef4bb0f506d",
   "metadata": {},
   "source": [
    "r = requests.get(url)  \n",
    "# 주피터 IOPub data rate exceeded. 해결방법 jupyter notebook --NotebookApp.iopub_data_rate_limit=1.0e10"
   ]
  },
  {
   "cell_type": "raw",
   "id": "e8e10ec8-8e71-4626-b328-6061c4ec983a",
   "metadata": {},
   "source": [
    "df = pd.json_normalize(r.json())"
   ]
  },
  {
   "cell_type": "raw",
   "id": "ab2eddc9-504f-4344-92ae-a19e58287418",
   "metadata": {},
   "source": [
    "df_tickers = df['symbol']\n",
    "df_tickers.to_csv(\"ticker_list.csv\", index=False)"
   ]
  },
  {
   "cell_type": "raw",
   "id": "8297720f-a090-4182-a462-7dc867be7075",
   "metadata": {},
   "source": [
    "# list_of_tickers\n",
    "list_of_tickers = df['symbol'].values.tolist()"
   ]
  },
  {
   "cell_type": "markdown",
   "id": "8e6bd09f-3650-4c93-a05d-b358fcf91cd5",
   "metadata": {},
   "source": [
    "# Loading list_of_tickers"
   ]
  },
  {
   "cell_type": "code",
   "execution_count": null,
   "id": "70a83613-f44a-4e1f-9b20-db322977835b",
   "metadata": {},
   "outputs": [],
   "source": [
    "df_tickers = pd.read_csv(ticker_list)\n",
    "list_of_tickers = df_tickers['symbol'].values.tolist()"
   ]
  },
  {
   "cell_type": "code",
   "execution_count": null,
   "id": "2b5d21ce-deba-41e7-99e9-d5233427a98e",
   "metadata": {},
   "outputs": [],
   "source": [
    "print(len(list_of_tickers))"
   ]
  },
  {
   "cell_type": "code",
   "execution_count": null,
   "id": "3726eed4-27b2-4418-8a87-877b4587d27b",
   "metadata": {},
   "outputs": [],
   "source": [
    "count = 0\n",
    "for ticker in list_of_tickers:\n",
    "    print(ticker)\n",
    "    count += 1\n",
    "    if count >= 10:\n",
    "        break"
   ]
  },
  {
   "cell_type": "markdown",
   "id": "af2ff6b9-b946-4117-b563-c0f6c97c3da5",
   "metadata": {},
   "source": [
    "# Historical Price"
   ]
  },
  {
   "cell_type": "raw",
   "id": "e1a30445-d304-45d9-8a56-d27f751f9ab7",
   "metadata": {},
   "source": [
    "base_url = 'https://finnhub.io/api/v1/stock/metric?'"
   ]
  },
  {
   "cell_type": "raw",
   "id": "2e78134f-b428-4d6c-be15-581e718c0c2e",
   "metadata": {},
   "source": [
    "r = requests.get(base_url, params = {'symbol': 'PLTR', 'token':token,'metric':'price'},  timeout=60)\n",
    "text = r.text"
   ]
  },
  {
   "cell_type": "raw",
   "id": "56935ffb-ec25-4558-afbc-872cf5b3df1b",
   "metadata": {},
   "source": [
    "ret = json.loads(text)\n",
    "df_hist = pd.DataFrame.from_dict(ret)\n",
    "df_hist.reset_index(level=0, inplace=True) # # df_hist['index1'] = df_hist.index\n",
    "df_hist = df_hist.pivot(index='symbol', columns=['index'], values='metric')\n",
    "df_hist.reset_index(level=0, inplace=True)"
   ]
  },
  {
   "cell_type": "raw",
   "id": "adbca5ca-8543-456b-8279-ab9ac2989ba7",
   "metadata": {},
   "source": [
    "df_hist"
   ]
  },
  {
   "cell_type": "raw",
   "id": "9be01834-903f-4025-9c2c-b99886acf7b4",
   "metadata": {},
   "source": [
    "print(text)"
   ]
  },
  {
   "cell_type": "raw",
   "id": "9b6d9238-4d14-45cf-b519-204541ab4f5d",
   "metadata": {},
   "source": [
    "r = requests.get(base_url, params = {'symbol': 'PLTR', 'token':token,'metric':'price'}, timeout=60)\n",
    "text = r.text\n",
    "ret = json.loads(text)\n",
    "print(ret)\n",
    "df_hist = pd.DataFrame.from_dict(ret)\n",
    "df_hist.reset_index(level=0, inplace=True) # # df_hist['index1'] = df_hist.index\n",
    "df_hist = df_hist.pivot(index='symbol', columns=['index'], values='metric')\n",
    "df_hist.reset_index(level=0, inplace=True)\n",
    "\n",
    "df_hist"
   ]
  },
  {
   "cell_type": "raw",
   "id": "7fcd48a9-795d-4277-a18d-22605ec40eba",
   "metadata": {},
   "source": [
    "# iterating the columns\n",
    "for col in df_hist.columns:\n",
    "    print(col)"
   ]
  },
  {
   "cell_type": "code",
   "execution_count": null,
   "id": "e0b8c561-cd37-4e23-aa12-2da18e539647",
   "metadata": {},
   "outputs": [],
   "source": []
  },
  {
   "cell_type": "markdown",
   "id": "a4bea840-05bb-4f8b-9b9d-f4425d522fa4",
   "metadata": {},
   "source": [
    "# Case 1 - Threading"
   ]
  },
  {
   "cell_type": "code",
   "execution_count": null,
   "id": "d5828eeb-c047-4081-96b6-8825adaef033",
   "metadata": {},
   "outputs": [],
   "source": [
    "d = {'ticker' : [], 'data' : []}\n",
    "# d = {'link' : [], 'projects' : []}\n",
    "\n",
    "############### SCRAPING PART ###############\n",
    "\n",
    "# my scraping function that we are going to use for each item in profile\n",
    "def scraper(ticker):\n",
    "    global token\n",
    "    data = requests.get(hist_url, params = {'symbol': ticker, 'token':token,'metric':'price'}, timeout=60)\n",
    "    try:\n",
    "        data=data.json()\n",
    "    except json.decoder.JSONDecodeError:\n",
    "        data = 'NA'\n",
    "    return data\n",
    "\n",
    "# def scraper(ticker):\n",
    "#     global token\n",
    "#     try:\n",
    "#         r = requests.get(base_url, params = {'symbol': ticker, 'token':token,'metric':'price'}, timeout=60)\n",
    "#         text = r.text\n",
    "#         ret = json.loads(text)\n",
    "#         df_hist = pd.DataFrame.from_dict(ret)\n",
    "#         df_hist.reset_index(level=0, inplace=True) # # df_hist['index1'] = df_hist.index\n",
    "#         df_hist = df_hist.pivot(index='symbol', columns=['index'], values='metric')\n",
    "#         df_hist.reset_index(level=0, inplace=True)\n",
    "#         return df_hist\n",
    "#     except:\n",
    "#         pass"
   ]
  },
  {
   "cell_type": "code",
   "execution_count": null,
   "id": "ec4c1731-f168-4ef6-a2d4-e44359d18f98",
   "metadata": {},
   "outputs": [],
   "source": [
    "# # the threading part\n",
    "# threads = min(MAX_THREADS, len(list_of_tickers))\n",
    "# with concurrent.futures.ThreadPoolExecutor(max_workers=threads) as executor:\n",
    "#     for number, future in tqdm(zip(list_of_tickers, executor.map(scraper, list_of_tickers, chunksize=100))):\n",
    "#         if (future is None):\n",
    "#             pass\n",
    "#         else:\n",
    "#             future.to_csv(\"stock_hist.csv\", index=False, mode='a', header=False, date_format='%Y%m%d', encoding='utf-8-sig')"
   ]
  },
  {
   "cell_type": "code",
   "execution_count": null,
   "id": "593b6623-edab-44d1-a869-449ca576affa",
   "metadata": {},
   "outputs": [],
   "source": [
    "# the threading part\n",
    "result = []\n",
    "threads = min(MAX_THREADS, len(list_of_tickers))\n",
    "with concurrent.futures.ThreadPoolExecutor(max_workers=threads) as executor:\n",
    "    for number, future in tqdm(zip(list_of_tickers, executor.map(scraper, list_of_tickers, chunksize=10))):\n",
    "        if (future is None):\n",
    "            pass\n",
    "        else:\n",
    "            result.append(future)"
   ]
  },
  {
   "cell_type": "code",
   "execution_count": null,
   "id": "bd62b5f7-8c8f-4971-a811-f0dae18a7714",
   "metadata": {},
   "outputs": [],
   "source": [
    "print(len(result))"
   ]
  },
  {
   "cell_type": "code",
   "execution_count": null,
   "id": "12db3def-ede7-4473-beb2-ff9213d3c782",
   "metadata": {
    "tags": []
   },
   "outputs": [],
   "source": [
    "print(result)"
   ]
  },
  {
   "cell_type": "markdown",
   "id": "26bb0439-c6a3-489c-94d2-f80878acf93b",
   "metadata": {},
   "source": [
    "# Case 2 - For loop"
   ]
  },
  {
   "cell_type": "code",
   "execution_count": 35,
   "id": "0bc286ed-f254-40ad-aa33-44b86c191542",
   "metadata": {},
   "outputs": [],
   "source": [
    "def scraper(ticker):\n",
    "    global token\n",
    "    try:\n",
    "        r = requests.get(base_url, params = {'symbol': ticker, 'token':token,'metric':'price'}, timeout=60)\n",
    "        text = r.text\n",
    "        ret = json.loads(text)\n",
    "        df_hist = pd.DataFrame.from_dict(ret)\n",
    "        df_hist.reset_index(level=0, inplace=True) # # df_hist['index1'] = df_hist.index\n",
    "        df_hist = df_hist.pivot(index='symbol', columns=['index'], values='metric')\n",
    "        df_hist.reset_index(level=0, inplace=True)\n",
    "        return df_hist\n",
    "    except:\n",
    "        pass"
   ]
  },
  {
   "cell_type": "code",
   "execution_count": null,
   "id": "fc168191-ea31-4d89-8d82-7fad0d4fa674",
   "metadata": {},
   "outputs": [
    {
     "name": "stderr",
     "output_type": "stream",
     "text": [
      " 10%|█████████████▉                                                                                                                             | 2763/27514 [4:22:23<70:09:15, 10.20s/it]"
     ]
    }
   ],
   "source": [
    "result = []\n",
    "for ticker in tqdm(list_of_tickers):\n",
    "    ret = scraper(ticker)\n",
    "    result.append(ret)\n",
    "    time.sleep(3)    "
   ]
  },
  {
   "cell_type": "code",
   "execution_count": null,
   "id": "f84e4afa-e06c-4085-b677-55f395e0281a",
   "metadata": {},
   "outputs": [],
   "source": []
  },
  {
   "cell_type": "markdown",
   "id": "1b81a9ae-d757-4666-acf5-f10a339ba5e8",
   "metadata": {},
   "source": [
    "# Case 3 - Thread & CSV"
   ]
  },
  {
   "cell_type": "code",
   "execution_count": null,
   "id": "4d1869ec-1a3d-40c3-89c6-cef77a30f89b",
   "metadata": {},
   "outputs": [],
   "source": [
    "# def get_hist(list_of_tickers):\n",
    "#     threads = min(MAX_THREADS, len(list_of_tickers))\n",
    "#     with concurrent.futures.ThreadPoolExecutor(max_workers=threads) as executor:\n",
    "#         for number, df in tqdm(zip(list_of_tickers, executor.map(get_hist_price, list_of_tickers, chunksize=500))):\n",
    "#             if (df is None):\n",
    "#                 pass\n",
    "#             else:\n",
    "#                 df.to_csv(\"stock_hist.csv\", index=False, mode='a', header=False, date_format='%Y%m%d', encoding='utf-8-sig')"
   ]
  },
  {
   "cell_type": "code",
   "execution_count": null,
   "id": "355d572c-b233-4b87-be62-6597cccd826f",
   "metadata": {},
   "outputs": [],
   "source": [
    "# def get_hist_price(ticker)->dict:\n",
    "#     global token\n",
    "#     try:\n",
    "#         r = requests.get(base_url, params = {'symbol': ticker, 'token':token,'metric':'price'}, timeout=60)\n",
    "#         text = r.text\n",
    "#         ret = json.loads(text)\n",
    "#         df_hist = pd.DataFrame.from_dict(ret)\n",
    "#         df_hist.reset_index(level=0, inplace=True) # # df_hist['index1'] = df_hist.index\n",
    "#         df_hist = df_hist.pivot(index='symbol', columns=['index'], values='metric')\n",
    "#         df_hist.reset_index(level=0, inplace=True)\n",
    "#         return df_hist\n",
    "#     except:\n",
    "#         pass"
   ]
  },
  {
   "cell_type": "code",
   "execution_count": null,
   "id": "d80bbf30-cc88-4fd6-84a5-d8a98915e9af",
   "metadata": {},
   "outputs": [],
   "source": [
    "# def get_hist(list_of_tickers):\n",
    "#     threads = min(MAX_THREADS, len(list_of_tickers))\n",
    "#     with concurrent.futures.ThreadPoolExecutor(max_workers=threads) as executor:\n",
    "#         for number, df in tqdm(zip(list_of_tickers, executor.map(get_hist_price, list_of_tickers, chunksize=500))):\n",
    "#             if (df is None):\n",
    "#                 pass\n",
    "#             else:\n",
    "#                 df.to_csv(\"stock_hist.csv\", index=False, mode='a', header=False, date_format='%Y%m%d', encoding='utf-8-sig')"
   ]
  },
  {
   "cell_type": "code",
   "execution_count": null,
   "id": "97c90328-9611-485f-aa81-da2332efe473",
   "metadata": {},
   "outputs": [],
   "source": [
    "# threads = min(MAX_THREADS, len(list_of_tickers))"
   ]
  },
  {
   "cell_type": "code",
   "execution_count": null,
   "id": "cdd84956-91c3-4688-82a2-44977d57f2ca",
   "metadata": {},
   "outputs": [],
   "source": [
    "# get_hist(list_of_tickers)"
   ]
  },
  {
   "cell_type": "markdown",
   "id": "f6306b8a-3586-4cae-b2ad-859db2b0eaf1",
   "metadata": {},
   "source": [
    "## Checking"
   ]
  },
  {
   "cell_type": "code",
   "execution_count": null,
   "id": "fc881aa3-344b-4e7b-95d7-458ea8b28ae8",
   "metadata": {},
   "outputs": [],
   "source": [
    "r = requests.get(base_url, params = {'symbol': 'WSO', 'token':token,'metric':'price'})\n",
    "text = r.text"
   ]
  },
  {
   "cell_type": "code",
   "execution_count": null,
   "id": "32e20c87-8551-45dd-a047-3f33d134bd1d",
   "metadata": {},
   "outputs": [],
   "source": [
    "print(text)"
   ]
  },
  {
   "cell_type": "markdown",
   "id": "a446d512-7c66-4faf-98fb-56ac6e876e41",
   "metadata": {},
   "source": [
    "# Target Price"
   ]
  },
  {
   "cell_type": "code",
   "execution_count": null,
   "id": "d39e18d6-43c8-421f-880b-8eba3faee139",
   "metadata": {},
   "outputs": [],
   "source": [
    "def get_target_price(ticker, token)->dict:\n",
    "    base_url = 'https://finnhub.io/api/v1/stock/price-target?'\n",
    "    r = requests.get(base_url, params = {'symbol': ticker, 'token':token})\n",
    "    text = r.text\n",
    "    text = json.loads(text)\n",
    "    return text"
   ]
  },
  {
   "cell_type": "code",
   "execution_count": null,
   "id": "9920c5d9-01ed-4783-b9db-762dfa2e1319",
   "metadata": {},
   "outputs": [],
   "source": [
    "list_of_tickers[0:10]"
   ]
  },
  {
   "cell_type": "code",
   "execution_count": null,
   "id": "77d42519-ff63-44e5-a1ca-ed26c6026a1e",
   "metadata": {},
   "outputs": [],
   "source": [
    "count = 0\n",
    "records_of_tickers = []\n",
    "for ticker in list_of_tickers:\n",
    "    ret = get_target_price(ticker, token)\n",
    "    records_of_tickers.append(ret)\n",
    "    count += 1\n",
    "    if count >= 10:\n",
    "        break"
   ]
  },
  {
   "cell_type": "code",
   "execution_count": null,
   "id": "f6fbfac0-1e9d-4e6c-aabe-b1017c4b9716",
   "metadata": {},
   "outputs": [],
   "source": [
    "df_esti = pd.DataFrame(records_of_tickers)"
   ]
  },
  {
   "cell_type": "code",
   "execution_count": null,
   "id": "1ad7de55-e625-4ef3-a0b9-e6fa416057d5",
   "metadata": {},
   "outputs": [],
   "source": [
    "df_esti"
   ]
  },
  {
   "cell_type": "code",
   "execution_count": null,
   "id": "5ae625bd-ec1b-49d0-a221-d1195e047ef4",
   "metadata": {},
   "outputs": [],
   "source": [
    "merged_df = df_esti.merge(df_hist, how = 'left', on = ['symbol'])"
   ]
  },
  {
   "cell_type": "code",
   "execution_count": null,
   "id": "c9e80032-12bf-40ba-a861-cc0e1ce73b18",
   "metadata": {},
   "outputs": [],
   "source": [
    "merged_df"
   ]
  },
  {
   "cell_type": "code",
   "execution_count": null,
   "id": "8b5481d7-e0c4-4e90-a937-1c04e5074adc",
   "metadata": {},
   "outputs": [],
   "source": [
    "merged_df.dropna(subset=['symbol'])"
   ]
  },
  {
   "cell_type": "code",
   "execution_count": null,
   "id": "013f5d9b-948b-4122-b085-9b239f63df3b",
   "metadata": {},
   "outputs": [],
   "source": [
    "print(type(merged_df['symbol'].iloc[0]))"
   ]
  },
  {
   "cell_type": "code",
   "execution_count": null,
   "id": "48c2aa8f-7eac-45e9-aa7e-d4aabc8f3cb6",
   "metadata": {},
   "outputs": [],
   "source": [
    "df1 = merged_df.replace(np.nan, '', regex=True)"
   ]
  },
  {
   "cell_type": "code",
   "execution_count": null,
   "id": "91942ddc-aa7e-4bf7-af64-2dc21cd1692d",
   "metadata": {},
   "outputs": [],
   "source": [
    "merged_df['symbol'] = merged_df['symbol'].replace('', np.nan)"
   ]
  },
  {
   "cell_type": "code",
   "execution_count": null,
   "id": "e80cda2f-0c08-48e3-b4b9-c654fdadb760",
   "metadata": {},
   "outputs": [],
   "source": [
    "merged_df"
   ]
  },
  {
   "cell_type": "code",
   "execution_count": null,
   "id": "3b7ff647-7b09-4e34-bc99-3f67d5370046",
   "metadata": {},
   "outputs": [],
   "source": [
    "merged_df.dropna(subset=['symbol'], inplace=True)"
   ]
  },
  {
   "cell_type": "code",
   "execution_count": null,
   "id": "2e6c2b5a-7622-4205-bbfb-e260dff0cd9c",
   "metadata": {},
   "outputs": [],
   "source": [
    "merged_df"
   ]
  },
  {
   "cell_type": "markdown",
   "id": "d11327e4-6604-4287-88fb-42f4e9244675",
   "metadata": {},
   "source": [
    "# Recommendation Trends"
   ]
  },
  {
   "cell_type": "code",
   "execution_count": null,
   "id": "0f533e2b-5a7f-4e91-a864-5372b91c7696",
   "metadata": {},
   "outputs": [],
   "source": [
    "def get_recommmand_trends(ticker, token)->dict:\n",
    "    base_url = 'https://finnhub.io/api/v1/stock/recommendation?'\n",
    "    r = requests.get(base_url, params = {'symbol': ticker, 'token':token})\n",
    "    text = r.text\n",
    "    return (ticker, text)"
   ]
  },
  {
   "cell_type": "code",
   "execution_count": null,
   "id": "57400596-4aff-4c87-a57c-d9c30e2f9046",
   "metadata": {},
   "outputs": [],
   "source": [
    "list_of_tickers = merged_df['symbol'].tolist()"
   ]
  },
  {
   "cell_type": "code",
   "execution_count": null,
   "id": "8a81dffa-74db-4ea1-895d-65fef0bde6f1",
   "metadata": {},
   "outputs": [],
   "source": [
    "count = 0\n",
    "records_of_tickers = []\n",
    "for ticker in list_of_tickers:\n",
    "    ret = get_recommmand_trends(ticker, token)\n",
    "    records_of_tickers.append(ret)\n",
    "    count += 1\n",
    "    if count >= 10:\n",
    "        break"
   ]
  },
  {
   "cell_type": "code",
   "execution_count": null,
   "id": "8b839084-fb85-40ae-a512-1a7bc49fbdbf",
   "metadata": {},
   "outputs": [],
   "source": [
    "records_of_tickers"
   ]
  },
  {
   "cell_type": "code",
   "execution_count": null,
   "id": "30d46a7b-3ad1-4c39-b6a0-ae29974870fc",
   "metadata": {},
   "outputs": [],
   "source": [
    "df_recom = pd.DataFrame(records_of_tickers)"
   ]
  },
  {
   "cell_type": "code",
   "execution_count": null,
   "id": "18dffc83-1cba-416e-abef-b3d22edc7f38",
   "metadata": {},
   "outputs": [],
   "source": [
    "df_recom"
   ]
  },
  {
   "cell_type": "code",
   "execution_count": null,
   "id": "093604de-1c2b-418e-bd1a-1b29a31655c7",
   "metadata": {},
   "outputs": [],
   "source": [
    "df_recom.columns = ['symbol','recommendation']"
   ]
  },
  {
   "cell_type": "code",
   "execution_count": null,
   "id": "03007294-c042-41b4-9f89-c25bc35f7767",
   "metadata": {},
   "outputs": [],
   "source": [
    "df_recom"
   ]
  },
  {
   "cell_type": "code",
   "execution_count": null,
   "id": "04beb9ed-f9b8-4618-9105-8baad80494ef",
   "metadata": {},
   "outputs": [],
   "source": [
    "merged_df = merged_df.merge(df_recom, how = 'left', on = ['symbol'])"
   ]
  },
  {
   "cell_type": "code",
   "execution_count": null,
   "id": "4c55a597-f061-4a35-a4fa-a86a79cf2ba7",
   "metadata": {},
   "outputs": [],
   "source": [
    "merged_df"
   ]
  },
  {
   "cell_type": "code",
   "execution_count": null,
   "id": "3cc503eb-9525-48ab-855f-3cb9d27269ae",
   "metadata": {},
   "outputs": [],
   "source": []
  },
  {
   "cell_type": "code",
   "execution_count": null,
   "id": "6d5e1ad1-827b-47b2-905c-c4d9d0b73019",
   "metadata": {},
   "outputs": [],
   "source": []
  },
  {
   "cell_type": "code",
   "execution_count": null,
   "id": "2a847211-a43d-4cb2-bb66-af92de1a98de",
   "metadata": {},
   "outputs": [],
   "source": []
  },
  {
   "cell_type": "code",
   "execution_count": null,
   "id": "79e06912-6378-4a58-801c-649444a5ee16",
   "metadata": {},
   "outputs": [],
   "source": []
  },
  {
   "cell_type": "code",
   "execution_count": null,
   "id": "e207829c-0aec-49d0-a121-d51b2fae0106",
   "metadata": {},
   "outputs": [],
   "source": []
  }
 ],
 "metadata": {
  "kernelspec": {
   "display_name": "Python 3",
   "language": "python",
   "name": "python3"
  },
  "language_info": {
   "codemirror_mode": {
    "name": "ipython",
    "version": 3
   },
   "file_extension": ".py",
   "mimetype": "text/x-python",
   "name": "python",
   "nbconvert_exporter": "python",
   "pygments_lexer": "ipython3",
   "version": "3.8.8"
  }
 },
 "nbformat": 4,
 "nbformat_minor": 5
}
