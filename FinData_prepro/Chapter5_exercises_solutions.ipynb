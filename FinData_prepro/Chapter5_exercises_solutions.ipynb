{
 "cells": [
  {
   "cell_type": "markdown",
   "metadata": {},
   "source": [
    "## Ex 5.1\n",
    "\n",
    "_Write a funcion that downloads the market data for tickers AAPL, IBM, YUT and GOOGL and returns them in a list. Catch any download errors if they occur and look what's wrong. Hint: use the Pandas data reader from the previous module and use Stackoverflow to figure out how to specify the date range._"
   ]
  },
  {
   "cell_type": "code",
   "execution_count": 2,
   "metadata": {},
   "outputs": [
    {
     "name": "stdout",
     "output_type": "stream",
     "text": [
      "[*********************100%***********************]  1 of 1 completed\n",
      "AAPL data successfully downloaded\n",
      "[*********************100%***********************]  1 of 1 completed\n",
      "IBM data successfully downloaded\n",
      "[*********************100%***********************]  1 of 1 completed\n",
      "NVDA data successfully downloaded\n",
      "[*********************100%***********************]  1 of 1 completed\n",
      "GOOGL data successfully downloaded\n"
     ]
    }
   ],
   "source": [
    "# Solution\n",
    "\n",
    "import yfinance as yf\n",
    "\n",
    "def get_data(tickers):\n",
    "    all_data = []\n",
    "    for ticker in tickers:\n",
    "        try:\n",
    "            all_data.append(yf.download(ticker))\n",
    "            print(ticker,'data successfully downloaded')\n",
    "        except:\n",
    "            print('*** Could not download ticker',ticker,'***')\n",
    "    return all_data\n",
    "            \n",
    "market_data = get_data(['AAPL', 'IBM', 'NVDA','GOOGL'])"
   ]
  },
  {
   "cell_type": "markdown",
   "metadata": {},
   "source": [
    "## Ex 5.2\n",
    "_Create an array of 100 numbers from 1.4 to 8.6._\n",
    "\n",
    "Hint: use the Numpy package"
   ]
  },
  {
   "cell_type": "code",
   "execution_count": 3,
   "metadata": {},
   "outputs": [
    {
     "data": {
      "text/plain": [
       "array([1.4       , 1.47272727, 1.54545455, 1.61818182, 1.69090909,\n",
       "       1.76363636, 1.83636364, 1.90909091, 1.98181818, 2.05454545,\n",
       "       2.12727273, 2.2       , 2.27272727, 2.34545455, 2.41818182,\n",
       "       2.49090909, 2.56363636, 2.63636364, 2.70909091, 2.78181818,\n",
       "       2.85454545, 2.92727273, 3.        , 3.07272727, 3.14545455,\n",
       "       3.21818182, 3.29090909, 3.36363636, 3.43636364, 3.50909091,\n",
       "       3.58181818, 3.65454545, 3.72727273, 3.8       , 3.87272727,\n",
       "       3.94545455, 4.01818182, 4.09090909, 4.16363636, 4.23636364,\n",
       "       4.30909091, 4.38181818, 4.45454545, 4.52727273, 4.6       ,\n",
       "       4.67272727, 4.74545455, 4.81818182, 4.89090909, 4.96363636,\n",
       "       5.03636364, 5.10909091, 5.18181818, 5.25454545, 5.32727273,\n",
       "       5.4       , 5.47272727, 5.54545455, 5.61818182, 5.69090909,\n",
       "       5.76363636, 5.83636364, 5.90909091, 5.98181818, 6.05454545,\n",
       "       6.12727273, 6.2       , 6.27272727, 6.34545455, 6.41818182,\n",
       "       6.49090909, 6.56363636, 6.63636364, 6.70909091, 6.78181818,\n",
       "       6.85454545, 6.92727273, 7.        , 7.07272727, 7.14545455,\n",
       "       7.21818182, 7.29090909, 7.36363636, 7.43636364, 7.50909091,\n",
       "       7.58181818, 7.65454545, 7.72727273, 7.8       , 7.87272727,\n",
       "       7.94545455, 8.01818182, 8.09090909, 8.16363636, 8.23636364,\n",
       "       8.30909091, 8.38181818, 8.45454545, 8.52727273, 8.6       ])"
      ]
     },
     "execution_count": 3,
     "metadata": {},
     "output_type": "execute_result"
    }
   ],
   "source": [
    "# Solution\n",
    "\n",
    "import numpy as np\n",
    "\n",
    "np.linspace(1.4,8.6,100)"
   ]
  },
  {
   "cell_type": "markdown",
   "metadata": {},
   "source": [
    "## Ex 5.3\n",
    "\n",
    "_Write a one-liner that minimizes the following functions and returns them in a dict with numerical keys:_\n",
    "- x^2 + 3\n",
    "- x^2 - 2x\n",
    "- 3x^2 + 4x -5\n",
    "\n",
    "_Hint: Start with creating a list of the functions, then create a list comprehension for the dict and use enumerate to generate the keys. The result should look like this:_\n",
    "\n",
    "**_{0: array([ 3.]), 1: -1.0, 2: -6.333333333333333}_**\n",
    "\n",
    "_Level: difficult_"
   ]
  },
  {
   "cell_type": "code",
   "execution_count": 4,
   "metadata": {},
   "outputs": [],
   "source": [
    "from scipy.optimize import minimize"
   ]
  },
  {
   "cell_type": "code",
   "execution_count": 9,
   "metadata": {},
   "outputs": [],
   "source": [
    "# Solution\n",
    "\n",
    "a = {key:minimize(fun,0) for key, fun in enumerate([lambda x:x**2+3, lambda x:x**2-2*x, lambda x:3*x**2+4*x-5])}"
   ]
  },
  {
   "cell_type": "code",
   "execution_count": 13,
   "metadata": {},
   "outputs": [
    {
     "data": {
      "text/plain": [
       "{0:       fun: 3.0\n",
       "  hess_inv: array([[1]])\n",
       "       jac: array([0.])\n",
       "   message: 'Optimization terminated successfully.'\n",
       "      nfev: 2\n",
       "       nit: 0\n",
       "      njev: 1\n",
       "    status: 0\n",
       "   success: True\n",
       "         x: array([0.]),\n",
       " 1:       fun: -1.0\n",
       "  hess_inv: array([[0.5]])\n",
       "       jac: array([0.])\n",
       "   message: 'Optimization terminated successfully.'\n",
       "      nfev: 6\n",
       "       nit: 2\n",
       "      njev: 3\n",
       "    status: 0\n",
       "   success: True\n",
       "         x: array([0.99999999]),\n",
       " 2:       fun: -6.333333333333333\n",
       "  hess_inv: array([[0.16666667]])\n",
       "       jac: array([0.])\n",
       "   message: 'Optimization terminated successfully.'\n",
       "      nfev: 6\n",
       "       nit: 2\n",
       "      njev: 3\n",
       "    status: 0\n",
       "   success: True\n",
       "         x: array([-0.66666668])}"
      ]
     },
     "execution_count": 13,
     "metadata": {},
     "output_type": "execute_result"
    }
   ],
   "source": [
    "a"
   ]
  },
  {
   "cell_type": "code",
   "execution_count": 21,
   "metadata": {},
   "outputs": [
    {
     "data": {
      "text/plain": [
       "3.0"
      ]
     },
     "execution_count": 21,
     "metadata": {},
     "output_type": "execute_result"
    }
   ],
   "source": [
    "a[0]['fun']"
   ]
  },
  {
   "cell_type": "code",
   "execution_count": 22,
   "metadata": {},
   "outputs": [
    {
     "data": {
      "text/plain": [
       "{0: 3.0, 1: -1.0, 2: -6.333333333333333}"
      ]
     },
     "execution_count": 22,
     "metadata": {},
     "output_type": "execute_result"
    }
   ],
   "source": [
    "{key:minimize(fun,0)['fun'] for key, fun in enumerate([lambda x:x**2+3, lambda x:x**2-2*x, lambda x:3*x**2+4*x-5])}"
   ]
  },
  {
   "cell_type": "code",
   "execution_count": null,
   "metadata": {},
   "outputs": [],
   "source": []
  }
 ],
 "metadata": {
  "kernelspec": {
   "display_name": "Python 3 (ipykernel)",
   "language": "python",
   "name": "python3"
  },
  "language_info": {
   "codemirror_mode": {
    "name": "ipython",
    "version": 3
   },
   "file_extension": ".py",
   "mimetype": "text/x-python",
   "name": "python",
   "nbconvert_exporter": "python",
   "pygments_lexer": "ipython3",
   "version": "3.8.8"
  }
 },
 "nbformat": 4,
 "nbformat_minor": 4
}
