{
 "cells": [
  {
   "cell_type": "markdown",
   "metadata": {
    "hideCode": false,
    "hidePrompt": false
   },
   "source": [
    "# Python For Traders and Investors\n",
    "\n",
    "Welcome to *Python for Traders and Investors*. This course aims to optimise the learning of programming and quantitative skills specifically for traders/investors without getting too deep into abstract computer science concepts. That said, we will learn some advanced programming techniques as we step through many practical examples. \n",
    "\n",
    "This is the first chapter of this course. The aim of the course is to learn the programming and numerical skills necessary for quantitative trading using the Python programming language. It is structured in a way that it walks through common problems in quantitative finance and teaches the required skills to solve them as we go along. You will learn a wide range of programming techniques in conjunction with practical finance examples. We try to stay away from theoretical and abstract concepts and adopt a learning-by-doing approach. There are exercises which help to consolidate what has been taught. \n",
    "\n",
    "The course initially starts with basic concepts and gradually becomes more complex. In order to get the most out of it there is no substitute for coming up with your own ideas and projects and applying what you've learned rather than trying to memorise the ideas presented here. \n",
    "\n",
    "Some of the concepts of this course may initially seem hard to grasp. Usually, with some practise this will become easier very quickly. Due to time limitations the learning curve will be steep but these notebooks can always be used as a reference for solving new problems.\n",
    "\n",
    "As traders/investors, whenever we do anything quantitative we always deal with data. Data go into the computer, get processed and get something back, usually in the form of data. Normally, data exist in the form of files on a hard drive but they could also be more ephemeral in the memory of your computer. For now, we only deal with files. Let's download some data from a free data from Yahoo Finance.\n",
    "\n",
    "Python works with packages, so first we need to import a package that connects us to Yahoo. Packages are pieces of software that someone else has written for us and we can just use them.\n",
    "\n",
    "In order to execute a cell, just press Shift & Enter the same time."
   ]
  },
  {
   "cell_type": "markdown",
   "metadata": {
    "hideCode": false,
    "hidePrompt": false
   },
   "source": [
    "## 2.1 Download Data from APIs"
   ]
  },
  {
   "cell_type": "code",
   "execution_count": 43,
   "metadata": {
    "hideCode": false,
    "hidePrompt": false
   },
   "outputs": [],
   "source": [
    "import yfinance as yf"
   ]
  },
  {
   "cell_type": "markdown",
   "metadata": {
    "hideCode": false,
    "hidePrompt": false
   },
   "source": [
    "Ouch! We get an error message. You will see a lot of those as you continue to do any kind of programming. But more about this later."
   ]
  },
  {
   "cell_type": "code",
   "execution_count": 44,
   "metadata": {
    "hideCode": false,
    "hidePrompt": false
   },
   "outputs": [
    {
     "name": "stdout",
     "output_type": "stream",
     "text": [
      "[*********************100%***********************]  1 of 1 completed\n"
     ]
    }
   ],
   "source": [
    "mydata = yf.download(\"AAPL\")"
   ]
  },
  {
   "cell_type": "code",
   "execution_count": 3,
   "metadata": {},
   "outputs": [],
   "source": [
    "# We called our output mydata and whatever comes out of pandas_datareader.get_data_yahoo() is stored here.\n",
    "# We can just inspect the data by calling the name"
   ]
  },
  {
   "cell_type": "code",
   "execution_count": 45,
   "metadata": {},
   "outputs": [
    {
     "data": {
      "text/html": [
       "<div>\n",
       "<style scoped>\n",
       "    .dataframe tbody tr th:only-of-type {\n",
       "        vertical-align: middle;\n",
       "    }\n",
       "\n",
       "    .dataframe tbody tr th {\n",
       "        vertical-align: top;\n",
       "    }\n",
       "\n",
       "    .dataframe thead th {\n",
       "        text-align: right;\n",
       "    }\n",
       "</style>\n",
       "<table border=\"1\" class=\"dataframe\">\n",
       "  <thead>\n",
       "    <tr style=\"text-align: right;\">\n",
       "      <th></th>\n",
       "      <th>Open</th>\n",
       "      <th>High</th>\n",
       "      <th>Low</th>\n",
       "      <th>Close</th>\n",
       "      <th>Adj Close</th>\n",
       "      <th>Volume</th>\n",
       "    </tr>\n",
       "    <tr>\n",
       "      <th>Date</th>\n",
       "      <th></th>\n",
       "      <th></th>\n",
       "      <th></th>\n",
       "      <th></th>\n",
       "      <th></th>\n",
       "      <th></th>\n",
       "    </tr>\n",
       "  </thead>\n",
       "  <tbody>\n",
       "    <tr>\n",
       "      <th>1980-12-12</th>\n",
       "      <td>0.128348</td>\n",
       "      <td>0.128906</td>\n",
       "      <td>0.128348</td>\n",
       "      <td>0.128348</td>\n",
       "      <td>0.100751</td>\n",
       "      <td>469033600</td>\n",
       "    </tr>\n",
       "    <tr>\n",
       "      <th>1980-12-15</th>\n",
       "      <td>0.122210</td>\n",
       "      <td>0.122210</td>\n",
       "      <td>0.121652</td>\n",
       "      <td>0.121652</td>\n",
       "      <td>0.095495</td>\n",
       "      <td>175884800</td>\n",
       "    </tr>\n",
       "    <tr>\n",
       "      <th>1980-12-16</th>\n",
       "      <td>0.113281</td>\n",
       "      <td>0.113281</td>\n",
       "      <td>0.112723</td>\n",
       "      <td>0.112723</td>\n",
       "      <td>0.088485</td>\n",
       "      <td>105728000</td>\n",
       "    </tr>\n",
       "    <tr>\n",
       "      <th>1980-12-17</th>\n",
       "      <td>0.115513</td>\n",
       "      <td>0.116071</td>\n",
       "      <td>0.115513</td>\n",
       "      <td>0.115513</td>\n",
       "      <td>0.090676</td>\n",
       "      <td>86441600</td>\n",
       "    </tr>\n",
       "    <tr>\n",
       "      <th>1980-12-18</th>\n",
       "      <td>0.118862</td>\n",
       "      <td>0.119420</td>\n",
       "      <td>0.118862</td>\n",
       "      <td>0.118862</td>\n",
       "      <td>0.093304</td>\n",
       "      <td>73449600</td>\n",
       "    </tr>\n",
       "    <tr>\n",
       "      <th>...</th>\n",
       "      <td>...</td>\n",
       "      <td>...</td>\n",
       "      <td>...</td>\n",
       "      <td>...</td>\n",
       "      <td>...</td>\n",
       "      <td>...</td>\n",
       "    </tr>\n",
       "    <tr>\n",
       "      <th>2021-07-09</th>\n",
       "      <td>142.750000</td>\n",
       "      <td>145.649994</td>\n",
       "      <td>142.649994</td>\n",
       "      <td>145.110001</td>\n",
       "      <td>145.110001</td>\n",
       "      <td>99788400</td>\n",
       "    </tr>\n",
       "    <tr>\n",
       "      <th>2021-07-12</th>\n",
       "      <td>146.210007</td>\n",
       "      <td>146.320007</td>\n",
       "      <td>144.000000</td>\n",
       "      <td>144.500000</td>\n",
       "      <td>144.500000</td>\n",
       "      <td>76299700</td>\n",
       "    </tr>\n",
       "    <tr>\n",
       "      <th>2021-07-13</th>\n",
       "      <td>144.029999</td>\n",
       "      <td>147.460007</td>\n",
       "      <td>143.630005</td>\n",
       "      <td>145.639999</td>\n",
       "      <td>145.639999</td>\n",
       "      <td>100698900</td>\n",
       "    </tr>\n",
       "    <tr>\n",
       "      <th>2021-07-14</th>\n",
       "      <td>148.100006</td>\n",
       "      <td>149.570007</td>\n",
       "      <td>147.679993</td>\n",
       "      <td>149.149994</td>\n",
       "      <td>149.149994</td>\n",
       "      <td>127050800</td>\n",
       "    </tr>\n",
       "    <tr>\n",
       "      <th>2021-07-15</th>\n",
       "      <td>149.240005</td>\n",
       "      <td>150.000000</td>\n",
       "      <td>147.089996</td>\n",
       "      <td>148.479996</td>\n",
       "      <td>148.479996</td>\n",
       "      <td>106724300</td>\n",
       "    </tr>\n",
       "  </tbody>\n",
       "</table>\n",
       "<p>10234 rows × 6 columns</p>\n",
       "</div>"
      ],
      "text/plain": [
       "                  Open        High         Low       Close   Adj Close  \\\n",
       "Date                                                                     \n",
       "1980-12-12    0.128348    0.128906    0.128348    0.128348    0.100751   \n",
       "1980-12-15    0.122210    0.122210    0.121652    0.121652    0.095495   \n",
       "1980-12-16    0.113281    0.113281    0.112723    0.112723    0.088485   \n",
       "1980-12-17    0.115513    0.116071    0.115513    0.115513    0.090676   \n",
       "1980-12-18    0.118862    0.119420    0.118862    0.118862    0.093304   \n",
       "...                ...         ...         ...         ...         ...   \n",
       "2021-07-09  142.750000  145.649994  142.649994  145.110001  145.110001   \n",
       "2021-07-12  146.210007  146.320007  144.000000  144.500000  144.500000   \n",
       "2021-07-13  144.029999  147.460007  143.630005  145.639999  145.639999   \n",
       "2021-07-14  148.100006  149.570007  147.679993  149.149994  149.149994   \n",
       "2021-07-15  149.240005  150.000000  147.089996  148.479996  148.479996   \n",
       "\n",
       "               Volume  \n",
       "Date                   \n",
       "1980-12-12  469033600  \n",
       "1980-12-15  175884800  \n",
       "1980-12-16  105728000  \n",
       "1980-12-17   86441600  \n",
       "1980-12-18   73449600  \n",
       "...               ...  \n",
       "2021-07-09   99788400  \n",
       "2021-07-12   76299700  \n",
       "2021-07-13  100698900  \n",
       "2021-07-14  127050800  \n",
       "2021-07-15  106724300  \n",
       "\n",
       "[10234 rows x 6 columns]"
      ]
     },
     "execution_count": 45,
     "metadata": {},
     "output_type": "execute_result"
    }
   ],
   "source": [
    "mydata"
   ]
  },
  {
   "cell_type": "markdown",
   "metadata": {
    "hideCode": false,
    "hidePrompt": false
   },
   "source": [
    "This is a nice table of data and we could already start to do some work with this. But let's first explore some more data handling, as it is really important going forward.\n",
    "\n",
    "In the pandas_datareader package is a function called .get_data_yahoo() and we would like to know what that does. This is how we can do that:"
   ]
  },
  {
   "cell_type": "code",
   "execution_count": 46,
   "metadata": {},
   "outputs": [],
   "source": [
    "import pandas as pd"
   ]
  },
  {
   "cell_type": "code",
   "execution_count": 47,
   "metadata": {},
   "outputs": [
    {
     "data": {
      "text/plain": [
       "\u001b[1;31mDocstring:\u001b[0m\n",
       "print(value, ..., sep=' ', end='\\n', file=sys.stdout, flush=False)\n",
       "\n",
       "Prints the values to a stream, or to sys.stdout by default.\n",
       "Optional keyword arguments:\n",
       "file:  a file-like object (stream); defaults to the current sys.stdout.\n",
       "sep:   string inserted between values, default a space.\n",
       "end:   string appended after the last value, default a newline.\n",
       "flush: whether to forcibly flush the stream.\n",
       "\u001b[1;31mType:\u001b[0m      builtin_function_or_method\n"
      ]
     },
     "metadata": {},
     "output_type": "display_data"
    }
   ],
   "source": [
    "??print"
   ]
  },
  {
   "cell_type": "code",
   "execution_count": 48,
   "metadata": {},
   "outputs": [
    {
     "data": {
      "text/plain": [
       "\u001b[1;31mType:\u001b[0m        module\n",
       "\u001b[1;31mString form:\u001b[0m <module 'yfinance' from 'd:\\\\encore-4team\\\\step3 데이터 전처리\\\\project-yfinance\\\\venv\\\\lib\\\\site-packages\\\\yfinance\\\\__init__.py'>\n",
       "\u001b[1;31mFile:\u001b[0m        d:\\encore-4team\\step3 데이터 전처리\\project-yfinance\\venv\\lib\\site-packages\\yfinance\\__init__.py\n",
       "\u001b[1;31mSource:\u001b[0m     \n",
       "\u001b[1;31m#!/usr/bin/env python\u001b[0m\u001b[1;33m\n",
       "\u001b[0m\u001b[1;31m# -*- coding: utf-8 -*-\u001b[0m\u001b[1;33m\n",
       "\u001b[0m\u001b[1;31m#\u001b[0m\u001b[1;33m\n",
       "\u001b[0m\u001b[1;31m# Yahoo! Finance market data downloader (+fix for Pandas Datareader)\u001b[0m\u001b[1;33m\n",
       "\u001b[0m\u001b[1;31m# https://github.com/ranaroussi/yfinance\u001b[0m\u001b[1;33m\n",
       "\u001b[0m\u001b[1;31m#\u001b[0m\u001b[1;33m\n",
       "\u001b[0m\u001b[1;31m# Copyright 2017-2019 Ran Aroussi\u001b[0m\u001b[1;33m\n",
       "\u001b[0m\u001b[1;31m#\u001b[0m\u001b[1;33m\n",
       "\u001b[0m\u001b[1;31m# Licensed under the Apache License, Version 2.0 (the \"License\");\u001b[0m\u001b[1;33m\n",
       "\u001b[0m\u001b[1;31m# you may not use this file except in compliance with the License.\u001b[0m\u001b[1;33m\n",
       "\u001b[0m\u001b[1;31m# You may obtain a copy of the License at\u001b[0m\u001b[1;33m\n",
       "\u001b[0m\u001b[1;31m#\u001b[0m\u001b[1;33m\n",
       "\u001b[0m\u001b[1;31m#     http://www.apache.org/licenses/LICENSE-2.0\u001b[0m\u001b[1;33m\n",
       "\u001b[0m\u001b[1;31m#\u001b[0m\u001b[1;33m\n",
       "\u001b[0m\u001b[1;31m# Unless required by applicable law or agreed to in writing, software\u001b[0m\u001b[1;33m\n",
       "\u001b[0m\u001b[1;31m# distributed under the License is distributed on an \"AS IS\" BASIS,\u001b[0m\u001b[1;33m\n",
       "\u001b[0m\u001b[1;31m# WITHOUT WARRANTIES OR CONDITIONS OF ANY KIND, either express or implied.\u001b[0m\u001b[1;33m\n",
       "\u001b[0m\u001b[1;31m# See the License for the specific language governing permissions and\u001b[0m\u001b[1;33m\n",
       "\u001b[0m\u001b[1;31m# limitations under the License.\u001b[0m\u001b[1;33m\n",
       "\u001b[0m\u001b[1;31m#\u001b[0m\u001b[1;33m\n",
       "\u001b[0m\u001b[1;33m\n",
       "\u001b[0m\u001b[1;32mfrom\u001b[0m \u001b[1;33m.\u001b[0m \u001b[1;32mimport\u001b[0m \u001b[0mversion\u001b[0m\u001b[1;33m\n",
       "\u001b[0m\u001b[1;32mfrom\u001b[0m \u001b[1;33m.\u001b[0m\u001b[0mticker\u001b[0m \u001b[1;32mimport\u001b[0m \u001b[0mTicker\u001b[0m\u001b[1;33m\n",
       "\u001b[0m\u001b[1;32mfrom\u001b[0m \u001b[1;33m.\u001b[0m\u001b[0mtickers\u001b[0m \u001b[1;32mimport\u001b[0m \u001b[0mTickers\u001b[0m\u001b[1;33m\n",
       "\u001b[0m\u001b[1;32mfrom\u001b[0m \u001b[1;33m.\u001b[0m\u001b[0mmulti\u001b[0m \u001b[1;32mimport\u001b[0m \u001b[0mdownload\u001b[0m\u001b[1;33m\n",
       "\u001b[0m\u001b[1;33m\n",
       "\u001b[0m\u001b[0m__version__\u001b[0m \u001b[1;33m=\u001b[0m \u001b[0mversion\u001b[0m\u001b[1;33m.\u001b[0m\u001b[0mversion\u001b[0m\u001b[1;33m\n",
       "\u001b[0m\u001b[0m__author__\u001b[0m \u001b[1;33m=\u001b[0m \u001b[1;34m\"Ran Aroussi\"\u001b[0m\u001b[1;33m\n",
       "\u001b[0m\u001b[1;33m\n",
       "\u001b[0m\u001b[1;33m\n",
       "\u001b[0m\u001b[1;32mdef\u001b[0m \u001b[0mpdr_override\u001b[0m\u001b[1;33m(\u001b[0m\u001b[1;33m)\u001b[0m\u001b[1;33m:\u001b[0m\u001b[1;33m\n",
       "\u001b[0m    \u001b[1;34m\"\"\"\n",
       "    make pandas datareader optional\n",
       "    otherwise can be called via fix_yahoo_finance.download(...)\n",
       "    \"\"\"\u001b[0m\u001b[1;33m\n",
       "\u001b[0m    \u001b[1;32mtry\u001b[0m\u001b[1;33m:\u001b[0m\u001b[1;33m\n",
       "\u001b[0m        \u001b[1;32mimport\u001b[0m \u001b[0mpandas_datareader\u001b[0m\u001b[1;33m\n",
       "\u001b[0m        \u001b[0mpandas_datareader\u001b[0m\u001b[1;33m.\u001b[0m\u001b[0mdata\u001b[0m\u001b[1;33m.\u001b[0m\u001b[0mget_data_yahoo\u001b[0m \u001b[1;33m=\u001b[0m \u001b[0mdownload\u001b[0m\u001b[1;33m\n",
       "\u001b[0m        \u001b[0mpandas_datareader\u001b[0m\u001b[1;33m.\u001b[0m\u001b[0mdata\u001b[0m\u001b[1;33m.\u001b[0m\u001b[0mget_data_yahoo_actions\u001b[0m \u001b[1;33m=\u001b[0m \u001b[0mdownload\u001b[0m\u001b[1;33m\n",
       "\u001b[0m        \u001b[0mpandas_datareader\u001b[0m\u001b[1;33m.\u001b[0m\u001b[0mdata\u001b[0m\u001b[1;33m.\u001b[0m\u001b[0mDataReader\u001b[0m \u001b[1;33m=\u001b[0m \u001b[0mdownload\u001b[0m\u001b[1;33m\n",
       "\u001b[0m    \u001b[1;32mexcept\u001b[0m \u001b[0mException\u001b[0m\u001b[1;33m:\u001b[0m\u001b[1;33m\n",
       "\u001b[0m        \u001b[1;32mpass\u001b[0m\u001b[1;33m\n",
       "\u001b[0m\u001b[1;33m\n",
       "\u001b[0m\u001b[1;33m\n",
       "\u001b[0m\u001b[0m__all__\u001b[0m \u001b[1;33m=\u001b[0m \u001b[1;33m[\u001b[0m\u001b[1;34m'download'\u001b[0m\u001b[1;33m,\u001b[0m \u001b[1;34m'Ticker'\u001b[0m\u001b[1;33m,\u001b[0m \u001b[1;34m'Tickers'\u001b[0m\u001b[1;33m,\u001b[0m \u001b[1;34m'pdr_override'\u001b[0m\u001b[1;33m]\u001b[0m\u001b[1;33m\u001b[0m\u001b[1;33m\u001b[0m\u001b[0m\n"
      ]
     },
     "metadata": {},
     "output_type": "display_data"
    }
   ],
   "source": [
    "??yf"
   ]
  },
  {
   "cell_type": "markdown",
   "metadata": {
    "hideCode": false,
    "hidePrompt": false
   },
   "source": [
    "Some arcane code that we might not understand yet, but don't worry. This is the beauty of packages, we don't need to know what's running under the hood, all we need to know is what it produces and what we can do with it. \n",
    "\n",
    "Now that we have *mydata*, let's do something with it just out of curiosity."
   ]
  },
  {
   "cell_type": "code",
   "execution_count": 49,
   "metadata": {
    "hideCode": false,
    "hidePrompt": false
   },
   "outputs": [
    {
     "data": {
      "text/plain": [
       "pandas.core.frame.DataFrame"
      ]
     },
     "execution_count": 49,
     "metadata": {},
     "output_type": "execute_result"
    }
   ],
   "source": [
    "# This tells us what kind of structure mydata is based on. \n",
    "type(mydata)"
   ]
  },
  {
   "cell_type": "code",
   "execution_count": 50,
   "metadata": {
    "hideCode": false,
    "hidePrompt": false
   },
   "outputs": [
    {
     "data": {
      "text/plain": [
       "10234"
      ]
     },
     "execution_count": 50,
     "metadata": {},
     "output_type": "execute_result"
    }
   ],
   "source": [
    "# This gives us the length of mydata.\n",
    "len(mydata)"
   ]
  },
  {
   "cell_type": "code",
   "execution_count": 51,
   "metadata": {
    "hideCode": false,
    "hidePrompt": false
   },
   "outputs": [
    {
     "data": {
      "text/plain": [
       "['Open', 'High', 'Low', 'Close', 'Adj Close', 'Volume']"
      ]
     },
     "execution_count": 51,
     "metadata": {},
     "output_type": "execute_result"
    }
   ],
   "source": [
    "# This shows us the names of the rows.\n",
    "list(mydata)"
   ]
  },
  {
   "cell_type": "markdown",
   "metadata": {
    "hideCode": false,
    "hidePrompt": false
   },
   "source": [
    "Unless we are computer scientists, writing programs is, to a large extent, about finding the right packages and understanding how to use them. "
   ]
  },
  {
   "cell_type": "markdown",
   "metadata": {
    "hideCode": false,
    "hidePrompt": false
   },
   "source": [
    "## 2.2 Reading Data From Files"
   ]
  },
  {
   "cell_type": "markdown",
   "metadata": {
    "hideCode": false,
    "hidePrompt": false
   },
   "source": [
    "Right now, our output is stored in the computer's memory. When we shut down this notebook we will loose the data. In order to keep them we need to write them to a file and read them from a file if we want to use them. Let's now learn how to use files. \n",
    "\n",
    "First, let's produce a data file from our output. The most common data format is csv file, which stands for *comma seperated values* and that's exactly what it is. \n",
    "\n",
    "Lucky for us, someone has already written a package that writes our pandas output to a csv file and that function is automagically attached to any pandas structure, so we can use it directly."
   ]
  },
  {
   "cell_type": "code",
   "execution_count": 16,
   "metadata": {
    "hideCode": false,
    "hidePrompt": false
   },
   "outputs": [],
   "source": [
    "mydata.to_csv('output.csv')"
   ]
  },
  {
   "cell_type": "markdown",
   "metadata": {
    "hideCode": false,
    "hidePrompt": false
   },
   "source": [
    "Most data providers such as Reuters or Bloomberg provide their data in this format, so it is important we understand it. It is quite simple, the first row gives us the names of the columns and the following rows are the values in each column. You will notice that each of the rows has the same number of values even though they are different lengths. \n",
    "\n",
    "Let's say we start another notebook and we want to read a data file stored on our computer. If we know that it was stored from a pandas format it is really easy to bring it back:"
   ]
  },
  {
   "cell_type": "code",
   "execution_count": 17,
   "metadata": {
    "hideCode": false,
    "hidePrompt": false
   },
   "outputs": [],
   "source": [
    "import pandas as pd\n",
    "\n",
    "myinput = pd.read_csv('output.csv')"
   ]
  },
  {
   "cell_type": "code",
   "execution_count": 18,
   "metadata": {
    "hideCode": false,
    "hidePrompt": false
   },
   "outputs": [
    {
     "data": {
      "text/html": [
       "<div>\n",
       "<style scoped>\n",
       "    .dataframe tbody tr th:only-of-type {\n",
       "        vertical-align: middle;\n",
       "    }\n",
       "\n",
       "    .dataframe tbody tr th {\n",
       "        vertical-align: top;\n",
       "    }\n",
       "\n",
       "    .dataframe thead th {\n",
       "        text-align: right;\n",
       "    }\n",
       "</style>\n",
       "<table border=\"1\" class=\"dataframe\">\n",
       "  <thead>\n",
       "    <tr style=\"text-align: right;\">\n",
       "      <th></th>\n",
       "      <th>Date</th>\n",
       "      <th>Close</th>\n",
       "      <th>Open</th>\n",
       "      <th>High</th>\n",
       "      <th>Low</th>\n",
       "      <th>Volume</th>\n",
       "      <th>Change</th>\n",
       "    </tr>\n",
       "  </thead>\n",
       "  <tbody>\n",
       "    <tr>\n",
       "      <th>0</th>\n",
       "      <td>1980-12-12</td>\n",
       "      <td>0.13</td>\n",
       "      <td>0.13</td>\n",
       "      <td>0.13</td>\n",
       "      <td>0.13</td>\n",
       "      <td>469030000.0</td>\n",
       "      <td>-0.9988</td>\n",
       "    </tr>\n",
       "    <tr>\n",
       "      <th>1</th>\n",
       "      <td>1980-12-15</td>\n",
       "      <td>0.12</td>\n",
       "      <td>0.12</td>\n",
       "      <td>0.12</td>\n",
       "      <td>0.12</td>\n",
       "      <td>175880000.0</td>\n",
       "      <td>-0.0769</td>\n",
       "    </tr>\n",
       "    <tr>\n",
       "      <th>2</th>\n",
       "      <td>1980-12-16</td>\n",
       "      <td>0.11</td>\n",
       "      <td>0.11</td>\n",
       "      <td>0.11</td>\n",
       "      <td>0.11</td>\n",
       "      <td>105730000.0</td>\n",
       "      <td>-0.0833</td>\n",
       "    </tr>\n",
       "    <tr>\n",
       "      <th>3</th>\n",
       "      <td>1980-12-17</td>\n",
       "      <td>0.12</td>\n",
       "      <td>0.12</td>\n",
       "      <td>0.12</td>\n",
       "      <td>0.12</td>\n",
       "      <td>86440000.0</td>\n",
       "      <td>0.0909</td>\n",
       "    </tr>\n",
       "    <tr>\n",
       "      <th>4</th>\n",
       "      <td>1980-12-18</td>\n",
       "      <td>0.12</td>\n",
       "      <td>0.12</td>\n",
       "      <td>0.12</td>\n",
       "      <td>0.12</td>\n",
       "      <td>73450000.0</td>\n",
       "      <td>0.0000</td>\n",
       "    </tr>\n",
       "  </tbody>\n",
       "</table>\n",
       "</div>"
      ],
      "text/plain": [
       "         Date  Close  Open  High   Low       Volume  Change\n",
       "0  1980-12-12   0.13  0.13  0.13  0.13  469030000.0 -0.9988\n",
       "1  1980-12-15   0.12  0.12  0.12  0.12  175880000.0 -0.0769\n",
       "2  1980-12-16   0.11  0.11  0.11  0.11  105730000.0 -0.0833\n",
       "3  1980-12-17   0.12  0.12  0.12  0.12   86440000.0  0.0909\n",
       "4  1980-12-18   0.12  0.12  0.12  0.12   73450000.0  0.0000"
      ]
     },
     "execution_count": 18,
     "metadata": {},
     "output_type": "execute_result"
    }
   ],
   "source": [
    "myinput.head()"
   ]
  },
  {
   "cell_type": "markdown",
   "metadata": {
    "hideCode": false,
    "hidePrompt": false
   },
   "source": [
    "Unfortunately, not all files are in this nice, easy-to-use format. Many of them have blank lines, missing data or bad symbols because they were, for example, produced by a different operating system. Somehow, if we want the data, we have to deal with this situation. \n",
    "\n",
    "Next, you will learn how read text files of any type, so you can use them for your trading. \n",
    "\n",
    "Let's start with the file that we already have, *output.csv*. If we want to read the file in its raw format, Python want us to open it first."
   ]
  },
  {
   "cell_type": "code",
   "execution_count": 19,
   "metadata": {
    "hideCode": false,
    "hidePrompt": false
   },
   "outputs": [],
   "source": [
    "fid = open('output.csv','r')"
   ]
  },
  {
   "cell_type": "code",
   "execution_count": 20,
   "metadata": {},
   "outputs": [
    {
     "data": {
      "text/plain": [
       "'Date,Close,Open,High,Low,Volume,Change\\n'"
      ]
     },
     "execution_count": 20,
     "metadata": {},
     "output_type": "execute_result"
    }
   ],
   "source": [
    "fid.readline()"
   ]
  },
  {
   "cell_type": "code",
   "execution_count": 21,
   "metadata": {},
   "outputs": [
    {
     "data": {
      "text/plain": [
       "'1980-12-12,0.13,0.13,0.13,0.13,469030000.0,-0.9987999999999999\\n'"
      ]
     },
     "execution_count": 21,
     "metadata": {},
     "output_type": "execute_result"
    }
   ],
   "source": [
    "fid.readline()"
   ]
  },
  {
   "cell_type": "markdown",
   "metadata": {
    "hideCode": false,
    "hidePrompt": false
   },
   "source": [
    "This does nothing other than telling Python that the file is ready to be read. \n",
    "\n",
    "One of the problems we often encouter with market data is that the files are huge. So when we open a file with the pandas csv reader it loads it all into memory at once and that can seriously jam our computer. Apart from missing data, blank lines and so on, this is another case where we have to do it in a different way.\n",
    "\n",
    "Once we have opened the file, we can now read a line from it."
   ]
  },
  {
   "cell_type": "code",
   "execution_count": 22,
   "metadata": {
    "hideCode": false,
    "hidePrompt": false
   },
   "outputs": [
    {
     "data": {
      "text/plain": [
       "'1980-12-15,0.12,0.12,0.12,0.12,175880000.0,-0.07690000000000001\\n'"
      ]
     },
     "execution_count": 22,
     "metadata": {},
     "output_type": "execute_result"
    }
   ],
   "source": [
    "fid.readline()"
   ]
  },
  {
   "cell_type": "markdown",
   "metadata": {
    "hideCode": false,
    "hidePrompt": false
   },
   "source": [
    "You notice the \\n at the end. This is a character that tells the file to move to the next line. The quotation marks indicate that the line is a so-called *string*, a data type which we will learn a lot about below.\n",
    "\n",
    "Let's read another line:"
   ]
  },
  {
   "cell_type": "code",
   "execution_count": 23,
   "metadata": {
    "hideCode": false,
    "hidePrompt": false
   },
   "outputs": [
    {
     "data": {
      "text/plain": [
       "'1980-12-16,0.11,0.11,0.11,0.11,105730000.0,-0.0833\\n'"
      ]
     },
     "execution_count": 23,
     "metadata": {},
     "output_type": "execute_result"
    }
   ],
   "source": [
    "fid.readline()"
   ]
  },
  {
   "cell_type": "markdown",
   "metadata": {
    "hideCode": false,
    "hidePrompt": false
   },
   "source": [
    "If we want to read a whole lot of lines, we have to use a for loop. This is a command that repeats the same task a specified number of times:"
   ]
  },
  {
   "cell_type": "code",
   "execution_count": 24,
   "metadata": {
    "hideCode": false,
    "hidePrompt": false
   },
   "outputs": [
    {
     "name": "stdout",
     "output_type": "stream",
     "text": [
      "1980-12-17,0.12,0.12,0.12,0.12,86440000.0,0.0909\n",
      "\n",
      "1980-12-18,0.12,0.12,0.12,0.12,73450000.0,0.0\n",
      "\n",
      "1980-12-19,0.13,0.13,0.13,0.13,48630000.0,0.0833\n",
      "\n",
      "1980-12-22,0.13,0.13,0.13,0.13,37360000.0,0.0\n",
      "\n",
      "1980-12-23,0.14,0.14,0.14,0.14,46950000.0,0.07690000000000001\n",
      "\n"
     ]
    }
   ],
   "source": [
    "for i in range(5):\n",
    "    print(fid.readline())  "
   ]
  },
  {
   "cell_type": "markdown",
   "metadata": {
    "hideCode": false,
    "hidePrompt": false
   },
   "source": [
    "There are a few things happening here. First we have a for loop that runs through a specified number of tasks. But actually, it runs through a specified number if items and for each item it does the task specified underneath. In our case, we specify our items with range(5). Let's see what that does on its own. We call each item of range(5) **i** and print each **i** to see what's in there."
   ]
  },
  {
   "cell_type": "code",
   "execution_count": 25,
   "metadata": {
    "hideCode": false,
    "hidePrompt": false
   },
   "outputs": [
    {
     "name": "stdout",
     "output_type": "stream",
     "text": [
      "0\n",
      "1\n",
      "2\n",
      "3\n",
      "4\n"
     ]
    }
   ],
   "source": [
    "for i in range(5):\n",
    "    print(i)"
   ]
  },
  {
   "cell_type": "markdown",
   "metadata": {
    "hideCode": false,
    "hidePrompt": false
   },
   "source": [
    "It's simply the numbers from 0 to 5. Everything in Python starts with a zero and this is the case for most programming languages. If you have previously used Matlab (where everything starts with 1), this might be a bit confusing at first.\n",
    "\n",
    "You will also notice that we use a print() statement. Jupyter only prints values if they are not within another construct such as a for loop. In this case we just use *print()* to see what's there.\n",
    "\n",
    "Finally, you can see that the print(i) statement is indented. This is to show Python that it is inside the loop. Other languages use brackets for that purpose.\n",
    "\n",
    "Let run another example where we do not indent the print() statement. Note, that we always need to put something in the loop, otherwise we will get an error. In our case we use the *pass* command which essentially means \"run the loop but do nothing\"."
   ]
  },
  {
   "cell_type": "code",
   "execution_count": 26,
   "metadata": {
    "hideCode": false,
    "hidePrompt": false
   },
   "outputs": [
    {
     "name": "stdout",
     "output_type": "stream",
     "text": [
      "4\n"
     ]
    }
   ],
   "source": [
    "for i in range(5):\n",
    "    pass\n",
    "print(i)"
   ]
  },
  {
   "cell_type": "markdown",
   "metadata": {},
   "source": [
    "What we can see now is that it runs through all the **i**'s, does nothing and when it comes out of the loop it only prints the current one, which is 4."
   ]
  },
  {
   "cell_type": "markdown",
   "metadata": {},
   "source": [
    "## 2.3 Working with data files"
   ]
  },
  {
   "cell_type": "markdown",
   "metadata": {
    "hideCode": false,
    "hidePrompt": false
   },
   "source": [
    "In order to understand how to read a file, we need to understand a few basic data types, namely *string*, *int* and *float*. \n",
    "\n",
    "- A *string* is simply a collection of arbitrary characters such as 'R$ty61~' or 'AAPL'. It is usually written inside quotation marks and used for descriptive names and reading and writing files.\n",
    "- An interger is any positive or negative whole number denoted by the data type int(). It is typcally used for counting and indexing. \n",
    "- A float is a floating point number and this is generally used for arithmetic.\n",
    "\n",
    "Sometimes we have to be careful not to mix data types. For example, this is a float: **12.432** but this is a string: **'909.32'**. We cannot do arithmetic with the latter. Even though it looks like a float, the computer thinks it is a decriptive expression.\n",
    "\n",
    "Let's read the next line from our file *output.csv':"
   ]
  },
  {
   "cell_type": "code",
   "execution_count": 27,
   "metadata": {
    "hideCode": false,
    "hidePrompt": false
   },
   "outputs": [
    {
     "data": {
      "text/plain": [
       "'1980-12-24,0.15,0.15,0.15,0.15,48000000.0,0.07139999999999999\\n'"
      ]
     },
     "execution_count": 27,
     "metadata": {},
     "output_type": "execute_result"
    }
   ],
   "source": [
    "line = fid.readline()\n",
    "line"
   ]
  },
  {
   "cell_type": "markdown",
   "metadata": {
    "hideCode": false,
    "hidePrompt": false
   },
   "source": [
    "We can see that this line has quotation marks, so it's a string. However, we want to do some calculations with the numbers in that line. Next, we will see step-by-step how to do that. \n",
    "\n",
    "First, notice the \\n at the end of the line. We get rid of that like this:"
   ]
  },
  {
   "cell_type": "code",
   "execution_count": 28,
   "metadata": {
    "hideCode": false,
    "hidePrompt": false
   },
   "outputs": [
    {
     "data": {
      "text/plain": [
       "'1980-12-24,0.15,0.15,0.15,0.15,48000000.0,0.07139999999999999'"
      ]
     },
     "execution_count": 28,
     "metadata": {},
     "output_type": "execute_result"
    }
   ],
   "source": [
    "line.strip()"
   ]
  },
  {
   "cell_type": "markdown",
   "metadata": {
    "hideCode": false,
    "hidePrompt": false
   },
   "source": [
    "Next, we want to separate the numbers from each other, like this:"
   ]
  },
  {
   "cell_type": "code",
   "execution_count": 29,
   "metadata": {
    "hideCode": false,
    "hidePrompt": false
   },
   "outputs": [
    {
     "data": {
      "text/plain": [
       "['1980-12-24',\n",
       " '0.15',\n",
       " '0.15',\n",
       " '0.15',\n",
       " '0.15',\n",
       " '48000000.0',\n",
       " '0.07139999999999999\\n']"
      ]
     },
     "execution_count": 29,
     "metadata": {},
     "output_type": "execute_result"
    }
   ],
   "source": [
    "line.split(',')"
   ]
  },
  {
   "cell_type": "markdown",
   "metadata": {
    "hideCode": false,
    "hidePrompt": false
   },
   "source": [
    "We can see that the line is now split at the commas but we have our \\n again for the last number. This is because we only printed the line with strip() but did not assign it to a new variable. For this we have to do:"
   ]
  },
  {
   "cell_type": "code",
   "execution_count": 30,
   "metadata": {
    "hideCode": false,
    "hidePrompt": false
   },
   "outputs": [
    {
     "data": {
      "text/plain": [
       "'1980-12-24,0.15,0.15,0.15,0.15,48000000.0,0.07139999999999999'"
      ]
     },
     "execution_count": 30,
     "metadata": {},
     "output_type": "execute_result"
    }
   ],
   "source": [
    "new_line = line.strip()\n",
    "new_line"
   ]
  },
  {
   "cell_type": "code",
   "execution_count": 31,
   "metadata": {},
   "outputs": [
    {
     "data": {
      "text/plain": [
       "['1980-12-24',\n",
       " '0.15',\n",
       " '0.15',\n",
       " '0.15',\n",
       " '0.15',\n",
       " '48000000.0',\n",
       " '0.07139999999999999']"
      ]
     },
     "execution_count": 31,
     "metadata": {},
     "output_type": "execute_result"
    }
   ],
   "source": [
    "new_line2 = new_line.split(',')\n",
    "new_line2"
   ]
  },
  {
   "cell_type": "markdown",
   "metadata": {
    "hideCode": false,
    "hidePrompt": false
   },
   "source": [
    "As it is tedious to create new variables all the time, Python conveniently lets us string commands together:"
   ]
  },
  {
   "cell_type": "code",
   "execution_count": 32,
   "metadata": {
    "hideCode": false,
    "hidePrompt": false
   },
   "outputs": [
    {
     "data": {
      "text/plain": [
       "['1980-12-24',\n",
       " '0.15',\n",
       " '0.15',\n",
       " '0.15',\n",
       " '0.15',\n",
       " '48000000.0',\n",
       " '0.07139999999999999']"
      ]
     },
     "execution_count": 32,
     "metadata": {},
     "output_type": "execute_result"
    }
   ],
   "source": [
    "new_line = line.strip().split(',')\n",
    "new_line"
   ]
  },
  {
   "cell_type": "markdown",
   "metadata": {
    "hideCode": false,
    "hidePrompt": false
   },
   "source": [
    "You can now see the the newline character \\n is gone. However, you can see that inside the brackest above, which we call a *list*, we still have a set of strings, and we cannot do any calculations with that. Let's say we want to calculate the daily price range of our Open,High,Low and Close values. Remember, we listed them previously with our Pandas dataframe:"
   ]
  },
  {
   "cell_type": "code",
   "execution_count": 34,
   "metadata": {
    "hideCode": false,
    "hidePrompt": false
   },
   "outputs": [
    {
     "data": {
      "text/plain": [
       "['Date', 'Close', 'Open', 'High', 'Low', 'Volume', 'Change']"
      ]
     },
     "execution_count": 34,
     "metadata": {},
     "output_type": "execute_result"
    }
   ],
   "source": [
    "list(myinput)"
   ]
  },
  {
   "cell_type": "markdown",
   "metadata": {
    "hideCode": false,
    "hidePrompt": false
   },
   "source": [
    "From this we can see that for our calculation we want the second, third, forth and fifth value of new_line and convert them to *float* values with which we can do arithmetic. \n",
    "\n",
    "So, let's first extract the relevant numbers from the list with a technique called **indexing**. Indexes are numbers that indicate the positions of list elements. For example:"
   ]
  },
  {
   "cell_type": "code",
   "execution_count": 35,
   "metadata": {
    "hideCode": false,
    "hidePrompt": false
   },
   "outputs": [
    {
     "data": {
      "text/plain": [
       "'1980-12-24'"
      ]
     },
     "execution_count": 35,
     "metadata": {},
     "output_type": "execute_result"
    }
   ],
   "source": [
    "new_line[0]"
   ]
  },
  {
   "cell_type": "markdown",
   "metadata": {
    "hideCode": false,
    "hidePrompt": false
   },
   "source": [
    "gives us the first element of the list. Remember that in Python we start counting from 0.\n",
    "\n",
    "Likewise,"
   ]
  },
  {
   "cell_type": "code",
   "execution_count": 36,
   "metadata": {
    "hideCode": false,
    "hidePrompt": false
   },
   "outputs": [
    {
     "data": {
      "text/plain": [
       "'0.15'"
      ]
     },
     "execution_count": 36,
     "metadata": {},
     "output_type": "execute_result"
    }
   ],
   "source": [
    "new_line[1]"
   ]
  },
  {
   "cell_type": "markdown",
   "metadata": {
    "hideCode": false,
    "hidePrompt": false
   },
   "source": [
    "gives us our *Open* price. We can see that this price is still in a string format but it is easy to convert is to a *float* with:"
   ]
  },
  {
   "cell_type": "code",
   "execution_count": 37,
   "metadata": {
    "hideCode": false,
    "hidePrompt": false
   },
   "outputs": [
    {
     "data": {
      "text/plain": [
       "0.15"
      ]
     },
     "execution_count": 37,
     "metadata": {},
     "output_type": "execute_result"
    }
   ],
   "source": [
    "float(new_line[1])"
   ]
  },
  {
   "cell_type": "markdown",
   "metadata": {
    "hideCode": false,
    "hidePrompt": false
   },
   "source": [
    "Now we are able to calculate our daily price range:"
   ]
  },
  {
   "cell_type": "code",
   "execution_count": 38,
   "metadata": {
    "hideCode": false,
    "hidePrompt": false
   },
   "outputs": [
    {
     "data": {
      "text/plain": [
       "0.0"
      ]
     },
     "execution_count": 38,
     "metadata": {},
     "output_type": "execute_result"
    }
   ],
   "source": [
    "hi = float(new_line[2])\n",
    "lo = float(new_line[3])\n",
    "(hi-lo)"
   ]
  },
  {
   "cell_type": "markdown",
   "metadata": {
    "hideCode": false,
    "hidePrompt": false
   },
   "source": [
    "So far we have only looked at one type of loops. But it is possible to practically loop over anything that has more than one element. Here some examples:"
   ]
  },
  {
   "cell_type": "code",
   "execution_count": 39,
   "metadata": {
    "hideCode": false,
    "hidePrompt": false
   },
   "outputs": [
    {
     "name": "stdout",
     "output_type": "stream",
     "text": [
      "Date\n",
      "Close\n",
      "Open\n",
      "High\n",
      "Low\n",
      "Volume\n",
      "Change\n"
     ]
    }
   ],
   "source": [
    "# looping through the list of columns\n",
    "for i in list(myinput):\n",
    "    print(i)"
   ]
  },
  {
   "cell_type": "code",
   "execution_count": 40,
   "metadata": {
    "hideCode": false,
    "hidePrompt": false
   },
   "outputs": [
    {
     "name": "stdout",
     "output_type": "stream",
     "text": [
      "1980-12-24\n",
      "0.15\n",
      "0.15\n",
      "0.15\n",
      "0.15\n",
      "48000000.0\n",
      "0.07139999999999999\n"
     ]
    }
   ],
   "source": [
    "# looping through the split line\n",
    "for i in new_line:\n",
    "    print(i)"
   ]
  },
  {
   "cell_type": "markdown",
   "metadata": {
    "hideCode": false,
    "hidePrompt": false
   },
   "source": [
    "Remember that we have a whole file and we might want to loop through that. So far, we've only looked at a limited number of loops. To go through every line in our *output.csv* file we would do the following:"
   ]
  },
  {
   "cell_type": "code",
   "execution_count": 42,
   "metadata": {
    "hideCode": false,
    "hidePrompt": false
   },
   "outputs": [],
   "source": [
    "fid = open('output.csv')\n",
    "for line in fid:\n",
    "    print(line)"
   ]
  },
  {
   "cell_type": "markdown",
   "metadata": {
    "hideCode": false,
    "hidePrompt": false
   },
   "source": [
    "Now we've looped through the entire file and of course, we could apply our little calculation to that. "
   ]
  },
  {
   "cell_type": "code",
   "execution_count": null,
   "metadata": {},
   "outputs": [],
   "source": []
  },
  {
   "cell_type": "code",
   "execution_count": null,
   "metadata": {},
   "outputs": [],
   "source": []
  }
 ],
 "metadata": {
  "hide_code_all_hidden": false,
  "kernelspec": {
   "display_name": "Python 3 (ipykernel)",
   "language": "python",
   "name": "python3"
  },
  "language_info": {
   "codemirror_mode": {
    "name": "ipython",
    "version": 3
   },
   "file_extension": ".py",
   "mimetype": "text/x-python",
   "name": "python",
   "nbconvert_exporter": "python",
   "pygments_lexer": "ipython3",
   "version": "3.8.8"
  }
 },
 "nbformat": 4,
 "nbformat_minor": 4
}
