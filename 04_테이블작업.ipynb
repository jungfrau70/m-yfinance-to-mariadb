{
 "cells": [
  {
   "cell_type": "code",
   "execution_count": null,
   "id": "1db13e3a-644a-4ec3-9fd8-743376fb9d94",
   "metadata": {},
   "outputs": [],
   "source": [
    "import pymysql\n",
    "import datetime \n",
    "import pandas as pd \n",
    "from dateutil.relativedelta import relativedelta"
   ]
  },
  {
   "cell_type": "code",
   "execution_count": null,
   "id": "6d2c3871-2e01-4d4d-8e90-ecfdbef7da64",
   "metadata": {},
   "outputs": [],
   "source": [
    "%load_ext sql\n",
    "%config SqlMagic.autocommit=False # for engines that do not support autommit"
   ]
  },
  {
   "cell_type": "code",
   "execution_count": null,
   "id": "6683d5ec-e9e9-432b-b4bd-6ef773e70db3",
   "metadata": {},
   "outputs": [],
   "source": [
    "import pandas as pd\n",
    "from sqlalchemy.engine import create_engine"
   ]
  },
  {
   "cell_type": "code",
   "execution_count": null,
   "id": "ffed932d-b34a-46b4-a549-33399226148f",
   "metadata": {},
   "outputs": [],
   "source": [
    "# Presto\n",
    "engine = create_engine('presto://localhost:8080/system/runtime') "
   ]
  },
  {
   "cell_type": "code",
   "execution_count": null,
   "id": "9f8faca0-0d0a-43a3-a621-d6fb93aaa63a",
   "metadata": {},
   "outputs": [],
   "source": [
    "# 1. DB 연결\n",
    "def connect_db():\n",
    "    conn = pymysql.connect(host=\"localhost\", user=\"root\", password=\"4team123!\",\n",
    "                           db=\"stockDB\", charset=\"utf8\")  \n",
    "    return conn\n",
    "\n",
    "today = datetime.datetime.now().strftime('%Y%m%d') \n",
    "conn = connect_db()\n",
    "curs = conn.cursor() "
   ]
  },
  {
   "cell_type": "code",
   "execution_count": null,
   "id": "974eed79-56f5-46f3-b242-cd1c2adca4bb",
   "metadata": {},
   "outputs": [],
   "source": [
    "sql = \"SELECT DISTINCT symbol FROM USA_STOCK_INFO\"\n",
    "curs.execute(sql) \n",
    "stock_list = [item[0] for item in curs.fetchall()] \n",
    "print(len(stock_list))"
   ]
  },
  {
   "cell_type": "code",
   "execution_count": null,
   "id": "8adabdbf-89c4-4dd3-9750-8408247e2eae",
   "metadata": {},
   "outputs": [],
   "source": [
    "#Read Presto Data query into a DataFrame\n",
    "df = pd.read_sql('select * from queries limit 1', engine)\n",
    "df.head()"
   ]
  },
  {
   "cell_type": "code",
   "execution_count": null,
   "id": "4675a2a2-656d-49f0-9147-25a377179b44",
   "metadata": {},
   "outputs": [],
   "source": []
  }
 ],
 "metadata": {
  "kernelspec": {
   "display_name": "Python 3",
   "language": "python",
   "name": "python3"
  },
  "language_info": {
   "codemirror_mode": {
    "name": "ipython",
    "version": 3
   },
   "file_extension": ".py",
   "mimetype": "text/x-python",
   "name": "python",
   "nbconvert_exporter": "python",
   "pygments_lexer": "ipython3",
   "version": "3.8.8"
  }
 },
 "nbformat": 4,
 "nbformat_minor": 5
}
