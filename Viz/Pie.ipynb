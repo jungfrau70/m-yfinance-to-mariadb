{
 "cells": [
  {
   "cell_type": "markdown",
   "metadata": {
    "id": "HPsg236TmeBV"
   },
   "source": [
    "#1. Mount Drive"
   ]
  },
  {
   "cell_type": "markdown",
   "metadata": {
    "colab": {
     "base_uri": "https://localhost:8080/"
    },
    "id": "J-BjVjOTmj5K",
    "outputId": "4b0cc199-a926-4a59-c52f-0bc05b0206aa"
   },
   "source": [
    "from google.colab import drive\n",
    "drive.mount('/gdrive')"
   ]
  },
  {
   "cell_type": "markdown",
   "metadata": {
    "colab": {
     "base_uri": "https://localhost:8080/"
    },
    "id": "p_GLZZb7lr9W",
    "outputId": "67086af9-6a44-4195-f227-49deb0417467"
   },
   "source": [
    "!ls -al '/gdrive/My Drive/data'"
   ]
  },
  {
   "cell_type": "markdown",
   "metadata": {
    "id": "sXQi5kNpm70k"
   },
   "source": [
    "#2. Korean Characters"
   ]
  },
  {
   "cell_type": "markdown",
   "metadata": {
    "colab": {
     "base_uri": "https://localhost:8080/"
    },
    "id": "ce9RhQo3m_7d",
    "outputId": "a67d7604-c1b1-435d-abb7-8f4d46e21649"
   },
   "source": [
    "!sudo apt-get install -y fonts-nanum\n",
    "!sudo fc-cache -fv\n",
    "!rm ~/.cache/matplotlib -rf"
   ]
  },
  {
   "cell_type": "markdown",
   "metadata": {
    "id": "xIRvLEN8nKIN"
   },
   "source": [
    "런타임 - 런타임 다시 시작\n",
    "\n",
    "matplotlib의 폰트를 Nanum 폰트로 지정"
   ]
  },
  {
   "cell_type": "code",
   "execution_count": 1,
   "metadata": {
    "id": "b3CLtkM9nQCK"
   },
   "outputs": [],
   "source": [
    "# Import pyplot as a alias 'plt'\n",
    "import matplotlib.pyplot as plt"
   ]
  },
  {
   "cell_type": "code",
   "execution_count": 2,
   "metadata": {
    "id": "nkbWJhsknT4R"
   },
   "outputs": [],
   "source": [
    "# 경고 무시\n",
    "import warnings\n",
    "warnings.filterwarnings(\"ignore\", category=FutureWarning)\n",
    "\n",
    "# 전역 폰트 설정\n",
    "plt.rc('font', family='NanumGothic') "
   ]
  },
  {
   "cell_type": "markdown",
   "metadata": {
    "id": "cPejsQZUnbNj"
   },
   "source": [
    "#3. Load Data"
   ]
  },
  {
   "cell_type": "code",
   "execution_count": 3,
   "metadata": {
    "id": "g4NUtQoRndns"
   },
   "outputs": [],
   "source": [
    "import pandas as pd"
   ]
  },
  {
   "cell_type": "code",
   "execution_count": 4,
   "metadata": {
    "id": "CDqgv6SKnkM1"
   },
   "outputs": [],
   "source": [
    "# Load a file under \"data\" folder\n",
    "# file = \"/gdrive/My Drive/data/data_2020.csv\"\n",
    "file = \"data/data_2020.csv\"\n",
    "data = pd.read_csv(file)"
   ]
  },
  {
   "cell_type": "code",
   "execution_count": 5,
   "metadata": {
    "colab": {
     "base_uri": "https://localhost:8080/",
     "height": 204
    },
    "id": "-Kx2RTawnwUs",
    "outputId": "2fa1ed65-965e-49f3-9857-9fb05c2b8b8d"
   },
   "outputs": [
    {
     "data": {
      "text/html": [
       "<div>\n",
       "<style scoped>\n",
       "    .dataframe tbody tr th:only-of-type {\n",
       "        vertical-align: middle;\n",
       "    }\n",
       "\n",
       "    .dataframe tbody tr th {\n",
       "        vertical-align: top;\n",
       "    }\n",
       "\n",
       "    .dataframe thead th {\n",
       "        text-align: right;\n",
       "    }\n",
       "</style>\n",
       "<table border=\"1\" class=\"dataframe\">\n",
       "  <thead>\n",
       "    <tr style=\"text-align: right;\">\n",
       "      <th></th>\n",
       "      <th>집계일자</th>\n",
       "      <th>집계시</th>\n",
       "      <th>출발영업소코드</th>\n",
       "      <th>도착영업소코드</th>\n",
       "      <th>통행시간</th>\n",
       "      <th>요일</th>\n",
       "    </tr>\n",
       "  </thead>\n",
       "  <tbody>\n",
       "    <tr>\n",
       "      <th>0</th>\n",
       "      <td>20200101</td>\n",
       "      <td>4</td>\n",
       "      <td>101</td>\n",
       "      <td>105</td>\n",
       "      <td>637</td>\n",
       "      <td>2</td>\n",
       "    </tr>\n",
       "    <tr>\n",
       "      <th>1</th>\n",
       "      <td>20200101</td>\n",
       "      <td>4</td>\n",
       "      <td>101</td>\n",
       "      <td>105</td>\n",
       "      <td>773</td>\n",
       "      <td>2</td>\n",
       "    </tr>\n",
       "    <tr>\n",
       "      <th>2</th>\n",
       "      <td>20200101</td>\n",
       "      <td>4</td>\n",
       "      <td>101</td>\n",
       "      <td>105</td>\n",
       "      <td>762</td>\n",
       "      <td>2</td>\n",
       "    </tr>\n",
       "    <tr>\n",
       "      <th>3</th>\n",
       "      <td>20200101</td>\n",
       "      <td>4</td>\n",
       "      <td>101</td>\n",
       "      <td>105</td>\n",
       "      <td>746</td>\n",
       "      <td>2</td>\n",
       "    </tr>\n",
       "    <tr>\n",
       "      <th>4</th>\n",
       "      <td>20200101</td>\n",
       "      <td>4</td>\n",
       "      <td>101</td>\n",
       "      <td>105</td>\n",
       "      <td>875</td>\n",
       "      <td>2</td>\n",
       "    </tr>\n",
       "  </tbody>\n",
       "</table>\n",
       "</div>"
      ],
      "text/plain": [
       "       집계일자  집계시  출발영업소코드  도착영업소코드  통행시간  요일\n",
       "0  20200101    4      101      105   637   2\n",
       "1  20200101    4      101      105   773   2\n",
       "2  20200101    4      101      105   762   2\n",
       "3  20200101    4      101      105   746   2\n",
       "4  20200101    4      101      105   875   2"
      ]
     },
     "execution_count": 5,
     "metadata": {},
     "output_type": "execute_result"
    }
   ],
   "source": [
    "data.head()"
   ]
  },
  {
   "cell_type": "code",
   "execution_count": 6,
   "metadata": {
    "colab": {
     "base_uri": "https://localhost:8080/"
    },
    "id": "1_VrOBrln-Fk",
    "outputId": "57036b8c-e1bc-4cc4-af96-cd55dc52eaf0"
   },
   "outputs": [
    {
     "name": "stdout",
     "output_type": "stream",
     "text": [
      "<class 'pandas.core.frame.DataFrame'>\n",
      "RangeIndex: 152870 entries, 0 to 152869\n",
      "Data columns (total 6 columns):\n",
      " #   Column   Non-Null Count   Dtype\n",
      "---  ------   --------------   -----\n",
      " 0   집계일자     152870 non-null  int64\n",
      " 1   집계시      152870 non-null  int64\n",
      " 2   출발영업소코드  152870 non-null  int64\n",
      " 3   도착영업소코드  152870 non-null  int64\n",
      " 4   통행시간     152870 non-null  int64\n",
      " 5   요일       152870 non-null  int64\n",
      "dtypes: int64(6)\n",
      "memory usage: 7.0 MB\n"
     ]
    }
   ],
   "source": [
    "data.info()"
   ]
  },
  {
   "cell_type": "markdown",
   "metadata": {
    "id": "bjrXPBPooCk6"
   },
   "source": [
    "#4. 집계시"
   ]
  },
  {
   "cell_type": "code",
   "execution_count": 7,
   "metadata": {
    "id": "TVN4SJKvoItd"
   },
   "outputs": [],
   "source": [
    "data_06_22 = data[data.집계시.isin(range(6,23))]"
   ]
  },
  {
   "cell_type": "code",
   "execution_count": 8,
   "metadata": {
    "colab": {
     "base_uri": "https://localhost:8080/",
     "height": 419
    },
    "id": "OQUsUGx4oRS6",
    "outputId": "fc342604-0f8d-4d24-a429-6a9abcefd33e"
   },
   "outputs": [
    {
     "data": {
      "text/html": [
       "<div>\n",
       "<style scoped>\n",
       "    .dataframe tbody tr th:only-of-type {\n",
       "        vertical-align: middle;\n",
       "    }\n",
       "\n",
       "    .dataframe tbody tr th {\n",
       "        vertical-align: top;\n",
       "    }\n",
       "\n",
       "    .dataframe thead th {\n",
       "        text-align: right;\n",
       "    }\n",
       "</style>\n",
       "<table border=\"1\" class=\"dataframe\">\n",
       "  <thead>\n",
       "    <tr style=\"text-align: right;\">\n",
       "      <th></th>\n",
       "      <th>집계일자</th>\n",
       "      <th>집계시</th>\n",
       "      <th>출발영업소코드</th>\n",
       "      <th>도착영업소코드</th>\n",
       "      <th>통행시간</th>\n",
       "      <th>요일</th>\n",
       "    </tr>\n",
       "  </thead>\n",
       "  <tbody>\n",
       "    <tr>\n",
       "      <th>82028</th>\n",
       "      <td>20200715</td>\n",
       "      <td>6</td>\n",
       "      <td>101</td>\n",
       "      <td>140</td>\n",
       "      <td>16775</td>\n",
       "      <td>2</td>\n",
       "    </tr>\n",
       "    <tr>\n",
       "      <th>125225</th>\n",
       "      <td>20201026</td>\n",
       "      <td>6</td>\n",
       "      <td>101</td>\n",
       "      <td>110</td>\n",
       "      <td>5101</td>\n",
       "      <td>0</td>\n",
       "    </tr>\n",
       "    <tr>\n",
       "      <th>66049</th>\n",
       "      <td>20200609</td>\n",
       "      <td>6</td>\n",
       "      <td>101</td>\n",
       "      <td>105</td>\n",
       "      <td>713</td>\n",
       "      <td>1</td>\n",
       "    </tr>\n",
       "    <tr>\n",
       "      <th>66048</th>\n",
       "      <td>20200609</td>\n",
       "      <td>6</td>\n",
       "      <td>101</td>\n",
       "      <td>105</td>\n",
       "      <td>816</td>\n",
       "      <td>1</td>\n",
       "    </tr>\n",
       "    <tr>\n",
       "      <th>76951</th>\n",
       "      <td>20200704</td>\n",
       "      <td>6</td>\n",
       "      <td>101</td>\n",
       "      <td>135</td>\n",
       "      <td>10050</td>\n",
       "      <td>5</td>\n",
       "    </tr>\n",
       "    <tr>\n",
       "      <th>...</th>\n",
       "      <td>...</td>\n",
       "      <td>...</td>\n",
       "      <td>...</td>\n",
       "      <td>...</td>\n",
       "      <td>...</td>\n",
       "      <td>...</td>\n",
       "    </tr>\n",
       "    <tr>\n",
       "      <th>74174</th>\n",
       "      <td>20200628</td>\n",
       "      <td>22</td>\n",
       "      <td>101</td>\n",
       "      <td>105</td>\n",
       "      <td>765</td>\n",
       "      <td>6</td>\n",
       "    </tr>\n",
       "    <tr>\n",
       "      <th>74175</th>\n",
       "      <td>20200628</td>\n",
       "      <td>22</td>\n",
       "      <td>101</td>\n",
       "      <td>105</td>\n",
       "      <td>870</td>\n",
       "      <td>6</td>\n",
       "    </tr>\n",
       "    <tr>\n",
       "      <th>74176</th>\n",
       "      <td>20200628</td>\n",
       "      <td>22</td>\n",
       "      <td>101</td>\n",
       "      <td>105</td>\n",
       "      <td>849</td>\n",
       "      <td>6</td>\n",
       "    </tr>\n",
       "    <tr>\n",
       "      <th>107489</th>\n",
       "      <td>20200915</td>\n",
       "      <td>22</td>\n",
       "      <td>101</td>\n",
       "      <td>115</td>\n",
       "      <td>6371</td>\n",
       "      <td>1</td>\n",
       "    </tr>\n",
       "    <tr>\n",
       "      <th>7741</th>\n",
       "      <td>20200120</td>\n",
       "      <td>22</td>\n",
       "      <td>101</td>\n",
       "      <td>105</td>\n",
       "      <td>873</td>\n",
       "      <td>0</td>\n",
       "    </tr>\n",
       "  </tbody>\n",
       "</table>\n",
       "<p>115244 rows × 6 columns</p>\n",
       "</div>"
      ],
      "text/plain": [
       "            집계일자  집계시  출발영업소코드  도착영업소코드   통행시간  요일\n",
       "82028   20200715    6      101      140  16775   2\n",
       "125225  20201026    6      101      110   5101   0\n",
       "66049   20200609    6      101      105    713   1\n",
       "66048   20200609    6      101      105    816   1\n",
       "76951   20200704    6      101      135  10050   5\n",
       "...          ...  ...      ...      ...    ...  ..\n",
       "74174   20200628   22      101      105    765   6\n",
       "74175   20200628   22      101      105    870   6\n",
       "74176   20200628   22      101      105    849   6\n",
       "107489  20200915   22      101      115   6371   1\n",
       "7741    20200120   22      101      105    873   0\n",
       "\n",
       "[115244 rows x 6 columns]"
      ]
     },
     "execution_count": 8,
     "metadata": {},
     "output_type": "execute_result"
    }
   ],
   "source": [
    "# Create data_06_22 Dataframe with counting by 집계시\n",
    "data_06_22.sort_values(by='집계시')"
   ]
  },
  {
   "cell_type": "code",
   "execution_count": 9,
   "metadata": {
    "id": "X7pP7COFof0K"
   },
   "outputs": [],
   "source": [
    "data_06_22_counting = data_06_22['집계시'].value_counts()"
   ]
  },
  {
   "cell_type": "code",
   "execution_count": 10,
   "metadata": {
    "colab": {
     "base_uri": "https://localhost:8080/"
    },
    "id": "IbT8EJbaotH8",
    "outputId": "833c36bc-ce35-4e91-8dbb-8ea1fb0c18da"
   },
   "outputs": [
    {
     "data": {
      "text/plain": [
       "13    7092\n",
       "14    7091\n",
       "12    7089\n",
       "15    7078\n",
       "11    7059\n",
       "10    7038\n",
       "16    7011\n",
       "9     7008\n",
       "17    6919\n",
       "8     6849\n",
       "18    6742\n",
       "19    6627\n",
       "7     6614\n",
       "20    6518\n",
       "21    6284\n",
       "22    6130\n",
       "6     6095\n",
       "Name: 집계시, dtype: int64"
      ]
     },
     "execution_count": 10,
     "metadata": {},
     "output_type": "execute_result"
    }
   ],
   "source": [
    "data_06_22_counting"
   ]
  },
  {
   "cell_type": "code",
   "execution_count": 11,
   "metadata": {
    "id": "agcAxKRZo1hC"
   },
   "outputs": [],
   "source": [
    "# Store index of data_06_22_counting into x\n",
    "x = data_06_22_counting.index"
   ]
  },
  {
   "cell_type": "code",
   "execution_count": 12,
   "metadata": {
    "id": "E_WoqlCgo5zf"
   },
   "outputs": [],
   "source": [
    "labels = [str(i)+'시' for i in x]"
   ]
  },
  {
   "cell_type": "code",
   "execution_count": 13,
   "metadata": {
    "colab": {
     "base_uri": "https://localhost:8080/"
    },
    "id": "tv0cLvv0pCKL",
    "outputId": "89391d0f-b720-4fa3-9edf-5b2abf16000e"
   },
   "outputs": [
    {
     "data": {
      "text/plain": [
       "['13시',\n",
       " '14시',\n",
       " '12시',\n",
       " '15시',\n",
       " '11시',\n",
       " '10시',\n",
       " '16시',\n",
       " '9시',\n",
       " '17시',\n",
       " '8시',\n",
       " '18시',\n",
       " '19시',\n",
       " '7시',\n",
       " '20시',\n",
       " '21시',\n",
       " '22시',\n",
       " '6시']"
      ]
     },
     "execution_count": 13,
     "metadata": {},
     "output_type": "execute_result"
    }
   ],
   "source": [
    "labels"
   ]
  },
  {
   "cell_type": "code",
   "execution_count": 14,
   "metadata": {
    "id": "rVi7D4zspP8o"
   },
   "outputs": [],
   "source": [
    "explode = [0.1, 0.1, 0, 0, 0, 0, 0, 0, 0, 0, 0, 0, 0, 0, 0, 0, 0]"
   ]
  },
  {
   "cell_type": "code",
   "execution_count": 15,
   "metadata": {
    "id": "6d0vlTuRpeV8"
   },
   "outputs": [],
   "source": [
    "# Store values of data_06_22_counting into values\n",
    "values = data_06_22_counting.values"
   ]
  },
  {
   "cell_type": "code",
   "execution_count": 16,
   "metadata": {
    "colab": {
     "base_uri": "https://localhost:8080/",
     "height": 432
    },
    "id": "O0AdTaqtpoFO",
    "outputId": "fc47943a-fd70-401f-9176-ef27ca4a840f"
   },
   "outputs": [
    {
     "data": {
      "image/png": "[encoded data removed]",
      "text/plain": [
       "<Figure size 504x504 with 1 Axes>"
      ]
     },
     "metadata": {},
     "output_type": "display_data"
    }
   ],
   "source": [
    "# Configure figure size\n",
    "plt.figure(figsize=(7,7))\n",
    "# Creae pie Chart\n",
    "plt.pie(values, explode=explode, labels=labels, startangle = 90, shadow=True, autopct='%.1f')\n",
    "# Generate labels and title\n",
    "plt.title(\"집계시 기준 통행회수\",fontsize=18)\n",
    "# Show plot\n",
    "plt.show()"
   ]
  },
  {
   "cell_type": "markdown",
   "metadata": {
    "id": "5VygGacOqHbv"
   },
   "source": [
    "#5. 도착영업소코드"
   ]
  },
  {
   "cell_type": "code",
   "execution_count": 17,
   "metadata": {
    "id": "vj-UbOV3qLML"
   },
   "outputs": [],
   "source": [
    "data_destination_counting = data['도착영업소코드'].value_counts()"
   ]
  },
  {
   "cell_type": "code",
   "execution_count": 18,
   "metadata": {
    "colab": {
     "base_uri": "https://localhost:8080/"
    },
    "id": "DBUp2W0PqTb6",
    "outputId": "ee62fccb-9e35-4fb6-a386-0666f5a62c54"
   },
   "outputs": [
    {
     "data": {
      "text/plain": [
       "105    49738\n",
       "110    38526\n",
       "115    26354\n",
       "140     8954\n",
       "130     7793\n",
       "135     7428\n",
       "125     7339\n",
       "120     6738\n",
       "Name: 도착영업소코드, dtype: int64"
      ]
     },
     "execution_count": 18,
     "metadata": {},
     "output_type": "execute_result"
    }
   ],
   "source": [
    "data_destination_counting"
   ]
  },
  {
   "cell_type": "code",
   "execution_count": 19,
   "metadata": {
    "id": "JjDHmYvRqbM5"
   },
   "outputs": [],
   "source": [
    "# Store index of data_destination_counting into x\n",
    "x = data_destination_counting.index"
   ]
  },
  {
   "cell_type": "code",
   "execution_count": 20,
   "metadata": {
    "id": "gERVuCS4qizJ"
   },
   "outputs": [],
   "source": [
    "labels = [str(i) for i in x]"
   ]
  },
  {
   "cell_type": "code",
   "execution_count": 21,
   "metadata": {
    "colab": {
     "base_uri": "https://localhost:8080/"
    },
    "id": "tt4wesa4qpR9",
    "outputId": "d5b8a839-9387-4038-bb71-747d64d203f3"
   },
   "outputs": [
    {
     "data": {
      "text/plain": [
       "['105', '110', '115', '140', '130', '135', '125', '120']"
      ]
     },
     "execution_count": 21,
     "metadata": {},
     "output_type": "execute_result"
    }
   ],
   "source": [
    "labels"
   ]
  },
  {
   "cell_type": "code",
   "execution_count": 22,
   "metadata": {
    "id": "ej9vUYFlqsBP"
   },
   "outputs": [],
   "source": [
    "#101,서울 105,기흥 110,목천 115,대전 120,황간 125,남구미 130,동김천 135,경주 140,부산\n",
    "labels = ['기흥', '목천', '대전', '부산', '동김천', '경주', '남구미', '황간']"
   ]
  },
  {
   "cell_type": "code",
   "execution_count": 23,
   "metadata": {
    "id": "HCfviDxrrMQc"
   },
   "outputs": [],
   "source": [
    "explode = [0.2, 0.1, 0, 0, 0, 0, 0, 0]"
   ]
  },
  {
   "cell_type": "code",
   "execution_count": 24,
   "metadata": {
    "id": "JpHb5gfqrW_M"
   },
   "outputs": [],
   "source": [
    "# Store values of data_destination_counting into values\n",
    "values = data_destination_counting.values"
   ]
  },
  {
   "cell_type": "code",
   "execution_count": 25,
   "metadata": {
    "colab": {
     "base_uri": "https://localhost:8080/",
     "height": 432
    },
    "id": "iVeipefKrkpe",
    "outputId": "12ca2a3e-124b-44ba-df00-749555494845"
   },
   "outputs": [
    {
     "data": {
      "image/png": "[encoded data removed]",
      "text/plain": [
       "<Figure size 504x504 with 1 Axes>"
      ]
     },
     "metadata": {},
     "output_type": "display_data"
    }
   ],
   "source": [
    "# Configure figure size\n",
    "plt.figure(figsize=(7,7))\n",
    "# Creae pie Chart\n",
    "plt.pie(values, explode=explode, labels=labels, startangle = 90, shadow=True, autopct='%.1f%%', counterclock=False)\n",
    "# Generate labels and title\n",
    "plt.title(\"도착영업소 기준 통행회수\",fontsize=18)\n",
    "# Show plot\n",
    "plt.show()"
   ]
  }
 ],
 "metadata": {
  "colab": {
   "collapsed_sections": [],
   "name": "Pie.ipynb",
   "provenance": []
  },
  "kernelspec": {
   "display_name": "Python 3 (ipykernel)",
   "language": "python",
   "name": "python3"
  },
  "language_info": {
   "codemirror_mode": {
    "name": "ipython",
    "version": 3
   },
   "file_extension": ".py",
   "mimetype": "text/x-python",
   "name": "python",
   "nbconvert_exporter": "python",
   "pygments_lexer": "ipython3",
   "version": "3.8.8"
  }
 },
 "nbformat": 4,
 "nbformat_minor": 4
}
