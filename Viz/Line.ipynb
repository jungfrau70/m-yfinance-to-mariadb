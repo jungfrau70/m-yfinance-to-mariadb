{
 "cells": [
  {
   "cell_type": "markdown",
   "metadata": {
    "id": "HPsg236TmeBV"
   },
   "source": [
    "#1. Mount Drive"
   ]
  },
  {
   "cell_type": "markdown",
   "metadata": {
    "colab": {
     "base_uri": "https://localhost:8080/"
    },
    "id": "J-BjVjOTmj5K",
    "outputId": "ec9be838-70da-4c0c-ffe8-82eceeda9d2c"
   },
   "source": [
    "from google.colab import drive\n",
    "drive.mount('/gdrive')"
   ]
  },
  {
   "cell_type": "markdown",
   "metadata": {
    "colab": {
     "base_uri": "https://localhost:8080/"
    },
    "id": "p_GLZZb7lr9W",
    "outputId": "c57c96f6-7c97-48db-f75f-0686aebbcc6d"
   },
   "source": [
    "!ls -al '/gdrive/My Drive/data'"
   ]
  },
  {
   "cell_type": "markdown",
   "metadata": {
    "id": "sXQi5kNpm70k"
   },
   "source": [
    "#2. Korean Characters"
   ]
  },
  {
   "cell_type": "markdown",
   "metadata": {
    "colab": {
     "base_uri": "https://localhost:8080/"
    },
    "id": "ce9RhQo3m_7d",
    "outputId": "14f46db0-d36c-4ccf-e5ff-ae3af0125784"
   },
   "source": [
    "!sudo apt-get install -y fonts-nanum\n",
    "!sudo fc-cache -fv\n",
    "!rm ~/.cache/matplotlib -rf"
   ]
  },
  {
   "cell_type": "markdown",
   "metadata": {
    "id": "xIRvLEN8nKIN"
   },
   "source": [
    "런타임 - 런타임 다시 시작\n",
    "\n",
    "matplotlib의 폰트를 Nanum 폰트로 지정"
   ]
  },
  {
   "cell_type": "code",
   "execution_count": 1,
   "metadata": {
    "id": "b3CLtkM9nQCK"
   },
   "outputs": [],
   "source": [
    "# Import pyplot as a alias 'plt'\n",
    "import matplotlib.pyplot as plt"
   ]
  },
  {
   "cell_type": "code",
   "execution_count": 2,
   "metadata": {},
   "outputs": [],
   "source": [
    "# 경고 무시\n",
    "import warnings\n",
    "warnings.filterwarnings(\"ignore\", category=FutureWarning)\n",
    "\n",
    "# 전역 폰트 설정\n",
    "plt.rc('font', family='NanumGothic') "
   ]
  },
  {
   "cell_type": "markdown",
   "metadata": {
    "id": "cPejsQZUnbNj"
   },
   "source": [
    "#3. Load Data"
   ]
  },
  {
   "cell_type": "code",
   "execution_count": 3,
   "metadata": {
    "id": "g4NUtQoRndns"
   },
   "outputs": [],
   "source": [
    "import pandas as pd"
   ]
  },
  {
   "cell_type": "code",
   "execution_count": 4,
   "metadata": {
    "id": "CDqgv6SKnkM1"
   },
   "outputs": [],
   "source": [
    "# Load a file under \"data\" folder\n",
    "# file = \"/gdrive/My Drive/data/data_2020.csv\"\n",
    "file = \"data/data_2020.csv\"\n",
    "data = pd.read_csv(file)"
   ]
  },
  {
   "cell_type": "code",
   "execution_count": 5,
   "metadata": {
    "colab": {
     "base_uri": "https://localhost:8080/",
     "height": 204
    },
    "id": "-Kx2RTawnwUs",
    "outputId": "b0a48685-8033-40e3-d9ae-51554764c56e"
   },
   "outputs": [
    {
     "data": {
      "text/html": [
       "<div>\n",
       "<style scoped>\n",
       "    .dataframe tbody tr th:only-of-type {\n",
       "        vertical-align: middle;\n",
       "    }\n",
       "\n",
       "    .dataframe tbody tr th {\n",
       "        vertical-align: top;\n",
       "    }\n",
       "\n",
       "    .dataframe thead th {\n",
       "        text-align: right;\n",
       "    }\n",
       "</style>\n",
       "<table border=\"1\" class=\"dataframe\">\n",
       "  <thead>\n",
       "    <tr style=\"text-align: right;\">\n",
       "      <th></th>\n",
       "      <th>집계일자</th>\n",
       "      <th>집계시</th>\n",
       "      <th>출발영업소코드</th>\n",
       "      <th>도착영업소코드</th>\n",
       "      <th>통행시간</th>\n",
       "      <th>요일</th>\n",
       "    </tr>\n",
       "  </thead>\n",
       "  <tbody>\n",
       "    <tr>\n",
       "      <th>0</th>\n",
       "      <td>20200101</td>\n",
       "      <td>4</td>\n",
       "      <td>101</td>\n",
       "      <td>105</td>\n",
       "      <td>637</td>\n",
       "      <td>2</td>\n",
       "    </tr>\n",
       "    <tr>\n",
       "      <th>1</th>\n",
       "      <td>20200101</td>\n",
       "      <td>4</td>\n",
       "      <td>101</td>\n",
       "      <td>105</td>\n",
       "      <td>773</td>\n",
       "      <td>2</td>\n",
       "    </tr>\n",
       "    <tr>\n",
       "      <th>2</th>\n",
       "      <td>20200101</td>\n",
       "      <td>4</td>\n",
       "      <td>101</td>\n",
       "      <td>105</td>\n",
       "      <td>762</td>\n",
       "      <td>2</td>\n",
       "    </tr>\n",
       "    <tr>\n",
       "      <th>3</th>\n",
       "      <td>20200101</td>\n",
       "      <td>4</td>\n",
       "      <td>101</td>\n",
       "      <td>105</td>\n",
       "      <td>746</td>\n",
       "      <td>2</td>\n",
       "    </tr>\n",
       "    <tr>\n",
       "      <th>4</th>\n",
       "      <td>20200101</td>\n",
       "      <td>4</td>\n",
       "      <td>101</td>\n",
       "      <td>105</td>\n",
       "      <td>875</td>\n",
       "      <td>2</td>\n",
       "    </tr>\n",
       "  </tbody>\n",
       "</table>\n",
       "</div>"
      ],
      "text/plain": [
       "       집계일자  집계시  출발영업소코드  도착영업소코드  통행시간  요일\n",
       "0  20200101    4      101      105   637   2\n",
       "1  20200101    4      101      105   773   2\n",
       "2  20200101    4      101      105   762   2\n",
       "3  20200101    4      101      105   746   2\n",
       "4  20200101    4      101      105   875   2"
      ]
     },
     "execution_count": 5,
     "metadata": {},
     "output_type": "execute_result"
    }
   ],
   "source": [
    "data.head()"
   ]
  },
  {
   "cell_type": "code",
   "execution_count": 6,
   "metadata": {
    "colab": {
     "base_uri": "https://localhost:8080/"
    },
    "id": "1_VrOBrln-Fk",
    "outputId": "0c0fea5b-6917-4003-b1d5-fc21f81d25d3"
   },
   "outputs": [
    {
     "name": "stdout",
     "output_type": "stream",
     "text": [
      "<class 'pandas.core.frame.DataFrame'>\n",
      "RangeIndex: 152870 entries, 0 to 152869\n",
      "Data columns (total 6 columns):\n",
      " #   Column   Non-Null Count   Dtype\n",
      "---  ------   --------------   -----\n",
      " 0   집계일자     152870 non-null  int64\n",
      " 1   집계시      152870 non-null  int64\n",
      " 2   출발영업소코드  152870 non-null  int64\n",
      " 3   도착영업소코드  152870 non-null  int64\n",
      " 4   통행시간     152870 non-null  int64\n",
      " 5   요일       152870 non-null  int64\n",
      "dtypes: int64(6)\n",
      "memory usage: 7.0 MB\n"
     ]
    }
   ],
   "source": [
    "data.info()"
   ]
  },
  {
   "cell_type": "markdown",
   "metadata": {
    "id": "bjrXPBPooCk6"
   },
   "source": [
    "#4. 집계시"
   ]
  },
  {
   "cell_type": "code",
   "execution_count": 7,
   "metadata": {
    "id": "TVN4SJKvoItd"
   },
   "outputs": [],
   "source": [
    "data_06_22 = data[data.집계시.isin(range(6,23))]"
   ]
  },
  {
   "cell_type": "code",
   "execution_count": 8,
   "metadata": {
    "colab": {
     "base_uri": "https://localhost:8080/",
     "height": 419
    },
    "id": "OQUsUGx4oRS6",
    "outputId": "398bf118-5420-445b-931c-7a42b2ca1af3"
   },
   "outputs": [
    {
     "data": {
      "text/html": [
       "<div>\n",
       "<style scoped>\n",
       "    .dataframe tbody tr th:only-of-type {\n",
       "        vertical-align: middle;\n",
       "    }\n",
       "\n",
       "    .dataframe tbody tr th {\n",
       "        vertical-align: top;\n",
       "    }\n",
       "\n",
       "    .dataframe thead th {\n",
       "        text-align: right;\n",
       "    }\n",
       "</style>\n",
       "<table border=\"1\" class=\"dataframe\">\n",
       "  <thead>\n",
       "    <tr style=\"text-align: right;\">\n",
       "      <th></th>\n",
       "      <th>집계일자</th>\n",
       "      <th>집계시</th>\n",
       "      <th>출발영업소코드</th>\n",
       "      <th>도착영업소코드</th>\n",
       "      <th>통행시간</th>\n",
       "      <th>요일</th>\n",
       "    </tr>\n",
       "  </thead>\n",
       "  <tbody>\n",
       "    <tr>\n",
       "      <th>82028</th>\n",
       "      <td>20200715</td>\n",
       "      <td>6</td>\n",
       "      <td>101</td>\n",
       "      <td>140</td>\n",
       "      <td>16775</td>\n",
       "      <td>2</td>\n",
       "    </tr>\n",
       "    <tr>\n",
       "      <th>125225</th>\n",
       "      <td>20201026</td>\n",
       "      <td>6</td>\n",
       "      <td>101</td>\n",
       "      <td>110</td>\n",
       "      <td>5101</td>\n",
       "      <td>0</td>\n",
       "    </tr>\n",
       "    <tr>\n",
       "      <th>66049</th>\n",
       "      <td>20200609</td>\n",
       "      <td>6</td>\n",
       "      <td>101</td>\n",
       "      <td>105</td>\n",
       "      <td>713</td>\n",
       "      <td>1</td>\n",
       "    </tr>\n",
       "    <tr>\n",
       "      <th>66048</th>\n",
       "      <td>20200609</td>\n",
       "      <td>6</td>\n",
       "      <td>101</td>\n",
       "      <td>105</td>\n",
       "      <td>816</td>\n",
       "      <td>1</td>\n",
       "    </tr>\n",
       "    <tr>\n",
       "      <th>76951</th>\n",
       "      <td>20200704</td>\n",
       "      <td>6</td>\n",
       "      <td>101</td>\n",
       "      <td>135</td>\n",
       "      <td>10050</td>\n",
       "      <td>5</td>\n",
       "    </tr>\n",
       "    <tr>\n",
       "      <th>...</th>\n",
       "      <td>...</td>\n",
       "      <td>...</td>\n",
       "      <td>...</td>\n",
       "      <td>...</td>\n",
       "      <td>...</td>\n",
       "      <td>...</td>\n",
       "    </tr>\n",
       "    <tr>\n",
       "      <th>74174</th>\n",
       "      <td>20200628</td>\n",
       "      <td>22</td>\n",
       "      <td>101</td>\n",
       "      <td>105</td>\n",
       "      <td>765</td>\n",
       "      <td>6</td>\n",
       "    </tr>\n",
       "    <tr>\n",
       "      <th>74175</th>\n",
       "      <td>20200628</td>\n",
       "      <td>22</td>\n",
       "      <td>101</td>\n",
       "      <td>105</td>\n",
       "      <td>870</td>\n",
       "      <td>6</td>\n",
       "    </tr>\n",
       "    <tr>\n",
       "      <th>74176</th>\n",
       "      <td>20200628</td>\n",
       "      <td>22</td>\n",
       "      <td>101</td>\n",
       "      <td>105</td>\n",
       "      <td>849</td>\n",
       "      <td>6</td>\n",
       "    </tr>\n",
       "    <tr>\n",
       "      <th>107489</th>\n",
       "      <td>20200915</td>\n",
       "      <td>22</td>\n",
       "      <td>101</td>\n",
       "      <td>115</td>\n",
       "      <td>6371</td>\n",
       "      <td>1</td>\n",
       "    </tr>\n",
       "    <tr>\n",
       "      <th>7741</th>\n",
       "      <td>20200120</td>\n",
       "      <td>22</td>\n",
       "      <td>101</td>\n",
       "      <td>105</td>\n",
       "      <td>873</td>\n",
       "      <td>0</td>\n",
       "    </tr>\n",
       "  </tbody>\n",
       "</table>\n",
       "<p>115244 rows × 6 columns</p>\n",
       "</div>"
      ],
      "text/plain": [
       "            집계일자  집계시  출발영업소코드  도착영업소코드   통행시간  요일\n",
       "82028   20200715    6      101      140  16775   2\n",
       "125225  20201026    6      101      110   5101   0\n",
       "66049   20200609    6      101      105    713   1\n",
       "66048   20200609    6      101      105    816   1\n",
       "76951   20200704    6      101      135  10050   5\n",
       "...          ...  ...      ...      ...    ...  ..\n",
       "74174   20200628   22      101      105    765   6\n",
       "74175   20200628   22      101      105    870   6\n",
       "74176   20200628   22      101      105    849   6\n",
       "107489  20200915   22      101      115   6371   1\n",
       "7741    20200120   22      101      105    873   0\n",
       "\n",
       "[115244 rows x 6 columns]"
      ]
     },
     "execution_count": 8,
     "metadata": {},
     "output_type": "execute_result"
    }
   ],
   "source": [
    "# Create data_06_22 Dataframe with counting by 집계시\n",
    "data_06_22.sort_values(by='집계시')"
   ]
  },
  {
   "cell_type": "code",
   "execution_count": 9,
   "metadata": {
    "id": "X7pP7COFof0K"
   },
   "outputs": [],
   "source": [
    "data_06_22_counting = data_06_22['집계시'].value_counts()"
   ]
  },
  {
   "cell_type": "code",
   "execution_count": 10,
   "metadata": {
    "colab": {
     "base_uri": "https://localhost:8080/"
    },
    "id": "IbT8EJbaotH8",
    "outputId": "c73cf5c5-36ac-4fa0-e91d-a27c99ef1444"
   },
   "outputs": [
    {
     "data": {
      "text/plain": [
       "13    7092\n",
       "14    7091\n",
       "12    7089\n",
       "15    7078\n",
       "11    7059\n",
       "10    7038\n",
       "16    7011\n",
       "9     7008\n",
       "17    6919\n",
       "8     6849\n",
       "18    6742\n",
       "19    6627\n",
       "7     6614\n",
       "20    6518\n",
       "21    6284\n",
       "22    6130\n",
       "6     6095\n",
       "Name: 집계시, dtype: int64"
      ]
     },
     "execution_count": 10,
     "metadata": {},
     "output_type": "execute_result"
    }
   ],
   "source": [
    "data_06_22_counting"
   ]
  },
  {
   "cell_type": "code",
   "execution_count": 11,
   "metadata": {
    "id": "grPjiWvS6hp3"
   },
   "outputs": [],
   "source": [
    "data_06_22_counting_sorted = data_06_22_counting.sort_index()"
   ]
  },
  {
   "cell_type": "code",
   "execution_count": 12,
   "metadata": {
    "colab": {
     "base_uri": "https://localhost:8080/"
    },
    "id": "C0UtbtA96sxH",
    "outputId": "e7e04811-4bfe-481b-be39-d39ab9410c40"
   },
   "outputs": [
    {
     "data": {
      "text/plain": [
       "6     6095\n",
       "7     6614\n",
       "8     6849\n",
       "9     7008\n",
       "10    7038\n",
       "11    7059\n",
       "12    7089\n",
       "13    7092\n",
       "14    7091\n",
       "15    7078\n",
       "16    7011\n",
       "17    6919\n",
       "18    6742\n",
       "19    6627\n",
       "20    6518\n",
       "21    6284\n",
       "22    6130\n",
       "Name: 집계시, dtype: int64"
      ]
     },
     "execution_count": 12,
     "metadata": {},
     "output_type": "execute_result"
    }
   ],
   "source": [
    "data_06_22_counting_sorted"
   ]
  },
  {
   "cell_type": "code",
   "execution_count": 13,
   "metadata": {
    "colab": {
     "base_uri": "https://localhost:8080/",
     "height": 282
    },
    "id": "qjugnk2k7aBb",
    "outputId": "85990956-5877-4ea4-a55c-8231b70a6b69"
   },
   "outputs": [
    {
     "data": {
      "text/plain": [
       "[<matplotlib.lines.Line2D at 0x1de0073f880>]"
      ]
     },
     "execution_count": 13,
     "metadata": {},
     "output_type": "execute_result"
    },
    {
     "data": {
      "image/png": "[encoded data removed]",
      "text/plain": [
       "<Figure size 432x288 with 1 Axes>"
      ]
     },
     "metadata": {
      "needs_background": "light"
     },
     "output_type": "display_data"
    }
   ],
   "source": [
    "plt.plot(data_06_22_counting_sorted.index, data_06_22_counting_sorted.values)"
   ]
  },
  {
   "cell_type": "code",
   "execution_count": 14,
   "metadata": {
    "id": "agcAxKRZo1hC"
   },
   "outputs": [],
   "source": [
    "# Store index of data_06_22_counting into x\n",
    "x = data_06_22_counting_sorted.index"
   ]
  },
  {
   "cell_type": "code",
   "execution_count": 15,
   "metadata": {
    "id": "E_WoqlCgo5zf"
   },
   "outputs": [],
   "source": [
    "labels = [str(i)+'시' for i in x]"
   ]
  },
  {
   "cell_type": "code",
   "execution_count": 16,
   "metadata": {
    "colab": {
     "base_uri": "https://localhost:8080/"
    },
    "id": "tv0cLvv0pCKL",
    "outputId": "a2d71567-9b79-454d-db73-197868251186"
   },
   "outputs": [
    {
     "data": {
      "text/plain": [
       "['6시',\n",
       " '7시',\n",
       " '8시',\n",
       " '9시',\n",
       " '10시',\n",
       " '11시',\n",
       " '12시',\n",
       " '13시',\n",
       " '14시',\n",
       " '15시',\n",
       " '16시',\n",
       " '17시',\n",
       " '18시',\n",
       " '19시',\n",
       " '20시',\n",
       " '21시',\n",
       " '22시']"
      ]
     },
     "execution_count": 16,
     "metadata": {},
     "output_type": "execute_result"
    }
   ],
   "source": [
    "labels"
   ]
  },
  {
   "cell_type": "code",
   "execution_count": 17,
   "metadata": {
    "id": "6d0vlTuRpeV8"
   },
   "outputs": [],
   "source": [
    "# Store values of data_06_22_counting into values\n",
    "values = data_06_22_counting_sorted.values"
   ]
  },
  {
   "cell_type": "code",
   "execution_count": 18,
   "metadata": {
    "colab": {
     "base_uri": "https://localhost:8080/",
     "height": 635
    },
    "id": "O0AdTaqtpoFO",
    "outputId": "aec442cb-b697-4a5c-efd7-3d91878ec9f4"
   },
   "outputs": [
    {
     "data": {
      "image/png": "[encoded data removed]",
      "text/plain": [
       "<Figure size 1440x720 with 1 Axes>"
      ]
     },
     "metadata": {
      "needs_background": "light"
     },
     "output_type": "display_data"
    }
   ],
   "source": [
    "# Configure figure size\n",
    "plt.figure(figsize=(20,10))\n",
    "# Creae Line Chart\n",
    "plt.plot(labels, values, marker='s', color='r')\n",
    "# Generate labels and title\n",
    "plt.title(\"집계시 기준 통행회수\",fontsize=18)\n",
    "plt.xlabel('집계시', fontdict= {'size':16})\n",
    "plt.ylabel('통행회수', fontdict= {'size':16})\n",
    "# Show plot\n",
    "plt.show()"
   ]
  },
  {
   "cell_type": "markdown",
   "metadata": {
    "id": "5VygGacOqHbv"
   },
   "source": [
    "#5. 도착영업소코드"
   ]
  },
  {
   "cell_type": "code",
   "execution_count": 19,
   "metadata": {
    "id": "vj-UbOV3qLML"
   },
   "outputs": [],
   "source": [
    "data_destination_counting = data['도착영업소코드'].value_counts()"
   ]
  },
  {
   "cell_type": "code",
   "execution_count": 20,
   "metadata": {
    "colab": {
     "base_uri": "https://localhost:8080/"
    },
    "id": "DBUp2W0PqTb6",
    "outputId": "9c3a4926-02ea-4ba6-85c4-fdef7ed30ed7"
   },
   "outputs": [
    {
     "data": {
      "text/plain": [
       "105    49738\n",
       "110    38526\n",
       "115    26354\n",
       "140     8954\n",
       "130     7793\n",
       "135     7428\n",
       "125     7339\n",
       "120     6738\n",
       "Name: 도착영업소코드, dtype: int64"
      ]
     },
     "execution_count": 20,
     "metadata": {},
     "output_type": "execute_result"
    }
   ],
   "source": [
    "data_destination_counting"
   ]
  },
  {
   "cell_type": "code",
   "execution_count": 21,
   "metadata": {
    "id": "R6ZL-g1f94Iv"
   },
   "outputs": [],
   "source": [
    "data_destination_counting_sorted = data_destination_counting.sort_index()"
   ]
  },
  {
   "cell_type": "code",
   "execution_count": 22,
   "metadata": {
    "colab": {
     "base_uri": "https://localhost:8080/"
    },
    "id": "p6Zacfsj-GDD",
    "outputId": "87daad88-2215-432b-8918-b35dbd672989"
   },
   "outputs": [
    {
     "data": {
      "text/plain": [
       "105    49738\n",
       "110    38526\n",
       "115    26354\n",
       "120     6738\n",
       "125     7339\n",
       "130     7793\n",
       "135     7428\n",
       "140     8954\n",
       "Name: 도착영업소코드, dtype: int64"
      ]
     },
     "execution_count": 22,
     "metadata": {},
     "output_type": "execute_result"
    }
   ],
   "source": [
    "data_destination_counting_sorted"
   ]
  },
  {
   "cell_type": "code",
   "execution_count": 23,
   "metadata": {
    "id": "JjDHmYvRqbM5"
   },
   "outputs": [],
   "source": [
    "# Store index of data_destination_counting into x\n",
    "x = data_destination_counting_sorted.index"
   ]
  },
  {
   "cell_type": "code",
   "execution_count": 24,
   "metadata": {
    "id": "gERVuCS4qizJ"
   },
   "outputs": [],
   "source": [
    "labels = [str(i) for i in x]"
   ]
  },
  {
   "cell_type": "code",
   "execution_count": 25,
   "metadata": {
    "colab": {
     "base_uri": "https://localhost:8080/"
    },
    "id": "tt4wesa4qpR9",
    "outputId": "15d51ef1-caed-4e79-efca-51a0d4efa316"
   },
   "outputs": [
    {
     "data": {
      "text/plain": [
       "['105', '110', '115', '120', '125', '130', '135', '140']"
      ]
     },
     "execution_count": 25,
     "metadata": {},
     "output_type": "execute_result"
    }
   ],
   "source": [
    "labels"
   ]
  },
  {
   "cell_type": "code",
   "execution_count": 26,
   "metadata": {
    "id": "ej9vUYFlqsBP"
   },
   "outputs": [],
   "source": [
    "#101,서울 105,기흥 110,목천 115,대전 120,황간 125,남구미 130,동김천 135,경주 140,부산\n",
    "labels = ['기흥', '목천', '대전', '황간', '남구미', '동김천', '경주', '부산']"
   ]
  },
  {
   "cell_type": "code",
   "execution_count": 27,
   "metadata": {
    "id": "JpHb5gfqrW_M"
   },
   "outputs": [],
   "source": [
    "# Store values of data_destination_counting into values\n",
    "values = data_destination_counting_sorted.values"
   ]
  },
  {
   "cell_type": "code",
   "execution_count": 28,
   "metadata": {
    "colab": {
     "base_uri": "https://localhost:8080/",
     "height": 635
    },
    "id": "iVeipefKrkpe",
    "outputId": "6dcb17de-578f-44de-e2e5-c4c9e6e5dab6"
   },
   "outputs": [
    {
     "data": {
      "image/png": "[encoded data removed]",
      "text/plain": [
       "<Figure size 1440x720 with 1 Axes>"
      ]
     },
     "metadata": {
      "needs_background": "light"
     },
     "output_type": "display_data"
    }
   ],
   "source": [
    "# Configure figure size\n",
    "plt.figure(figsize=(20,10))\n",
    "# Creae Line Chart\n",
    "plt.plot(labels, values, marker='*', color='b')\n",
    "# Generate labels and title\n",
    "plt.title(\"도착영업소 기준 통행회수\",fontsize=18)\n",
    "plt.xlabel('도착영업소코드', fontdict= {'size':16})\n",
    "plt.ylabel('통행회수', fontdict= {'size':16})\n",
    "# Show plot\n",
    "plt.show()"
   ]
  },
  {
   "cell_type": "markdown",
   "metadata": {
    "id": "dk97vj-YA8lq"
   },
   "source": [
    "#6. 요일"
   ]
  },
  {
   "cell_type": "code",
   "execution_count": 29,
   "metadata": {
    "id": "7C_tq4B7BT6W"
   },
   "outputs": [],
   "source": [
    "data_weekdays = data.groupby(by=['요일']).mean()"
   ]
  },
  {
   "cell_type": "code",
   "execution_count": 30,
   "metadata": {
    "colab": {
     "base_uri": "https://localhost:8080/",
     "height": 297
    },
    "id": "Ccb-OjlXBs27",
    "outputId": "0af3c705-7caf-4d99-9c55-2b1f03e4a42b"
   },
   "outputs": [
    {
     "data": {
      "text/html": [
       "<div>\n",
       "<style scoped>\n",
       "    .dataframe tbody tr th:only-of-type {\n",
       "        vertical-align: middle;\n",
       "    }\n",
       "\n",
       "    .dataframe tbody tr th {\n",
       "        vertical-align: top;\n",
       "    }\n",
       "\n",
       "    .dataframe thead th {\n",
       "        text-align: right;\n",
       "    }\n",
       "</style>\n",
       "<table border=\"1\" class=\"dataframe\">\n",
       "  <thead>\n",
       "    <tr style=\"text-align: right;\">\n",
       "      <th></th>\n",
       "      <th>집계일자</th>\n",
       "      <th>집계시</th>\n",
       "      <th>출발영업소코드</th>\n",
       "      <th>도착영업소코드</th>\n",
       "      <th>통행시간</th>\n",
       "    </tr>\n",
       "    <tr>\n",
       "      <th>요일</th>\n",
       "      <th></th>\n",
       "      <th></th>\n",
       "      <th></th>\n",
       "      <th></th>\n",
       "      <th></th>\n",
       "    </tr>\n",
       "  </thead>\n",
       "  <tbody>\n",
       "    <tr>\n",
       "      <th>0</th>\n",
       "      <td>2.020067e+07</td>\n",
       "      <td>11.683470</td>\n",
       "      <td>101.0</td>\n",
       "      <td>114.514421</td>\n",
       "      <td>4996.570234</td>\n",
       "    </tr>\n",
       "    <tr>\n",
       "      <th>1</th>\n",
       "      <td>2.020068e+07</td>\n",
       "      <td>11.737415</td>\n",
       "      <td>101.0</td>\n",
       "      <td>113.989833</td>\n",
       "      <td>4910.737777</td>\n",
       "    </tr>\n",
       "    <tr>\n",
       "      <th>2</th>\n",
       "      <td>2.020067e+07</td>\n",
       "      <td>11.827274</td>\n",
       "      <td>101.0</td>\n",
       "      <td>113.987466</td>\n",
       "      <td>4935.059694</td>\n",
       "    </tr>\n",
       "    <tr>\n",
       "      <th>3</th>\n",
       "      <td>2.020067e+07</td>\n",
       "      <td>11.848829</td>\n",
       "      <td>101.0</td>\n",
       "      <td>114.064699</td>\n",
       "      <td>5010.163163</td>\n",
       "    </tr>\n",
       "    <tr>\n",
       "      <th>4</th>\n",
       "      <td>2.020066e+07</td>\n",
       "      <td>11.899089</td>\n",
       "      <td>101.0</td>\n",
       "      <td>114.412568</td>\n",
       "      <td>5266.038707</td>\n",
       "    </tr>\n",
       "    <tr>\n",
       "      <th>5</th>\n",
       "      <td>2.020067e+07</td>\n",
       "      <td>11.308268</td>\n",
       "      <td>101.0</td>\n",
       "      <td>114.824635</td>\n",
       "      <td>5433.593481</td>\n",
       "    </tr>\n",
       "    <tr>\n",
       "      <th>6</th>\n",
       "      <td>2.020067e+07</td>\n",
       "      <td>12.334229</td>\n",
       "      <td>101.0</td>\n",
       "      <td>115.022740</td>\n",
       "      <td>4996.278929</td>\n",
       "    </tr>\n",
       "  </tbody>\n",
       "</table>\n",
       "</div>"
      ],
      "text/plain": [
       "            집계일자        집계시  출발영업소코드     도착영업소코드         통행시간\n",
       "요일                                                           \n",
       "0   2.020067e+07  11.683470    101.0  114.514421  4996.570234\n",
       "1   2.020068e+07  11.737415    101.0  113.989833  4910.737777\n",
       "2   2.020067e+07  11.827274    101.0  113.987466  4935.059694\n",
       "3   2.020067e+07  11.848829    101.0  114.064699  5010.163163\n",
       "4   2.020066e+07  11.899089    101.0  114.412568  5266.038707\n",
       "5   2.020067e+07  11.308268    101.0  114.824635  5433.593481\n",
       "6   2.020067e+07  12.334229    101.0  115.022740  4996.278929"
      ]
     },
     "execution_count": 30,
     "metadata": {},
     "output_type": "execute_result"
    }
   ],
   "source": [
    "data_weekdays"
   ]
  },
  {
   "cell_type": "code",
   "execution_count": 31,
   "metadata": {
    "id": "GeaRPI6KDjk0"
   },
   "outputs": [],
   "source": [
    "data_weekdays_time = data_weekdays['통행시간']"
   ]
  },
  {
   "cell_type": "code",
   "execution_count": 32,
   "metadata": {
    "colab": {
     "base_uri": "https://localhost:8080/"
    },
    "id": "PXF8lQYOEVBa",
    "outputId": "e7d2a149-02d7-4e44-c5f9-d88adfd50af9"
   },
   "outputs": [
    {
     "data": {
      "text/plain": [
       "요일\n",
       "0    4996.570234\n",
       "1    4910.737777\n",
       "2    4935.059694\n",
       "3    5010.163163\n",
       "4    5266.038707\n",
       "5    5433.593481\n",
       "6    4996.278929\n",
       "Name: 통행시간, dtype: float64"
      ]
     },
     "execution_count": 32,
     "metadata": {},
     "output_type": "execute_result"
    }
   ],
   "source": [
    "data_weekdays_time"
   ]
  },
  {
   "cell_type": "code",
   "execution_count": 33,
   "metadata": {
    "id": "SmHbqUqiCyDb"
   },
   "outputs": [],
   "source": [
    "x = data_weekdays_time.index"
   ]
  },
  {
   "cell_type": "code",
   "execution_count": 34,
   "metadata": {
    "colab": {
     "base_uri": "https://localhost:8080/"
    },
    "id": "c66JM9BGC7wl",
    "outputId": "5c6eeb53-f0af-4674-8a1e-26fce7310adf"
   },
   "outputs": [
    {
     "data": {
      "text/plain": [
       "Int64Index([0, 1, 2, 3, 4, 5, 6], dtype='int64', name='요일')"
      ]
     },
     "execution_count": 34,
     "metadata": {},
     "output_type": "execute_result"
    }
   ],
   "source": [
    "x"
   ]
  },
  {
   "cell_type": "code",
   "execution_count": 35,
   "metadata": {
    "id": "_WSJ3crjC9ml"
   },
   "outputs": [],
   "source": [
    "labels = ['월', '화', '수', '목', '금', '토', '일']"
   ]
  },
  {
   "cell_type": "code",
   "execution_count": 36,
   "metadata": {
    "id": "fO7tiUngDHkp"
   },
   "outputs": [],
   "source": [
    "values = data_weekdays_time.values"
   ]
  },
  {
   "cell_type": "code",
   "execution_count": 37,
   "metadata": {
    "colab": {
     "base_uri": "https://localhost:8080/"
    },
    "id": "ybvTecmZDOao",
    "outputId": "35bebf8d-45cf-4c2d-a446-9ed158ac591c"
   },
   "outputs": [
    {
     "data": {
      "text/plain": [
       "array([4996.57023353, 4910.73777677, 4935.0596942 , 5010.16316325,\n",
       "       5266.03870674, 5433.59348111, 4996.27892914])"
      ]
     },
     "execution_count": 37,
     "metadata": {},
     "output_type": "execute_result"
    }
   ],
   "source": [
    "values"
   ]
  },
  {
   "cell_type": "code",
   "execution_count": 38,
   "metadata": {
    "colab": {
     "base_uri": "https://localhost:8080/",
     "height": 635
    },
    "id": "yotgkKFkDVJX",
    "outputId": "646f13f7-f38d-4f22-8b12-6ce15f0c0566"
   },
   "outputs": [
    {
     "data": {
      "image/png": "[encoded data removed]",
      "text/plain": [
       "<Figure size 1440x720 with 1 Axes>"
      ]
     },
     "metadata": {
      "needs_background": "light"
     },
     "output_type": "display_data"
    }
   ],
   "source": [
    "# Configure figure size\n",
    "plt.figure(figsize=(20,10))\n",
    "# Creae pie Chart\n",
    "plt.plot(labels, values, marker='d', color='g')\n",
    "# Generate labels and title\n",
    "plt.title(\"요일 기준 통행시간\",fontsize=18)\n",
    "plt.xlabel('요일', fontdict= {'size':16})\n",
    "plt.ylabel('통행시간', fontdict= {'size':16})\n",
    "# Show plot\n",
    "plt.show()"
   ]
  }
 ],
 "metadata": {
  "colab": {
   "collapsed_sections": [],
   "name": "Line.ipynb",
   "provenance": []
  },
  "kernelspec": {
   "display_name": "Python 3 (ipykernel)",
   "language": "python",
   "name": "python3"
  },
  "language_info": {
   "codemirror_mode": {
    "name": "ipython",
    "version": 3
   },
   "file_extension": ".py",
   "mimetype": "text/x-python",
   "name": "python",
   "nbconvert_exporter": "python",
   "pygments_lexer": "ipython3",
   "version": "3.8.8"
  }
 },
 "nbformat": 4,
 "nbformat_minor": 4
}
