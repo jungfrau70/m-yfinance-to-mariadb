{
 "cells": [
  {
   "cell_type": "markdown",
   "metadata": {
    "id": "GgXquzHGyh80"
   },
   "source": [
    "#1. Mount Drive"
   ]
  },
  {
   "cell_type": "markdown",
   "metadata": {
    "colab": {
     "base_uri": "https://localhost:8080/"
    },
    "id": "2_tuKvnSyocT",
    "outputId": "eaf48477-8945-4648-aa1f-9881a6414d33"
   },
   "source": [
    "from google.colab import drive\n",
    "drive.mount('/gdrive')"
   ]
  },
  {
   "cell_type": "markdown",
   "metadata": {
    "colab": {
     "base_uri": "https://localhost:8080/"
    },
    "id": "gQXDnP7uyTyb",
    "outputId": "b5fff955-042f-4dad-9cb9-c4202fefcc48"
   },
   "source": [
    "!ls -al '/gdrive/My Drive/data'"
   ]
  },
  {
   "cell_type": "markdown",
   "metadata": {
    "id": "DvsHmJBvzWMT"
   },
   "source": [
    "#2. Load Data"
   ]
  },
  {
   "cell_type": "code",
   "execution_count": 1,
   "metadata": {
    "id": "Fby1as3rzYd3"
   },
   "outputs": [],
   "source": [
    "import pandas as pd"
   ]
  },
  {
   "cell_type": "code",
   "execution_count": 2,
   "metadata": {
    "id": "Jd2Uf6pSzcHS"
   },
   "outputs": [],
   "source": [
    "# Load a file under \"data\" folder\n",
    "# file = \"/gdrive/My Drive/data/data_2020.csv\"\n",
    "file = \"data/data_2020.csv\"\n",
    "data = pd.read_csv(file)"
   ]
  },
  {
   "cell_type": "code",
   "execution_count": 3,
   "metadata": {
    "colab": {
     "base_uri": "https://localhost:8080/",
     "height": 204
    },
    "id": "os0zUYV00vG6",
    "outputId": "7bdda5ef-da5c-4733-dad1-858b8bd7613f"
   },
   "outputs": [
    {
     "data": {
      "text/html": [
       "<div>\n",
       "<style scoped>\n",
       "    .dataframe tbody tr th:only-of-type {\n",
       "        vertical-align: middle;\n",
       "    }\n",
       "\n",
       "    .dataframe tbody tr th {\n",
       "        vertical-align: top;\n",
       "    }\n",
       "\n",
       "    .dataframe thead th {\n",
       "        text-align: right;\n",
       "    }\n",
       "</style>\n",
       "<table border=\"1\" class=\"dataframe\">\n",
       "  <thead>\n",
       "    <tr style=\"text-align: right;\">\n",
       "      <th></th>\n",
       "      <th>집계일자</th>\n",
       "      <th>집계시</th>\n",
       "      <th>출발영업소코드</th>\n",
       "      <th>도착영업소코드</th>\n",
       "      <th>통행시간</th>\n",
       "      <th>요일</th>\n",
       "    </tr>\n",
       "  </thead>\n",
       "  <tbody>\n",
       "    <tr>\n",
       "      <th>0</th>\n",
       "      <td>20200101</td>\n",
       "      <td>4</td>\n",
       "      <td>101</td>\n",
       "      <td>105</td>\n",
       "      <td>637</td>\n",
       "      <td>2</td>\n",
       "    </tr>\n",
       "    <tr>\n",
       "      <th>1</th>\n",
       "      <td>20200101</td>\n",
       "      <td>4</td>\n",
       "      <td>101</td>\n",
       "      <td>105</td>\n",
       "      <td>773</td>\n",
       "      <td>2</td>\n",
       "    </tr>\n",
       "    <tr>\n",
       "      <th>2</th>\n",
       "      <td>20200101</td>\n",
       "      <td>4</td>\n",
       "      <td>101</td>\n",
       "      <td>105</td>\n",
       "      <td>762</td>\n",
       "      <td>2</td>\n",
       "    </tr>\n",
       "    <tr>\n",
       "      <th>3</th>\n",
       "      <td>20200101</td>\n",
       "      <td>4</td>\n",
       "      <td>101</td>\n",
       "      <td>105</td>\n",
       "      <td>746</td>\n",
       "      <td>2</td>\n",
       "    </tr>\n",
       "    <tr>\n",
       "      <th>4</th>\n",
       "      <td>20200101</td>\n",
       "      <td>4</td>\n",
       "      <td>101</td>\n",
       "      <td>105</td>\n",
       "      <td>875</td>\n",
       "      <td>2</td>\n",
       "    </tr>\n",
       "  </tbody>\n",
       "</table>\n",
       "</div>"
      ],
      "text/plain": [
       "       집계일자  집계시  출발영업소코드  도착영업소코드  통행시간  요일\n",
       "0  20200101    4      101      105   637   2\n",
       "1  20200101    4      101      105   773   2\n",
       "2  20200101    4      101      105   762   2\n",
       "3  20200101    4      101      105   746   2\n",
       "4  20200101    4      101      105   875   2"
      ]
     },
     "execution_count": 3,
     "metadata": {},
     "output_type": "execute_result"
    }
   ],
   "source": [
    "data.head()"
   ]
  },
  {
   "cell_type": "code",
   "execution_count": 4,
   "metadata": {
    "colab": {
     "base_uri": "https://localhost:8080/"
    },
    "id": "08dLWC9s0yp8",
    "outputId": "5ce7cb6f-531d-4124-ae1b-5d79f59f4305"
   },
   "outputs": [
    {
     "name": "stdout",
     "output_type": "stream",
     "text": [
      "<class 'pandas.core.frame.DataFrame'>\n",
      "RangeIndex: 152870 entries, 0 to 152869\n",
      "Data columns (total 6 columns):\n",
      " #   Column   Non-Null Count   Dtype\n",
      "---  ------   --------------   -----\n",
      " 0   집계일자     152870 non-null  int64\n",
      " 1   집계시      152870 non-null  int64\n",
      " 2   출발영업소코드  152870 non-null  int64\n",
      " 3   도착영업소코드  152870 non-null  int64\n",
      " 4   통행시간     152870 non-null  int64\n",
      " 5   요일       152870 non-null  int64\n",
      "dtypes: int64(6)\n",
      "memory usage: 7.0 MB\n"
     ]
    }
   ],
   "source": [
    "data.info()"
   ]
  },
  {
   "cell_type": "code",
   "execution_count": 5,
   "metadata": {
    "id": "i-9Plt_3zorq"
   },
   "outputs": [],
   "source": [
    "# Import pyplot as a alias 'plt'\n",
    "import matplotlib.pyplot as plt\n",
    "# Import seaborn as a alias 'sns'\n",
    "import seaborn as sns"
   ]
  },
  {
   "cell_type": "code",
   "execution_count": 6,
   "metadata": {
    "id": "Pcrd2e9x0erI"
   },
   "outputs": [],
   "source": [
    "data_2PM = data[data.집계시 == 14]"
   ]
  },
  {
   "cell_type": "code",
   "execution_count": 7,
   "metadata": {
    "colab": {
     "base_uri": "https://localhost:8080/"
    },
    "id": "Bpfy7pWr078F",
    "outputId": "44616c89-b7db-423d-f952-bde10c882d43"
   },
   "outputs": [
    {
     "name": "stdout",
     "output_type": "stream",
     "text": [
      "<class 'pandas.core.frame.DataFrame'>\n",
      "Int64Index: 7091 entries, 40 to 152814\n",
      "Data columns (total 6 columns):\n",
      " #   Column   Non-Null Count  Dtype\n",
      "---  ------   --------------  -----\n",
      " 0   집계일자     7091 non-null   int64\n",
      " 1   집계시      7091 non-null   int64\n",
      " 2   출발영업소코드  7091 non-null   int64\n",
      " 3   도착영업소코드  7091 non-null   int64\n",
      " 4   통행시간     7091 non-null   int64\n",
      " 5   요일       7091 non-null   int64\n",
      "dtypes: int64(6)\n",
      "memory usage: 387.8 KB\n"
     ]
    }
   ],
   "source": [
    "data_2PM.info()"
   ]
  },
  {
   "cell_type": "code",
   "execution_count": 8,
   "metadata": {
    "colab": {
     "base_uri": "https://localhost:8080/",
     "height": 51
    },
    "id": "7wD-wmBy1EsB",
    "outputId": "38dfdfe8-1d0e-42af-82b6-6d2e53111a11"
   },
   "outputs": [
    {
     "data": {
      "text/plain": [
       "<Figure size 1440x720 with 0 Axes>"
      ]
     },
     "execution_count": 8,
     "metadata": {},
     "output_type": "execute_result"
    },
    {
     "data": {
      "text/plain": [
       "<Figure size 1440x720 with 0 Axes>"
      ]
     },
     "metadata": {},
     "output_type": "display_data"
    }
   ],
   "source": [
    "plt.figure(figsize=(20,10))"
   ]
  },
  {
   "cell_type": "code",
   "execution_count": 9,
   "metadata": {},
   "outputs": [],
   "source": [
    "# 경고 무시\n",
    "\n",
    "import warnings\n",
    "warnings.filterwarnings(\"ignore\", category=FutureWarning)"
   ]
  },
  {
   "cell_type": "code",
   "execution_count": 10,
   "metadata": {
    "colab": {
     "base_uri": "https://localhost:8080/",
     "height": 970
    },
    "id": "Mr-QQOIk1KNv",
    "outputId": "ba52b8c6-b112-4cfe-b6e0-2fac8684a15a"
   },
   "outputs": [
    {
     "name": "stderr",
     "output_type": "stream",
     "text": [
      "d:\\encore-4team\\step3 데이터 전처리\\project-yfinance\\venv\\lib\\site-packages\\matplotlib\\backends\\backend_agg.py:240: RuntimeWarning: Glyph 53685 missing from current font.\n",
      "  font.set_text(s, 0.0, flags=flags)\n",
      "d:\\encore-4team\\step3 데이터 전처리\\project-yfinance\\venv\\lib\\site-packages\\matplotlib\\backends\\backend_agg.py:240: RuntimeWarning: Glyph 54665 missing from current font.\n",
      "  font.set_text(s, 0.0, flags=flags)\n",
      "d:\\encore-4team\\step3 데이터 전처리\\project-yfinance\\venv\\lib\\site-packages\\matplotlib\\backends\\backend_agg.py:240: RuntimeWarning: Glyph 54943 missing from current font.\n",
      "  font.set_text(s, 0.0, flags=flags)\n",
      "d:\\encore-4team\\step3 데이터 전처리\\project-yfinance\\venv\\lib\\site-packages\\matplotlib\\backends\\backend_agg.py:240: RuntimeWarning: Glyph 49688 missing from current font.\n",
      "  font.set_text(s, 0.0, flags=flags)\n",
      "d:\\encore-4team\\step3 데이터 전처리\\project-yfinance\\venv\\lib\\site-packages\\matplotlib\\backends\\backend_agg.py:240: RuntimeWarning: Glyph 46020 missing from current font.\n",
      "  font.set_text(s, 0.0, flags=flags)\n",
      "d:\\encore-4team\\step3 데이터 전처리\\project-yfinance\\venv\\lib\\site-packages\\matplotlib\\backends\\backend_agg.py:240: RuntimeWarning: Glyph 52265 missing from current font.\n",
      "  font.set_text(s, 0.0, flags=flags)\n",
      "d:\\encore-4team\\step3 데이터 전처리\\project-yfinance\\venv\\lib\\site-packages\\matplotlib\\backends\\backend_agg.py:240: RuntimeWarning: Glyph 50689 missing from current font.\n",
      "  font.set_text(s, 0.0, flags=flags)\n",
      "d:\\encore-4team\\step3 데이터 전처리\\project-yfinance\\venv\\lib\\site-packages\\matplotlib\\backends\\backend_agg.py:240: RuntimeWarning: Glyph 50629 missing from current font.\n",
      "  font.set_text(s, 0.0, flags=flags)\n",
      "d:\\encore-4team\\step3 데이터 전처리\\project-yfinance\\venv\\lib\\site-packages\\matplotlib\\backends\\backend_agg.py:240: RuntimeWarning: Glyph 49548 missing from current font.\n",
      "  font.set_text(s, 0.0, flags=flags)\n",
      "d:\\encore-4team\\step3 데이터 전처리\\project-yfinance\\venv\\lib\\site-packages\\matplotlib\\backends\\backend_agg.py:203: RuntimeWarning: Glyph 46020 missing from current font.\n",
      "  font.set_text(s, 0, flags=flags)\n",
      "d:\\encore-4team\\step3 데이터 전처리\\project-yfinance\\venv\\lib\\site-packages\\matplotlib\\backends\\backend_agg.py:203: RuntimeWarning: Glyph 52265 missing from current font.\n",
      "  font.set_text(s, 0, flags=flags)\n",
      "d:\\encore-4team\\step3 데이터 전처리\\project-yfinance\\venv\\lib\\site-packages\\matplotlib\\backends\\backend_agg.py:203: RuntimeWarning: Glyph 50689 missing from current font.\n",
      "  font.set_text(s, 0, flags=flags)\n",
      "d:\\encore-4team\\step3 데이터 전처리\\project-yfinance\\venv\\lib\\site-packages\\matplotlib\\backends\\backend_agg.py:203: RuntimeWarning: Glyph 50629 missing from current font.\n",
      "  font.set_text(s, 0, flags=flags)\n",
      "d:\\encore-4team\\step3 데이터 전처리\\project-yfinance\\venv\\lib\\site-packages\\matplotlib\\backends\\backend_agg.py:203: RuntimeWarning: Glyph 49548 missing from current font.\n",
      "  font.set_text(s, 0, flags=flags)\n",
      "d:\\encore-4team\\step3 데이터 전처리\\project-yfinance\\venv\\lib\\site-packages\\matplotlib\\backends\\backend_agg.py:203: RuntimeWarning: Glyph 53685 missing from current font.\n",
      "  font.set_text(s, 0, flags=flags)\n",
      "d:\\encore-4team\\step3 데이터 전처리\\project-yfinance\\venv\\lib\\site-packages\\matplotlib\\backends\\backend_agg.py:203: RuntimeWarning: Glyph 54665 missing from current font.\n",
      "  font.set_text(s, 0, flags=flags)\n",
      "d:\\encore-4team\\step3 데이터 전처리\\project-yfinance\\venv\\lib\\site-packages\\matplotlib\\backends\\backend_agg.py:203: RuntimeWarning: Glyph 54943 missing from current font.\n",
      "  font.set_text(s, 0, flags=flags)\n",
      "d:\\encore-4team\\step3 데이터 전처리\\project-yfinance\\venv\\lib\\site-packages\\matplotlib\\backends\\backend_agg.py:203: RuntimeWarning: Glyph 49688 missing from current font.\n",
      "  font.set_text(s, 0, flags=flags)\n"
     ]
    },
    {
     "data": {
      "image/png": "[encoded data removed]",
      "text/plain": [
       "<Figure size 432x288 with 1 Axes>"
      ]
     },
     "metadata": {
      "needs_background": "light"
     },
     "output_type": "display_data"
    }
   ],
   "source": [
    "data_2PM_Destination = sns.countplot('도착영업소코드',data=data_2PM)\n",
    "data_2PM_Destination.set_title('통행횟수 by 도착영업소', fontsize=18)\n",
    "data_2PM_Destination.set_xlabel('도착영업소', fontdict= {'size':16})\n",
    "data_2PM_Destination.set_ylabel('통행횟수', fontdict= {'size':16})\n",
    "plt.show()"
   ]
  },
  {
   "cell_type": "markdown",
   "metadata": {
    "id": "3PXMidni1a7W"
   },
   "source": [
    "#3. Korean Characters"
   ]
  },
  {
   "cell_type": "markdown",
   "metadata": {
    "colab": {
     "base_uri": "https://localhost:8080/"
    },
    "id": "dz0ocaNB1i3R",
    "outputId": "93415cf2-68a3-472c-e5e2-45c2a840984d"
   },
   "source": [
    "!sudo apt-get install -y fonts-nanum\n",
    "!sudo fc-cache -fv\n",
    "!rm ~/.cache/matplotlib -rf"
   ]
  },
  {
   "cell_type": "markdown",
   "metadata": {
    "id": "e5bx1y3v1tiC"
   },
   "source": [
    "런타임 - 런타임 다시 시작\n",
    "\n",
    "matplotlib의 폰트를 Nanum 폰트로 지정"
   ]
  },
  {
   "cell_type": "code",
   "execution_count": 11,
   "metadata": {},
   "outputs": [],
   "source": [
    "plt.rc('font', family='NanumGothic') "
   ]
  },
  {
   "cell_type": "code",
   "execution_count": 12,
   "metadata": {
    "colab": {
     "base_uri": "https://localhost:8080/",
     "height": 51
    },
    "id": "NS9HELis2Bct",
    "outputId": "98f7e533-dfb9-427a-88e1-3834ebd6c461"
   },
   "outputs": [
    {
     "data": {
      "text/plain": [
       "<Figure size 1440x720 with 0 Axes>"
      ]
     },
     "execution_count": 12,
     "metadata": {},
     "output_type": "execute_result"
    },
    {
     "data": {
      "text/plain": [
       "<Figure size 1440x720 with 0 Axes>"
      ]
     },
     "metadata": {},
     "output_type": "display_data"
    }
   ],
   "source": [
    "# Configure figure size\n",
    "plt.figure(figsize=(20,10))"
   ]
  },
  {
   "cell_type": "code",
   "execution_count": 13,
   "metadata": {
    "colab": {
     "base_uri": "https://localhost:8080/",
     "height": 362
    },
    "id": "qmQfwng-2DEO",
    "outputId": "5444488f-e728-4901-f6ee-a9611b021c3f"
   },
   "outputs": [
    {
     "data": {
      "image/png": "[encoded data removed]",
      "text/plain": [
       "<Figure size 432x288 with 1 Axes>"
      ]
     },
     "metadata": {
      "needs_background": "light"
     },
     "output_type": "display_data"
    }
   ],
   "source": [
    "data_2PM_Destination = sns.countplot('도착영업소코드',data=data_2PM)\n",
    "data_2PM_Destination.set_title('통행횟수 by 도착영업소', fontsize=18)\n",
    "data_2PM_Destination.set_xlabel('도착영업소', fontdict= {'size':16})\n",
    "data_2PM_Destination.set_ylabel('통행횟수', fontdict= {'size':16})\n",
    "plt.show()"
   ]
  },
  {
   "cell_type": "code",
   "execution_count": 14,
   "metadata": {
    "colab": {
     "base_uri": "https://localhost:8080/",
     "height": 308
    },
    "id": "0zBr7hKU2UcP",
    "outputId": "b2fa1a53-f54c-4d19-bf69-224798076a84"
   },
   "outputs": [
    {
     "data": {
      "image/png": "[encoded data removed]",
      "text/plain": [
       "<Figure size 432x288 with 1 Axes>"
      ]
     },
     "metadata": {
      "needs_background": "light"
     },
     "output_type": "display_data"
    }
   ],
   "source": [
    "data_2PM_Destination = sns.countplot(y='도착영업소코드',data=data_2PM)\n",
    "data_2PM_Destination.set_title('통행횟수 by 도착영업소', fontsize=18)\n",
    "data_2PM_Destination.set_xlabel('통행횟수', fontdict= {'size':16})\n",
    "data_2PM_Destination.set_ylabel('도착영업소', fontdict= {'size':16})\n",
    "plt.show()"
   ]
  },
  {
   "cell_type": "markdown",
   "metadata": {
    "id": "yYBA1rTj2luR"
   },
   "source": [
    "#4. Hue Data"
   ]
  },
  {
   "cell_type": "code",
   "execution_count": 15,
   "metadata": {
    "colab": {
     "base_uri": "https://localhost:8080/",
     "height": 362
    },
    "id": "kpmtg1F_2k61",
    "outputId": "0bc32da0-62df-4c4d-8a28-fb30be658276"
   },
   "outputs": [
    {
     "data": {
      "image/png": "[encoded data removed]",
      "text/plain": [
       "<Figure size 432x288 with 1 Axes>"
      ]
     },
     "metadata": {
      "needs_background": "light"
     },
     "output_type": "display_data"
    }
   ],
   "source": [
    "data_2PM_Destination = sns.countplot('도착영업소코드',data=data_2PM, hue='요일')\n",
    "data_2PM_Destination.set_title('통행횟수 by 도착영업소', fontsize=18)\n",
    "data_2PM_Destination.set_xlabel('도착영업소', fontdict= {'size':16})\n",
    "data_2PM_Destination.set_ylabel('통행횟수', fontdict= {'size':16})\n",
    "plt.show()"
   ]
  }
 ],
 "metadata": {
  "colab": {
   "collapsed_sections": [],
   "name": "ColumnBar.ipynb",
   "provenance": []
  },
  "kernelspec": {
   "display_name": "Python 3 (ipykernel)",
   "language": "python",
   "name": "python3"
  },
  "language_info": {
   "codemirror_mode": {
    "name": "ipython",
    "version": 3
   },
   "file_extension": ".py",
   "mimetype": "text/x-python",
   "name": "python",
   "nbconvert_exporter": "python",
   "pygments_lexer": "ipython3",
   "version": "3.8.8"
  }
 },
 "nbformat": 4,
 "nbformat_minor": 4
}
