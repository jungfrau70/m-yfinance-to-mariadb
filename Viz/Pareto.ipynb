{
 "cells": [
  {
   "cell_type": "markdown",
   "metadata": {
    "id": "wZBeM4rv8tIF"
   },
   "source": [
    "#1. Mount Drive"
   ]
  },
  {
   "cell_type": "markdown",
   "metadata": {
    "colab": {
     "base_uri": "https://localhost:8080/"
    },
    "id": "rbz4OIBn826M",
    "outputId": "b8300ff0-8257-4cb0-ad1a-29a9443dc2ea"
   },
   "source": [
    "from google.colab import drive\n",
    "drive.mount('/gdrive')"
   ]
  },
  {
   "cell_type": "markdown",
   "metadata": {
    "colab": {
     "base_uri": "https://localhost:8080/"
    },
    "id": "CUUVgSeC9EB8",
    "outputId": "9bc66482-b3f7-4272-deb1-5c456e81b699"
   },
   "source": [
    "!ls -al '/gdrive/My Drive/data'"
   ]
  },
  {
   "cell_type": "markdown",
   "metadata": {
    "id": "YcBSRjhI9J5S"
   },
   "source": [
    "2. Korean Characters"
   ]
  },
  {
   "cell_type": "markdown",
   "metadata": {
    "colab": {
     "base_uri": "https://localhost:8080/"
    },
    "id": "qlTff76o9Neo",
    "outputId": "529c1cd2-9c3e-4148-b426-f41bac38030e"
   },
   "source": [
    "!sudo apt-get install -y fonts-nanum\n",
    "!sudo fc-cache -fv\n",
    "!rm ~/.cache/matplotlib -rf"
   ]
  },
  {
   "cell_type": "markdown",
   "metadata": {
    "id": "O_e_mzK59WZ2"
   },
   "source": [
    "런타임 - 런타임 다시 시작\n",
    "\n",
    "matplotlib의 폰트를 Nanum 폰트로 지정"
   ]
  },
  {
   "cell_type": "code",
   "execution_count": 1,
   "metadata": {
    "id": "Ew6Xmnkc9dNE"
   },
   "outputs": [],
   "source": [
    "# Import pyplot as a alias 'plt'\n",
    "import matplotlib.pyplot as plt"
   ]
  },
  {
   "cell_type": "code",
   "execution_count": 2,
   "metadata": {
    "id": "9n7Brmya9juC"
   },
   "outputs": [],
   "source": [
    "# 경고 무시\n",
    "import warnings\n",
    "warnings.filterwarnings(\"ignore\", category=FutureWarning)\n",
    "\n",
    "# 전역 폰트 설정\n",
    "plt.rc('font', family='NanumGothic') "
   ]
  },
  {
   "cell_type": "markdown",
   "metadata": {
    "id": "UeSMpcG29nQT"
   },
   "source": [
    "#3. Load Data"
   ]
  },
  {
   "cell_type": "code",
   "execution_count": 3,
   "metadata": {
    "id": "ivHa2FAp9qnC"
   },
   "outputs": [],
   "source": [
    "import pandas as pd"
   ]
  },
  {
   "cell_type": "code",
   "execution_count": 4,
   "metadata": {
    "id": "8VfFn_ao9xHI"
   },
   "outputs": [],
   "source": [
    "# Load a file under \"data\" folder\n",
    "# file = \"/gdrive/My Drive/data/data_2020.csv\"\n",
    "file = \"data/data_2020.csv\"\n",
    "data = pd.read_csv(file)"
   ]
  },
  {
   "cell_type": "code",
   "execution_count": 5,
   "metadata": {
    "colab": {
     "base_uri": "https://localhost:8080/",
     "height": 204
    },
    "id": "VNcFOjG695qO",
    "outputId": "cdeac26f-2696-4115-9f8a-3eafb79e8aa2"
   },
   "outputs": [
    {
     "data": {
      "text/html": [
       "<div>\n",
       "<style scoped>\n",
       "    .dataframe tbody tr th:only-of-type {\n",
       "        vertical-align: middle;\n",
       "    }\n",
       "\n",
       "    .dataframe tbody tr th {\n",
       "        vertical-align: top;\n",
       "    }\n",
       "\n",
       "    .dataframe thead th {\n",
       "        text-align: right;\n",
       "    }\n",
       "</style>\n",
       "<table border=\"1\" class=\"dataframe\">\n",
       "  <thead>\n",
       "    <tr style=\"text-align: right;\">\n",
       "      <th></th>\n",
       "      <th>집계일자</th>\n",
       "      <th>집계시</th>\n",
       "      <th>출발영업소코드</th>\n",
       "      <th>도착영업소코드</th>\n",
       "      <th>통행시간</th>\n",
       "      <th>요일</th>\n",
       "    </tr>\n",
       "  </thead>\n",
       "  <tbody>\n",
       "    <tr>\n",
       "      <th>0</th>\n",
       "      <td>20200101</td>\n",
       "      <td>4</td>\n",
       "      <td>101</td>\n",
       "      <td>105</td>\n",
       "      <td>637</td>\n",
       "      <td>2</td>\n",
       "    </tr>\n",
       "    <tr>\n",
       "      <th>1</th>\n",
       "      <td>20200101</td>\n",
       "      <td>4</td>\n",
       "      <td>101</td>\n",
       "      <td>105</td>\n",
       "      <td>773</td>\n",
       "      <td>2</td>\n",
       "    </tr>\n",
       "    <tr>\n",
       "      <th>2</th>\n",
       "      <td>20200101</td>\n",
       "      <td>4</td>\n",
       "      <td>101</td>\n",
       "      <td>105</td>\n",
       "      <td>762</td>\n",
       "      <td>2</td>\n",
       "    </tr>\n",
       "    <tr>\n",
       "      <th>3</th>\n",
       "      <td>20200101</td>\n",
       "      <td>4</td>\n",
       "      <td>101</td>\n",
       "      <td>105</td>\n",
       "      <td>746</td>\n",
       "      <td>2</td>\n",
       "    </tr>\n",
       "    <tr>\n",
       "      <th>4</th>\n",
       "      <td>20200101</td>\n",
       "      <td>4</td>\n",
       "      <td>101</td>\n",
       "      <td>105</td>\n",
       "      <td>875</td>\n",
       "      <td>2</td>\n",
       "    </tr>\n",
       "  </tbody>\n",
       "</table>\n",
       "</div>"
      ],
      "text/plain": [
       "       집계일자  집계시  출발영업소코드  도착영업소코드  통행시간  요일\n",
       "0  20200101    4      101      105   637   2\n",
       "1  20200101    4      101      105   773   2\n",
       "2  20200101    4      101      105   762   2\n",
       "3  20200101    4      101      105   746   2\n",
       "4  20200101    4      101      105   875   2"
      ]
     },
     "execution_count": 5,
     "metadata": {},
     "output_type": "execute_result"
    }
   ],
   "source": [
    "data.head()"
   ]
  },
  {
   "cell_type": "code",
   "execution_count": 6,
   "metadata": {
    "colab": {
     "base_uri": "https://localhost:8080/"
    },
    "id": "7gf6cQrU-Co_",
    "outputId": "5a6489a3-2429-4078-b4b5-23fab38ad8c7"
   },
   "outputs": [
    {
     "name": "stdout",
     "output_type": "stream",
     "text": [
      "<class 'pandas.core.frame.DataFrame'>\n",
      "RangeIndex: 152870 entries, 0 to 152869\n",
      "Data columns (total 6 columns):\n",
      " #   Column   Non-Null Count   Dtype\n",
      "---  ------   --------------   -----\n",
      " 0   집계일자     152870 non-null  int64\n",
      " 1   집계시      152870 non-null  int64\n",
      " 2   출발영업소코드  152870 non-null  int64\n",
      " 3   도착영업소코드  152870 non-null  int64\n",
      " 4   통행시간     152870 non-null  int64\n",
      " 5   요일       152870 non-null  int64\n",
      "dtypes: int64(6)\n",
      "memory usage: 7.0 MB\n"
     ]
    }
   ],
   "source": [
    "data.info()"
   ]
  },
  {
   "cell_type": "markdown",
   "metadata": {
    "id": "GuZqqq0v-LDZ"
   },
   "source": [
    "#4. 집계시"
   ]
  },
  {
   "cell_type": "code",
   "execution_count": 7,
   "metadata": {
    "id": "Ij6LQdPn-Q5Q"
   },
   "outputs": [],
   "source": [
    "data_06_22 = data[data.집계시.isin(range(6,23))]"
   ]
  },
  {
   "cell_type": "code",
   "execution_count": 8,
   "metadata": {
    "colab": {
     "base_uri": "https://localhost:8080/",
     "height": 419
    },
    "id": "YeQ7GsLa-jiz",
    "outputId": "c3c916ea-1909-41c5-ac51-6ed792a91413"
   },
   "outputs": [
    {
     "data": {
      "text/html": [
       "<div>\n",
       "<style scoped>\n",
       "    .dataframe tbody tr th:only-of-type {\n",
       "        vertical-align: middle;\n",
       "    }\n",
       "\n",
       "    .dataframe tbody tr th {\n",
       "        vertical-align: top;\n",
       "    }\n",
       "\n",
       "    .dataframe thead th {\n",
       "        text-align: right;\n",
       "    }\n",
       "</style>\n",
       "<table border=\"1\" class=\"dataframe\">\n",
       "  <thead>\n",
       "    <tr style=\"text-align: right;\">\n",
       "      <th></th>\n",
       "      <th>집계일자</th>\n",
       "      <th>집계시</th>\n",
       "      <th>출발영업소코드</th>\n",
       "      <th>도착영업소코드</th>\n",
       "      <th>통행시간</th>\n",
       "      <th>요일</th>\n",
       "    </tr>\n",
       "  </thead>\n",
       "  <tbody>\n",
       "    <tr>\n",
       "      <th>82028</th>\n",
       "      <td>20200715</td>\n",
       "      <td>6</td>\n",
       "      <td>101</td>\n",
       "      <td>140</td>\n",
       "      <td>16775</td>\n",
       "      <td>2</td>\n",
       "    </tr>\n",
       "    <tr>\n",
       "      <th>125225</th>\n",
       "      <td>20201026</td>\n",
       "      <td>6</td>\n",
       "      <td>101</td>\n",
       "      <td>110</td>\n",
       "      <td>5101</td>\n",
       "      <td>0</td>\n",
       "    </tr>\n",
       "    <tr>\n",
       "      <th>66049</th>\n",
       "      <td>20200609</td>\n",
       "      <td>6</td>\n",
       "      <td>101</td>\n",
       "      <td>105</td>\n",
       "      <td>713</td>\n",
       "      <td>1</td>\n",
       "    </tr>\n",
       "    <tr>\n",
       "      <th>66048</th>\n",
       "      <td>20200609</td>\n",
       "      <td>6</td>\n",
       "      <td>101</td>\n",
       "      <td>105</td>\n",
       "      <td>816</td>\n",
       "      <td>1</td>\n",
       "    </tr>\n",
       "    <tr>\n",
       "      <th>76951</th>\n",
       "      <td>20200704</td>\n",
       "      <td>6</td>\n",
       "      <td>101</td>\n",
       "      <td>135</td>\n",
       "      <td>10050</td>\n",
       "      <td>5</td>\n",
       "    </tr>\n",
       "    <tr>\n",
       "      <th>...</th>\n",
       "      <td>...</td>\n",
       "      <td>...</td>\n",
       "      <td>...</td>\n",
       "      <td>...</td>\n",
       "      <td>...</td>\n",
       "      <td>...</td>\n",
       "    </tr>\n",
       "    <tr>\n",
       "      <th>74174</th>\n",
       "      <td>20200628</td>\n",
       "      <td>22</td>\n",
       "      <td>101</td>\n",
       "      <td>105</td>\n",
       "      <td>765</td>\n",
       "      <td>6</td>\n",
       "    </tr>\n",
       "    <tr>\n",
       "      <th>74175</th>\n",
       "      <td>20200628</td>\n",
       "      <td>22</td>\n",
       "      <td>101</td>\n",
       "      <td>105</td>\n",
       "      <td>870</td>\n",
       "      <td>6</td>\n",
       "    </tr>\n",
       "    <tr>\n",
       "      <th>74176</th>\n",
       "      <td>20200628</td>\n",
       "      <td>22</td>\n",
       "      <td>101</td>\n",
       "      <td>105</td>\n",
       "      <td>849</td>\n",
       "      <td>6</td>\n",
       "    </tr>\n",
       "    <tr>\n",
       "      <th>107489</th>\n",
       "      <td>20200915</td>\n",
       "      <td>22</td>\n",
       "      <td>101</td>\n",
       "      <td>115</td>\n",
       "      <td>6371</td>\n",
       "      <td>1</td>\n",
       "    </tr>\n",
       "    <tr>\n",
       "      <th>7741</th>\n",
       "      <td>20200120</td>\n",
       "      <td>22</td>\n",
       "      <td>101</td>\n",
       "      <td>105</td>\n",
       "      <td>873</td>\n",
       "      <td>0</td>\n",
       "    </tr>\n",
       "  </tbody>\n",
       "</table>\n",
       "<p>115244 rows × 6 columns</p>\n",
       "</div>"
      ],
      "text/plain": [
       "            집계일자  집계시  출발영업소코드  도착영업소코드   통행시간  요일\n",
       "82028   20200715    6      101      140  16775   2\n",
       "125225  20201026    6      101      110   5101   0\n",
       "66049   20200609    6      101      105    713   1\n",
       "66048   20200609    6      101      105    816   1\n",
       "76951   20200704    6      101      135  10050   5\n",
       "...          ...  ...      ...      ...    ...  ..\n",
       "74174   20200628   22      101      105    765   6\n",
       "74175   20200628   22      101      105    870   6\n",
       "74176   20200628   22      101      105    849   6\n",
       "107489  20200915   22      101      115   6371   1\n",
       "7741    20200120   22      101      105    873   0\n",
       "\n",
       "[115244 rows x 6 columns]"
      ]
     },
     "execution_count": 8,
     "metadata": {},
     "output_type": "execute_result"
    }
   ],
   "source": [
    "data_06_22.sort_values(by='집계시')"
   ]
  },
  {
   "cell_type": "code",
   "execution_count": 9,
   "metadata": {
    "id": "q-lQqgQZ-upu"
   },
   "outputs": [],
   "source": [
    "data_06_22_counting = data_06_22['집계시'].value_counts()"
   ]
  },
  {
   "cell_type": "code",
   "execution_count": 10,
   "metadata": {
    "colab": {
     "base_uri": "https://localhost:8080/"
    },
    "id": "YA-PhcVB-45s",
    "outputId": "e34ab682-cdfa-4106-d557-b06b2c393a36"
   },
   "outputs": [
    {
     "data": {
      "text/plain": [
       "13    7092\n",
       "14    7091\n",
       "12    7089\n",
       "15    7078\n",
       "11    7059\n",
       "10    7038\n",
       "16    7011\n",
       "9     7008\n",
       "17    6919\n",
       "8     6849\n",
       "18    6742\n",
       "19    6627\n",
       "7     6614\n",
       "20    6518\n",
       "21    6284\n",
       "22    6130\n",
       "6     6095\n",
       "Name: 집계시, dtype: int64"
      ]
     },
     "execution_count": 10,
     "metadata": {},
     "output_type": "execute_result"
    }
   ],
   "source": [
    "data_06_22_counting"
   ]
  },
  {
   "cell_type": "code",
   "execution_count": 11,
   "metadata": {
    "id": "8J07L7Nh_F3T"
   },
   "outputs": [],
   "source": [
    "# Store index of data_06_22_counting into x\n",
    "x = data_06_22_counting.index"
   ]
  },
  {
   "cell_type": "code",
   "execution_count": 12,
   "metadata": {
    "id": "SWraULpl_JNc"
   },
   "outputs": [],
   "source": [
    "# Conver x values to String in order to avoid int sorting\n",
    "x = [str(i) for i in x]"
   ]
  },
  {
   "cell_type": "code",
   "execution_count": 13,
   "metadata": {
    "colab": {
     "base_uri": "https://localhost:8080/"
    },
    "id": "tUGqnEgx_P-t",
    "outputId": "8aaaa9a7-e31a-452c-a38a-5dc47f018be7"
   },
   "outputs": [
    {
     "data": {
      "text/plain": [
       "['13',\n",
       " '14',\n",
       " '12',\n",
       " '15',\n",
       " '11',\n",
       " '10',\n",
       " '16',\n",
       " '9',\n",
       " '17',\n",
       " '8',\n",
       " '18',\n",
       " '19',\n",
       " '7',\n",
       " '20',\n",
       " '21',\n",
       " '22',\n",
       " '6']"
      ]
     },
     "execution_count": 13,
     "metadata": {},
     "output_type": "execute_result"
    }
   ],
   "source": [
    "x"
   ]
  },
  {
   "cell_type": "code",
   "execution_count": 14,
   "metadata": {
    "id": "SnFy5oB4_YH0"
   },
   "outputs": [],
   "source": [
    "# Store values of data_06_22_counting into y\n",
    "y = data_06_22_counting.values"
   ]
  },
  {
   "cell_type": "code",
   "execution_count": 15,
   "metadata": {
    "id": "T1jf_l5__bB6"
   },
   "outputs": [],
   "source": [
    "# Calculate ratio and accumulated ratio\n",
    "ratio = y / y.sum()\n",
    "ratio_sum = ratio.cumsum()"
   ]
  },
  {
   "cell_type": "code",
   "execution_count": 16,
   "metadata": {
    "colab": {
     "base_uri": "https://localhost:8080/",
     "height": 652
    },
    "id": "qVPcTZb3_pkX",
    "outputId": "16596898-a7ff-44a1-e47b-a4335cc715b3"
   },
   "outputs": [
    {
     "name": "stdout",
     "output_type": "stream",
     "text": [
      "[0.  0.2 0.4 0.6 0.8 1.  1.2]\n"
     ]
    },
    {
     "name": "stderr",
     "output_type": "stream",
     "text": [
      "C:\\Users\\inhwa\\AppData\\Local\\Temp/ipykernel_18904/2594643994.py:11: UserWarning: FixedFormatter should only be used together with FixedLocator\n",
      "  lineChart.set_yticklabels(['{:,.1%}'.format(x) for x in ranges])\n"
     ]
    },
    {
     "data": {
      "image/png": "[encoded data removed]",
      "text/plain": [
       "<Figure size 1440x720 with 2 Axes>"
      ]
     },
     "metadata": {
      "needs_background": "light"
     },
     "output_type": "display_data"
    }
   ],
   "source": [
    "# Configure figure size\n",
    "fig, barChart = plt.subplots(figsize=(20,10))\n",
    "# Creae bar Chart\n",
    "barChart.bar(x, y)\n",
    "# Creae line Chart\n",
    "lineChart = barChart.twinx()\n",
    "lineChart.plot(x, ratio_sum, '-ro', alpha=0.5)\n",
    "# Creae right side labels\n",
    "ranges = lineChart.get_yticks()\n",
    "print(ranges)\n",
    "lineChart.set_yticklabels(['{:,.1%}'.format(x) for x in ranges])\n",
    "# Creae annotations on line chart\n",
    "ratio_sum_percentages = ['{0:.0%}'.format(x) for x in ratio_sum]\n",
    "for i, txt in enumerate(ratio_sum_percentages):\n",
    "    lineChart.annotate(txt, (x[i], ratio_sum[i]), fontsize=14)  \n",
    "# Generate labels and title\n",
    "barChart.set_xlabel('집계시', fontdict= {'size':16})\n",
    "barChart.set_ylabel('통행회수', fontdict= {'size':16})\n",
    "plt.title('Pareto Chart - 통행회수 by 집계시', fontsize=18)\n",
    "# Show plot\n",
    "plt.show()"
   ]
  },
  {
   "cell_type": "markdown",
   "metadata": {
    "id": "b6rpANcdAnZp"
   },
   "source": [
    "#5. 도착영업소코드"
   ]
  },
  {
   "cell_type": "code",
   "execution_count": 17,
   "metadata": {
    "id": "WtIiOoMUAq7c"
   },
   "outputs": [],
   "source": [
    "data_destination_counting = data['도착영업소코드'].value_counts()"
   ]
  },
  {
   "cell_type": "code",
   "execution_count": 18,
   "metadata": {
    "colab": {
     "base_uri": "https://localhost:8080/"
    },
    "id": "Yu2SLaTkAyuz",
    "outputId": "f40df07c-6883-41b0-cf52-8223997bf7bc"
   },
   "outputs": [
    {
     "data": {
      "text/plain": [
       "105    49738\n",
       "110    38526\n",
       "115    26354\n",
       "140     8954\n",
       "130     7793\n",
       "135     7428\n",
       "125     7339\n",
       "120     6738\n",
       "Name: 도착영업소코드, dtype: int64"
      ]
     },
     "execution_count": 18,
     "metadata": {},
     "output_type": "execute_result"
    }
   ],
   "source": [
    "data_destination_counting"
   ]
  },
  {
   "cell_type": "code",
   "execution_count": 19,
   "metadata": {
    "id": "9gf0xJ6WA_X9"
   },
   "outputs": [],
   "source": [
    "# Store index of data_destination_counting into x\n",
    "x = data_destination_counting.index"
   ]
  },
  {
   "cell_type": "code",
   "execution_count": 20,
   "metadata": {
    "id": "1ZF5lphtBCI1"
   },
   "outputs": [],
   "source": [
    "# Conver x values to String in order to avoid int sorting\n",
    "x = [str(i) for i in x]"
   ]
  },
  {
   "cell_type": "code",
   "execution_count": 21,
   "metadata": {
    "id": "sJRNw570BGX3"
   },
   "outputs": [],
   "source": [
    "# Store values of data_destination_counting into y\n",
    "y = data_destination_counting.values"
   ]
  },
  {
   "cell_type": "code",
   "execution_count": 22,
   "metadata": {
    "id": "-YmjUX0xBH3_"
   },
   "outputs": [],
   "source": [
    "# Calculate ratio and accumulated ratio\n",
    "ratio = y / y.sum()\n",
    "ratio_sum = ratio.cumsum()"
   ]
  },
  {
   "cell_type": "code",
   "execution_count": 23,
   "metadata": {
    "colab": {
     "base_uri": "https://localhost:8080/",
     "height": 652
    },
    "id": "HH-dVdOtBScE",
    "outputId": "102c16ec-9729-49b4-cbcd-e5e402d704b0"
   },
   "outputs": [
    {
     "name": "stdout",
     "output_type": "stream",
     "text": [
      "[0.2 0.3 0.4 0.5 0.6 0.7 0.8 0.9 1.  1.1]\n"
     ]
    },
    {
     "name": "stderr",
     "output_type": "stream",
     "text": [
      "C:\\Users\\inhwa\\AppData\\Local\\Temp/ipykernel_18904/2864205602.py:11: UserWarning: FixedFormatter should only be used together with FixedLocator\n",
      "  lineChart.set_yticklabels(['{:,.1%}'.format(x) for x in ranges])\n"
     ]
    },
    {
     "data": {
      "image/png": "[encoded data removed]",
      "text/plain": [
       "<Figure size 1440x720 with 2 Axes>"
      ]
     },
     "metadata": {
      "needs_background": "light"
     },
     "output_type": "display_data"
    }
   ],
   "source": [
    "# Configure figure size\n",
    "fig, barChart = plt.subplots(figsize=(20,10))\n",
    "# Creae bar Chart\n",
    "barChart.bar(x, y)\n",
    "# Creae line Chart\n",
    "lineChart = barChart.twinx()\n",
    "lineChart.plot(x, ratio_sum, '-ro', alpha=0.5)\n",
    "# Creae right side labels\n",
    "ranges = lineChart.get_yticks()\n",
    "print(ranges)\n",
    "lineChart.set_yticklabels(['{:,.1%}'.format(x) for x in ranges])\n",
    "# Creae annotations on line chart\n",
    "ratio_sum_percentages = ['{0:.0%}'.format(x) for x in ratio_sum]\n",
    "for i, txt in enumerate(ratio_sum_percentages):\n",
    "    lineChart.annotate(txt, (x[i], ratio_sum[i]), fontsize=14)    \n",
    "# Generate labels and title\n",
    "barChart.set_xlabel('도착영업소코드', fontdict= {'size':16})\n",
    "barChart.set_ylabel('통행회수', fontdict= {'size':16})\n",
    "plt.title('Pareto Chart - 통행회수 by 도착영업소코드', fontsize=18)\n",
    "# Show plot\n",
    "plt.show()"
   ]
  }
 ],
 "metadata": {
  "colab": {
   "name": "Pareto.ipynb",
   "provenance": []
  },
  "kernelspec": {
   "display_name": "Python 3 (ipykernel)",
   "language": "python",
   "name": "python3"
  },
  "language_info": {
   "codemirror_mode": {
    "name": "ipython",
    "version": 3
   },
   "file_extension": ".py",
   "mimetype": "text/x-python",
   "name": "python",
   "nbconvert_exporter": "python",
   "pygments_lexer": "ipython3",
   "version": "3.8.8"
  }
 },
 "nbformat": 4,
 "nbformat_minor": 4
}
