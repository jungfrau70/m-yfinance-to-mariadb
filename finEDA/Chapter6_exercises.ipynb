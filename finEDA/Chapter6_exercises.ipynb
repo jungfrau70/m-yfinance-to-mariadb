{
 "cells": [
  {
   "cell_type": "code",
   "execution_count": 1,
   "metadata": {},
   "outputs": [],
   "source": [
    "import pandas as pd\n",
    "import numpy as np\n",
    "import matplotlib.pyplot as plt\n",
    "from datetime import datetime, timedelta"
   ]
  },
  {
   "cell_type": "code",
   "execution_count": 2,
   "metadata": {},
   "outputs": [],
   "source": [
    "# Download the data\n",
    "import pandas_datareader as pdr\n",
    "\n",
    "ewa = pdr.get_data_yahoo('EWA', start='2011-01-01', end='2019-12-23')['Adj Close']\n",
    "ewc = pdr.get_data_yahoo('EWC', start='2011-01-01', end='2019-12-23')['Adj Close']"
   ]
  },
  {
   "cell_type": "code",
   "execution_count": 3,
   "metadata": {},
   "outputs": [],
   "source": [
    "# The Hedge ratio calculated as in the video\n",
    "beta = 0.92"
   ]
  },
  {
   "cell_type": "code",
   "execution_count": 4,
   "metadata": {},
   "outputs": [],
   "source": [
    "# Get the spread data\n",
    "spread = pd.read_csv('spread.csv', index_col=0)['Adj Close']\n",
    "spread.index = pd.to_datetime(spread.index)"
   ]
  },
  {
   "cell_type": "markdown",
   "metadata": {},
   "source": [
    "## Ex 6.1\n",
    "\n",
    "In the lecture, we set our trading signal, i.e., the threshold, to be $$0.5*std_{spread}$$ \n",
    "\n",
    "What if we increase this threshold to be $$1*std_{spread}$$\n",
    "\n",
    "How would it affect our P&L curve?"
   ]
  },
  {
   "cell_type": "code",
   "execution_count": 5,
   "metadata": {},
   "outputs": [],
   "source": [
    "# Your answer\n",
    "\n"
   ]
  },
  {
   "cell_type": "markdown",
   "metadata": {},
   "source": [
    "## Ex 6.2\n",
    "We will incorporate the trading cost now into our backtest. This will again affect the performance of our trading strategy. \n",
    "\n",
    "Assume our commision is 5 basis points. What would the optimum threshold be (i.e., to maximise our cumulative realised P&L)?\n",
    "\n",
    "__Hint:__\n",
    "\n",
    "The trading cost can be calculated as $$T = (ewc + beta*ewa)*c,$$\n",
    "where c is the commision. \n",
    "\n",
    "Then the profit per trade can be calculated using $$(spread_{t+1} - spread_{t}) - (T_{t+1} + T_{t}).$$"
   ]
  },
  {
   "cell_type": "code",
   "execution_count": null,
   "metadata": {},
   "outputs": [],
   "source": [
    "# Your answer\n",
    "\n"
   ]
  },
  {
   "cell_type": "markdown",
   "metadata": {},
   "source": [
    "## Bonus section\n",
    "\n",
    "What happens if our commission rate is different, i.e., 10 basis points, 15 basis points, etc.? How does it affect our P&L?"
   ]
  },
  {
   "cell_type": "code",
   "execution_count": null,
   "metadata": {},
   "outputs": [],
   "source": [
    "# Your answer\n",
    "\n"
   ]
  },
  {
   "cell_type": "code",
   "execution_count": null,
   "metadata": {},
   "outputs": [],
   "source": []
  },
  {
   "cell_type": "code",
   "execution_count": null,
   "metadata": {},
   "outputs": [],
   "source": []
  },
  {
   "cell_type": "code",
   "execution_count": null,
   "metadata": {},
   "outputs": [],
   "source": []
  },
  {
   "cell_type": "code",
   "execution_count": null,
   "metadata": {},
   "outputs": [],
   "source": []
  },
  {
   "cell_type": "code",
   "execution_count": null,
   "metadata": {},
   "outputs": [],
   "source": []
  },
  {
   "cell_type": "code",
   "execution_count": null,
   "metadata": {},
   "outputs": [],
   "source": []
  },
  {
   "cell_type": "code",
   "execution_count": null,
   "metadata": {},
   "outputs": [],
   "source": []
  },
  {
   "cell_type": "code",
   "execution_count": null,
   "metadata": {},
   "outputs": [],
   "source": []
  }
 ],
 "metadata": {
  "kernelspec": {
   "display_name": "Python 3",
   "language": "python",
   "name": "python3"
  },
  "language_info": {
   "codemirror_mode": {
    "name": "ipython",
    "version": 3
   },
   "file_extension": ".py",
   "mimetype": "text/x-python",
   "name": "python",
   "nbconvert_exporter": "python",
   "pygments_lexer": "ipython3",
   "version": "3.6.8"
  }
 },
 "nbformat": 4,
 "nbformat_minor": 2
}
