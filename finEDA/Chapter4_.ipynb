{
 "cells": [
  {
   "cell_type": "markdown",
   "metadata": {
    "colab_type": "text",
    "hideCode": false,
    "hidePrompt": false,
    "id": "IuG2NPL-FEyC"
   },
   "source": [
    "# Python For Traders and Investors - Chapter 4"
   ]
  },
  {
   "cell_type": "markdown",
   "metadata": {
    "colab_type": "text",
    "hideCode": false,
    "hidePrompt": false,
    "id": "eWEpANkXFEyF"
   },
   "source": [
    "## 4.1 Handling date and time"
   ]
  },
  {
   "cell_type": "code",
   "execution_count": 1,
   "metadata": {
    "colab": {},
    "colab_type": "code",
    "id": "PNBzZlajFEyG"
   },
   "outputs": [],
   "source": [
    "import pandas as pd\n",
    "import numpy as np\n",
    "import matplotlib.pyplot as plt"
   ]
  },
  {
   "cell_type": "markdown",
   "metadata": {
    "colab_type": "text",
    "hideCode": false,
    "hidePrompt": false,
    "id": "qMsG2CgqFEyJ"
   },
   "source": [
    "Datetime handling is really important for quantitative trading applications. We often deal with different time zones, daylight saving, leap days and so on. This can really be a problem for our research. Let's see how we can deal with this effectively."
   ]
  },
  {
   "cell_type": "code",
   "execution_count": 2,
   "metadata": {
    "colab": {},
    "colab_type": "code",
    "hideCode": false,
    "hidePrompt": false,
    "id": "1mXGnPCFFEyK"
   },
   "outputs": [],
   "source": [
    "from datetime import datetime, timedelta"
   ]
  },
  {
   "cell_type": "code",
   "execution_count": 3,
   "metadata": {
    "colab": {},
    "colab_type": "code",
    "id": "DCJywDbvFEyN",
    "outputId": "3ab3bce5-0a38-4fdb-d0b2-d617b8107c1c"
   },
   "outputs": [
    {
     "data": {
      "text/plain": [
       "datetime.datetime(2020, 2, 29, 14, 57, 12, 165565)"
      ]
     },
     "execution_count": 3,
     "metadata": {},
     "output_type": "execute_result"
    }
   ],
   "source": [
    "datetime.now()"
   ]
  },
  {
   "cell_type": "code",
   "execution_count": 4,
   "metadata": {
    "colab": {},
    "colab_type": "code",
    "id": "mjJg_z-WFEyR",
    "outputId": "26c21992-b44b-4e86-9910-3e382998534c"
   },
   "outputs": [
    {
     "data": {
      "text/plain": [
       "datetime.datetime(2020, 4, 30, 14, 57, 12, 173376)"
      ]
     },
     "execution_count": 4,
     "metadata": {},
     "output_type": "execute_result"
    }
   ],
   "source": [
    "datetime.now() + timedelta(61)"
   ]
  },
  {
   "cell_type": "markdown",
   "metadata": {
    "colab_type": "text",
    "hideCode": false,
    "hidePrompt": false,
    "id": "HnCbUrDuFEyU"
   },
   "source": [
    "We get the time and date exactly 61 days from now. What about 61 days, 3 hours and 12 minutes?"
   ]
  },
  {
   "cell_type": "code",
   "execution_count": 5,
   "metadata": {
    "colab": {},
    "colab_type": "code",
    "id": "irYAn1e_FEyV",
    "outputId": "19390bf0-3cd8-4d3d-e2ef-7a86baa77115"
   },
   "outputs": [
    {
     "data": {
      "text/plain": [
       "datetime.datetime(2020, 4, 30, 18, 9, 12, 180768)"
      ]
     },
     "execution_count": 5,
     "metadata": {},
     "output_type": "execute_result"
    }
   ],
   "source": [
    "new_time = datetime.now() + timedelta(61,3600*3+60*12)\n",
    "new_time"
   ]
  },
  {
   "cell_type": "code",
   "execution_count": 6,
   "metadata": {
    "colab": {},
    "colab_type": "code",
    "hideCode": false,
    "hidePrompt": false,
    "id": "SUUqKiLoFEyY",
    "outputId": "cfd5704d-08e5-4225-9558-341a181fef01"
   },
   "outputs": [
    {
     "data": {
      "text/plain": [
       "'2020-04-30 18:09:12.180768'"
      ]
     },
     "execution_count": 6,
     "metadata": {},
     "output_type": "execute_result"
    }
   ],
   "source": [
    "# Converting to string\n",
    "str(new_time)"
   ]
  },
  {
   "cell_type": "markdown",
   "metadata": {
    "colab_type": "text",
    "hideCode": false,
    "hidePrompt": false,
    "id": "bgEcVELrFEyb"
   },
   "source": [
    "Here, we also turned the *datetime object* into a string for better readability. In backtests we often start with a date string and then have to some datetime arithmetic. Previously we read a .csv file line-by-line:"
   ]
  },
  {
   "cell_type": "code",
   "execution_count": 8,
   "metadata": {
    "colab": {},
    "colab_type": "code",
    "id": "TjG-qX9eFEyb"
   },
   "outputs": [],
   "source": [
    "dates = []\n",
    "fid = open('output.csv')\n",
    "fid.readline() \n",
    "for i in fid:\n",
    "    line = i.strip().split(',')\n",
    "    dates.append(line[0])"
   ]
  },
  {
   "cell_type": "code",
   "execution_count": 9,
   "metadata": {
    "colab": {},
    "colab_type": "code",
    "id": "G15jo8VjFEye",
    "outputId": "d137d11e-b944-4ba5-c463-6f972fdaa37e"
   },
   "outputs": [
    {
     "data": {
      "text/plain": [
       "['2012-12-31', '2013-01-02', '2013-01-03']"
      ]
     },
     "execution_count": 9,
     "metadata": {},
     "output_type": "execute_result"
    }
   ],
   "source": [
    "dates[:3]"
   ]
  },
  {
   "cell_type": "markdown",
   "metadata": {
    "colab_type": "text",
    "id": "yh38AlpXFEyh"
   },
   "source": [
    "Converting date strings to datetime objects:"
   ]
  },
  {
   "cell_type": "code",
   "execution_count": 10,
   "metadata": {
    "colab": {},
    "colab_type": "code",
    "id": "QTCyl2FZFEyi"
   },
   "outputs": [],
   "source": [
    "from dateutil.parser import parse"
   ]
  },
  {
   "cell_type": "code",
   "execution_count": 11,
   "metadata": {
    "colab": {},
    "colab_type": "code",
    "hideCode": false,
    "hidePrompt": false,
    "id": "oy63rFTAFEym",
    "outputId": "de826bad-002b-4b8a-eb32-1d1a2cc7392a"
   },
   "outputs": [
    {
     "data": {
      "text/plain": [
       "datetime.datetime(2012, 12, 31, 0, 0)"
      ]
     },
     "execution_count": 11,
     "metadata": {},
     "output_type": "execute_result"
    }
   ],
   "source": [
    "# This gives us the datetime object of the first date in our price data file\n",
    "parse(dates[0])"
   ]
  },
  {
   "cell_type": "code",
   "execution_count": 13,
   "metadata": {
    "colab": {},
    "colab_type": "code",
    "id": "ljM7vYEkFEyp",
    "outputId": "68a8fbf7-2b47-4c72-f05b-240c3ff3facb"
   },
   "outputs": [],
   "source": [
    "# But if we parse the whole 'dates' list:\n",
    "#parse(dates)\n",
    "# The above code will cause error. See next few lines for another method."
   ]
  },
  {
   "cell_type": "markdown",
   "metadata": {
    "colab_type": "text",
    "id": "P3hPj9xdFEyr"
   },
   "source": [
    "Another method is to use the to_datetime() function from pandas:"
   ]
  },
  {
   "cell_type": "code",
   "execution_count": 14,
   "metadata": {
    "colab": {},
    "colab_type": "code",
    "id": "y2MDVj49FEys",
    "outputId": "62e87bc7-ebed-4ec8-d458-7c42f56736c4"
   },
   "outputs": [
    {
     "data": {
      "text/plain": [
       "Timestamp('2012-12-31 00:00:00')"
      ]
     },
     "execution_count": 14,
     "metadata": {},
     "output_type": "execute_result"
    }
   ],
   "source": [
    "pd.to_datetime(dates[0])"
   ]
  },
  {
   "cell_type": "code",
   "execution_count": 15,
   "metadata": {
    "colab": {},
    "colab_type": "code",
    "id": "Ava1FQ7lFEyv",
    "outputId": "44b6b17f-5333-4bef-e773-0b433344f4fa"
   },
   "outputs": [
    {
     "data": {
      "text/plain": [
       "DatetimeIndex(['2012-12-31', '2013-01-02', '2013-01-03', '2013-01-04',\n",
       "               '2013-01-07', '2013-01-08', '2013-01-09', '2013-01-10',\n",
       "               '2013-01-11', '2013-01-14',\n",
       "               ...\n",
       "               '2016-01-13', '2016-01-14', '2016-01-15', '2016-01-19',\n",
       "               '2016-01-20', '2016-01-21', '2016-01-22', '2016-01-25',\n",
       "               '2016-01-26', '2016-01-27'],\n",
       "              dtype='datetime64[ns]', length=774, freq=None)"
      ]
     },
     "execution_count": 15,
     "metadata": {},
     "output_type": "execute_result"
    }
   ],
   "source": [
    "pd.to_datetime(dates)"
   ]
  },
  {
   "cell_type": "markdown",
   "metadata": {
    "colab_type": "text",
    "id": "rOZYNIVmFEyy"
   },
   "source": [
    "## 4.2 Converting timezones"
   ]
  },
  {
   "cell_type": "markdown",
   "metadata": {
    "colab_type": "text",
    "hideCode": false,
    "hidePrompt": false,
    "id": "2g-ltHU6FEyz"
   },
   "source": [
    "Let's calculate the time period that is covered by our data file:"
   ]
  },
  {
   "cell_type": "code",
   "execution_count": 16,
   "metadata": {
    "colab": {},
    "colab_type": "code",
    "id": "-0_0odbxFEy0",
    "outputId": "84108ae2-5c91-4856-af02-ae4d8944f689"
   },
   "outputs": [
    {
     "data": {
      "text/plain": [
       "['2012-12-31',\n",
       " '2013-01-02',\n",
       " '2013-01-03',\n",
       " '2013-01-04',\n",
       " '2013-01-07',\n",
       " '2013-01-08',\n",
       " '2013-01-09',\n",
       " '2013-01-10',\n",
       " '2013-01-11',\n",
       " '2013-01-14',\n",
       " '2013-01-15',\n",
       " '2013-01-16',\n",
       " '2013-01-17',\n",
       " '2013-01-18',\n",
       " '2013-01-22',\n",
       " '2013-01-23',\n",
       " '2013-01-24',\n",
       " '2013-01-25',\n",
       " '2013-01-28',\n",
       " '2013-01-29',\n",
       " '2013-01-30',\n",
       " '2013-01-31',\n",
       " '2013-02-01',\n",
       " '2013-02-04',\n",
       " '2013-02-05',\n",
       " '2013-02-06',\n",
       " '2013-02-07',\n",
       " '2013-02-08',\n",
       " '2013-02-11',\n",
       " '2013-02-12',\n",
       " '2013-02-13',\n",
       " '2013-02-14',\n",
       " '2013-02-15',\n",
       " '2013-02-19',\n",
       " '2013-02-20',\n",
       " '2013-02-21',\n",
       " '2013-02-22',\n",
       " '2013-02-25',\n",
       " '2013-02-26',\n",
       " '2013-02-27',\n",
       " '2013-02-28',\n",
       " '2013-03-01',\n",
       " '2013-03-04',\n",
       " '2013-03-05',\n",
       " '2013-03-06',\n",
       " '2013-03-07',\n",
       " '2013-03-08',\n",
       " '2013-03-11',\n",
       " '2013-03-12',\n",
       " '2013-03-13',\n",
       " '2013-03-14',\n",
       " '2013-03-15',\n",
       " '2013-03-18',\n",
       " '2013-03-19',\n",
       " '2013-03-20',\n",
       " '2013-03-21',\n",
       " '2013-03-22',\n",
       " '2013-03-25',\n",
       " '2013-03-26',\n",
       " '2013-03-27',\n",
       " '2013-03-28',\n",
       " '2013-04-01',\n",
       " '2013-04-02',\n",
       " '2013-04-03',\n",
       " '2013-04-04',\n",
       " '2013-04-05',\n",
       " '2013-04-08',\n",
       " '2013-04-09',\n",
       " '2013-04-10',\n",
       " '2013-04-11',\n",
       " '2013-04-12',\n",
       " '2013-04-15',\n",
       " '2013-04-16',\n",
       " '2013-04-17',\n",
       " '2013-04-18',\n",
       " '2013-04-19',\n",
       " '2013-04-22',\n",
       " '2013-04-23',\n",
       " '2013-04-24',\n",
       " '2013-04-25',\n",
       " '2013-04-26',\n",
       " '2013-04-29',\n",
       " '2013-04-30',\n",
       " '2013-05-01',\n",
       " '2013-05-02',\n",
       " '2013-05-03',\n",
       " '2013-05-06',\n",
       " '2013-05-07',\n",
       " '2013-05-08',\n",
       " '2013-05-09',\n",
       " '2013-05-10',\n",
       " '2013-05-13',\n",
       " '2013-05-14',\n",
       " '2013-05-15',\n",
       " '2013-05-16',\n",
       " '2013-05-17',\n",
       " '2013-05-20',\n",
       " '2013-05-21',\n",
       " '2013-05-22',\n",
       " '2013-05-23',\n",
       " '2013-05-24',\n",
       " '2013-05-28',\n",
       " '2013-05-29',\n",
       " '2013-05-30',\n",
       " '2013-05-31',\n",
       " '2013-06-03',\n",
       " '2013-06-04',\n",
       " '2013-06-05',\n",
       " '2013-06-06',\n",
       " '2013-06-07',\n",
       " '2013-06-10',\n",
       " '2013-06-11',\n",
       " '2013-06-12',\n",
       " '2013-06-13',\n",
       " '2013-06-14',\n",
       " '2013-06-17',\n",
       " '2013-06-18',\n",
       " '2013-06-19',\n",
       " '2013-06-20',\n",
       " '2013-06-21',\n",
       " '2013-06-24',\n",
       " '2013-06-25',\n",
       " '2013-06-26',\n",
       " '2013-06-27',\n",
       " '2013-06-28',\n",
       " '2013-07-01',\n",
       " '2013-07-02',\n",
       " '2013-07-03',\n",
       " '2013-07-05',\n",
       " '2013-07-08',\n",
       " '2013-07-09',\n",
       " '2013-07-10',\n",
       " '2013-07-11',\n",
       " '2013-07-12',\n",
       " '2013-07-15',\n",
       " '2013-07-16',\n",
       " '2013-07-17',\n",
       " '2013-07-18',\n",
       " '2013-07-19',\n",
       " '2013-07-22',\n",
       " '2013-07-23',\n",
       " '2013-07-24',\n",
       " '2013-07-25',\n",
       " '2013-07-26',\n",
       " '2013-07-29',\n",
       " '2013-07-30',\n",
       " '2013-07-31',\n",
       " '2013-08-01',\n",
       " '2013-08-02',\n",
       " '2013-08-05',\n",
       " '2013-08-06',\n",
       " '2013-08-07',\n",
       " '2013-08-08',\n",
       " '2013-08-09',\n",
       " '2013-08-12',\n",
       " '2013-08-13',\n",
       " '2013-08-14',\n",
       " '2013-08-15',\n",
       " '2013-08-16',\n",
       " '2013-08-19',\n",
       " '2013-08-20',\n",
       " '2013-08-21',\n",
       " '2013-08-22',\n",
       " '2013-08-23',\n",
       " '2013-08-26',\n",
       " '2013-08-27',\n",
       " '2013-08-28',\n",
       " '2013-08-29',\n",
       " '2013-08-30',\n",
       " '2013-09-03',\n",
       " '2013-09-04',\n",
       " '2013-09-05',\n",
       " '2013-09-06',\n",
       " '2013-09-09',\n",
       " '2013-09-10',\n",
       " '2013-09-11',\n",
       " '2013-09-12',\n",
       " '2013-09-13',\n",
       " '2013-09-16',\n",
       " '2013-09-17',\n",
       " '2013-09-18',\n",
       " '2013-09-19',\n",
       " '2013-09-20',\n",
       " '2013-09-23',\n",
       " '2013-09-24',\n",
       " '2013-09-25',\n",
       " '2013-09-26',\n",
       " '2013-09-27',\n",
       " '2013-09-30',\n",
       " '2013-10-01',\n",
       " '2013-10-02',\n",
       " '2013-10-03',\n",
       " '2013-10-04',\n",
       " '2013-10-07',\n",
       " '2013-10-08',\n",
       " '2013-10-09',\n",
       " '2013-10-10',\n",
       " '2013-10-11',\n",
       " '2013-10-14',\n",
       " '2013-10-15',\n",
       " '2013-10-16',\n",
       " '2013-10-17',\n",
       " '2013-10-18',\n",
       " '2013-10-21',\n",
       " '2013-10-22',\n",
       " '2013-10-23',\n",
       " '2013-10-24',\n",
       " '2013-10-25',\n",
       " '2013-10-28',\n",
       " '2013-10-29',\n",
       " '2013-10-30',\n",
       " '2013-10-31',\n",
       " '2013-11-01',\n",
       " '2013-11-04',\n",
       " '2013-11-05',\n",
       " '2013-11-06',\n",
       " '2013-11-07',\n",
       " '2013-11-08',\n",
       " '2013-11-11',\n",
       " '2013-11-12',\n",
       " '2013-11-13',\n",
       " '2013-11-14',\n",
       " '2013-11-15',\n",
       " '2013-11-18',\n",
       " '2013-11-19',\n",
       " '2013-11-20',\n",
       " '2013-11-21',\n",
       " '2013-11-22',\n",
       " '2013-11-25',\n",
       " '2013-11-26',\n",
       " '2013-11-27',\n",
       " '2013-11-29',\n",
       " '2013-12-02',\n",
       " '2013-12-03',\n",
       " '2013-12-04',\n",
       " '2013-12-05',\n",
       " '2013-12-06',\n",
       " '2013-12-09',\n",
       " '2013-12-10',\n",
       " '2013-12-11',\n",
       " '2013-12-12',\n",
       " '2013-12-13',\n",
       " '2013-12-16',\n",
       " '2013-12-17',\n",
       " '2013-12-18',\n",
       " '2013-12-19',\n",
       " '2013-12-20',\n",
       " '2013-12-23',\n",
       " '2013-12-24',\n",
       " '2013-12-26',\n",
       " '2013-12-27',\n",
       " '2013-12-30',\n",
       " '2013-12-31',\n",
       " '2014-01-02',\n",
       " '2014-01-03',\n",
       " '2014-01-06',\n",
       " '2014-01-07',\n",
       " '2014-01-08',\n",
       " '2014-01-09',\n",
       " '2014-01-10',\n",
       " '2014-01-13',\n",
       " '2014-01-14',\n",
       " '2014-01-15',\n",
       " '2014-01-16',\n",
       " '2014-01-17',\n",
       " '2014-01-21',\n",
       " '2014-01-22',\n",
       " '2014-01-23',\n",
       " '2014-01-24',\n",
       " '2014-01-27',\n",
       " '2014-01-28',\n",
       " '2014-01-29',\n",
       " '2014-01-30',\n",
       " '2014-01-31',\n",
       " '2014-02-03',\n",
       " '2014-02-04',\n",
       " '2014-02-05',\n",
       " '2014-02-06',\n",
       " '2014-02-07',\n",
       " '2014-02-10',\n",
       " '2014-02-11',\n",
       " '2014-02-12',\n",
       " '2014-02-13',\n",
       " '2014-02-14',\n",
       " '2014-02-18',\n",
       " '2014-02-19',\n",
       " '2014-02-20',\n",
       " '2014-02-21',\n",
       " '2014-02-24',\n",
       " '2014-02-25',\n",
       " '2014-02-26',\n",
       " '2014-02-27',\n",
       " '2014-02-28',\n",
       " '2014-03-03',\n",
       " '2014-03-04',\n",
       " '2014-03-05',\n",
       " '2014-03-06',\n",
       " '2014-03-07',\n",
       " '2014-03-10',\n",
       " '2014-03-11',\n",
       " '2014-03-12',\n",
       " '2014-03-13',\n",
       " '2014-03-14',\n",
       " '2014-03-17',\n",
       " '2014-03-18',\n",
       " '2014-03-19',\n",
       " '2014-03-20',\n",
       " '2014-03-21',\n",
       " '2014-03-24',\n",
       " '2014-03-25',\n",
       " '2014-03-26',\n",
       " '2014-03-27',\n",
       " '2014-03-28',\n",
       " '2014-03-31',\n",
       " '2014-04-01',\n",
       " '2014-04-02',\n",
       " '2014-04-03',\n",
       " '2014-04-04',\n",
       " '2014-04-07',\n",
       " '2014-04-08',\n",
       " '2014-04-09',\n",
       " '2014-04-10',\n",
       " '2014-04-11',\n",
       " '2014-04-14',\n",
       " '2014-04-15',\n",
       " '2014-04-16',\n",
       " '2014-04-17',\n",
       " '2014-04-21',\n",
       " '2014-04-22',\n",
       " '2014-04-23',\n",
       " '2014-04-24',\n",
       " '2014-04-25',\n",
       " '2014-04-28',\n",
       " '2014-04-29',\n",
       " '2014-04-30',\n",
       " '2014-05-01',\n",
       " '2014-05-02',\n",
       " '2014-05-05',\n",
       " '2014-05-06',\n",
       " '2014-05-07',\n",
       " '2014-05-08',\n",
       " '2014-05-09',\n",
       " '2014-05-12',\n",
       " '2014-05-13',\n",
       " '2014-05-14',\n",
       " '2014-05-15',\n",
       " '2014-05-16',\n",
       " '2014-05-19',\n",
       " '2014-05-20',\n",
       " '2014-05-21',\n",
       " '2014-05-22',\n",
       " '2014-05-23',\n",
       " '2014-05-27',\n",
       " '2014-05-28',\n",
       " '2014-05-29',\n",
       " '2014-05-30',\n",
       " '2014-06-02',\n",
       " '2014-06-03',\n",
       " '2014-06-04',\n",
       " '2014-06-05',\n",
       " '2014-06-06',\n",
       " '2014-06-09',\n",
       " '2014-06-10',\n",
       " '2014-06-11',\n",
       " '2014-06-12',\n",
       " '2014-06-13',\n",
       " '2014-06-16',\n",
       " '2014-06-17',\n",
       " '2014-06-18',\n",
       " '2014-06-19',\n",
       " '2014-06-20',\n",
       " '2014-06-23',\n",
       " '2014-06-24',\n",
       " '2014-06-25',\n",
       " '2014-06-26',\n",
       " '2014-06-27',\n",
       " '2014-06-30',\n",
       " '2014-07-01',\n",
       " '2014-07-02',\n",
       " '2014-07-03',\n",
       " '2014-07-07',\n",
       " '2014-07-08',\n",
       " '2014-07-09',\n",
       " '2014-07-10',\n",
       " '2014-07-11',\n",
       " '2014-07-14',\n",
       " '2014-07-15',\n",
       " '2014-07-16',\n",
       " '2014-07-17',\n",
       " '2014-07-18',\n",
       " '2014-07-21',\n",
       " '2014-07-22',\n",
       " '2014-07-23',\n",
       " '2014-07-24',\n",
       " '2014-07-25',\n",
       " '2014-07-28',\n",
       " '2014-07-29',\n",
       " '2014-07-30',\n",
       " '2014-07-31',\n",
       " '2014-08-01',\n",
       " '2014-08-04',\n",
       " '2014-08-05',\n",
       " '2014-08-06',\n",
       " '2014-08-07',\n",
       " '2014-08-08',\n",
       " '2014-08-11',\n",
       " '2014-08-12',\n",
       " '2014-08-13',\n",
       " '2014-08-14',\n",
       " '2014-08-15',\n",
       " '2014-08-18',\n",
       " '2014-08-19',\n",
       " '2014-08-20',\n",
       " '2014-08-21',\n",
       " '2014-08-22',\n",
       " '2014-08-25',\n",
       " '2014-08-26',\n",
       " '2014-08-27',\n",
       " '2014-08-28',\n",
       " '2014-08-29',\n",
       " '2014-09-02',\n",
       " '2014-09-03',\n",
       " '2014-09-04',\n",
       " '2014-09-05',\n",
       " '2014-09-08',\n",
       " '2014-09-09',\n",
       " '2014-09-10',\n",
       " '2014-09-11',\n",
       " '2014-09-12',\n",
       " '2014-09-15',\n",
       " '2014-09-16',\n",
       " '2014-09-17',\n",
       " '2014-09-18',\n",
       " '2014-09-19',\n",
       " '2014-09-22',\n",
       " '2014-09-23',\n",
       " '2014-09-24',\n",
       " '2014-09-25',\n",
       " '2014-09-26',\n",
       " '2014-09-29',\n",
       " '2014-09-30',\n",
       " '2014-10-01',\n",
       " '2014-10-02',\n",
       " '2014-10-03',\n",
       " '2014-10-06',\n",
       " '2014-10-07',\n",
       " '2014-10-08',\n",
       " '2014-10-09',\n",
       " '2014-10-10',\n",
       " '2014-10-13',\n",
       " '2014-10-14',\n",
       " '2014-10-15',\n",
       " '2014-10-16',\n",
       " '2014-10-17',\n",
       " '2014-10-20',\n",
       " '2014-10-21',\n",
       " '2014-10-22',\n",
       " '2014-10-23',\n",
       " '2014-10-24',\n",
       " '2014-10-27',\n",
       " '2014-10-28',\n",
       " '2014-10-29',\n",
       " '2014-10-30',\n",
       " '2014-10-31',\n",
       " '2014-11-03',\n",
       " '2014-11-04',\n",
       " '2014-11-05',\n",
       " '2014-11-06',\n",
       " '2014-11-07',\n",
       " '2014-11-10',\n",
       " '2014-11-11',\n",
       " '2014-11-12',\n",
       " '2014-11-13',\n",
       " '2014-11-14',\n",
       " '2014-11-17',\n",
       " '2014-11-18',\n",
       " '2014-11-19',\n",
       " '2014-11-20',\n",
       " '2014-11-21',\n",
       " '2014-11-24',\n",
       " '2014-11-25',\n",
       " '2014-11-26',\n",
       " '2014-11-28',\n",
       " '2014-12-01',\n",
       " '2014-12-02',\n",
       " '2014-12-03',\n",
       " '2014-12-04',\n",
       " '2014-12-05',\n",
       " '2014-12-08',\n",
       " '2014-12-09',\n",
       " '2014-12-10',\n",
       " '2014-12-11',\n",
       " '2014-12-12',\n",
       " '2014-12-15',\n",
       " '2014-12-16',\n",
       " '2014-12-17',\n",
       " '2014-12-18',\n",
       " '2014-12-19',\n",
       " '2014-12-22',\n",
       " '2014-12-23',\n",
       " '2014-12-24',\n",
       " '2014-12-26',\n",
       " '2014-12-29',\n",
       " '2014-12-30',\n",
       " '2014-12-31',\n",
       " '2015-01-02',\n",
       " '2015-01-05',\n",
       " '2015-01-06',\n",
       " '2015-01-07',\n",
       " '2015-01-08',\n",
       " '2015-01-09',\n",
       " '2015-01-12',\n",
       " '2015-01-13',\n",
       " '2015-01-14',\n",
       " '2015-01-15',\n",
       " '2015-01-16',\n",
       " '2015-01-20',\n",
       " '2015-01-21',\n",
       " '2015-01-22',\n",
       " '2015-01-23',\n",
       " '2015-01-26',\n",
       " '2015-01-27',\n",
       " '2015-01-28',\n",
       " '2015-01-29',\n",
       " '2015-01-30',\n",
       " '2015-02-02',\n",
       " '2015-02-03',\n",
       " '2015-02-04',\n",
       " '2015-02-05',\n",
       " '2015-02-06',\n",
       " '2015-02-09',\n",
       " '2015-02-10',\n",
       " '2015-02-11',\n",
       " '2015-02-12',\n",
       " '2015-02-13',\n",
       " '2015-02-17',\n",
       " '2015-02-18',\n",
       " '2015-02-19',\n",
       " '2015-02-20',\n",
       " '2015-02-23',\n",
       " '2015-02-24',\n",
       " '2015-02-25',\n",
       " '2015-02-26',\n",
       " '2015-02-27',\n",
       " '2015-03-02',\n",
       " '2015-03-03',\n",
       " '2015-03-04',\n",
       " '2015-03-05',\n",
       " '2015-03-06',\n",
       " '2015-03-09',\n",
       " '2015-03-10',\n",
       " '2015-03-11',\n",
       " '2015-03-12',\n",
       " '2015-03-13',\n",
       " '2015-03-16',\n",
       " '2015-03-17',\n",
       " '2015-03-18',\n",
       " '2015-03-19',\n",
       " '2015-03-20',\n",
       " '2015-03-23',\n",
       " '2015-03-24',\n",
       " '2015-03-25',\n",
       " '2015-03-26',\n",
       " '2015-03-27',\n",
       " '2015-03-30',\n",
       " '2015-03-31',\n",
       " '2015-04-01',\n",
       " '2015-04-02',\n",
       " '2015-04-06',\n",
       " '2015-04-07',\n",
       " '2015-04-08',\n",
       " '2015-04-09',\n",
       " '2015-04-10',\n",
       " '2015-04-13',\n",
       " '2015-04-14',\n",
       " '2015-04-15',\n",
       " '2015-04-16',\n",
       " '2015-04-17',\n",
       " '2015-04-20',\n",
       " '2015-04-21',\n",
       " '2015-04-22',\n",
       " '2015-04-23',\n",
       " '2015-04-24',\n",
       " '2015-04-27',\n",
       " '2015-04-28',\n",
       " '2015-04-29',\n",
       " '2015-04-30',\n",
       " '2015-05-01',\n",
       " '2015-05-04',\n",
       " '2015-05-05',\n",
       " '2015-05-06',\n",
       " '2015-05-07',\n",
       " '2015-05-08',\n",
       " '2015-05-11',\n",
       " '2015-05-12',\n",
       " '2015-05-13',\n",
       " '2015-05-14',\n",
       " '2015-05-15',\n",
       " '2015-05-18',\n",
       " '2015-05-19',\n",
       " '2015-05-20',\n",
       " '2015-05-21',\n",
       " '2015-05-22',\n",
       " '2015-05-26',\n",
       " '2015-05-27',\n",
       " '2015-05-28',\n",
       " '2015-05-29',\n",
       " '2015-06-01',\n",
       " '2015-06-02',\n",
       " '2015-06-03',\n",
       " '2015-06-04',\n",
       " '2015-06-05',\n",
       " '2015-06-08',\n",
       " '2015-06-09',\n",
       " '2015-06-10',\n",
       " '2015-06-11',\n",
       " '2015-06-12',\n",
       " '2015-06-15',\n",
       " '2015-06-16',\n",
       " '2015-06-17',\n",
       " '2015-06-18',\n",
       " '2015-06-19',\n",
       " '2015-06-22',\n",
       " '2015-06-23',\n",
       " '2015-06-24',\n",
       " '2015-06-25',\n",
       " '2015-06-26',\n",
       " '2015-06-29',\n",
       " '2015-06-30',\n",
       " '2015-07-01',\n",
       " '2015-07-02',\n",
       " '2015-07-06',\n",
       " '2015-07-07',\n",
       " '2015-07-08',\n",
       " '2015-07-09',\n",
       " '2015-07-10',\n",
       " '2015-07-13',\n",
       " '2015-07-14',\n",
       " '2015-07-15',\n",
       " '2015-07-16',\n",
       " '2015-07-17',\n",
       " '2015-07-20',\n",
       " '2015-07-21',\n",
       " '2015-07-22',\n",
       " '2015-07-23',\n",
       " '2015-07-24',\n",
       " '2015-07-27',\n",
       " '2015-07-28',\n",
       " '2015-07-29',\n",
       " '2015-07-30',\n",
       " '2015-07-31',\n",
       " '2015-08-03',\n",
       " '2015-08-04',\n",
       " '2015-08-05',\n",
       " '2015-08-06',\n",
       " '2015-08-07',\n",
       " '2015-08-10',\n",
       " '2015-08-11',\n",
       " '2015-08-12',\n",
       " '2015-08-13',\n",
       " '2015-08-14',\n",
       " '2015-08-17',\n",
       " '2015-08-18',\n",
       " '2015-08-19',\n",
       " '2015-08-20',\n",
       " '2015-08-21',\n",
       " '2015-08-24',\n",
       " '2015-08-25',\n",
       " '2015-08-26',\n",
       " '2015-08-27',\n",
       " '2015-08-28',\n",
       " '2015-08-31',\n",
       " '2015-09-01',\n",
       " '2015-09-02',\n",
       " '2015-09-03',\n",
       " '2015-09-04',\n",
       " '2015-09-08',\n",
       " '2015-09-09',\n",
       " '2015-09-10',\n",
       " '2015-09-11',\n",
       " '2015-09-14',\n",
       " '2015-09-15',\n",
       " '2015-09-16',\n",
       " '2015-09-17',\n",
       " '2015-09-18',\n",
       " '2015-09-21',\n",
       " '2015-09-22',\n",
       " '2015-09-23',\n",
       " '2015-09-24',\n",
       " '2015-09-25',\n",
       " '2015-09-28',\n",
       " '2015-09-29',\n",
       " '2015-09-30',\n",
       " '2015-10-01',\n",
       " '2015-10-02',\n",
       " '2015-10-05',\n",
       " '2015-10-06',\n",
       " '2015-10-07',\n",
       " '2015-10-08',\n",
       " '2015-10-09',\n",
       " '2015-10-12',\n",
       " '2015-10-13',\n",
       " '2015-10-14',\n",
       " '2015-10-15',\n",
       " '2015-10-16',\n",
       " '2015-10-19',\n",
       " '2015-10-20',\n",
       " '2015-10-21',\n",
       " '2015-10-22',\n",
       " '2015-10-23',\n",
       " '2015-10-26',\n",
       " '2015-10-27',\n",
       " '2015-10-28',\n",
       " '2015-10-29',\n",
       " '2015-10-30',\n",
       " '2015-11-02',\n",
       " '2015-11-03',\n",
       " '2015-11-04',\n",
       " '2015-11-05',\n",
       " '2015-11-06',\n",
       " '2015-11-09',\n",
       " '2015-11-10',\n",
       " '2015-11-11',\n",
       " '2015-11-12',\n",
       " '2015-11-13',\n",
       " '2015-11-16',\n",
       " '2015-11-17',\n",
       " '2015-11-18',\n",
       " '2015-11-19',\n",
       " '2015-11-20',\n",
       " '2015-11-23',\n",
       " '2015-11-24',\n",
       " '2015-11-25',\n",
       " '2015-11-27',\n",
       " '2015-11-30',\n",
       " '2015-12-01',\n",
       " '2015-12-02',\n",
       " '2015-12-03',\n",
       " '2015-12-04',\n",
       " '2015-12-07',\n",
       " '2015-12-08',\n",
       " '2015-12-09',\n",
       " '2015-12-10',\n",
       " '2015-12-11',\n",
       " '2015-12-14',\n",
       " '2015-12-15',\n",
       " '2015-12-16',\n",
       " '2015-12-17',\n",
       " '2015-12-18',\n",
       " '2015-12-21',\n",
       " '2015-12-22',\n",
       " '2015-12-23',\n",
       " '2015-12-24',\n",
       " '2015-12-28',\n",
       " '2015-12-29',\n",
       " '2015-12-30',\n",
       " '2015-12-31',\n",
       " '2016-01-04',\n",
       " '2016-01-05',\n",
       " '2016-01-06',\n",
       " '2016-01-07',\n",
       " '2016-01-08',\n",
       " '2016-01-11',\n",
       " '2016-01-12',\n",
       " '2016-01-13',\n",
       " '2016-01-14',\n",
       " '2016-01-15',\n",
       " '2016-01-19',\n",
       " '2016-01-20',\n",
       " '2016-01-21',\n",
       " '2016-01-22',\n",
       " '2016-01-25',\n",
       " '2016-01-26',\n",
       " '2016-01-27']"
      ]
     },
     "execution_count": 16,
     "metadata": {},
     "output_type": "execute_result"
    }
   ],
   "source": [
    "dates"
   ]
  },
  {
   "cell_type": "code",
   "execution_count": 17,
   "metadata": {
    "colab": {},
    "colab_type": "code",
    "id": "_l2WMOTaFEy2",
    "outputId": "b32b342f-1847-4222-a1fd-27d3fd2b5610"
   },
   "outputs": [
    {
     "data": {
      "text/plain": [
       "'2012-12-31'"
      ]
     },
     "execution_count": 17,
     "metadata": {},
     "output_type": "execute_result"
    }
   ],
   "source": [
    "dates[0]"
   ]
  },
  {
   "cell_type": "code",
   "execution_count": 18,
   "metadata": {
    "colab": {},
    "colab_type": "code",
    "id": "7ZKRHQaBFEy5",
    "outputId": "9e97f5c5-f533-44f7-a812-9c24f74c3d28"
   },
   "outputs": [
    {
     "data": {
      "text/plain": [
       "'2016-01-27'"
      ]
     },
     "execution_count": 18,
     "metadata": {},
     "output_type": "execute_result"
    }
   ],
   "source": [
    "dates[-1]"
   ]
  },
  {
   "cell_type": "code",
   "execution_count": 19,
   "metadata": {
    "colab": {},
    "colab_type": "code",
    "hideCode": false,
    "hidePrompt": false,
    "id": "ZoLUx_UbFEy7",
    "outputId": "68c92ff9-d7e5-4e26-ed72-6df1015351b2"
   },
   "outputs": [
    {
     "data": {
      "text/plain": [
       "datetime.timedelta(1122)"
      ]
     },
     "execution_count": 19,
     "metadata": {},
     "output_type": "execute_result"
    }
   ],
   "source": [
    "(parse(dates[-1]) - parse(dates[0]))"
   ]
  },
  {
   "cell_type": "markdown",
   "metadata": {
    "colab_type": "text",
    "hideCode": false,
    "hidePrompt": false,
    "id": "UCdeZHKIFEy9"
   },
   "source": [
    "Timedelta objects specify days and seconds. The time period in our file is 3662 days. We can also output that number as an integer for further use:"
   ]
  },
  {
   "cell_type": "code",
   "execution_count": 20,
   "metadata": {
    "colab": {},
    "colab_type": "code",
    "hideCode": false,
    "hidePrompt": false,
    "id": "N8JuoB10FEy-",
    "outputId": "998f182f-1153-4240-d0e6-9e60b4689cb7"
   },
   "outputs": [
    {
     "data": {
      "text/plain": [
       "1122"
      ]
     },
     "execution_count": 20,
     "metadata": {},
     "output_type": "execute_result"
    }
   ],
   "source": [
    "# The exact number of days\n",
    "(parse(dates[-1]) - parse(dates[0])).days"
   ]
  },
  {
   "cell_type": "code",
   "execution_count": 21,
   "metadata": {
    "colab": {},
    "colab_type": "code",
    "hideCode": false,
    "hidePrompt": false,
    "id": "804I9kU4FEzB",
    "outputId": "6342edfc-337c-4d5e-ac7c-dcf2dd9c2385"
   },
   "outputs": [
    {
     "data": {
      "text/plain": [
       "96940800.0"
      ]
     },
     "execution_count": 21,
     "metadata": {},
     "output_type": "execute_result"
    }
   ],
   "source": [
    "# Let's go a bit crazy:\n",
    "(parse(dates[-1]) - parse(dates[0])).total_seconds()"
   ]
  },
  {
   "cell_type": "markdown",
   "metadata": {
    "colab_type": "text",
    "hideCode": false,
    "hidePrompt": false,
    "id": "PRmVjoI2FEzD"
   },
   "source": [
    "There are other ways to generate a datetime object. Sometimes we need them as our parser is quite slow because it has to figure out what format our date string is in. Alternatively, we can split up our date string into integer numbers and feed them into datetime:"
   ]
  },
  {
   "cell_type": "code",
   "execution_count": 22,
   "metadata": {
    "colab": {},
    "colab_type": "code",
    "hideCode": false,
    "hidePrompt": false,
    "id": "wCjHKV04FEzE",
    "outputId": "cb65d16f-0f87-441a-9fb7-0a252d133feb"
   },
   "outputs": [
    {
     "data": {
      "text/plain": [
       "datetime.datetime(2012, 12, 31, 0, 0)"
      ]
     },
     "execution_count": 22,
     "metadata": {},
     "output_type": "execute_result"
    }
   ],
   "source": [
    "# Much faster but more complicated than the dateutil parser.\n",
    "ns = dates[0].split('-')\n",
    "datetime(int(ns[0]),int(ns[1]),int(ns[2]))"
   ]
  },
  {
   "cell_type": "markdown",
   "metadata": {
    "colab_type": "text",
    "hideCode": false,
    "hidePrompt": false,
    "id": "ulzgaK9dFEzG"
   },
   "source": [
    "If we deal with multiple international exchanges it is always a good idea to convert all the times into universal time (UTC), which is the Greenwich mean time (London) without the daylight saving."
   ]
  },
  {
   "cell_type": "code",
   "execution_count": 23,
   "metadata": {
    "colab": {},
    "colab_type": "code",
    "id": "yjp4aCy1FEzH",
    "outputId": "114d9578-ec0e-4351-829d-879beccf5131"
   },
   "outputs": [
    {
     "data": {
      "text/plain": [
       "['2012', '12', '31']"
      ]
     },
     "execution_count": 23,
     "metadata": {},
     "output_type": "execute_result"
    }
   ],
   "source": [
    "ns"
   ]
  },
  {
   "cell_type": "code",
   "execution_count": 24,
   "metadata": {
    "colab": {},
    "colab_type": "code",
    "id": "P5kd7FEwFEzJ"
   },
   "outputs": [],
   "source": [
    "import pytz"
   ]
  },
  {
   "cell_type": "code",
   "execution_count": 25,
   "metadata": {
    "colab": {},
    "colab_type": "code",
    "hideCode": false,
    "hidePrompt": false,
    "id": "GbllW-7jFEzL",
    "outputId": "08aafa14-7848-4dd8-b702-7d9a4d21f0e2"
   },
   "outputs": [
    {
     "data": {
      "text/plain": [
       "datetime.datetime(2012, 12, 31, 0, 0, tzinfo=<UTC>)"
      ]
     },
     "execution_count": 25,
     "metadata": {},
     "output_type": "execute_result"
    }
   ],
   "source": [
    "datetime(int(ns[0]), int(ns[1]), int(ns[2]), tzinfo=pytz.utc)"
   ]
  },
  {
   "cell_type": "code",
   "execution_count": 26,
   "metadata": {
    "colab": {},
    "colab_type": "code",
    "hideCode": false,
    "hidePrompt": false,
    "id": "iUiNBu5eFEzN",
    "outputId": "2a2b07db-e97c-46ba-ad07-2a10f0d69227"
   },
   "outputs": [
    {
     "data": {
      "text/plain": [
       "datetime.datetime(2020, 2, 29, 3, 59, 38, 941021, tzinfo=<UTC>)"
      ]
     },
     "execution_count": 26,
     "metadata": {},
     "output_type": "execute_result"
    }
   ],
   "source": [
    "datetime.now(pytz.timezone('UTC'))"
   ]
  },
  {
   "cell_type": "code",
   "execution_count": 27,
   "metadata": {
    "colab": {},
    "colab_type": "code",
    "id": "Blfrf6hSFEzQ",
    "outputId": "fa5b4367-736a-4fd4-86ea-06ec41725b0b"
   },
   "outputs": [
    {
     "data": {
      "text/plain": [
       "datetime.datetime(2020, 2, 29, 14, 59, 38, 945724)"
      ]
     },
     "execution_count": 27,
     "metadata": {},
     "output_type": "execute_result"
    }
   ],
   "source": [
    "datetime.now()"
   ]
  },
  {
   "cell_type": "markdown",
   "metadata": {
    "colab_type": "text",
    "hideCode": false,
    "hidePrompt": false,
    "id": "GiL22dInFEzT"
   },
   "source": [
    "To be honest, the standard timezone handling in Python is pretty average. There is a package called delorean (remember the movie \"Back to the Future\") that makes it much simpler.\n",
    "\n",
    "http://delorean.readthedocs.io/en/latest/quickstart.html"
   ]
  },
  {
   "cell_type": "code",
   "execution_count": 28,
   "metadata": {
    "colab": {},
    "colab_type": "code",
    "id": "3Cohei97FEzU"
   },
   "outputs": [],
   "source": [
    "from delorean import Delorean"
   ]
  },
  {
   "cell_type": "code",
   "execution_count": 29,
   "metadata": {
    "colab": {},
    "colab_type": "code",
    "id": "1i-RzdByFEzX",
    "outputId": "9a6f7e12-3145-4a2c-830b-fad176d3ac7a"
   },
   "outputs": [
    {
     "data": {
      "text/plain": [
       "Delorean(datetime=datetime.datetime(2019, 12, 1, 0, 0), timezone='Australia/Sydney')"
      ]
     },
     "execution_count": 29,
     "metadata": {},
     "output_type": "execute_result"
    }
   ],
   "source": [
    "d1 = Delorean(datetime(2019, 12, 1), timezone='Australia/Sydney')\n",
    "d1"
   ]
  },
  {
   "cell_type": "markdown",
   "metadata": {
    "colab_type": "text",
    "hideCode": false,
    "hidePrompt": false,
    "id": "-ziJSqXYFEzZ"
   },
   "source": [
    "We now look at what time it is currently in the US/Eastern timezone"
   ]
  },
  {
   "cell_type": "code",
   "execution_count": 30,
   "metadata": {
    "colab": {},
    "colab_type": "code",
    "hideCode": false,
    "hidePrompt": false,
    "id": "v7OMs_gEFEza",
    "outputId": "1bda22df-4aa6-45db-ab1a-1b59ca913b08"
   },
   "outputs": [
    {
     "data": {
      "text/plain": [
       "'2019-11-30 08:00:00-05:00'"
      ]
     },
     "execution_count": 30,
     "metadata": {},
     "output_type": "execute_result"
    }
   ],
   "source": [
    "# Convert the datetime to US/Eastern timezone\n",
    "d1 = d1.shift(\"US/Eastern\")\n",
    "\n",
    "# Convert to string \n",
    "str(d1.datetime)"
   ]
  },
  {
   "cell_type": "markdown",
   "metadata": {
    "colab_type": "text",
    "hideCode": false,
    "hidePrompt": false,
    "id": "fByDLge2FEzd"
   },
   "source": [
    "If we subtract the different times from the two timezones we should get zero time difference:"
   ]
  },
  {
   "cell_type": "code",
   "execution_count": 31,
   "metadata": {
    "colab": {},
    "colab_type": "code",
    "hideCode": false,
    "hidePrompt": false,
    "id": "xuGDuwoZFEze",
    "outputId": "52a63337-9b86-472b-e75b-3701425e82bd"
   },
   "outputs": [
    {
     "data": {
      "text/plain": [
       "datetime.timedelta(0)"
      ]
     },
     "execution_count": 31,
     "metadata": {},
     "output_type": "execute_result"
    }
   ],
   "source": [
    "# Time arithmetic: difference between different time zones\n",
    "d1.datetime - d1.shift(\"US/Eastern\").datetime"
   ]
  },
  {
   "cell_type": "markdown",
   "metadata": {
    "colab_type": "text",
    "hideCode": false,
    "hidePrompt": false,
    "id": "pu88ul3xFEzg"
   },
   "source": [
    "For very fast applications it is recommended to use the so-called __Unix timestamp__. Linux time is the number of seconds since the first of Jan 1970 in UTC. This is just a float number and much faster to process than a time stamp, but less descriptive. We simply get Linux time like this:"
   ]
  },
  {
   "cell_type": "code",
   "execution_count": 32,
   "metadata": {
    "colab": {},
    "colab_type": "code",
    "id": "xUiR8eeBFEzg",
    "outputId": "e7f6947f-b007-47a1-87ad-2a9e98dd22f6"
   },
   "outputs": [
    {
     "data": {
      "text/plain": [
       "'2019-11-30 08:00:00-05:00'"
      ]
     },
     "execution_count": 32,
     "metadata": {},
     "output_type": "execute_result"
    }
   ],
   "source": [
    "str(d1.datetime)"
   ]
  },
  {
   "cell_type": "code",
   "execution_count": 33,
   "metadata": {
    "colab": {},
    "colab_type": "code",
    "id": "NETFYLB9FEzi",
    "outputId": "01cdb0af-fe91-4081-a8d7-19ff320f5be0"
   },
   "outputs": [
    {
     "data": {
      "text/plain": [
       "1575118800.0"
      ]
     },
     "execution_count": 33,
     "metadata": {},
     "output_type": "execute_result"
    }
   ],
   "source": [
    "d1.epoch"
   ]
  },
  {
   "cell_type": "code",
   "execution_count": 34,
   "metadata": {
    "colab": {},
    "colab_type": "code",
    "hideCode": false,
    "hidePrompt": false,
    "id": "U7vkEYxOFEzk"
   },
   "outputs": [],
   "source": [
    "timestmp = d1.epoch"
   ]
  },
  {
   "cell_type": "code",
   "execution_count": 35,
   "metadata": {
    "colab": {},
    "colab_type": "code",
    "id": "1TmSrn9UFEzn",
    "outputId": "25de18d8-2e0d-4bb2-878b-cb76977232e7"
   },
   "outputs": [
    {
     "data": {
      "text/plain": [
       "1575118800.0"
      ]
     },
     "execution_count": 35,
     "metadata": {},
     "output_type": "execute_result"
    }
   ],
   "source": [
    "timestmp = d1.epoch\n",
    "timestmp"
   ]
  },
  {
   "cell_type": "code",
   "execution_count": 36,
   "metadata": {
    "colab": {},
    "colab_type": "code",
    "id": "twpZslu6FEzp",
    "outputId": "49cc0ed1-66d6-40ec-ac71-8e394b263bb5"
   },
   "outputs": [
    {
     "data": {
      "text/plain": [
       "datetime.datetime(2019, 12, 1, 0, 0)"
      ]
     },
     "execution_count": 36,
     "metadata": {},
     "output_type": "execute_result"
    }
   ],
   "source": [
    "datetime.fromtimestamp(timestmp)"
   ]
  },
  {
   "cell_type": "code",
   "execution_count": 37,
   "metadata": {
    "colab": {},
    "colab_type": "code",
    "id": "ZCdDM_IwFEzr",
    "outputId": "65089e7f-b143-486a-fd2f-d1ec4733eb81"
   },
   "outputs": [
    {
     "data": {
      "text/plain": [
       "datetime.datetime(2020, 2, 29, 14, 59, 39, 22013)"
      ]
     },
     "execution_count": 37,
     "metadata": {},
     "output_type": "execute_result"
    }
   ],
   "source": [
    "now = datetime.now()\n",
    "now"
   ]
  },
  {
   "cell_type": "code",
   "execution_count": 38,
   "metadata": {
    "colab": {},
    "colab_type": "code",
    "id": "FUUE0o2ZFEzs",
    "outputId": "f5415127-d05a-46d6-c741-66bdc149451f"
   },
   "outputs": [
    {
     "data": {
      "text/plain": [
       "1582948779.022013"
      ]
     },
     "execution_count": 38,
     "metadata": {},
     "output_type": "execute_result"
    }
   ],
   "source": [
    "timestamp_now = datetime.timestamp(now)\n",
    "timestamp_now"
   ]
  },
  {
   "cell_type": "markdown",
   "metadata": {
    "colab_type": "text",
    "hideCode": false,
    "hidePrompt": false,
    "id": "LYp0i1PUFEzv"
   },
   "source": [
    "The choice of formats always depends on the individual application."
   ]
  },
  {
   "cell_type": "markdown",
   "metadata": {
    "colab_type": "text",
    "hideCode": false,
    "hidePrompt": false,
    "id": "djjOJuhAFEzy"
   },
   "source": [
    "## 4.3 Calculating returns"
   ]
  },
  {
   "cell_type": "code",
   "execution_count": 39,
   "metadata": {
    "colab": {},
    "colab_type": "code",
    "id": "8HtA8yhQFEzy"
   },
   "outputs": [],
   "source": [
    "import pandas as pd\n",
    "import numpy as np"
   ]
  },
  {
   "cell_type": "code",
   "execution_count": 40,
   "metadata": {
    "colab": {},
    "colab_type": "code",
    "id": "ByBbZJ3XFEz0",
    "outputId": "ea179c50-57b8-4333-aa4c-be701ca587f9"
   },
   "outputs": [
    {
     "data": {
      "text/html": [
       "<div>\n",
       "<style scoped>\n",
       "    .dataframe tbody tr th:only-of-type {\n",
       "        vertical-align: middle;\n",
       "    }\n",
       "\n",
       "    .dataframe tbody tr th {\n",
       "        vertical-align: top;\n",
       "    }\n",
       "\n",
       "    .dataframe thead th {\n",
       "        text-align: right;\n",
       "    }\n",
       "</style>\n",
       "<table border=\"1\" class=\"dataframe\">\n",
       "  <thead>\n",
       "    <tr style=\"text-align: right;\">\n",
       "      <th></th>\n",
       "      <th>High</th>\n",
       "      <th>Low</th>\n",
       "      <th>Open</th>\n",
       "      <th>Close</th>\n",
       "      <th>Volume</th>\n",
       "      <th>Adj Close</th>\n",
       "    </tr>\n",
       "    <tr>\n",
       "      <th>Date</th>\n",
       "      <th></th>\n",
       "      <th></th>\n",
       "      <th></th>\n",
       "      <th></th>\n",
       "      <th></th>\n",
       "      <th></th>\n",
       "    </tr>\n",
       "  </thead>\n",
       "  <tbody>\n",
       "    <tr>\n",
       "      <th>2012-12-31</th>\n",
       "      <td>355.640656</td>\n",
       "      <td>348.348358</td>\n",
       "      <td>350.350342</td>\n",
       "      <td>354.044037</td>\n",
       "      <td>3990800.0</td>\n",
       "      <td>354.044037</td>\n",
       "    </tr>\n",
       "    <tr>\n",
       "      <th>2013-01-02</th>\n",
       "      <td>363.863861</td>\n",
       "      <td>358.633636</td>\n",
       "      <td>360.070068</td>\n",
       "      <td>361.987000</td>\n",
       "      <td>5077500.0</td>\n",
       "      <td>361.987000</td>\n",
       "    </tr>\n",
       "    <tr>\n",
       "      <th>2013-01-03</th>\n",
       "      <td>366.331329</td>\n",
       "      <td>360.720734</td>\n",
       "      <td>362.827820</td>\n",
       "      <td>362.197205</td>\n",
       "      <td>4631700.0</td>\n",
       "      <td>362.197205</td>\n",
       "    </tr>\n",
       "    <tr>\n",
       "      <th>2013-01-04</th>\n",
       "      <td>371.106110</td>\n",
       "      <td>364.204193</td>\n",
       "      <td>365.035034</td>\n",
       "      <td>369.354340</td>\n",
       "      <td>5521400.0</td>\n",
       "      <td>369.354340</td>\n",
       "    </tr>\n",
       "    <tr>\n",
       "      <th>2013-01-07</th>\n",
       "      <td>370.060059</td>\n",
       "      <td>365.655670</td>\n",
       "      <td>368.093079</td>\n",
       "      <td>367.742737</td>\n",
       "      <td>3308000.0</td>\n",
       "      <td>367.742737</td>\n",
       "    </tr>\n",
       "  </tbody>\n",
       "</table>\n",
       "</div>"
      ],
      "text/plain": [
       "                  High         Low        Open       Close     Volume  \\\n",
       "Date                                                                    \n",
       "2012-12-31  355.640656  348.348358  350.350342  354.044037  3990800.0   \n",
       "2013-01-02  363.863861  358.633636  360.070068  361.987000  5077500.0   \n",
       "2013-01-03  366.331329  360.720734  362.827820  362.197205  4631700.0   \n",
       "2013-01-04  371.106110  364.204193  365.035034  369.354340  5521400.0   \n",
       "2013-01-07  370.060059  365.655670  368.093079  367.742737  3308000.0   \n",
       "\n",
       "             Adj Close  \n",
       "Date                    \n",
       "2012-12-31  354.044037  \n",
       "2013-01-02  361.987000  \n",
       "2013-01-03  362.197205  \n",
       "2013-01-04  369.354340  \n",
       "2013-01-07  367.742737  "
      ]
     },
     "execution_count": 40,
     "metadata": {},
     "output_type": "execute_result"
    }
   ],
   "source": [
    "data = pd.read_csv('output.csv', index_col=0, parse_dates=True)\n",
    "data.head()"
   ]
  },
  {
   "cell_type": "code",
   "execution_count": 41,
   "metadata": {
    "colab": {},
    "colab_type": "code",
    "id": "lexyssz9FEz2"
   },
   "outputs": [],
   "source": [
    "data['%_return'] = data['Close'].pct_change()"
   ]
  },
  {
   "cell_type": "code",
   "execution_count": 42,
   "metadata": {
    "colab": {},
    "colab_type": "code",
    "id": "iBqrv3OtFEz4",
    "outputId": "d117ad11-bfc8-49d5-b291-923a452e86be"
   },
   "outputs": [
    {
     "data": {
      "image/png": "[encoded data removed]",
      "text/plain": [
       "<Figure size 432x288 with 1 Axes>"
      ]
     },
     "metadata": {
      "needs_background": "light"
     },
     "output_type": "display_data"
    }
   ],
   "source": [
    "data['%_return'].plot()\n",
    "plt.title('daily percentage returns')\n",
    "plt.grid()\n",
    "plt.show()"
   ]
  },
  {
   "cell_type": "code",
   "execution_count": 43,
   "metadata": {
    "colab": {},
    "colab_type": "code",
    "id": "OfEgBgIzFEz6",
    "outputId": "7eee2f1c-7070-42ee-8ca6-1983db5673fb"
   },
   "outputs": [
    {
     "data": {
      "text/plain": [
       "Date\n",
       "2012-12-31         NaN\n",
       "2013-01-02    0.022435\n",
       "2013-01-03    0.000581\n",
       "2013-01-04    0.019760\n",
       "2013-01-07   -0.004363\n",
       "Name: %_return, dtype: float64"
      ]
     },
     "execution_count": 43,
     "metadata": {},
     "output_type": "execute_result"
    }
   ],
   "source": [
    "data['%_return'].head()"
   ]
  },
  {
   "cell_type": "code",
   "execution_count": 44,
   "metadata": {
    "colab": {},
    "colab_type": "code",
    "id": "02h_1JCsFEz9",
    "outputId": "301bac9e-7799-45a5-8105-cf8c6d3fe73d"
   },
   "outputs": [
    {
     "data": {
      "image/png": "[encoded data removed]",
      "text/plain": [
       "<Figure size 432x288 with 1 Axes>"
      ]
     },
     "metadata": {
      "needs_background": "light"
     },
     "output_type": "display_data"
    }
   ],
   "source": [
    "plt.hist(data['%_return'].dropna(), bins=40, color='g')\n",
    "plt.grid()\n",
    "plt.xlabel('daily returns')\n",
    "plt.show()"
   ]
  },
  {
   "cell_type": "code",
   "execution_count": 45,
   "metadata": {
    "colab": {},
    "colab_type": "code",
    "id": "jqoiq3uHFEz_",
    "outputId": "65dae11a-ea6e-4197-980c-37a1fe234bb1"
   },
   "outputs": [
    {
     "data": {
      "text/plain": [
       "Date\n",
       "2012-12-31    354.044037\n",
       "2013-01-31    378.223236\n",
       "2013-02-28    401.001007\n",
       "2013-03-31    397.492493\n",
       "2013-04-30    412.697693\n",
       "Freq: M, Name: Close, dtype: float64"
      ]
     },
     "execution_count": 45,
     "metadata": {},
     "output_type": "execute_result"
    }
   ],
   "source": [
    "data['Close'].resample('M').last().head()"
   ]
  },
  {
   "cell_type": "markdown",
   "metadata": {
    "colab_type": "text",
    "id": "2ZibKCMQFE0B"
   },
   "source": [
    "#### Monthly returns"
   ]
  },
  {
   "cell_type": "code",
   "execution_count": 46,
   "metadata": {
    "colab": {},
    "colab_type": "code",
    "id": "kyg97Fn8FE0C",
    "outputId": "d5cb0f84-6234-4087-e40b-4ad8790e0ece"
   },
   "outputs": [
    {
     "data": {
      "text/plain": [
       "Date\n",
       "2012-12-31    354.044037\n",
       "2013-01-31    378.223236\n",
       "2013-02-28    401.001007\n",
       "2013-03-31    397.492493\n",
       "2013-04-30    412.697693\n",
       "Freq: M, Name: Close, dtype: float64"
      ]
     },
     "execution_count": 46,
     "metadata": {},
     "output_type": "execute_result"
    }
   ],
   "source": [
    "data['Close'].resample('M').ffill().head()"
   ]
  },
  {
   "cell_type": "code",
   "execution_count": 47,
   "metadata": {
    "colab": {},
    "colab_type": "code",
    "id": "pzZtgdopFE0D",
    "outputId": "cc0763d1-caeb-4b3e-ca29-382681f6c443"
   },
   "outputs": [
    {
     "data": {
      "image/png": "[encoded data removed]",
      "text/plain": [
       "<Figure size 432x288 with 1 Axes>"
      ]
     },
     "metadata": {
      "needs_background": "light"
     },
     "output_type": "display_data"
    }
   ],
   "source": [
    "data['Close'].resample('M').ffill().pct_change().plot()\n",
    "plt.ylabel('% monthly returns')\n",
    "plt.grid()\n",
    "plt.show()"
   ]
  },
  {
   "cell_type": "code",
   "execution_count": 48,
   "metadata": {
    "colab": {},
    "colab_type": "code",
    "id": "lKH8Dk8XFE0I",
    "outputId": "adf60780-2120-4b6d-92a7-d932a0dc41dd"
   },
   "outputs": [
    {
     "data": {
      "image/png": "[encoded data removed]",
      "text/plain": [
       "<Figure size 432x288 with 1 Axes>"
      ]
     },
     "metadata": {
      "needs_background": "light"
     },
     "output_type": "display_data"
    }
   ],
   "source": [
    "# Weekly returns\n",
    "data['Close'].resample('W').ffill().pct_change().plot()\n",
    "plt.ylabel('% weekly returns')\n",
    "plt.grid()\n",
    "plt.show()"
   ]
  },
  {
   "cell_type": "markdown",
   "metadata": {
    "colab_type": "text",
    "id": "EcGLIIyEFE0L"
   },
   "source": [
    "#### Cumulative returns"
   ]
  },
  {
   "cell_type": "markdown",
   "metadata": {
    "colab_type": "text",
    "id": "1ZNTadUfFE0L"
   },
   "source": [
    "cumprod(): Return cumulative product over a DataFrame or Series axis"
   ]
  },
  {
   "cell_type": "code",
   "execution_count": 49,
   "metadata": {
    "colab": {},
    "colab_type": "code",
    "id": "p6_fQ7KqFE0M"
   },
   "outputs": [],
   "source": [
    "data['cum_return'] = (data['%_return'] + 1).cumprod()"
   ]
  },
  {
   "cell_type": "code",
   "execution_count": 50,
   "metadata": {
    "colab": {},
    "colab_type": "code",
    "id": "LDS9xqooFE0N",
    "outputId": "73716d72-480a-4a88-88a4-76a86bb34743"
   },
   "outputs": [
    {
     "data": {
      "image/png": "[encoded data removed]",
      "text/plain": [
       "<Figure size 432x288 with 1 Axes>"
      ]
     },
     "metadata": {
      "needs_background": "light"
     },
     "output_type": "display_data"
    }
   ],
   "source": [
    "data['cum_return'].plot()\n",
    "plt.title('Cumulative returns')\n",
    "plt.grid()\n",
    "plt.show()"
   ]
  },
  {
   "cell_type": "markdown",
   "metadata": {
    "colab_type": "text",
    "id": "9VMm2swIFE0P"
   },
   "source": [
    "## 4.4 Calculating volatility"
   ]
  },
  {
   "cell_type": "code",
   "execution_count": 51,
   "metadata": {
    "colab": {},
    "colab_type": "code",
    "id": "0q7oS3s8FE0Q"
   },
   "outputs": [],
   "source": [
    "data.drop(['cum_return'], axis=1, inplace=True)"
   ]
  },
  {
   "cell_type": "code",
   "execution_count": 52,
   "metadata": {
    "colab": {},
    "colab_type": "code",
    "id": "xv1Ht58nFE0R",
    "outputId": "1ae8850d-b0a1-413d-b0aa-c393a597948d"
   },
   "outputs": [
    {
     "data": {
      "text/html": [
       "<div>\n",
       "<style scoped>\n",
       "    .dataframe tbody tr th:only-of-type {\n",
       "        vertical-align: middle;\n",
       "    }\n",
       "\n",
       "    .dataframe tbody tr th {\n",
       "        vertical-align: top;\n",
       "    }\n",
       "\n",
       "    .dataframe thead th {\n",
       "        text-align: right;\n",
       "    }\n",
       "</style>\n",
       "<table border=\"1\" class=\"dataframe\">\n",
       "  <thead>\n",
       "    <tr style=\"text-align: right;\">\n",
       "      <th></th>\n",
       "      <th>High</th>\n",
       "      <th>Low</th>\n",
       "      <th>Open</th>\n",
       "      <th>Close</th>\n",
       "      <th>Volume</th>\n",
       "      <th>Adj Close</th>\n",
       "      <th>%_return</th>\n",
       "    </tr>\n",
       "    <tr>\n",
       "      <th>Date</th>\n",
       "      <th></th>\n",
       "      <th></th>\n",
       "      <th></th>\n",
       "      <th></th>\n",
       "      <th></th>\n",
       "      <th></th>\n",
       "      <th></th>\n",
       "    </tr>\n",
       "  </thead>\n",
       "  <tbody>\n",
       "    <tr>\n",
       "      <th>2012-12-31</th>\n",
       "      <td>355.640656</td>\n",
       "      <td>348.348358</td>\n",
       "      <td>350.350342</td>\n",
       "      <td>354.044037</td>\n",
       "      <td>3990800.0</td>\n",
       "      <td>354.044037</td>\n",
       "      <td>NaN</td>\n",
       "    </tr>\n",
       "    <tr>\n",
       "      <th>2013-01-02</th>\n",
       "      <td>363.863861</td>\n",
       "      <td>358.633636</td>\n",
       "      <td>360.070068</td>\n",
       "      <td>361.987000</td>\n",
       "      <td>5077500.0</td>\n",
       "      <td>361.987000</td>\n",
       "      <td>0.022435</td>\n",
       "    </tr>\n",
       "    <tr>\n",
       "      <th>2013-01-03</th>\n",
       "      <td>366.331329</td>\n",
       "      <td>360.720734</td>\n",
       "      <td>362.827820</td>\n",
       "      <td>362.197205</td>\n",
       "      <td>4631700.0</td>\n",
       "      <td>362.197205</td>\n",
       "      <td>0.000581</td>\n",
       "    </tr>\n",
       "    <tr>\n",
       "      <th>2013-01-04</th>\n",
       "      <td>371.106110</td>\n",
       "      <td>364.204193</td>\n",
       "      <td>365.035034</td>\n",
       "      <td>369.354340</td>\n",
       "      <td>5521400.0</td>\n",
       "      <td>369.354340</td>\n",
       "      <td>0.019760</td>\n",
       "    </tr>\n",
       "    <tr>\n",
       "      <th>2013-01-07</th>\n",
       "      <td>370.060059</td>\n",
       "      <td>365.655670</td>\n",
       "      <td>368.093079</td>\n",
       "      <td>367.742737</td>\n",
       "      <td>3308000.0</td>\n",
       "      <td>367.742737</td>\n",
       "      <td>-0.004363</td>\n",
       "    </tr>\n",
       "  </tbody>\n",
       "</table>\n",
       "</div>"
      ],
      "text/plain": [
       "                  High         Low        Open       Close     Volume  \\\n",
       "Date                                                                    \n",
       "2012-12-31  355.640656  348.348358  350.350342  354.044037  3990800.0   \n",
       "2013-01-02  363.863861  358.633636  360.070068  361.987000  5077500.0   \n",
       "2013-01-03  366.331329  360.720734  362.827820  362.197205  4631700.0   \n",
       "2013-01-04  371.106110  364.204193  365.035034  369.354340  5521400.0   \n",
       "2013-01-07  370.060059  365.655670  368.093079  367.742737  3308000.0   \n",
       "\n",
       "             Adj Close  %_return  \n",
       "Date                              \n",
       "2012-12-31  354.044037       NaN  \n",
       "2013-01-02  361.987000  0.022435  \n",
       "2013-01-03  362.197205  0.000581  \n",
       "2013-01-04  369.354340  0.019760  \n",
       "2013-01-07  367.742737 -0.004363  "
      ]
     },
     "execution_count": 52,
     "metadata": {},
     "output_type": "execute_result"
    }
   ],
   "source": [
    "data.head()"
   ]
  },
  {
   "cell_type": "code",
   "execution_count": 53,
   "metadata": {
    "colab": {},
    "colab_type": "code",
    "id": "ocFwddZGFE0T"
   },
   "outputs": [],
   "source": [
    "# Apply a rolling window of 10\n",
    "data['volatility'] = data['%_return'].rolling(10).std()"
   ]
  },
  {
   "cell_type": "code",
   "execution_count": 54,
   "metadata": {
    "colab": {},
    "colab_type": "code",
    "id": "2K1HoS8DFE0U",
    "outputId": "25642be1-ada1-4a0d-f785-259a18a18a19"
   },
   "outputs": [
    {
     "data": {
      "text/html": [
       "<div>\n",
       "<style scoped>\n",
       "    .dataframe tbody tr th:only-of-type {\n",
       "        vertical-align: middle;\n",
       "    }\n",
       "\n",
       "    .dataframe tbody tr th {\n",
       "        vertical-align: top;\n",
       "    }\n",
       "\n",
       "    .dataframe thead th {\n",
       "        text-align: right;\n",
       "    }\n",
       "</style>\n",
       "<table border=\"1\" class=\"dataframe\">\n",
       "  <thead>\n",
       "    <tr style=\"text-align: right;\">\n",
       "      <th></th>\n",
       "      <th>High</th>\n",
       "      <th>Low</th>\n",
       "      <th>Open</th>\n",
       "      <th>Close</th>\n",
       "      <th>Volume</th>\n",
       "      <th>Adj Close</th>\n",
       "      <th>%_return</th>\n",
       "      <th>volatility</th>\n",
       "    </tr>\n",
       "    <tr>\n",
       "      <th>Date</th>\n",
       "      <th></th>\n",
       "      <th></th>\n",
       "      <th></th>\n",
       "      <th></th>\n",
       "      <th></th>\n",
       "      <th></th>\n",
       "      <th></th>\n",
       "      <th></th>\n",
       "    </tr>\n",
       "  </thead>\n",
       "  <tbody>\n",
       "    <tr>\n",
       "      <th>2016-01-21</th>\n",
       "      <td>737.669983</td>\n",
       "      <td>711.109985</td>\n",
       "      <td>720.169983</td>\n",
       "      <td>726.669983</td>\n",
       "      <td>2596900.0</td>\n",
       "      <td>726.669983</td>\n",
       "      <td>0.011286</td>\n",
       "      <td>0.019537</td>\n",
       "    </tr>\n",
       "    <tr>\n",
       "      <th>2016-01-22</th>\n",
       "      <td>748.559998</td>\n",
       "      <td>740.500000</td>\n",
       "      <td>742.000000</td>\n",
       "      <td>745.460022</td>\n",
       "      <td>2357300.0</td>\n",
       "      <td>745.460022</td>\n",
       "      <td>0.025858</td>\n",
       "      <td>0.020256</td>\n",
       "    </tr>\n",
       "    <tr>\n",
       "      <th>2016-01-25</th>\n",
       "      <td>752.460022</td>\n",
       "      <td>732.500000</td>\n",
       "      <td>743.840027</td>\n",
       "      <td>733.619995</td>\n",
       "      <td>2267000.0</td>\n",
       "      <td>733.619995</td>\n",
       "      <td>-0.015883</td>\n",
       "      <td>0.020447</td>\n",
       "    </tr>\n",
       "    <tr>\n",
       "      <th>2016-01-26</th>\n",
       "      <td>739.460022</td>\n",
       "      <td>726.969971</td>\n",
       "      <td>735.210022</td>\n",
       "      <td>733.789978</td>\n",
       "      <td>1547000.0</td>\n",
       "      <td>733.789978</td>\n",
       "      <td>0.000232</td>\n",
       "      <td>0.020429</td>\n",
       "    </tr>\n",
       "    <tr>\n",
       "      <th>2016-01-27</th>\n",
       "      <td>735.890015</td>\n",
       "      <td>713.450012</td>\n",
       "      <td>735.890015</td>\n",
       "      <td>717.580017</td>\n",
       "      <td>2121400.0</td>\n",
       "      <td>717.580017</td>\n",
       "      <td>-0.022091</td>\n",
       "      <td>0.020644</td>\n",
       "    </tr>\n",
       "  </tbody>\n",
       "</table>\n",
       "</div>"
      ],
      "text/plain": [
       "                  High         Low        Open       Close     Volume  \\\n",
       "Date                                                                    \n",
       "2016-01-21  737.669983  711.109985  720.169983  726.669983  2596900.0   \n",
       "2016-01-22  748.559998  740.500000  742.000000  745.460022  2357300.0   \n",
       "2016-01-25  752.460022  732.500000  743.840027  733.619995  2267000.0   \n",
       "2016-01-26  739.460022  726.969971  735.210022  733.789978  1547000.0   \n",
       "2016-01-27  735.890015  713.450012  735.890015  717.580017  2121400.0   \n",
       "\n",
       "             Adj Close  %_return  volatility  \n",
       "Date                                          \n",
       "2016-01-21  726.669983  0.011286    0.019537  \n",
       "2016-01-22  745.460022  0.025858    0.020256  \n",
       "2016-01-25  733.619995 -0.015883    0.020447  \n",
       "2016-01-26  733.789978  0.000232    0.020429  \n",
       "2016-01-27  717.580017 -0.022091    0.020644  "
      ]
     },
     "execution_count": 54,
     "metadata": {},
     "output_type": "execute_result"
    }
   ],
   "source": [
    "data.tail()"
   ]
  },
  {
   "cell_type": "code",
   "execution_count": 55,
   "metadata": {
    "colab": {},
    "colab_type": "code",
    "id": "rPX7AhY7FE0W",
    "outputId": "cb1934e6-e6fa-482a-a84a-efeaf02cf103"
   },
   "outputs": [
    {
     "data": {
      "image/png": "[encoded data removed]",
      "text/plain": [
       "<Figure size 432x288 with 1 Axes>"
      ]
     },
     "metadata": {
      "needs_background": "light"
     },
     "output_type": "display_data"
    }
   ],
   "source": [
    "data['volatility'].plot()\n",
    "plt.title('Volatility')\n",
    "plt.grid()\n",
    "plt.show()"
   ]
  },
  {
   "cell_type": "code",
   "execution_count": 56,
   "metadata": {
    "colab": {},
    "colab_type": "code",
    "id": "qS8Sr4i2FE0a"
   },
   "outputs": [],
   "source": [
    "import pandas_datareader"
   ]
  },
  {
   "cell_type": "code",
   "execution_count": 57,
   "metadata": {
    "colab": {},
    "colab_type": "code",
    "id": "v8poDfdtFE0d"
   },
   "outputs": [],
   "source": [
    "# Download data for AMZN, GOOG, COST and S&P500\n",
    "mydata = pandas_datareader.get_data_yahoo(['AMZN', 'GOOG', 'COST', '^GSPC'])"
   ]
  },
  {
   "cell_type": "code",
   "execution_count": 58,
   "metadata": {
    "colab": {},
    "colab_type": "code",
    "id": "NuGNVukRFE0f",
    "outputId": "b0626b24-c5b9-486f-e3f1-a90e69449a5d"
   },
   "outputs": [
    {
     "data": {
      "text/html": [
       "<div>\n",
       "<style scoped>\n",
       "    .dataframe tbody tr th:only-of-type {\n",
       "        vertical-align: middle;\n",
       "    }\n",
       "\n",
       "    .dataframe tbody tr th {\n",
       "        vertical-align: top;\n",
       "    }\n",
       "\n",
       "    .dataframe thead tr th {\n",
       "        text-align: left;\n",
       "    }\n",
       "\n",
       "    .dataframe thead tr:last-of-type th {\n",
       "        text-align: right;\n",
       "    }\n",
       "</style>\n",
       "<table border=\"1\" class=\"dataframe\">\n",
       "  <thead>\n",
       "    <tr>\n",
       "      <th>Attributes</th>\n",
       "      <th colspan=\"4\" halign=\"left\">High</th>\n",
       "      <th colspan=\"4\" halign=\"left\">Low</th>\n",
       "      <th colspan=\"2\" halign=\"left\">Open</th>\n",
       "      <th>...</th>\n",
       "      <th colspan=\"2\" halign=\"left\">Close</th>\n",
       "      <th colspan=\"4\" halign=\"left\">Volume</th>\n",
       "      <th colspan=\"4\" halign=\"left\">Adj Close</th>\n",
       "    </tr>\n",
       "    <tr>\n",
       "      <th>Symbols</th>\n",
       "      <th>AMZN</th>\n",
       "      <th>COST</th>\n",
       "      <th>GOOG</th>\n",
       "      <th>^GSPC</th>\n",
       "      <th>AMZN</th>\n",
       "      <th>COST</th>\n",
       "      <th>GOOG</th>\n",
       "      <th>^GSPC</th>\n",
       "      <th>AMZN</th>\n",
       "      <th>COST</th>\n",
       "      <th>...</th>\n",
       "      <th>GOOG</th>\n",
       "      <th>^GSPC</th>\n",
       "      <th>AMZN</th>\n",
       "      <th>COST</th>\n",
       "      <th>GOOG</th>\n",
       "      <th>^GSPC</th>\n",
       "      <th>AMZN</th>\n",
       "      <th>COST</th>\n",
       "      <th>GOOG</th>\n",
       "      <th>^GSPC</th>\n",
       "    </tr>\n",
       "    <tr>\n",
       "      <th>Date</th>\n",
       "      <th></th>\n",
       "      <th></th>\n",
       "      <th></th>\n",
       "      <th></th>\n",
       "      <th></th>\n",
       "      <th></th>\n",
       "      <th></th>\n",
       "      <th></th>\n",
       "      <th></th>\n",
       "      <th></th>\n",
       "      <th></th>\n",
       "      <th></th>\n",
       "      <th></th>\n",
       "      <th></th>\n",
       "      <th></th>\n",
       "      <th></th>\n",
       "      <th></th>\n",
       "      <th></th>\n",
       "      <th></th>\n",
       "      <th></th>\n",
       "      <th></th>\n",
       "    </tr>\n",
       "  </thead>\n",
       "  <tbody>\n",
       "    <tr>\n",
       "      <th>2009-12-31</th>\n",
       "      <td>137.279999</td>\n",
       "      <td>60.299999</td>\n",
       "      <td>311.532288</td>\n",
       "      <td>1127.640015</td>\n",
       "      <td>134.520004</td>\n",
       "      <td>59.110001</td>\n",
       "      <td>308.832428</td>\n",
       "      <td>1114.810059</td>\n",
       "      <td>137.089996</td>\n",
       "      <td>60.240002</td>\n",
       "      <td>...</td>\n",
       "      <td>308.832428</td>\n",
       "      <td>1115.099976</td>\n",
       "      <td>4523000.0</td>\n",
       "      <td>1862900.0</td>\n",
       "      <td>2448700.0</td>\n",
       "      <td>2.076990e+09</td>\n",
       "      <td>134.520004</td>\n",
       "      <td>45.832966</td>\n",
       "      <td>308.832428</td>\n",
       "      <td>1115.099976</td>\n",
       "    </tr>\n",
       "    <tr>\n",
       "      <th>2010-01-04</th>\n",
       "      <td>136.610001</td>\n",
       "      <td>60.070000</td>\n",
       "      <td>313.579620</td>\n",
       "      <td>1133.869995</td>\n",
       "      <td>133.139999</td>\n",
       "      <td>59.130001</td>\n",
       "      <td>310.954468</td>\n",
       "      <td>1116.560059</td>\n",
       "      <td>136.250000</td>\n",
       "      <td>59.130001</td>\n",
       "      <td>...</td>\n",
       "      <td>312.204773</td>\n",
       "      <td>1132.989990</td>\n",
       "      <td>7599900.0</td>\n",
       "      <td>3280200.0</td>\n",
       "      <td>3927000.0</td>\n",
       "      <td>3.991400e+09</td>\n",
       "      <td>133.899994</td>\n",
       "      <td>46.018879</td>\n",
       "      <td>312.204773</td>\n",
       "      <td>1132.989990</td>\n",
       "    </tr>\n",
       "  </tbody>\n",
       "</table>\n",
       "<p>2 rows × 24 columns</p>\n",
       "</div>"
      ],
      "text/plain": [
       "Attributes        High                                             Low  \\\n",
       "Symbols           AMZN       COST        GOOG        ^GSPC        AMZN   \n",
       "Date                                                                     \n",
       "2009-12-31  137.279999  60.299999  311.532288  1127.640015  134.520004   \n",
       "2010-01-04  136.610001  60.070000  313.579620  1133.869995  133.139999   \n",
       "\n",
       "Attributes                                            Open             ...  \\\n",
       "Symbols          COST        GOOG        ^GSPC        AMZN       COST  ...   \n",
       "Date                                                                   ...   \n",
       "2009-12-31  59.110001  308.832428  1114.810059  137.089996  60.240002  ...   \n",
       "2010-01-04  59.130001  310.954468  1116.560059  136.250000  59.130001  ...   \n",
       "\n",
       "Attributes       Close                  Volume                        \\\n",
       "Symbols           GOOG        ^GSPC       AMZN       COST       GOOG   \n",
       "Date                                                                   \n",
       "2009-12-31  308.832428  1115.099976  4523000.0  1862900.0  2448700.0   \n",
       "2010-01-04  312.204773  1132.989990  7599900.0  3280200.0  3927000.0   \n",
       "\n",
       "Attributes                 Adj Close                                      \n",
       "Symbols            ^GSPC        AMZN       COST        GOOG        ^GSPC  \n",
       "Date                                                                      \n",
       "2009-12-31  2.076990e+09  134.520004  45.832966  308.832428  1115.099976  \n",
       "2010-01-04  3.991400e+09  133.899994  46.018879  312.204773  1132.989990  \n",
       "\n",
       "[2 rows x 24 columns]"
      ]
     },
     "execution_count": 58,
     "metadata": {},
     "output_type": "execute_result"
    }
   ],
   "source": [
    "mydata.head(2)"
   ]
  },
  {
   "cell_type": "code",
   "execution_count": 59,
   "metadata": {
    "colab": {},
    "colab_type": "code",
    "id": "3dHIDAW3FE0i",
    "outputId": "d4d06702-edb9-4c29-be3e-17a43be4282b"
   },
   "outputs": [
    {
     "data": {
      "text/plain": [
       "MultiIndex(levels=[['High', 'Low', 'Open', 'Close', 'Volume', 'Adj Close'], ['AMZN', 'COST', 'GOOG', '^GSPC']],\n",
       "           codes=[[0, 0, 0, 0, 1, 1, 1, 1, 2, 2, 2, 2, 3, 3, 3, 3, 4, 4, 4, 4, 5, 5, 5, 5], [0, 1, 2, 3, 0, 1, 2, 3, 0, 1, 2, 3, 0, 1, 2, 3, 0, 1, 2, 3, 0, 1, 2, 3]],\n",
       "           names=['Attributes', 'Symbols'])"
      ]
     },
     "execution_count": 59,
     "metadata": {},
     "output_type": "execute_result"
    }
   ],
   "source": [
    "mydata.columns"
   ]
  },
  {
   "cell_type": "code",
   "execution_count": 60,
   "metadata": {
    "colab": {},
    "colab_type": "code",
    "id": "NUYuxJj_FE0j",
    "outputId": "a944db57-7476-4da4-be83-12fe1f4b9bc3"
   },
   "outputs": [
    {
     "data": {
      "text/html": [
       "<div>\n",
       "<style scoped>\n",
       "    .dataframe tbody tr th:only-of-type {\n",
       "        vertical-align: middle;\n",
       "    }\n",
       "\n",
       "    .dataframe tbody tr th {\n",
       "        vertical-align: top;\n",
       "    }\n",
       "\n",
       "    .dataframe thead th {\n",
       "        text-align: right;\n",
       "    }\n",
       "</style>\n",
       "<table border=\"1\" class=\"dataframe\">\n",
       "  <thead>\n",
       "    <tr style=\"text-align: right;\">\n",
       "      <th>Symbols</th>\n",
       "      <th>AMZN</th>\n",
       "      <th>COST</th>\n",
       "      <th>GOOG</th>\n",
       "      <th>^GSPC</th>\n",
       "    </tr>\n",
       "    <tr>\n",
       "      <th>Date</th>\n",
       "      <th></th>\n",
       "      <th></th>\n",
       "      <th></th>\n",
       "      <th></th>\n",
       "    </tr>\n",
       "  </thead>\n",
       "  <tbody>\n",
       "    <tr>\n",
       "      <th>2009-12-31</th>\n",
       "      <td>134.520004</td>\n",
       "      <td>45.832966</td>\n",
       "      <td>308.832428</td>\n",
       "      <td>1115.099976</td>\n",
       "    </tr>\n",
       "    <tr>\n",
       "      <th>2010-01-04</th>\n",
       "      <td>133.899994</td>\n",
       "      <td>46.018879</td>\n",
       "      <td>312.204773</td>\n",
       "      <td>1132.989990</td>\n",
       "    </tr>\n",
       "    <tr>\n",
       "      <th>2010-01-05</th>\n",
       "      <td>134.690002</td>\n",
       "      <td>45.879436</td>\n",
       "      <td>310.829926</td>\n",
       "      <td>1136.520020</td>\n",
       "    </tr>\n",
       "    <tr>\n",
       "      <th>2010-01-06</th>\n",
       "      <td>132.250000</td>\n",
       "      <td>46.475872</td>\n",
       "      <td>302.994293</td>\n",
       "      <td>1137.140015</td>\n",
       "    </tr>\n",
       "    <tr>\n",
       "      <th>2010-01-07</th>\n",
       "      <td>130.000000</td>\n",
       "      <td>46.251236</td>\n",
       "      <td>295.940735</td>\n",
       "      <td>1141.689941</td>\n",
       "    </tr>\n",
       "  </tbody>\n",
       "</table>\n",
       "</div>"
      ],
      "text/plain": [
       "Symbols           AMZN       COST        GOOG        ^GSPC\n",
       "Date                                                      \n",
       "2009-12-31  134.520004  45.832966  308.832428  1115.099976\n",
       "2010-01-04  133.899994  46.018879  312.204773  1132.989990\n",
       "2010-01-05  134.690002  45.879436  310.829926  1136.520020\n",
       "2010-01-06  132.250000  46.475872  302.994293  1137.140015\n",
       "2010-01-07  130.000000  46.251236  295.940735  1141.689941"
      ]
     },
     "execution_count": 60,
     "metadata": {},
     "output_type": "execute_result"
    }
   ],
   "source": [
    "df_close = mydata['Adj Close']\n",
    "df_close.head()"
   ]
  },
  {
   "cell_type": "code",
   "execution_count": 61,
   "metadata": {
    "colab": {},
    "colab_type": "code",
    "id": "cXjRUFFaFE0l"
   },
   "outputs": [],
   "source": [
    "# Apply pct_change, and then 10-period moving window standard deviation\n",
    "volatility = df_close.pct_change().rolling(10).std()"
   ]
  },
  {
   "cell_type": "code",
   "execution_count": 62,
   "metadata": {
    "colab": {},
    "colab_type": "code",
    "id": "CEoYXi6HFE0n",
    "outputId": "144b36f5-3048-4a5e-e6e9-fabba456c7a4"
   },
   "outputs": [
    {
     "data": {
      "text/html": [
       "<div>\n",
       "<style scoped>\n",
       "    .dataframe tbody tr th:only-of-type {\n",
       "        vertical-align: middle;\n",
       "    }\n",
       "\n",
       "    .dataframe tbody tr th {\n",
       "        vertical-align: top;\n",
       "    }\n",
       "\n",
       "    .dataframe thead th {\n",
       "        text-align: right;\n",
       "    }\n",
       "</style>\n",
       "<table border=\"1\" class=\"dataframe\">\n",
       "  <thead>\n",
       "    <tr style=\"text-align: right;\">\n",
       "      <th>Symbols</th>\n",
       "      <th>AMZN</th>\n",
       "      <th>COST</th>\n",
       "      <th>GOOG</th>\n",
       "      <th>^GSPC</th>\n",
       "    </tr>\n",
       "    <tr>\n",
       "      <th>Date</th>\n",
       "      <th></th>\n",
       "      <th></th>\n",
       "      <th></th>\n",
       "      <th></th>\n",
       "    </tr>\n",
       "  </thead>\n",
       "  <tbody>\n",
       "    <tr>\n",
       "      <th>2020-02-24</th>\n",
       "      <td>0.019303</td>\n",
       "      <td>0.011874</td>\n",
       "      <td>0.017214</td>\n",
       "      <td>0.011977</td>\n",
       "    </tr>\n",
       "    <tr>\n",
       "      <th>2020-02-25</th>\n",
       "      <td>0.016691</td>\n",
       "      <td>0.014794</td>\n",
       "      <td>0.015973</td>\n",
       "      <td>0.014081</td>\n",
       "    </tr>\n",
       "    <tr>\n",
       "      <th>2020-02-26</th>\n",
       "      <td>0.016284</td>\n",
       "      <td>0.014655</td>\n",
       "      <td>0.016197</td>\n",
       "      <td>0.013819</td>\n",
       "    </tr>\n",
       "    <tr>\n",
       "      <th>2020-02-27</th>\n",
       "      <td>0.019881</td>\n",
       "      <td>0.018080</td>\n",
       "      <td>0.020878</td>\n",
       "      <td>0.017086</td>\n",
       "    </tr>\n",
       "    <tr>\n",
       "      <th>2020-02-28</th>\n",
       "      <td>0.020142</td>\n",
       "      <td>0.019853</td>\n",
       "      <td>0.022742</td>\n",
       "      <td>0.016747</td>\n",
       "    </tr>\n",
       "  </tbody>\n",
       "</table>\n",
       "</div>"
      ],
      "text/plain": [
       "Symbols         AMZN      COST      GOOG     ^GSPC\n",
       "Date                                              \n",
       "2020-02-24  0.019303  0.011874  0.017214  0.011977\n",
       "2020-02-25  0.016691  0.014794  0.015973  0.014081\n",
       "2020-02-26  0.016284  0.014655  0.016197  0.013819\n",
       "2020-02-27  0.019881  0.018080  0.020878  0.017086\n",
       "2020-02-28  0.020142  0.019853  0.022742  0.016747"
      ]
     },
     "execution_count": 62,
     "metadata": {},
     "output_type": "execute_result"
    }
   ],
   "source": [
    "volatility.tail()"
   ]
  },
  {
   "cell_type": "code",
   "execution_count": 63,
   "metadata": {
    "colab": {},
    "colab_type": "code",
    "id": "NCdJF--7FE0p",
    "outputId": "6d159a9e-50fa-4f70-d19d-b06911a86203"
   },
   "outputs": [
    {
     "data": {
      "image/png": "[encoded data removed]",
      "text/plain": [
       "<Figure size 792x504 with 1 Axes>"
      ]
     },
     "metadata": {
      "needs_background": "light"
     },
     "output_type": "display_data"
    }
   ],
   "source": [
    "fig = plt.figure(figsize=(11,7))\n",
    "plt.plot(volatility)\n",
    "plt.legend(['AMZN', 'COST', 'GOOG', 'S&P500'])\n",
    "plt.grid()\n",
    "plt.title('Volatility')\n",
    "plt.show()"
   ]
  },
  {
   "cell_type": "markdown",
   "metadata": {
    "colab_type": "text",
    "id": "KYzQGdp7FE0s"
   },
   "source": [
    "__Annualised volatility__"
   ]
  },
  {
   "cell_type": "code",
   "execution_count": 64,
   "metadata": {
    "colab": {},
    "colab_type": "code",
    "id": "ibHeZ4WFFE0t"
   },
   "outputs": [],
   "source": [
    "# Annualised volatility for daily data\n",
    "ann_vola = volatility*np.sqrt(252)"
   ]
  },
  {
   "cell_type": "code",
   "execution_count": 65,
   "metadata": {
    "colab": {},
    "colab_type": "code",
    "id": "J_oettQ_FE0u"
   },
   "outputs": [],
   "source": [
    "# Annualised volatility for hourly data\n",
    "trading_hrs = 8\n",
    "ann_vola = volatility*np.sqrt(252*trading_hrs)"
   ]
  },
  {
   "cell_type": "code",
   "execution_count": 66,
   "metadata": {
    "colab": {},
    "colab_type": "code",
    "id": "j9BMgMMrFE0v",
    "outputId": "a2937d10-df36-46f3-d98d-4fefc9c892ea"
   },
   "outputs": [
    {
     "data": {
      "image/png": "[encoded data removed]",
      "text/plain": [
       "<Figure size 792x504 with 1 Axes>"
      ]
     },
     "metadata": {
      "needs_background": "light"
     },
     "output_type": "display_data"
    }
   ],
   "source": [
    "fig = plt.figure(figsize=(11,7))\n",
    "plt.plot(ann_vola)\n",
    "plt.legend(['AMZN', 'COST', 'GOOG', 'S&P500'])\n",
    "plt.grid()\n",
    "plt.title('Annualised Volatility')\n",
    "plt.show()"
   ]
  },
  {
   "cell_type": "markdown",
   "metadata": {
    "colab_type": "text",
    "id": "eFCKdhzhFE0x"
   },
   "source": [
    "## 4.5 Correlations in the market"
   ]
  },
  {
   "cell_type": "code",
   "execution_count": 67,
   "metadata": {
    "colab": {},
    "colab_type": "code",
    "id": "0tWBXislFE0x"
   },
   "outputs": [],
   "source": [
    "mydata1 = pandas_datareader.get_data_yahoo(['GLD', 'XOM', 'LUV', 'DAL', '^GSPC', 'AMZN'])"
   ]
  },
  {
   "cell_type": "code",
   "execution_count": 68,
   "metadata": {
    "colab": {},
    "colab_type": "code",
    "id": "YO3s8yT0FE0z",
    "outputId": "1972ee11-b148-4446-e2a8-7574312aca20"
   },
   "outputs": [
    {
     "data": {
      "text/html": [
       "<div>\n",
       "<style scoped>\n",
       "    .dataframe tbody tr th:only-of-type {\n",
       "        vertical-align: middle;\n",
       "    }\n",
       "\n",
       "    .dataframe tbody tr th {\n",
       "        vertical-align: top;\n",
       "    }\n",
       "\n",
       "    .dataframe thead tr th {\n",
       "        text-align: left;\n",
       "    }\n",
       "\n",
       "    .dataframe thead tr:last-of-type th {\n",
       "        text-align: right;\n",
       "    }\n",
       "</style>\n",
       "<table border=\"1\" class=\"dataframe\">\n",
       "  <thead>\n",
       "    <tr>\n",
       "      <th>Attributes</th>\n",
       "      <th colspan=\"6\" halign=\"left\">High</th>\n",
       "      <th colspan=\"4\" halign=\"left\">Low</th>\n",
       "      <th>...</th>\n",
       "      <th colspan=\"4\" halign=\"left\">Volume</th>\n",
       "      <th colspan=\"6\" halign=\"left\">Adj Close</th>\n",
       "    </tr>\n",
       "    <tr>\n",
       "      <th>Symbols</th>\n",
       "      <th>AMZN</th>\n",
       "      <th>DAL</th>\n",
       "      <th>GLD</th>\n",
       "      <th>LUV</th>\n",
       "      <th>XOM</th>\n",
       "      <th>^GSPC</th>\n",
       "      <th>AMZN</th>\n",
       "      <th>DAL</th>\n",
       "      <th>GLD</th>\n",
       "      <th>LUV</th>\n",
       "      <th>...</th>\n",
       "      <th>GLD</th>\n",
       "      <th>LUV</th>\n",
       "      <th>XOM</th>\n",
       "      <th>^GSPC</th>\n",
       "      <th>AMZN</th>\n",
       "      <th>DAL</th>\n",
       "      <th>GLD</th>\n",
       "      <th>LUV</th>\n",
       "      <th>XOM</th>\n",
       "      <th>^GSPC</th>\n",
       "    </tr>\n",
       "    <tr>\n",
       "      <th>Date</th>\n",
       "      <th></th>\n",
       "      <th></th>\n",
       "      <th></th>\n",
       "      <th></th>\n",
       "      <th></th>\n",
       "      <th></th>\n",
       "      <th></th>\n",
       "      <th></th>\n",
       "      <th></th>\n",
       "      <th></th>\n",
       "      <th></th>\n",
       "      <th></th>\n",
       "      <th></th>\n",
       "      <th></th>\n",
       "      <th></th>\n",
       "      <th></th>\n",
       "      <th></th>\n",
       "      <th></th>\n",
       "      <th></th>\n",
       "      <th></th>\n",
       "      <th></th>\n",
       "    </tr>\n",
       "  </thead>\n",
       "  <tbody>\n",
       "    <tr>\n",
       "      <th>2009-12-31</th>\n",
       "      <td>137.279999</td>\n",
       "      <td>11.48</td>\n",
       "      <td>108.110001</td>\n",
       "      <td>11.53</td>\n",
       "      <td>68.860001</td>\n",
       "      <td>1127.640015</td>\n",
       "      <td>134.520004</td>\n",
       "      <td>11.22</td>\n",
       "      <td>107.239998</td>\n",
       "      <td>11.30</td>\n",
       "      <td>...</td>\n",
       "      <td>9124700.0</td>\n",
       "      <td>5805400.0</td>\n",
       "      <td>18852300.0</td>\n",
       "      <td>2.076990e+09</td>\n",
       "      <td>134.520004</td>\n",
       "      <td>10.108876</td>\n",
       "      <td>107.309998</td>\n",
       "      <td>10.645019</td>\n",
       "      <td>48.657547</td>\n",
       "      <td>1115.099976</td>\n",
       "    </tr>\n",
       "    <tr>\n",
       "      <th>2010-01-04</th>\n",
       "      <td>136.610001</td>\n",
       "      <td>11.43</td>\n",
       "      <td>110.139999</td>\n",
       "      <td>11.46</td>\n",
       "      <td>69.260002</td>\n",
       "      <td>1133.869995</td>\n",
       "      <td>133.139999</td>\n",
       "      <td>10.95</td>\n",
       "      <td>109.309998</td>\n",
       "      <td>11.09</td>\n",
       "      <td>...</td>\n",
       "      <td>16224100.0</td>\n",
       "      <td>9625000.0</td>\n",
       "      <td>27809100.0</td>\n",
       "      <td>3.991400e+09</td>\n",
       "      <td>133.899994</td>\n",
       "      <td>9.966747</td>\n",
       "      <td>109.800003</td>\n",
       "      <td>10.412189</td>\n",
       "      <td>49.342556</td>\n",
       "      <td>1132.989990</td>\n",
       "    </tr>\n",
       "    <tr>\n",
       "      <th>2010-01-05</th>\n",
       "      <td>135.479996</td>\n",
       "      <td>12.34</td>\n",
       "      <td>110.389999</td>\n",
       "      <td>11.79</td>\n",
       "      <td>69.449997</td>\n",
       "      <td>1136.630005</td>\n",
       "      <td>131.809998</td>\n",
       "      <td>11.29</td>\n",
       "      <td>109.260002</td>\n",
       "      <td>11.20</td>\n",
       "      <td>...</td>\n",
       "      <td>14213100.0</td>\n",
       "      <td>13355100.0</td>\n",
       "      <td>30174700.0</td>\n",
       "      <td>2.491020e+09</td>\n",
       "      <td>134.690002</td>\n",
       "      <td>10.748451</td>\n",
       "      <td>109.699997</td>\n",
       "      <td>10.961664</td>\n",
       "      <td>49.535217</td>\n",
       "      <td>1136.520020</td>\n",
       "    </tr>\n",
       "    <tr>\n",
       "      <th>2010-01-06</th>\n",
       "      <td>134.729996</td>\n",
       "      <td>12.24</td>\n",
       "      <td>111.769997</td>\n",
       "      <td>11.79</td>\n",
       "      <td>70.599998</td>\n",
       "      <td>1139.189941</td>\n",
       "      <td>131.649994</td>\n",
       "      <td>11.85</td>\n",
       "      <td>110.410004</td>\n",
       "      <td>11.38</td>\n",
       "      <td>...</td>\n",
       "      <td>24981900.0</td>\n",
       "      <td>10523900.0</td>\n",
       "      <td>35044700.0</td>\n",
       "      <td>4.972660e+09</td>\n",
       "      <td>132.250000</td>\n",
       "      <td>10.757335</td>\n",
       "      <td>111.510002</td>\n",
       "      <td>10.635702</td>\n",
       "      <td>49.963345</td>\n",
       "      <td>1137.140015</td>\n",
       "    </tr>\n",
       "    <tr>\n",
       "      <th>2010-01-07</th>\n",
       "      <td>132.320007</td>\n",
       "      <td>12.86</td>\n",
       "      <td>111.290001</td>\n",
       "      <td>11.74</td>\n",
       "      <td>70.059998</td>\n",
       "      <td>1142.459961</td>\n",
       "      <td>128.800003</td>\n",
       "      <td>12.05</td>\n",
       "      <td>110.620003</td>\n",
       "      <td>11.27</td>\n",
       "      <td>...</td>\n",
       "      <td>13609800.0</td>\n",
       "      <td>10055100.0</td>\n",
       "      <td>27192100.0</td>\n",
       "      <td>5.270680e+09</td>\n",
       "      <td>130.000000</td>\n",
       "      <td>11.272549</td>\n",
       "      <td>110.820000</td>\n",
       "      <td>10.794029</td>\n",
       "      <td>49.806370</td>\n",
       "      <td>1141.689941</td>\n",
       "    </tr>\n",
       "  </tbody>\n",
       "</table>\n",
       "<p>5 rows × 36 columns</p>\n",
       "</div>"
      ],
      "text/plain": [
       "Attributes        High                                                    \\\n",
       "Symbols           AMZN    DAL         GLD    LUV        XOM        ^GSPC   \n",
       "Date                                                                       \n",
       "2009-12-31  137.279999  11.48  108.110001  11.53  68.860001  1127.640015   \n",
       "2010-01-04  136.610001  11.43  110.139999  11.46  69.260002  1133.869995   \n",
       "2010-01-05  135.479996  12.34  110.389999  11.79  69.449997  1136.630005   \n",
       "2010-01-06  134.729996  12.24  111.769997  11.79  70.599998  1139.189941   \n",
       "2010-01-07  132.320007  12.86  111.290001  11.74  70.059998  1142.459961   \n",
       "\n",
       "Attributes         Low                            ...      Volume              \\\n",
       "Symbols           AMZN    DAL         GLD    LUV  ...         GLD         LUV   \n",
       "Date                                              ...                           \n",
       "2009-12-31  134.520004  11.22  107.239998  11.30  ...   9124700.0   5805400.0   \n",
       "2010-01-04  133.139999  10.95  109.309998  11.09  ...  16224100.0   9625000.0   \n",
       "2010-01-05  131.809998  11.29  109.260002  11.20  ...  14213100.0  13355100.0   \n",
       "2010-01-06  131.649994  11.85  110.410004  11.38  ...  24981900.0  10523900.0   \n",
       "2010-01-07  128.800003  12.05  110.620003  11.27  ...  13609800.0  10055100.0   \n",
       "\n",
       "Attributes                             Adj Close                         \\\n",
       "Symbols            XOM         ^GSPC        AMZN        DAL         GLD   \n",
       "Date                                                                      \n",
       "2009-12-31  18852300.0  2.076990e+09  134.520004  10.108876  107.309998   \n",
       "2010-01-04  27809100.0  3.991400e+09  133.899994   9.966747  109.800003   \n",
       "2010-01-05  30174700.0  2.491020e+09  134.690002  10.748451  109.699997   \n",
       "2010-01-06  35044700.0  4.972660e+09  132.250000  10.757335  111.510002   \n",
       "2010-01-07  27192100.0  5.270680e+09  130.000000  11.272549  110.820000   \n",
       "\n",
       "Attributes                                     \n",
       "Symbols           LUV        XOM        ^GSPC  \n",
       "Date                                           \n",
       "2009-12-31  10.645019  48.657547  1115.099976  \n",
       "2010-01-04  10.412189  49.342556  1132.989990  \n",
       "2010-01-05  10.961664  49.535217  1136.520020  \n",
       "2010-01-06  10.635702  49.963345  1137.140015  \n",
       "2010-01-07  10.794029  49.806370  1141.689941  \n",
       "\n",
       "[5 rows x 36 columns]"
      ]
     },
     "execution_count": 68,
     "metadata": {},
     "output_type": "execute_result"
    }
   ],
   "source": [
    "mydata1.head()"
   ]
  },
  {
   "cell_type": "code",
   "execution_count": 69,
   "metadata": {
    "colab": {},
    "colab_type": "code",
    "id": "KBu1s-dgFE01"
   },
   "outputs": [],
   "source": [
    "ret = mydata1['Adj Close'].pct_change().dropna()"
   ]
  },
  {
   "cell_type": "code",
   "execution_count": 70,
   "metadata": {
    "colab": {},
    "colab_type": "code",
    "id": "OnGNxrPcFE02",
    "outputId": "4a2ee423-ddde-4fc4-ed8b-e546286eddc8"
   },
   "outputs": [
    {
     "data": {
      "text/html": [
       "<div>\n",
       "<style scoped>\n",
       "    .dataframe tbody tr th:only-of-type {\n",
       "        vertical-align: middle;\n",
       "    }\n",
       "\n",
       "    .dataframe tbody tr th {\n",
       "        vertical-align: top;\n",
       "    }\n",
       "\n",
       "    .dataframe thead th {\n",
       "        text-align: right;\n",
       "    }\n",
       "</style>\n",
       "<table border=\"1\" class=\"dataframe\">\n",
       "  <thead>\n",
       "    <tr style=\"text-align: right;\">\n",
       "      <th>Symbols</th>\n",
       "      <th>AMZN</th>\n",
       "      <th>DAL</th>\n",
       "      <th>GLD</th>\n",
       "      <th>LUV</th>\n",
       "      <th>XOM</th>\n",
       "      <th>^GSPC</th>\n",
       "    </tr>\n",
       "    <tr>\n",
       "      <th>Date</th>\n",
       "      <th></th>\n",
       "      <th></th>\n",
       "      <th></th>\n",
       "      <th></th>\n",
       "      <th></th>\n",
       "      <th></th>\n",
       "    </tr>\n",
       "  </thead>\n",
       "  <tbody>\n",
       "    <tr>\n",
       "      <th>2010-01-04</th>\n",
       "      <td>-0.004609</td>\n",
       "      <td>-0.014060</td>\n",
       "      <td>0.023204</td>\n",
       "      <td>-0.021872</td>\n",
       "      <td>0.014078</td>\n",
       "      <td>0.016043</td>\n",
       "    </tr>\n",
       "    <tr>\n",
       "      <th>2010-01-05</th>\n",
       "      <td>0.005900</td>\n",
       "      <td>0.078431</td>\n",
       "      <td>-0.000911</td>\n",
       "      <td>0.052772</td>\n",
       "      <td>0.003905</td>\n",
       "      <td>0.003116</td>\n",
       "    </tr>\n",
       "    <tr>\n",
       "      <th>2010-01-06</th>\n",
       "      <td>-0.018116</td>\n",
       "      <td>0.000826</td>\n",
       "      <td>0.016500</td>\n",
       "      <td>-0.029737</td>\n",
       "      <td>0.008643</td>\n",
       "      <td>0.000546</td>\n",
       "    </tr>\n",
       "    <tr>\n",
       "      <th>2010-01-07</th>\n",
       "      <td>-0.017013</td>\n",
       "      <td>0.047894</td>\n",
       "      <td>-0.006188</td>\n",
       "      <td>0.014886</td>\n",
       "      <td>-0.003142</td>\n",
       "      <td>0.004001</td>\n",
       "    </tr>\n",
       "    <tr>\n",
       "      <th>2010-01-08</th>\n",
       "      <td>0.027077</td>\n",
       "      <td>-0.017336</td>\n",
       "      <td>0.004963</td>\n",
       "      <td>-0.022433</td>\n",
       "      <td>-0.004012</td>\n",
       "      <td>0.002882</td>\n",
       "    </tr>\n",
       "  </tbody>\n",
       "</table>\n",
       "</div>"
      ],
      "text/plain": [
       "Symbols         AMZN       DAL       GLD       LUV       XOM     ^GSPC\n",
       "Date                                                                  \n",
       "2010-01-04 -0.004609 -0.014060  0.023204 -0.021872  0.014078  0.016043\n",
       "2010-01-05  0.005900  0.078431 -0.000911  0.052772  0.003905  0.003116\n",
       "2010-01-06 -0.018116  0.000826  0.016500 -0.029737  0.008643  0.000546\n",
       "2010-01-07 -0.017013  0.047894 -0.006188  0.014886 -0.003142  0.004001\n",
       "2010-01-08  0.027077 -0.017336  0.004963 -0.022433 -0.004012  0.002882"
      ]
     },
     "execution_count": 70,
     "metadata": {},
     "output_type": "execute_result"
    }
   ],
   "source": [
    "ret.head()"
   ]
  },
  {
   "cell_type": "code",
   "execution_count": 71,
   "metadata": {
    "colab": {},
    "colab_type": "code",
    "id": "dddfTa-sFE04"
   },
   "outputs": [],
   "source": [
    "corr = ret.corr()"
   ]
  },
  {
   "cell_type": "code",
   "execution_count": 72,
   "metadata": {
    "colab": {},
    "colab_type": "code",
    "id": "4lTIj_0gFE06",
    "outputId": "0731057a-14cb-417c-9727-a086a310a1f6"
   },
   "outputs": [
    {
     "data": {
      "text/html": [
       "<div>\n",
       "<style scoped>\n",
       "    .dataframe tbody tr th:only-of-type {\n",
       "        vertical-align: middle;\n",
       "    }\n",
       "\n",
       "    .dataframe tbody tr th {\n",
       "        vertical-align: top;\n",
       "    }\n",
       "\n",
       "    .dataframe thead th {\n",
       "        text-align: right;\n",
       "    }\n",
       "</style>\n",
       "<table border=\"1\" class=\"dataframe\">\n",
       "  <thead>\n",
       "    <tr style=\"text-align: right;\">\n",
       "      <th>Symbols</th>\n",
       "      <th>AMZN</th>\n",
       "      <th>DAL</th>\n",
       "      <th>GLD</th>\n",
       "      <th>LUV</th>\n",
       "      <th>XOM</th>\n",
       "      <th>^GSPC</th>\n",
       "    </tr>\n",
       "    <tr>\n",
       "      <th>Symbols</th>\n",
       "      <th></th>\n",
       "      <th></th>\n",
       "      <th></th>\n",
       "      <th></th>\n",
       "      <th></th>\n",
       "      <th></th>\n",
       "    </tr>\n",
       "  </thead>\n",
       "  <tbody>\n",
       "    <tr>\n",
       "      <th>AMZN</th>\n",
       "      <td>1.000000</td>\n",
       "      <td>0.286267</td>\n",
       "      <td>-0.038686</td>\n",
       "      <td>0.302039</td>\n",
       "      <td>0.318686</td>\n",
       "      <td>0.564494</td>\n",
       "    </tr>\n",
       "    <tr>\n",
       "      <th>DAL</th>\n",
       "      <td>0.286267</td>\n",
       "      <td>1.000000</td>\n",
       "      <td>-0.097293</td>\n",
       "      <td>0.681633</td>\n",
       "      <td>0.261308</td>\n",
       "      <td>0.519032</td>\n",
       "    </tr>\n",
       "    <tr>\n",
       "      <th>GLD</th>\n",
       "      <td>-0.038686</td>\n",
       "      <td>-0.097293</td>\n",
       "      <td>1.000000</td>\n",
       "      <td>-0.085510</td>\n",
       "      <td>0.034766</td>\n",
       "      <td>-0.016196</td>\n",
       "    </tr>\n",
       "    <tr>\n",
       "      <th>LUV</th>\n",
       "      <td>0.302039</td>\n",
       "      <td>0.681633</td>\n",
       "      <td>-0.085510</td>\n",
       "      <td>1.000000</td>\n",
       "      <td>0.301800</td>\n",
       "      <td>0.545323</td>\n",
       "    </tr>\n",
       "    <tr>\n",
       "      <th>XOM</th>\n",
       "      <td>0.318686</td>\n",
       "      <td>0.261308</td>\n",
       "      <td>0.034766</td>\n",
       "      <td>0.301800</td>\n",
       "      <td>1.000000</td>\n",
       "      <td>0.722159</td>\n",
       "    </tr>\n",
       "    <tr>\n",
       "      <th>^GSPC</th>\n",
       "      <td>0.564494</td>\n",
       "      <td>0.519032</td>\n",
       "      <td>-0.016196</td>\n",
       "      <td>0.545323</td>\n",
       "      <td>0.722159</td>\n",
       "      <td>1.000000</td>\n",
       "    </tr>\n",
       "  </tbody>\n",
       "</table>\n",
       "</div>"
      ],
      "text/plain": [
       "Symbols      AMZN       DAL       GLD       LUV       XOM     ^GSPC\n",
       "Symbols                                                            \n",
       "AMZN     1.000000  0.286267 -0.038686  0.302039  0.318686  0.564494\n",
       "DAL      0.286267  1.000000 -0.097293  0.681633  0.261308  0.519032\n",
       "GLD     -0.038686 -0.097293  1.000000 -0.085510  0.034766 -0.016196\n",
       "LUV      0.302039  0.681633 -0.085510  1.000000  0.301800  0.545323\n",
       "XOM      0.318686  0.261308  0.034766  0.301800  1.000000  0.722159\n",
       "^GSPC    0.564494  0.519032 -0.016196  0.545323  0.722159  1.000000"
      ]
     },
     "execution_count": 72,
     "metadata": {},
     "output_type": "execute_result"
    }
   ],
   "source": [
    "corr"
   ]
  },
  {
   "cell_type": "code",
   "execution_count": 73,
   "metadata": {
    "colab": {},
    "colab_type": "code",
    "id": "b89du3V0FE07"
   },
   "outputs": [],
   "source": [
    "import seaborn as sns"
   ]
  },
  {
   "cell_type": "code",
   "execution_count": 74,
   "metadata": {
    "colab": {},
    "colab_type": "code",
    "id": "exzHbT1IFE09",
    "outputId": "8876a6bb-92d8-4deb-c3a9-d31df616def1"
   },
   "outputs": [
    {
     "data": {
      "image/png": "[encoded data removed]",
      "text/plain": [
       "<Figure size 576x432 with 2 Axes>"
      ]
     },
     "metadata": {
      "needs_background": "light"
     },
     "output_type": "display_data"
    }
   ],
   "source": [
    "# plot the heatmap\n",
    "fig, ax = plt.subplots(figsize=(8, 6))\n",
    "sns.heatmap(corr, annot=True, xticklabels=corr.columns, \n",
    "            yticklabels=corr.columns);"
   ]
  },
  {
   "cell_type": "markdown",
   "metadata": {
    "colab_type": "text",
    "id": "MO3coBYRFE1A"
   },
   "source": [
    "__Note: Correlation changes over time!__"
   ]
  },
  {
   "cell_type": "code",
   "execution_count": 75,
   "metadata": {
    "colab": {},
    "colab_type": "code",
    "id": "MyRit3FaFE1A",
    "outputId": "a551151e-54b0-42b9-8abb-21d03ee34278"
   },
   "outputs": [
    {
     "data": {
      "text/plain": [
       "Date\n",
       "2020-02-24   -0.268368\n",
       "2020-02-25   -0.230390\n",
       "2020-02-26   -0.232285\n",
       "2020-02-27   -0.218146\n",
       "2020-02-28   -0.255495\n",
       "dtype: float64"
      ]
     },
     "execution_count": 75,
     "metadata": {},
     "output_type": "execute_result"
    }
   ],
   "source": [
    "# Applying a 1-year rolling window to calculate correlation  \n",
    "# between GLD and XOM\n",
    "rolling_cor = ret['GLD'].rolling(window=252).corr(ret['XOM'])\n",
    "rolling_cor.tail()"
   ]
  },
  {
   "cell_type": "code",
   "execution_count": 76,
   "metadata": {
    "colab": {},
    "colab_type": "code",
    "id": "N8vPxrMsFE1B",
    "outputId": "55580dd9-b1aa-493b-b369-47e080949f62"
   },
   "outputs": [
    {
     "data": {
      "image/png": "[encoded data removed]",
      "text/plain": [
       "<Figure size 648x504 with 1 Axes>"
      ]
     },
     "metadata": {
      "needs_background": "light"
     },
     "output_type": "display_data"
    }
   ],
   "source": [
    "fig = plt.figure(figsize=(9,7))\n",
    "ret['GLD'].rolling(window=200).corr(ret['XOM']).plot()\n",
    "ret['^GSPC'].rolling(window=100).corr(ret['XOM']).plot()\n",
    "ret['XOM'].rolling(window=100).corr(ret['DAL']).plot()\n",
    "plt.title('Correlation between different instruments')\n",
    "plt.xlim(['2011', '2020'])\n",
    "plt.ylabel('Correlation coefficient', fontsize=12)\n",
    "plt.legend(['Gold & XOM', 'S&P500 & XOM', 'XOM & DAL'])\n",
    "plt.grid()\n",
    "plt.show()"
   ]
  },
  {
   "cell_type": "markdown",
   "metadata": {
    "colab_type": "text",
    "id": "LTU7Uh4eFE1D"
   },
   "source": [
    "## 4.6 Linear regression analysis"
   ]
  },
  {
   "cell_type": "code",
   "execution_count": 77,
   "metadata": {
    "colab": {},
    "colab_type": "code",
    "id": "QhWcL7OsFE1D"
   },
   "outputs": [],
   "source": [
    "from sklearn.linear_model import LinearRegression"
   ]
  },
  {
   "cell_type": "code",
   "execution_count": 78,
   "metadata": {
    "colab": {},
    "colab_type": "code",
    "id": "XKcUAX4YFE1G",
    "outputId": "e58a0642-64c2-493f-be36-1be5e29f3445"
   },
   "outputs": [
    {
     "data": {
      "text/plain": [
       "array([ 0.01407817,  0.00390457,  0.00864289, ..., -0.02195576,\n",
       "       -0.0601773 ,  0.03251704])"
      ]
     },
     "execution_count": 78,
     "metadata": {},
     "output_type": "execute_result"
    }
   ],
   "source": [
    "ret['XOM'].values"
   ]
  },
  {
   "cell_type": "code",
   "execution_count": 79,
   "metadata": {
    "colab": {},
    "colab_type": "code",
    "id": "p8iYhAMzFE1I",
    "outputId": "0ddc534b-c29b-4ca7-f621-1cc3480269f4"
   },
   "outputs": [
    {
     "data": {
      "image/png": "[encoded data removed]",
      "text/plain": [
       "<Figure size 432x288 with 1 Axes>"
      ]
     },
     "metadata": {
      "needs_background": "light"
     },
     "output_type": "display_data"
    }
   ],
   "source": [
    "plt.scatter(ret['XOM'], ret['^GSPC'])\n",
    "plt.xlabel('Daily return of XOM')\n",
    "plt.ylabel('Daily return of S&P500')\n",
    "plt.show()"
   ]
  },
  {
   "cell_type": "code",
   "execution_count": 80,
   "metadata": {
    "colab": {},
    "colab_type": "code",
    "id": "AtSCky9uFE1K"
   },
   "outputs": [],
   "source": [
    "x = np.array([ret['XOM']]).T\n",
    "y = np.array(ret['^GSPC'])"
   ]
  },
  {
   "cell_type": "code",
   "execution_count": 81,
   "metadata": {
    "colab": {},
    "colab_type": "code",
    "id": "cwm5VKdOFE1L"
   },
   "outputs": [],
   "source": [
    "# Instantiate the LinearRegression model:\n",
    "lm = LinearRegression()"
   ]
  },
  {
   "cell_type": "code",
   "execution_count": 82,
   "metadata": {
    "colab": {},
    "colab_type": "code",
    "id": "TSPf_ydeFE1N",
    "outputId": "f07c556c-c2d7-4be3-b7e4-1f5e561d6dd6"
   },
   "outputs": [
    {
     "data": {
      "text/plain": [
       "LinearRegression(copy_X=True, fit_intercept=True, n_jobs=None, normalize=False)"
      ]
     },
     "execution_count": 82,
     "metadata": {},
     "output_type": "execute_result"
    }
   ],
   "source": [
    "lm.fit(x, y)"
   ]
  },
  {
   "cell_type": "code",
   "execution_count": 83,
   "metadata": {
    "colab": {},
    "colab_type": "code",
    "id": "-JOLgEZSFE1P",
    "outputId": "ddfd28ab-bc77-485c-8f31-7fa139d264d3"
   },
   "outputs": [
    {
     "data": {
      "text/plain": [
       "0.00037262367231832985"
      ]
     },
     "execution_count": 83,
     "metadata": {},
     "output_type": "execute_result"
    }
   ],
   "source": [
    "# Extract the intercept:\n",
    "lm.intercept_"
   ]
  },
  {
   "cell_type": "code",
   "execution_count": 84,
   "metadata": {
    "colab": {},
    "colab_type": "code",
    "id": "Ie4FJIl5FE1R",
    "outputId": "d86a26b0-85ec-47e4-a7f3-8cab4b20ea32"
   },
   "outputs": [
    {
     "data": {
      "text/plain": [
       "array([0.56963812])"
      ]
     },
     "execution_count": 84,
     "metadata": {},
     "output_type": "execute_result"
    }
   ],
   "source": [
    "# The slope:\n",
    "lm.coef_"
   ]
  },
  {
   "cell_type": "code",
   "execution_count": 85,
   "metadata": {
    "colab": {},
    "colab_type": "code",
    "id": "tPHt2k0bFE1S"
   },
   "outputs": [],
   "source": [
    "def plot_LR(x, y, a, beta):\n",
    "    '''function that plots the regression with original points'''\n",
    "    xx = np.linspace(min(x), max(x),200) \n",
    "    yy = a + beta * xx\n",
    "    \n",
    "    plt.plot(x, y,'o', ms=2)\n",
    "    plt.plot(xx,yy)  # the regression line\n",
    "    plt.xlabel('x', fontsize=14)\n",
    "    plt.ylabel('y', fontsize=14)\n",
    "    plt.title('y = %f + %f*x'%(a, beta))"
   ]
  },
  {
   "cell_type": "code",
   "execution_count": 86,
   "metadata": {
    "colab": {},
    "colab_type": "code",
    "id": "SOPWhuGOFE1T",
    "outputId": "a0978060-f9f0-4a35-98f0-5ddb2bee91f4"
   },
   "outputs": [
    {
     "data": {
      "image/png": "[encoded data removed]",
      "text/plain": [
       "<Figure size 432x288 with 1 Axes>"
      ]
     },
     "metadata": {
      "needs_background": "light"
     },
     "output_type": "display_data"
    }
   ],
   "source": [
    "plot_LR(x, y, lm.intercept_, lm.coef_)"
   ]
  },
  {
   "cell_type": "code",
   "execution_count": null,
   "metadata": {
    "colab": {},
    "colab_type": "code",
    "id": "sVlHMsOhFE1X"
   },
   "outputs": [],
   "source": []
  },
  {
   "cell_type": "code",
   "execution_count": null,
   "metadata": {
    "colab": {},
    "colab_type": "code",
    "id": "sbQLOLraFE1a"
   },
   "outputs": [],
   "source": []
  }
 ],
 "metadata": {
  "colab": {
   "name": "Chapter_4.ipynb",
   "provenance": []
  },
  "hide_code_all_hidden": false,
  "kernelspec": {
   "display_name": "Python 3",
   "language": "python",
   "name": "python3"
  },
  "language_info": {
   "codemirror_mode": {
    "name": "ipython",
    "version": 3
   },
   "file_extension": ".py",
   "mimetype": "text/x-python",
   "name": "python",
   "nbconvert_exporter": "python",
   "pygments_lexer": "ipython3",
   "version": "3.6.8"
  }
 },
 "nbformat": 4,
 "nbformat_minor": 1
}
