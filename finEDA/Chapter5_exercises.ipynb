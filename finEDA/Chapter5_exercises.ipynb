{
 "cells": [
  {
   "cell_type": "markdown",
   "metadata": {},
   "source": [
    "## Ex 5.1\n",
    "\n",
    "_Write a funcion that downloads the market data for tickers AAPL, IBM, YUT and GOOGL and returns them in a list. Catch any download errors if they occur and look what's wrong. Hint: use the Pandas data reader from the previous module and use Stackoverflow to figure out how to specify the date range._"
   ]
  },
  {
   "cell_type": "code",
   "execution_count": 1,
   "metadata": {},
   "outputs": [],
   "source": [
    "# Your answer\n",
    "\n"
   ]
  },
  {
   "cell_type": "markdown",
   "metadata": {},
   "source": [
    "## Ex 5.2\n",
    "_Create an array of 100 numbers from 1.4 to 8.6._\n",
    "\n",
    "Hint: use the Numpy package"
   ]
  },
  {
   "cell_type": "code",
   "execution_count": 2,
   "metadata": {},
   "outputs": [],
   "source": [
    "# Your answer\n",
    "\n"
   ]
  },
  {
   "cell_type": "markdown",
   "metadata": {},
   "source": [
    "## Ex 5.3\n",
    "\n",
    "_Write a one-liner that minimizes the following functions and returns them in a dict with numerical keys:_\n",
    "- x^2 + 3\n",
    "- x^2 - 2x\n",
    "- 3x^2 + 4x -5\n",
    "\n",
    "_Hint: Start with creating a list of the functions, then create a list comprehension for the dict and use enumerate to generate the keys. The result should look like this:_\n",
    "\n",
    "**_{0: array([ 3.]), 1: -1.0, 2: -6.333333333333333}_**\n",
    "\n",
    "_Level: difficult_"
   ]
  },
  {
   "cell_type": "code",
   "execution_count": 6,
   "metadata": {},
   "outputs": [],
   "source": [
    "from scipy.optimize import minimize"
   ]
  },
  {
   "cell_type": "code",
   "execution_count": 3,
   "metadata": {},
   "outputs": [],
   "source": [
    "# Your answer\n",
    "\n"
   ]
  },
  {
   "cell_type": "code",
   "execution_count": null,
   "metadata": {},
   "outputs": [],
   "source": []
  },
  {
   "cell_type": "code",
   "execution_count": null,
   "metadata": {},
   "outputs": [],
   "source": []
  },
  {
   "cell_type": "code",
   "execution_count": null,
   "metadata": {},
   "outputs": [],
   "source": []
  }
 ],
 "metadata": {
  "kernelspec": {
   "display_name": "Python 3",
   "language": "python",
   "name": "python3"
  },
  "language_info": {
   "codemirror_mode": {
    "name": "ipython",
    "version": 3
   },
   "file_extension": ".py",
   "mimetype": "text/x-python",
   "name": "python",
   "nbconvert_exporter": "python",
   "pygments_lexer": "ipython3",
   "version": "3.6.8"
  }
 },
 "nbformat": 4,
 "nbformat_minor": 2
}
