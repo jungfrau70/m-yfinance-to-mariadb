{
 "cells": [
  {
   "cell_type": "markdown",
   "id": "51503610-c65a-421b-90d8-a8707c0e52c5",
   "metadata": {},
   "source": [
    "# MySQL"
   ]
  },
  {
   "cell_type": "code",
   "execution_count": null,
   "id": "1c5665e6-7bb3-4e4e-9397-721598cf196f",
   "metadata": {},
   "outputs": [],
   "source": [
    "import datetime\n",
    "import pymysql\n",
    "pymysql.install_as_MySQLdb()"
   ]
  },
  {
   "cell_type": "code",
   "execution_count": null,
   "id": "3d17f5b4-ef0c-4ee3-9c4b-1dcbe13ddf69",
   "metadata": {},
   "outputs": [],
   "source": [
    "# 1. DB 연결\n",
    "def connect_db():\n",
    "    conn = pymysql.connect(host=\"localhost\", user=\"root\", password=\"4team123!\",\n",
    "                           db=\"INVESTAR\", charset=\"utf8\", autocommit=True)  \n",
    "    return conn"
   ]
  },
  {
   "cell_type": "code",
   "execution_count": null,
   "id": "a347c76c-c1e6-4334-8270-9437ff47cb9e",
   "metadata": {},
   "outputs": [],
   "source": [
    "conn = connect_db()\n",
    "curs = conn.cursor() \n",
    "curs.execute(\"SELECT VERSION();\")\n",
    "result = curs.fetchone()\n",
    "print(\"MySQL DB version : {}\".format(result))"
   ]
  },
  {
   "cell_type": "code",
   "execution_count": null,
   "id": "652dfdaa-1822-434c-8557-ce0c5bd990e8",
   "metadata": {},
   "outputs": [],
   "source": [
    "# sql = \"DROP TABLE company_info\"\n",
    "# curs.execute(sql)\n",
    "\n",
    "sql = \"DROP TABLE daily_price\"\n",
    "curs.execute(sql)"
   ]
  },
  {
   "cell_type": "code",
   "execution_count": null,
   "id": "9df0979d-b151-4bce-9009-9963281598a0",
   "metadata": {},
   "outputs": [],
   "source": [
    "sql = \"SELECT DISTINCT code, company FROM company_info\"\n",
    "curs.execute(sql)\n",
    "# stock_list = [item[0] for item in curs.fetchall()] \n",
    "# print(len(stock_list))"
   ]
  },
  {
   "cell_type": "code",
   "execution_count": null,
   "id": "389270e3-17bd-4ba1-a531-b59f5211b70c",
   "metadata": {},
   "outputs": [],
   "source": [
    "datas = cur.fetchall()"
   ]
  },
  {
   "cell_type": "code",
   "execution_count": null,
   "id": "b2e68ff6-9bb8-4bcb-bdba-8e43ba98d3f8",
   "metadata": {},
   "outputs": [],
   "source": [
    "for data in datas:\n",
    "    print(data)"
   ]
  },
  {
   "cell_type": "code",
   "execution_count": null,
   "id": "6d152030-f2c7-40e4-83d2-eeed3a8d29cd",
   "metadata": {},
   "outputs": [],
   "source": [
    "conn.commit()"
   ]
  },
  {
   "cell_type": "code",
   "execution_count": null,
   "id": "08ceba02-ac31-40c1-a581-fe1f223dc04e",
   "metadata": {},
   "outputs": [],
   "source": [
    "# 2. DB 연결 종료\n",
    "conn.close()"
   ]
  },
  {
   "cell_type": "code",
   "execution_count": null,
   "id": "b724be9d-b095-44ee-bda0-418741ba051e",
   "metadata": {},
   "outputs": [],
   "source": [
    "from Investar import Analyzer\n",
    "mk = Analyzer.MarketDB()\n",
    "mk.get_daily_price('삼성전자', '2019-09-30', '2021-07-03')\n",
    "today = datetime.datetime.now().strftime('%Y%m%d') "
   ]
  },
  {
   "cell_type": "markdown",
   "id": "30aac5a3-b2fb-4cea-825a-5be5bce65bcd",
   "metadata": {},
   "source": [
    "# Company Info"
   ]
  },
  {
   "cell_type": "code",
   "execution_count": null,
   "id": "77c8f43a-aa06-4c1a-a87a-193dbea7feae",
   "metadata": {},
   "outputs": [],
   "source": [
    "import FinanceDataReader as fdr\n",
    "import pandas as pd\n",
    "\n",
    "\"\"\"KRX로부터 상장기업 목록 파일을 읽어와서 데이터프레임으로 반환\"\"\"\n",
    "url = 'http://kind.krx.co.kr/corpgeneral/corpList.do?method='\\\n",
    "    'download&searchType=13'\n",
    "krx = pd.read_html(url, header=0)[0]\n",
    "krx = krx[['종목코드', '회사명']]\n",
    "krx = krx.rename(columns={'종목코드': 'code', '회사명': 'company'})\n",
    "krx.code = krx.code.map('{:06d}'.format)\n",
    "krx['industry'] = \"\"\n",
    "krx['industryCode'] = \"\""
   ]
  },
  {
   "cell_type": "code",
   "execution_count": null,
   "id": "a63aa740-db45-430d-8f81-41abb9d753f8",
   "metadata": {},
   "outputs": [],
   "source": [
    "stock = fdr.StockListing('nasdaq')\n",
    "stock = stock[['Symbol', 'Name', 'Industry', 'IndustryCode']]\n",
    "stock = stock.rename(columns={'Symbol': 'code', 'Name': 'company', 'Industry': 'industry', 'IndustryCode': 'industryCode'})\n",
    "stock.head()"
   ]
  },
  {
   "cell_type": "code",
   "execution_count": null,
   "id": "7963f465-1ca6-4cdf-b8e1-8e1a0f545ae7",
   "metadata": {},
   "outputs": [],
   "source": [
    "stock[stock['industryCode'] == '533010']"
   ]
  },
  {
   "cell_type": "code",
   "execution_count": null,
   "id": "19312ec0-372f-48af-beed-4970779d81e0",
   "metadata": {},
   "outputs": [],
   "source": [
    "df = stock"
   ]
  },
  {
   "cell_type": "code",
   "execution_count": null,
   "id": "d1cb795d-e107-4584-94d9-576462aa56c9",
   "metadata": {},
   "outputs": [],
   "source": [
    "df = df.replace(\"\\'\",\"\\'\\'\", regex=True)"
   ]
  },
  {
   "cell_type": "code",
   "execution_count": null,
   "id": "e8dd33de-5dd2-4b71-a120-189aa2fc077b",
   "metadata": {},
   "outputs": [],
   "source": [
    "df[df['industryCode'] == '533010']"
   ]
  },
  {
   "cell_type": "code",
   "execution_count": null,
   "id": "30df87a3-08b4-40e9-bb0d-c868550e6d10",
   "metadata": {},
   "outputs": [],
   "source": [
    "df = pd.concat([krx, stock])"
   ]
  },
  {
   "cell_type": "code",
   "execution_count": null,
   "id": "8257a00b-cf6c-47ad-958b-63b196f00048",
   "metadata": {},
   "outputs": [],
   "source": [
    "df = df.drop_duplicates('company', keep='last')"
   ]
  },
  {
   "cell_type": "code",
   "execution_count": null,
   "id": "c5ed1f92-f827-4e52-924e-456cb31c9760",
   "metadata": {},
   "outputs": [],
   "source": [
    "df.describe()"
   ]
  },
  {
   "cell_type": "markdown",
   "id": "67a732b0-58ec-48a1-88b2-a2ff1afd0e3d",
   "metadata": {},
   "source": [
    "# Daily Price"
   ]
  },
  {
   "cell_type": "code",
   "execution_count": null,
   "id": "dd821c59-5810-4ee6-ab23-cc382d76c153",
   "metadata": {},
   "outputs": [],
   "source": [
    "import FinanceDataReader as fdr\n",
    "import pandas as pd\n",
    "from bs4 import BeautifulSoup\n",
    "import pymysql, calendar, time, json\n",
    "import requests\n",
    "from datetime import datetime\n",
    "from threading import Timer\n",
    "\n",
    "code = '005930'\n",
    "url = f\"http://finance.naver.com/item/sise_day.nhn?code={code}\"\n",
    "print (url)\n",
    "\n",
    "pages_to_fetch = 2"
   ]
  },
  {
   "cell_type": "code",
   "execution_count": null,
   "id": "d91f2996-c3f4-4ede-971d-d829dfcb4724",
   "metadata": {},
   "outputs": [],
   "source": [
    "stock = fdr.StockListing('nasdaq')"
   ]
  },
  {
   "cell_type": "code",
   "execution_count": null,
   "id": "075fa142-21c4-458b-a580-6a64a9043430",
   "metadata": {},
   "outputs": [],
   "source": [
    "%%writefile config.json\n",
    "{\"pages_to_fetch\": 27}"
   ]
  },
  {
   "cell_type": "markdown",
   "id": "fd0d1e8f-607d-42ef-ba5a-621a983dac3f",
   "metadata": {},
   "source": [
    "# 최종 코드"
   ]
  },
  {
   "cell_type": "code",
   "execution_count": 4,
   "id": "f59714bf-f38a-4a48-a4c3-8db13245cec1",
   "metadata": {},
   "outputs": [
    {
     "name": "stdout",
     "output_type": "stream",
     "text": [
      "Overwriting Investar/StockUpdater.py\n"
     ]
    }
   ],
   "source": [
    "%%writefile Investar/StockUpdater.py\n",
    "\n",
    "import concurrent.futures\n",
    "import FinanceDataReader as fdr\n",
    "import math\n",
    "import pandas as pd\n",
    "import pymysql, calendar, time, json\n",
    "import requests\n",
    "from tqdm import tqdm\n",
    "\n",
    "from bs4 import BeautifulSoup\n",
    "from datetime import datetime\n",
    "from dateutil.relativedelta import relativedelta\n",
    "from threading import Timer\n",
    "\n",
    "try:\n",
    "    with open('config.json', 'r') as in_file:\n",
    "        config = json.load(in_file)\n",
    "        pages_to_fetch = config['pages_to_fetch']\n",
    "except FileNotFoundError:\n",
    "    with open('config.json', 'w') as out_file:\n",
    "        pages_to_fetch = 100 \n",
    "        config = {'pages_to_fetch': 1}\n",
    "        json.dump(config, out_file)\n",
    "            \n",
    "class DBUpdater:\n",
    "                \n",
    "    def __init__(self):\n",
    "        \"\"\"생성자: MariaDB 연결 및 종목코드 딕셔너리 생성\"\"\"\n",
    "        self.conn = pymysql.connect(host='localhost', user='root',\n",
    "            password='4team123!', db='INVESTAR', charset='utf8')\n",
    "        \n",
    "        with self.conn.cursor() as curs:\n",
    "            sql = \"\"\"\n",
    "            CREATE TABLE IF NOT EXISTS company_info (\n",
    "                code VARCHAR(20),\n",
    "                company VARCHAR(80),\n",
    "                industry VARCHAR(80),\n",
    "                industryCode VARCHAR(10),                \n",
    "                last_update DATE,\n",
    "                PRIMARY KEY (code))\n",
    "            \"\"\"\n",
    "            curs.execute(sql)\n",
    "            sql = \"\"\"\n",
    "            CREATE TABLE IF NOT EXISTS daily_price (\n",
    "                code VARCHAR(20),\n",
    "                date DATE,\n",
    "                open BIGINT(20),\n",
    "                high BIGINT(20),\n",
    "                low BIGINT(20),\n",
    "                close BIGINT(20),\n",
    "                diff BIGINT(20),\n",
    "                volume BIGINT(20),\n",
    "                PRIMARY KEY (code, date))\n",
    "            \"\"\"\n",
    "            curs.execute(sql)\n",
    "        self.conn.commit()\n",
    "        self.codes = dict()\n",
    "               \n",
    "    def __del__(self):\n",
    "        \"\"\"소멸자: MariaDB 연결 해제\"\"\"\n",
    "        self.conn.close() \n",
    "        \n",
    "    def read_ticker(self):\n",
    "        \"\"\"KRX로부터 상장기업 목록 파일을 읽어와서 데이터프레임으로 반환\"\"\"\n",
    "        url = 'http://kind.krx.co.kr/corpgeneral/corpList.do?method='\\\n",
    "            'download&searchType=13'\n",
    "        krx = pd.read_html(url, header=0)[0]\n",
    "        krx = krx[['종목코드', '회사명']]\n",
    "        krx = krx.rename(columns={'종목코드': 'code', '회사명': 'company'})\n",
    "        krx.code = krx.code.map('{:06d}'.format)\n",
    "        krx['industry'] = \"\"\n",
    "        krx['industryCode'] = \"\"\n",
    "        stock = fdr.StockListing('NASDAQ')\n",
    "        stock = stock[['Symbol', 'Name', 'Industry', 'IndustryCode']]\n",
    "        stock = stock.rename(columns={'Symbol': 'code', 'Name': 'company', 'Industry': 'industry', 'IndustryCode': 'industryCode'})\n",
    "        stock = stock.replace(\"\\'\",\"\\'\\'\", regex=True)\n",
    "        df = pd.concat([krx, stock])\n",
    "        df = df.rename(\n",
    "            columns={'Symbol': 'code', 'Name': 'company', 'Industry': 'industry', 'IndustryCode': 'industryCode'})\n",
    "        return df\n",
    "    \n",
    "    def update_comp_info(self):\n",
    "        \"\"\"종목코드를 company_info 테이블에 업데이트 한 후 딕셔너리에 저장\"\"\"\n",
    "        sql = \"SELECT * FROM company_info\"\n",
    "        df = pd.read_sql(sql, self.conn)\n",
    "        for idx in range(len(df)):\n",
    "            self.codes[df['code'].values[idx]] = df['company'].values[idx]\n",
    "                    \n",
    "        with self.conn.cursor() as curs:\n",
    "            sql = \"SELECT max(last_update) FROM company_info\"\n",
    "            curs.execute(sql)\n",
    "            rs = curs.fetchone()\n",
    "            today = datetime.today().strftime('%Y-%m-%d')\n",
    "            if rs[0] == None or rs[0].strftime('%Y-%m-%d') < today:\n",
    "                df = self.read_ticker()\n",
    "                for idx in range(len(df)):\n",
    "                    code = df.code.values[idx]\n",
    "                    company = df.company.values[idx]\n",
    "                    industry = df.industry.values[idx]\n",
    "                    industryCode = df.industryCode.values[idx]\n",
    "                    sql = f\"REPLACE INTO company_info (code, company, industry, industryCode, last\"\\\n",
    "                        f\"_update) VALUES ('{code}', '{company}', '{industry}', '{industryCode}', '{today}')\"\n",
    "                    curs.execute(sql)\n",
    "                    self.codes[code] = company\n",
    "                    tmnow = datetime.now().strftime('%Y-%m-%d %H:%M')\n",
    "                    print(f\"[{tmnow}] #{idx+1:04d} REPLACE INTO company_info \"\\\n",
    "                        f\"VALUES ({code}, {company}, {industry}, {industryCode}, {today})\")\n",
    "                self.conn.commit()\n",
    "                print('')              \n",
    "\n",
    "    def read_naver_finance(self, code):\n",
    "        \"\"\"네이버에서 주식 시세를 읽어서 데이터프레임으로 반환\"\"\"\n",
    "        try:\n",
    "            url = f\"http://finance.naver.com/item/sise_day.nhn?code={code}\"\n",
    "            html = BeautifulSoup(requests.get(url,\n",
    "                headers={'User-agent': 'Mozilla/5.0'}).text, \"lxml\")\n",
    "            pgrr = html.find(\"td\", class_=\"pgRR\")\n",
    "            if pgrr is None:\n",
    "                return None\n",
    "            s = str(pgrr.a[\"href\"]).split('=')\n",
    "            lastpage = s[-1] \n",
    "            krx = pd.DataFrame()\n",
    "            pages = min(int(lastpage), pages_to_fetch)\n",
    "            for page in range(1, pages + 1):\n",
    "                pg_url = '{}&page={}'.format(url, page)\n",
    "                krx = krx.append(pd.read_html(requests.get(pg_url,\n",
    "                    headers={'User-agent': 'Mozilla/5.0'}).text)[0])                                          \n",
    "                tmnow = datetime.now().strftime('%Y-%m-%d %H:%M')\n",
    "#                 print('[{}] {} ({}) : {:04d}/{:04d} pages are downloading...'.\n",
    "#                     format(tmnow, company, code, page, pages), end=\"\\r\")\n",
    "            krx = krx.rename(columns={'날짜':'date','종가':'close','전일비':'diff'\n",
    "                ,'시가':'open','고가':'high','저가':'low','거래량':'volume'})\n",
    "            krx['date'] = krx['date'].replace('.', '-')\n",
    "            krx['code'] = code\n",
    "            krx = krx.dropna()\n",
    "            krx[['close', 'diff', 'open', 'high', 'low', 'volume']] = krx[['close',\n",
    "                'diff', 'open', 'high', 'low', 'volume']].astype(int)\n",
    "            krx = krx[['date', 'code','open', 'high', 'low', 'close', 'diff', 'volume']]\n",
    "            krx = krx.reset_index(drop=True)\n",
    "            df = krx.sort_values(by='date', ascending=False)\n",
    "\n",
    "        except Exception as e:\n",
    "            print('Exception occured :', str(e))\n",
    "            return None\n",
    "        return df\n",
    "\n",
    "    def read_yahoo_finance(self, code):\n",
    "        \"\"\"야후 파이낸스에서 주식 시세를 가져옴(데이터플레임)\"\"\"\n",
    "        try:      \n",
    "            now = datetime.now()\n",
    "            months = math.ceil( (pages_to_fetch * 10) / (262 / 12) )\n",
    "            start_date = now - relativedelta(months=months)\n",
    "            stock = fdr.DataReader(code, start_date.strftime('%Y-%m-%d'))\n",
    "            days_ago = 10 * pages_to_fetch\n",
    "            stock = stock[-(days_ago+1):]\n",
    "            stock['code'] = code\n",
    "            stock['diff'] = abs( stock['Close'] - stock['Close'].shift(1))\n",
    "            stock = stock.reset_index()[-days_ago:].sort_values(by='Date', ascending=False)\n",
    "            stock = stock.rename(columns={'Date':'date','Close':'close','diff':'diff'\n",
    "                ,'Open':'open','High':'high','Low':'low','Volume':'volume'})\n",
    "            stock = stock[['date','code','open','high','low','close','diff','volume']]\n",
    "            df = stock.reset_index(drop=True)\n",
    "            df.dropna(inplace=True)\n",
    "        except Exception as e:\n",
    "            return None\n",
    "        return stock\n",
    "    \n",
    "    def replace_into_db(self, df):\n",
    "        \"\"\"네이버에서 읽어온 주식 시세를 DB에 REPLACE\"\"\"\n",
    "        with self.conn.cursor() as curs:\n",
    "            for r in df.itertuples():\n",
    "                sql = f\"REPLACE INTO daily_price VALUES ('{r.code}', \"\\\n",
    "                    f\"'{r.date}', {r.open}, {r.high}, {r.low}, {r.close}, \"\\\n",
    "                    f\"{r.diff}, {r.volume})\"\n",
    "                curs.execute(sql)\n",
    "            self.conn.commit()\n",
    "            print('completed')\n",
    "#             print('[{}] #{:04d} {} ({}) : {} rows > REPLACE INTO daily_'\\\n",
    "#                 'price [OK]'.format(datetime.now().strftime('%Y-%m-%d'\\\n",
    "#                 ' %H:%M'), num+1, company, code, len(df)))\n",
    "\n",
    "            \n",
    "    def replace_into_db(self, df):\n",
    "        \"\"\"네이버에서 읽어온 주식 시세를 DB에 REPLACE\"\"\"\n",
    "        with self.conn.cursor() as curs:\n",
    "            for r in df.itertuples():\n",
    "                sql = f\"REPLACE INTO daily_price VALUES ('{r.code}', \"\\\n",
    "                    f\"'{r.date}', {r.open}, {r.high}, {r.low}, {r.close}, \"\\\n",
    "                    f\"{r.diff}, {r.volume})\"\n",
    "                curs.execute(sql)\n",
    "            self.conn.commit()\n",
    "            print(\"daily_price updated\")\n",
    "#             print('[{}] #{:04d} {} ({}) : {} rows > REPLACE INTO daily_'\\\n",
    "#                 'price [OK]'.format(datetime.now().strftime('%Y-%m-%d'\\\n",
    "#                 ' %H:%M'), df.count(), {r.company}, {r.code}, len(df)))   \n",
    "            \n",
    "    def update_daily_naver_price(self, codes):\n",
    "        MAX_THREADS = 300\n",
    "        threads = min(MAX_THREADS, len(codes))\n",
    "        df = pd.DataFrame()\n",
    "        with concurrent.futures.ThreadPoolExecutor(max_workers=threads) as executor:\n",
    "            for number, stock in tqdm(zip(codes, executor.map(self.read_naver_finance, codes))):\n",
    "                df = df.append(stock)\n",
    "        df = df.reset_index(drop=True)\n",
    "        df.dropna(inplace=True) \n",
    "        return df\n",
    "\n",
    "    def update_daily_yahoo_price(self, codes):\n",
    "        MAX_THREADS = 300\n",
    "        threads = min(MAX_THREADS, len(codes))\n",
    "        df = pd.DataFrame()\n",
    "        with concurrent.futures.ThreadPoolExecutor(max_workers=threads) as executor:\n",
    "            for number, stock in tqdm(zip(codes, executor.map(self.read_yahoo_finance, codes))):\n",
    "                df = df.append(stock)\n",
    "        df = df.reset_index(drop=True)\n",
    "        df.dropna(inplace=True) \n",
    "        return df\n",
    "    \n",
    "    def execute_daily(self):\n",
    "        \"\"\"실행 즉시 및 매일 오후 다섯시에 daily_price 테이블 업데이트\"\"\"\n",
    "        self.update_comp_info()\n",
    "                \n",
    "        list_nf = []; list_yf = []\n",
    "        for code in self.codes:\n",
    "            if code.isdigit() == True:\n",
    "                list_nf.append(code)\n",
    "            else:\n",
    "                list_yf.append(code)\n",
    "\n",
    "        codes = list_nf\n",
    "        df = self.update_daily_naver_price(codes)\n",
    "        self.replace_into_db(df)  \n",
    "\n",
    "        codes = list_yf\n",
    "        df = self.update_daily_yahoo_price(codes)\n",
    "        self.replace_into_db(df)  \n",
    "\n",
    "        tmnow = datetime.now()\n",
    "        lastday = calendar.monthrange(tmnow.year, tmnow.month)[1]\n",
    "        if tmnow.month == 12 and tmnow.day == lastday:\n",
    "            tmnext = tmnow.replace(year=tmnow.year+1, month=1, day=1,\n",
    "                hour=17, minute=0, second=0)\n",
    "        elif tmnow.day == lastday:\n",
    "            tmnext = tmnow.replace(month=tmnow.month+1, day=1, hour=17,\n",
    "                minute=0, second=0)\n",
    "        else:\n",
    "            tmnext = tmnow.replace(day=tmnow.day+1, hour=17, minute=0,\n",
    "                second=0)   \n",
    "        tmdiff = tmnext - tmnow\n",
    "        secs = tmdiff.seconds\n",
    "        t = Timer(secs, self.execute_daily)\n",
    "        print(\"Waiting for next update ({}) ... \".format(tmnext.strftime\n",
    "            ('%Y-%m-%d %H:%M')))\n",
    "        t.start()\n",
    "    \n",
    "if __name__ == '__main__':\n",
    "    dbu = DBUpdater()\n",
    "    dbu.execute_daily()\n"
   ]
  },
  {
   "cell_type": "markdown",
   "id": "f55d9517-bc4d-42a2-a8b6-dcdb302193c4",
   "metadata": {},
   "source": [
    "# DB 적재"
   ]
  },
  {
   "cell_type": "code",
   "execution_count": 1,
   "id": "6bfc937a-cbba-4aa7-966b-08cafddf34c0",
   "metadata": {},
   "outputs": [],
   "source": [
    "from Investar import StockUpdater"
   ]
  },
  {
   "cell_type": "code",
   "execution_count": 2,
   "id": "50a648d2-be48-4256-839c-b142606fde11",
   "metadata": {},
   "outputs": [],
   "source": [
    "dbu = StockUpdater.DBUpdater()"
   ]
  },
  {
   "cell_type": "code",
   "execution_count": 3,
   "id": "79b812c3-0364-4188-a913-9346730f858c",
   "metadata": {
    "tags": []
   },
   "outputs": [
    {
     "name": "stderr",
     "output_type": "stream",
     "text": [
      "1802it [25:51,  3.39s/it]"
     ]
    },
    {
     "name": "stdout",
     "output_type": "stream",
     "text": [
      "Exception occured :Exception occured : ('Connection aborted.', TimeoutError(10060, '연결된 구성원으로부터 응답이 없어 연결하지 못했거나, 호스트로부터 응답이 없어 연결이 끊어졌습니다', None, 10060, None))\n",
      " ('Connection aborted.', TimeoutError(10060, '연결된 구성원으로부터 응답이 없어 연결하지 못했거나, 호스트로부터 응답이 없어 연결이 끊어졌습니다', None, 10060, None))\n"
     ]
    },
    {
     "name": "stderr",
     "output_type": "stream",
     "text": [
      "2451it [33:33,  1.22it/s]\n"
     ]
    },
    {
     "ename": "NameError",
     "evalue": "name 'num' is not defined",
     "output_type": "error",
     "traceback": [
      "\u001b[1;31m---------------------------------------------------------------------------\u001b[0m",
      "\u001b[1;31mNameError\u001b[0m                                 Traceback (most recent call last)",
      "\u001b[1;32m<ipython-input-3-8d2e674dba95>\u001b[0m in \u001b[0;36m<module>\u001b[1;34m\u001b[0m\n\u001b[1;32m----> 1\u001b[1;33m \u001b[0mdf\u001b[0m \u001b[1;33m=\u001b[0m \u001b[0mdbu\u001b[0m\u001b[1;33m.\u001b[0m\u001b[0mexecute_daily\u001b[0m\u001b[1;33m(\u001b[0m\u001b[1;33m)\u001b[0m\u001b[1;33m\u001b[0m\u001b[1;33m\u001b[0m\u001b[0m\n\u001b[0m",
      "\u001b[1;32mD:\\encore-4team\\Step3 데이터 전처리\\Project_yfinance\\Investar\\StockUpdater.py\u001b[0m in \u001b[0;36mexecute_daily\u001b[1;34m(self)\u001b[0m\n\u001b[0;32m    229\u001b[0m         \u001b[0mcodes\u001b[0m \u001b[1;33m=\u001b[0m \u001b[0mlist_nf\u001b[0m\u001b[1;33m\u001b[0m\u001b[1;33m\u001b[0m\u001b[0m\n\u001b[0;32m    230\u001b[0m         \u001b[0mdf\u001b[0m \u001b[1;33m=\u001b[0m \u001b[0mself\u001b[0m\u001b[1;33m.\u001b[0m\u001b[0mupdate_daily_naver_price\u001b[0m\u001b[1;33m(\u001b[0m\u001b[0mcodes\u001b[0m\u001b[1;33m)\u001b[0m\u001b[1;33m\u001b[0m\u001b[1;33m\u001b[0m\u001b[0m\n\u001b[1;32m--> 231\u001b[1;33m         \u001b[0mself\u001b[0m\u001b[1;33m.\u001b[0m\u001b[0mreplace_into_db\u001b[0m\u001b[1;33m(\u001b[0m\u001b[0mdf\u001b[0m\u001b[1;33m)\u001b[0m\u001b[1;33m\u001b[0m\u001b[1;33m\u001b[0m\u001b[0m\n\u001b[0m\u001b[0;32m    232\u001b[0m \u001b[1;33m\u001b[0m\u001b[0m\n\u001b[0;32m    233\u001b[0m         \u001b[0mcodes\u001b[0m \u001b[1;33m=\u001b[0m \u001b[0mlist_yf\u001b[0m\u001b[1;33m\u001b[0m\u001b[1;33m\u001b[0m\u001b[0m\n",
      "\u001b[1;32mD:\\encore-4team\\Step3 데이터 전처리\\Project_yfinance\\Investar\\StockUpdater.py\u001b[0m in \u001b[0;36mreplace_into_db\u001b[1;34m(self, df)\u001b[0m\n\u001b[0;32m    192\u001b[0m             print('[{}] #{:04d} {} ({}) : {} rows > REPLACE INTO daily_'\\\n\u001b[0;32m    193\u001b[0m                 'price [OK]'.format(datetime.now().strftime('%Y-%m-%d'\\\n\u001b[1;32m--> 194\u001b[1;33m                 ' %H:%M'), num+1, {r.company}, {r.code}, len(df)))   \n\u001b[0m\u001b[0;32m    195\u001b[0m \u001b[1;33m\u001b[0m\u001b[0m\n\u001b[0;32m    196\u001b[0m     \u001b[1;32mdef\u001b[0m \u001b[0mupdate_daily_naver_price\u001b[0m\u001b[1;33m(\u001b[0m\u001b[0mself\u001b[0m\u001b[1;33m,\u001b[0m \u001b[0mcodes\u001b[0m\u001b[1;33m)\u001b[0m\u001b[1;33m:\u001b[0m\u001b[1;33m\u001b[0m\u001b[1;33m\u001b[0m\u001b[0m\n",
      "\u001b[1;31mNameError\u001b[0m: name 'num' is not defined"
     ]
    }
   ],
   "source": [
    "df = dbu.execute_daily()"
   ]
  },
  {
   "cell_type": "code",
   "execution_count": null,
   "id": "86dfcca5-eee5-4801-9cd1-47e4fcf238e0",
   "metadata": {},
   "outputs": [],
   "source": [
    "297 - 08:20\n",
    "600 - 08:23\n",
    "901 - 08:29\n",
    "1504 - 08:39\n",
    "2451 - 08:57"
   ]
  },
  {
   "cell_type": "code",
   "execution_count": 4,
   "id": "e6f89169-d5fd-4097-8792-06de1ca65a81",
   "metadata": {},
   "outputs": [
    {
     "data": {
      "text/html": [
       "<div>\n",
       "<style scoped>\n",
       "    .dataframe tbody tr th:only-of-type {\n",
       "        vertical-align: middle;\n",
       "    }\n",
       "\n",
       "    .dataframe tbody tr th {\n",
       "        vertical-align: top;\n",
       "    }\n",
       "\n",
       "    .dataframe thead th {\n",
       "        text-align: right;\n",
       "    }\n",
       "</style>\n",
       "<table border=\"1\" class=\"dataframe\">\n",
       "  <thead>\n",
       "    <tr style=\"text-align: right;\">\n",
       "      <th></th>\n",
       "    </tr>\n",
       "  </thead>\n",
       "  <tbody>\n",
       "  </tbody>\n",
       "</table>\n",
       "</div>"
      ],
      "text/plain": [
       "Empty DataFrame\n",
       "Columns: []\n",
       "Index: []"
      ]
     },
     "execution_count": 4,
     "metadata": {},
     "output_type": "execute_result"
    }
   ],
   "source": [
    "df"
   ]
  },
  {
   "cell_type": "code",
   "execution_count": null,
   "id": "7cce9231-ea6c-4127-85e4-56b6ba019f74",
   "metadata": {},
   "outputs": [],
   "source": [
    "# dbu.read_yahoo_finance()\n",
    "# dbu.update_comp_info()"
   ]
  },
  {
   "cell_type": "code",
   "execution_count": null,
   "id": "42ec504c-6433-42b7-9fe7-bd480c284365",
   "metadata": {},
   "outputs": [],
   "source": []
  },
  {
   "cell_type": "code",
   "execution_count": 1,
   "id": "a6db3945-7510-48a2-87a3-200de67c990a",
   "metadata": {},
   "outputs": [
    {
     "name": "stdout",
     "output_type": "stream",
     "text": [
      "Exception occured : Expecting value: line 1 column 1 (char 0)\n",
      "Exception occured : Expecting value: line 1 column 1 (char 0)\n",
      "Exception occured : Expecting value: line 1 column 1 (char 0)\n",
      "Exception occured : Expecting value: line 1 column 1 (char 0)\n",
      "Exception occured : Expecting value: line 1 column 1 (char 0)Exception occured :Exception occured : Expecting value: line 1 column 1 (char 0)\n",
      "\n",
      " Expecting value: line 1 column 1 (char 0)\n",
      "Exception occured : Expecting value: line 1 column 1 (char 0)AACG : None\n",
      "\n",
      "AAL : None\n",
      "AAME : None\n",
      "AAOI : None\n",
      "AAON : None\n",
      "AAPL : None\n",
      "AAWW : None\n",
      "ABCB : None\n"
     ]
    }
   ],
   "source": [
    "import concurrent.futures\n",
    "import FinanceDataReader as fdr\n",
    "import math\n",
    "import pandas as pd\n",
    "import pymysql, calendar, time, json\n",
    "import requests\n",
    "import tqdm\n",
    "\n",
    "from bs4 import BeautifulSoup\n",
    "from datetime import datetime\n",
    "from dateutil.relativedelta import relativedelta\n",
    "from threading import Timer\n",
    "\n",
    "MAX_THREADS = 300\n",
    "pages_to_fetch = 27\n",
    "\n",
    "codes = ['AACG', 'AAL', 'AAME', 'AAOI', 'AAON', 'AAPL', 'AAWW', 'ABCB']\n",
    "\n",
    "def read_yahoo_finance(code):\n",
    "    \"\"\"야후 파이낸스에서 주식 시세를 가져옴(데이터플레임)\"\"\"\n",
    "    try:      \n",
    "        now = datetime.now()\n",
    "        months = math.ceil( (pages_to_fetch * 10) / (262 / 12) )\n",
    "        start_date = now - relativedelta(months=months)\n",
    "        stock = fdr.DataReader(code, start_date.strftime('%Y-%m-%d'))\n",
    "        days_ago = 10 * pages_to_fetch\n",
    "        stock = stock[-(days_ago+1):]\n",
    "        stock['code'] = code\n",
    "        stock['diff'] = abs( stock['Close'] - stock['Close'].shift(1))\n",
    "        stock = stock.reset_index()[-days_ago:].sort_values(by='Date', ascending=False)\n",
    "        stock = stock.rename(columns={'Date':'date','Close':'close','diff':'diff'\n",
    "            ,'Open':'open','High':'high','Low':'low','Volume':'volume'})\n",
    "        stock = stock[['date','code','open','high','low','close','diff','volume']]\n",
    "        df = stock.reset_index(drop=True)\n",
    "        df.dropna(inplace=True)\n",
    "        print(stock)\n",
    "    except Exception as e:\n",
    "        print('Exception occured :', str(e))\n",
    "        return None\n",
    "    return stock\n",
    "\n",
    "\n",
    "def main():\n",
    "    threads = min(MAX_THREADS, len(codes))\n",
    "    df = pd.DataFrame()\n",
    "    with concurrent.futures.ThreadPoolExecutor(max_workers=threads) as executor:\n",
    "        for code, stock in zip(codes, executor.map(read_yahoo_finance, codes)):\n",
    "            print('%s : %s' % (code, stock))\n",
    "            df = df.append(stock)\n",
    "    df.dropna(inplace=True) \n",
    "    return df\n",
    "\n",
    "\n",
    "if __name__ == '__main__':\n",
    "    main()"
   ]
  },
  {
   "cell_type": "code",
   "execution_count": null,
   "id": "42593518-1fe8-4d40-8565-acc7eaf17242",
   "metadata": {},
   "outputs": [],
   "source": [
    "    with concurrent.futures.ThreadPoolExecutor(max_workers=threads) as executor:\n",
    "        for number, df in tqdm(zip(codes, executor.map(read_yahoo_finance, codes))):"
   ]
  }
 ],
 "metadata": {
  "kernelspec": {
   "display_name": "Python 3",
   "language": "python",
   "name": "python3"
  },
  "language_info": {
   "codemirror_mode": {
    "name": "ipython",
    "version": 3
   },
   "file_extension": ".py",
   "mimetype": "text/x-python",
   "name": "python",
   "nbconvert_exporter": "python",
   "pygments_lexer": "ipython3",
   "version": "3.8.9"
  }
 },
 "nbformat": 4,
 "nbformat_minor": 5
}
