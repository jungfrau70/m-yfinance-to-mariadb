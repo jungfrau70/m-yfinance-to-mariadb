{
 "cells": [
  {
   "cell_type": "markdown",
   "id": "40bcf2f6-1bcd-41f2-8b11-c9af7dcb4b2e",
   "metadata": {},
   "source": [
    "# Mark Minervini의 추세 템플릿(최고의 주식을 선택하는 8가지 원칙)을 기반으로 하여 따라하기 쉬운 주식 스크리너"
   ]
  },
  {
   "cell_type": "raw",
   "id": "c124e63c-c990-424b-ba08-ec75f6e3e691",
   "metadata": {},
   "source": [
    "-. 유가 증권의 현재 가격은 150일 및 200일 단순 이동 평균보다 커야 합니다.\n",
    "-. 150일 단순 이동 평균은 200일 단순 이동 평균보다 커야 합니다.\n",
    "-. 200일 단순 이동 평균은 최소 1개월 동안 상승 추세여야 합니다.\n",
    "-. 50일 단순 이동 평균은 150 단순 이동 평균 및 200 단순 이동 평균보다 커야 합니다.\n",
    "-. 현재 가격은 50일 단순 이동 평균보다 커야 합니다.\n",
    "-. 현재 가격은 52주 최저가보다 30% 이상 높아야 합니다.\n",
    "-. 현재 가격은 52주 최고가의 25% 이내여야 합니다.\n",
    "-. IBD RS-Rating은 70보다 커야 합니다(높을수록 좋음). RS 등급은 다른 모든 주식 및 전체 시장과 비교하여 지난 1년 동안의 주식 가격 성과의 척도입니다."
   ]
  },
  {
   "cell_type": "code",
   "execution_count": 2,
   "id": "7c974d56-431b-41aa-9be8-4f811e8e1cba",
   "metadata": {},
   "outputs": [
    {
     "name": "stdout",
     "output_type": "stream",
     "text": [
      "Overwriting quants/2_StockScreener.py\n"
     ]
    }
   ],
   "source": [
    "%%writefile quants/2_StockScreener.py\n",
    "\n",
    "import FinanceDataReader as fdr\n",
    "import os\n",
    "import pandas as pd\n",
    "import numpy as np\n",
    "import time\n",
    "import yfinance as yf\n",
    "import warnings\n",
    "warnings.filterwarnings(action='ignore')\n",
    "\n",
    "from datetime import datetime\n",
    "from datetime import date\n",
    "from dateutil.relativedelta import relativedelta\n",
    "from pandas_datareader import data as pdr\n",
    "from pandas import ExcelWriter\n",
    "\n",
    "dataPath='./quants/data/'\n",
    "reportPath='./quants/reports/'\n",
    "\n",
    "# Checking Minervini conditions of top 30% of stocks in given list\n",
    "rs_stocks = rs_df['Ticker']\n",
    "for stock in rs_stocks:    \n",
    "    try:\n",
    "        df = pd.read_csv(f'{dataPath}{stock}.csv', index_col=0)\n",
    "        sma = [50, 150, 200]\n",
    "        for x in sma:\n",
    "            df[\"SMA_\"+str(x)] = round(df['Close'].rolling(window=x).mean(), 2)\n",
    "        \n",
    "        # Storing required values \n",
    "        currentClose = df[\"Close\"][-1]\n",
    "        moving_average_50 = df[\"SMA_50\"][-1]\n",
    "        moving_average_150 = df[\"SMA_150\"][-1]\n",
    "        moving_average_200 = df[\"SMA_200\"][-1]\n",
    "        low_of_52week = round(min(df[\"Low\"][-260:]), 2)\n",
    "        high_of_52week = round(max(df[\"High\"][-260:]), 2)\n",
    "        RS_Rating = round(rs_df[rs_df['Ticker']==stock].RS_Rating.tolist()[0])\n",
    "        \n",
    "        try:\n",
    "            moving_average_200_20 = df[\"SMA_200\"][-20]\n",
    "        except Exception:\n",
    "            moving_average_200_20 = 0\n",
    "\n",
    "        # Condition 1: Current Price > 150 SMA and > 200 SMA\n",
    "        condition_1 = currentClose > moving_average_150 > moving_average_200\n",
    "        \n",
    "        # Condition 2: 150 SMA and > 200 SMA\n",
    "        condition_2 = moving_average_150 > moving_average_200\n",
    "\n",
    "        # Condition 3: 200 SMA trending up for at least 1 month\n",
    "        condition_3 = moving_average_200 > moving_average_200_20\n",
    "        \n",
    "        # Condition 4: 50 SMA> 150 SMA and 50 SMA> 200 SMA\n",
    "        condition_4 = moving_average_50 > moving_average_150 > moving_average_200\n",
    "           \n",
    "        # Condition 5: Current Price > 50 SMA\n",
    "        condition_5 = currentClose > moving_average_50\n",
    "           \n",
    "        # Condition 6: Current Price is at least 30% above 52 week low\n",
    "        condition_6 = currentClose >= (1.3*low_of_52week)\n",
    "           \n",
    "        # Condition 7: Current Price is within 25% of 52 week high\n",
    "        condition_7 = currentClose >= (.75*high_of_52week)\n",
    "        \n",
    "        # If all conditions above are true, add stock to exportList\n",
    "        if(condition_1 and condition_2 and condition_3 and condition_4 and condition_5 and condition_6 and condition_7):\n",
    "            exportList = exportList.append({'Stock': stock, \"RS_Rating\": RS_Rating ,\"50 Day MA\": moving_average_50, \"150 Day Ma\": moving_average_150, \"200 Day MA\": moving_average_200, \"52 Week Low\": low_of_52week, \"52 week High\": high_of_52week}, ignore_index=True)\n",
    "#             print (stock + \" made the Minervini requirements\")\n",
    "    except Exception as e:\n",
    "        print (e)\n",
    "        print(f\"Could not gather data on {stock}\")\n",
    "\n",
    "exportList = exportList.sort_values(by='RS_Rating', ascending=False)\n",
    "print('\\n', exportList)\n",
    "writer = ExcelWriter(f'{reportPath}ScreenOutput.xlsx')\n",
    "exportList.to_excel(writer, \"Sheet1\")\n",
    "writer.save()"
   ]
  },
  {
   "cell_type": "code",
   "execution_count": null,
   "id": "bd8ddd8d-a714-453e-b86d-6aa0daae56f4",
   "metadata": {},
   "outputs": [],
   "source": [
    "%run quants/2_StockScreener.py"
   ]
  },
  {
   "cell_type": "code",
   "execution_count": null,
   "id": "0e99c6ae-9c5c-43ee-ad70-ec07b02fa4d2",
   "metadata": {},
   "outputs": [],
   "source": []
  }
 ],
 "metadata": {
  "kernelspec": {
   "display_name": "Python 3",
   "language": "python",
   "name": "python3"
  },
  "language_info": {
   "codemirror_mode": {
    "name": "ipython",
    "version": 3
   },
   "file_extension": ".py",
   "mimetype": "text/x-python",
   "name": "python",
   "nbconvert_exporter": "python",
   "pygments_lexer": "ipython3",
   "version": "3.8.9"
  }
 },
 "nbformat": 4,
 "nbformat_minor": 5
}
