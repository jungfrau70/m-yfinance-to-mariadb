{
 "cells": [
  {
   "cell_type": "code",
   "execution_count": 1,
   "metadata": {},
   "outputs": [],
   "source": [
    "import pandas as pd\n",
    "import numpy as np\n",
    "import matplotlib.pyplot as plt"
   ]
  },
  {
   "cell_type": "markdown",
   "metadata": {},
   "source": [
    "## _Exercise 3.1_\n",
    "__20-period VWAP__\n",
    "\n",
    "_Implement the 20-period VWAP calculation with our file reader (using the data file 'output.csv'), and write the values to a new list._ \n",
    "\n",
    "Hint: for the calculation always use the last 20 elements from our price and volume lists."
   ]
  },
  {
   "cell_type": "code",
   "execution_count": 2,
   "metadata": {},
   "outputs": [],
   "source": [
    "# Solution\n",
    "\n",
    "close_prices = []\n",
    "volumes = []\n",
    "vwaps = []\n",
    "\n",
    "# Opening file\n",
    "fid = open('output.csv')\n",
    "fid.readline() \n",
    "for i in fid:\n",
    "    line = i.strip().split(',')\n",
    "    cl = float(line[1])\n",
    "    vol = float(line[5])\n",
    "    close_prices.append(cl)\n",
    "    volumes.append(vol)\n",
    "    vwap = np.sum(np.multiply(close_prices[-20:],volumes[-20:]))/np.sum(volumes[-20:])\n",
    "    vwaps.append(vwap)"
   ]
  },
  {
   "cell_type": "markdown",
   "metadata": {},
   "source": [
    "## _Exercise 3.2_\n",
    "1. Read in the output.csv file and save it as a dataframe.\n",
    "2. Plot the percentage returns of the close prices in one line.\n",
    "\n",
    "Hint: Use the Pandas documentation to find the right functions."
   ]
  },
  {
   "cell_type": "code",
   "execution_count": 3,
   "metadata": {},
   "outputs": [
    {
     "data": {
      "text/plain": [
       "<AxesSubplot:>"
      ]
     },
     "execution_count": 3,
     "metadata": {},
     "output_type": "execute_result"
    },
    {
     "data": {
      "image/png": "[encoded data removed]",
      "text/plain": [
       "<Figure size 432x288 with 1 Axes>"
      ]
     },
     "metadata": {
      "needs_background": "light"
     },
     "output_type": "display_data"
    }
   ],
   "source": [
    "# Solution\n",
    "\n",
    "data = pd.read_csv('output.csv')\n",
    "data['Close'].pct_change().plot()"
   ]
  },
  {
   "cell_type": "code",
   "execution_count": 4,
   "metadata": {},
   "outputs": [
    {
     "data": {
      "text/plain": [
       "\u001b[1;31mSignature:\u001b[0m\n",
       "\u001b[0mdata\u001b[0m\u001b[1;33m.\u001b[0m\u001b[0mpct_change\u001b[0m\u001b[1;33m(\u001b[0m\u001b[1;33m\n",
       "\u001b[0m    \u001b[0mperiods\u001b[0m\u001b[1;33m=\u001b[0m\u001b[1;36m1\u001b[0m\u001b[1;33m,\u001b[0m\u001b[1;33m\n",
       "\u001b[0m    \u001b[0mfill_method\u001b[0m\u001b[1;33m=\u001b[0m\u001b[1;34m'pad'\u001b[0m\u001b[1;33m,\u001b[0m\u001b[1;33m\n",
       "\u001b[0m    \u001b[0mlimit\u001b[0m\u001b[1;33m=\u001b[0m\u001b[1;32mNone\u001b[0m\u001b[1;33m,\u001b[0m\u001b[1;33m\n",
       "\u001b[0m    \u001b[0mfreq\u001b[0m\u001b[1;33m=\u001b[0m\u001b[1;32mNone\u001b[0m\u001b[1;33m,\u001b[0m\u001b[1;33m\n",
       "\u001b[0m    \u001b[1;33m**\u001b[0m\u001b[0mkwargs\u001b[0m\u001b[1;33m,\u001b[0m\u001b[1;33m\n",
       "\u001b[0m\u001b[1;33m)\u001b[0m \u001b[1;33m->\u001b[0m \u001b[1;34m'FrameOrSeries'\u001b[0m\u001b[1;33m\u001b[0m\u001b[1;33m\u001b[0m\u001b[0m\n",
       "\u001b[1;31mSource:\u001b[0m   \n",
       "    \u001b[1;33m@\u001b[0m\u001b[0mfinal\u001b[0m\u001b[1;33m\n",
       "\u001b[0m    \u001b[1;32mdef\u001b[0m \u001b[0mpct_change\u001b[0m\u001b[1;33m(\u001b[0m\u001b[1;33m\n",
       "\u001b[0m        \u001b[0mself\u001b[0m\u001b[1;33m:\u001b[0m \u001b[0mFrameOrSeries\u001b[0m\u001b[1;33m,\u001b[0m\u001b[1;33m\n",
       "\u001b[0m        \u001b[0mperiods\u001b[0m\u001b[1;33m=\u001b[0m\u001b[1;36m1\u001b[0m\u001b[1;33m,\u001b[0m\u001b[1;33m\n",
       "\u001b[0m        \u001b[0mfill_method\u001b[0m\u001b[1;33m=\u001b[0m\u001b[1;34m\"pad\"\u001b[0m\u001b[1;33m,\u001b[0m\u001b[1;33m\n",
       "\u001b[0m        \u001b[0mlimit\u001b[0m\u001b[1;33m=\u001b[0m\u001b[1;32mNone\u001b[0m\u001b[1;33m,\u001b[0m\u001b[1;33m\n",
       "\u001b[0m        \u001b[0mfreq\u001b[0m\u001b[1;33m=\u001b[0m\u001b[1;32mNone\u001b[0m\u001b[1;33m,\u001b[0m\u001b[1;33m\n",
       "\u001b[0m        \u001b[1;33m**\u001b[0m\u001b[0mkwargs\u001b[0m\u001b[1;33m,\u001b[0m\u001b[1;33m\n",
       "\u001b[0m    \u001b[1;33m)\u001b[0m \u001b[1;33m->\u001b[0m \u001b[0mFrameOrSeries\u001b[0m\u001b[1;33m:\u001b[0m\u001b[1;33m\n",
       "\u001b[0m        \u001b[1;34m\"\"\"\n",
       "        Percentage change between the current and a prior element.\n",
       "\n",
       "        Computes the percentage change from the immediately previous row by\n",
       "        default. This is useful in comparing the percentage of change in a time\n",
       "        series of elements.\n",
       "\n",
       "        Parameters\n",
       "        ----------\n",
       "        periods : int, default 1\n",
       "            Periods to shift for forming percent change.\n",
       "        fill_method : str, default 'pad'\n",
       "            How to handle NAs before computing percent changes.\n",
       "        limit : int, default None\n",
       "            The number of consecutive NAs to fill before stopping.\n",
       "        freq : DateOffset, timedelta, or str, optional\n",
       "            Increment to use from time series API (e.g. 'M' or BDay()).\n",
       "        **kwargs\n",
       "            Additional keyword arguments are passed into\n",
       "            `DataFrame.shift` or `Series.shift`.\n",
       "\n",
       "        Returns\n",
       "        -------\n",
       "        chg : Series or DataFrame\n",
       "            The same type as the calling object.\n",
       "\n",
       "        See Also\n",
       "        --------\n",
       "        Series.diff : Compute the difference of two elements in a Series.\n",
       "        DataFrame.diff : Compute the difference of two elements in a DataFrame.\n",
       "        Series.shift : Shift the index by some number of periods.\n",
       "        DataFrame.shift : Shift the index by some number of periods.\n",
       "\n",
       "        Examples\n",
       "        --------\n",
       "        **Series**\n",
       "\n",
       "        >>> s = pd.Series([90, 91, 85])\n",
       "        >>> s\n",
       "        0    90\n",
       "        1    91\n",
       "        2    85\n",
       "        dtype: int64\n",
       "\n",
       "        >>> s.pct_change()\n",
       "        0         NaN\n",
       "        1    0.011111\n",
       "        2   -0.065934\n",
       "        dtype: float64\n",
       "\n",
       "        >>> s.pct_change(periods=2)\n",
       "        0         NaN\n",
       "        1         NaN\n",
       "        2   -0.055556\n",
       "        dtype: float64\n",
       "\n",
       "        See the percentage change in a Series where filling NAs with last\n",
       "        valid observation forward to next valid.\n",
       "\n",
       "        >>> s = pd.Series([90, 91, None, 85])\n",
       "        >>> s\n",
       "        0    90.0\n",
       "        1    91.0\n",
       "        2     NaN\n",
       "        3    85.0\n",
       "        dtype: float64\n",
       "\n",
       "        >>> s.pct_change(fill_method='ffill')\n",
       "        0         NaN\n",
       "        1    0.011111\n",
       "        2    0.000000\n",
       "        3   -0.065934\n",
       "        dtype: float64\n",
       "\n",
       "        **DataFrame**\n",
       "\n",
       "        Percentage change in French franc, Deutsche Mark, and Italian lira from\n",
       "        1980-01-01 to 1980-03-01.\n",
       "\n",
       "        >>> df = pd.DataFrame({\n",
       "        ...     'FR': [4.0405, 4.0963, 4.3149],\n",
       "        ...     'GR': [1.7246, 1.7482, 1.8519],\n",
       "        ...     'IT': [804.74, 810.01, 860.13]},\n",
       "        ...     index=['1980-01-01', '1980-02-01', '1980-03-01'])\n",
       "        >>> df\n",
       "                        FR      GR      IT\n",
       "        1980-01-01  4.0405  1.7246  804.74\n",
       "        1980-02-01  4.0963  1.7482  810.01\n",
       "        1980-03-01  4.3149  1.8519  860.13\n",
       "\n",
       "        >>> df.pct_change()\n",
       "                          FR        GR        IT\n",
       "        1980-01-01       NaN       NaN       NaN\n",
       "        1980-02-01  0.013810  0.013684  0.006549\n",
       "        1980-03-01  0.053365  0.059318  0.061876\n",
       "\n",
       "        Percentage of change in GOOG and APPL stock volume. Shows computing\n",
       "        the percentage change between columns.\n",
       "\n",
       "        >>> df = pd.DataFrame({\n",
       "        ...     '2016': [1769950, 30586265],\n",
       "        ...     '2015': [1500923, 40912316],\n",
       "        ...     '2014': [1371819, 41403351]},\n",
       "        ...     index=['GOOG', 'APPL'])\n",
       "        >>> df\n",
       "                  2016      2015      2014\n",
       "        GOOG   1769950   1500923   1371819\n",
       "        APPL  30586265  40912316  41403351\n",
       "\n",
       "        >>> df.pct_change(axis='columns', periods=-1)\n",
       "                  2016      2015  2014\n",
       "        GOOG  0.179241  0.094112   NaN\n",
       "        APPL -0.252395 -0.011860   NaN\n",
       "        \"\"\"\u001b[0m\u001b[1;33m\n",
       "\u001b[0m        \u001b[0maxis\u001b[0m \u001b[1;33m=\u001b[0m \u001b[0mself\u001b[0m\u001b[1;33m.\u001b[0m\u001b[0m_get_axis_number\u001b[0m\u001b[1;33m(\u001b[0m\u001b[0mkwargs\u001b[0m\u001b[1;33m.\u001b[0m\u001b[0mpop\u001b[0m\u001b[1;33m(\u001b[0m\u001b[1;34m\"axis\"\u001b[0m\u001b[1;33m,\u001b[0m \u001b[0mself\u001b[0m\u001b[1;33m.\u001b[0m\u001b[0m_stat_axis_name\u001b[0m\u001b[1;33m)\u001b[0m\u001b[1;33m)\u001b[0m\u001b[1;33m\n",
       "\u001b[0m        \u001b[1;32mif\u001b[0m \u001b[0mfill_method\u001b[0m \u001b[1;32mis\u001b[0m \u001b[1;32mNone\u001b[0m\u001b[1;33m:\u001b[0m\u001b[1;33m\n",
       "\u001b[0m            \u001b[0mdata\u001b[0m \u001b[1;33m=\u001b[0m \u001b[0mself\u001b[0m\u001b[1;33m\n",
       "\u001b[0m        \u001b[1;32melse\u001b[0m\u001b[1;33m:\u001b[0m\u001b[1;33m\n",
       "\u001b[0m            \u001b[0m_data\u001b[0m \u001b[1;33m=\u001b[0m \u001b[0mself\u001b[0m\u001b[1;33m.\u001b[0m\u001b[0mfillna\u001b[0m\u001b[1;33m(\u001b[0m\u001b[0mmethod\u001b[0m\u001b[1;33m=\u001b[0m\u001b[0mfill_method\u001b[0m\u001b[1;33m,\u001b[0m \u001b[0maxis\u001b[0m\u001b[1;33m=\u001b[0m\u001b[0maxis\u001b[0m\u001b[1;33m,\u001b[0m \u001b[0mlimit\u001b[0m\u001b[1;33m=\u001b[0m\u001b[0mlimit\u001b[0m\u001b[1;33m)\u001b[0m\u001b[1;33m\n",
       "\u001b[0m            \u001b[1;32massert\u001b[0m \u001b[0m_data\u001b[0m \u001b[1;32mis\u001b[0m \u001b[1;32mnot\u001b[0m \u001b[1;32mNone\u001b[0m  \u001b[1;31m# needed for mypy\u001b[0m\u001b[1;33m\n",
       "\u001b[0m            \u001b[0mdata\u001b[0m \u001b[1;33m=\u001b[0m \u001b[0m_data\u001b[0m\u001b[1;33m\n",
       "\u001b[0m\u001b[1;33m\n",
       "\u001b[0m        \u001b[0mshifted\u001b[0m \u001b[1;33m=\u001b[0m \u001b[0mdata\u001b[0m\u001b[1;33m.\u001b[0m\u001b[0mshift\u001b[0m\u001b[1;33m(\u001b[0m\u001b[0mperiods\u001b[0m\u001b[1;33m=\u001b[0m\u001b[0mperiods\u001b[0m\u001b[1;33m,\u001b[0m \u001b[0mfreq\u001b[0m\u001b[1;33m=\u001b[0m\u001b[0mfreq\u001b[0m\u001b[1;33m,\u001b[0m \u001b[0maxis\u001b[0m\u001b[1;33m=\u001b[0m\u001b[0maxis\u001b[0m\u001b[1;33m,\u001b[0m \u001b[1;33m**\u001b[0m\u001b[0mkwargs\u001b[0m\u001b[1;33m)\u001b[0m\u001b[1;33m\n",
       "\u001b[0m        \u001b[1;31m# Unsupported left operand type for / (\"FrameOrSeries\")\u001b[0m\u001b[1;33m\n",
       "\u001b[0m        \u001b[0mrs\u001b[0m \u001b[1;33m=\u001b[0m \u001b[0mdata\u001b[0m \u001b[1;33m/\u001b[0m \u001b[0mshifted\u001b[0m \u001b[1;33m-\u001b[0m \u001b[1;36m1\u001b[0m  \u001b[1;31m# type: ignore[operator]\u001b[0m\u001b[1;33m\n",
       "\u001b[0m        \u001b[1;32mif\u001b[0m \u001b[0mfreq\u001b[0m \u001b[1;32mis\u001b[0m \u001b[1;32mnot\u001b[0m \u001b[1;32mNone\u001b[0m\u001b[1;33m:\u001b[0m\u001b[1;33m\n",
       "\u001b[0m            \u001b[1;31m# Shift method is implemented differently when freq is not None\u001b[0m\u001b[1;33m\n",
       "\u001b[0m            \u001b[1;31m# We want to restore the original index\u001b[0m\u001b[1;33m\n",
       "\u001b[0m            \u001b[0mrs\u001b[0m \u001b[1;33m=\u001b[0m \u001b[0mrs\u001b[0m\u001b[1;33m.\u001b[0m\u001b[0mloc\u001b[0m\u001b[1;33m[\u001b[0m\u001b[1;33m~\u001b[0m\u001b[0mrs\u001b[0m\u001b[1;33m.\u001b[0m\u001b[0mindex\u001b[0m\u001b[1;33m.\u001b[0m\u001b[0mduplicated\u001b[0m\u001b[1;33m(\u001b[0m\u001b[1;33m)\u001b[0m\u001b[1;33m]\u001b[0m\u001b[1;33m\n",
       "\u001b[0m            \u001b[0mrs\u001b[0m \u001b[1;33m=\u001b[0m \u001b[0mrs\u001b[0m\u001b[1;33m.\u001b[0m\u001b[0mreindex_like\u001b[0m\u001b[1;33m(\u001b[0m\u001b[0mdata\u001b[0m\u001b[1;33m)\u001b[0m\u001b[1;33m\n",
       "\u001b[0m        \u001b[1;32mreturn\u001b[0m \u001b[0mrs\u001b[0m\u001b[1;33m\u001b[0m\u001b[1;33m\u001b[0m\u001b[0m\n",
       "\u001b[1;31mFile:\u001b[0m      d:\\encore-4team\\step3 데이터 전처리\\project-yfinance\\venv\\lib\\site-packages\\pandas\\core\\generic.py\n",
       "\u001b[1;31mType:\u001b[0m      method\n"
      ]
     },
     "metadata": {},
     "output_type": "display_data"
    }
   ],
   "source": [
    "??data.pct_change"
   ]
  },
  {
   "cell_type": "code",
   "execution_count": null,
   "metadata": {},
   "outputs": [],
   "source": []
  }
 ],
 "metadata": {
  "kernelspec": {
   "display_name": "Python 3 (ipykernel)",
   "language": "python",
   "name": "python3"
  },
  "language_info": {
   "codemirror_mode": {
    "name": "ipython",
    "version": 3
   },
   "file_extension": ".py",
   "mimetype": "text/x-python",
   "name": "python",
   "nbconvert_exporter": "python",
   "pygments_lexer": "ipython3",
   "version": "3.8.8"
  }
 },
 "nbformat": 4,
 "nbformat_minor": 4
}
