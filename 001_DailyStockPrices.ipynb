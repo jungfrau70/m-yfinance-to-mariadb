{
 "cells": [
  {
   "cell_type": "code",
   "execution_count": 1,
   "id": "a6695345-6c19-41a6-8951-656de9040353",
   "metadata": {},
   "outputs": [
    {
     "name": "stdout",
     "output_type": "stream",
     "text": [
      "Overwriting quants/1_DailyStockPrices.py\n"
     ]
    }
   ],
   "source": [
    "%%writefile quants/1_DailyStockPrices.py\n",
    "\n",
    "import FinanceDataReader as fdr\n",
    "import os\n",
    "import pandas as pd\n",
    "import numpy as np\n",
    "import time\n",
    "import yfinance as yf\n",
    "import warnings\n",
    "warnings.filterwarnings(action='ignore')\n",
    "\n",
    "from datetime import datetime\n",
    "from datetime import date\n",
    "from dateutil.relativedelta import relativedelta\n",
    "from pandas_datareader import data as pdr\n",
    "from pandas import ExcelWriter\n",
    "\n",
    "# Variables\n",
    "now = datetime.now()\n",
    "start_date = now - relativedelta(years=2)\n",
    "end_date = now - relativedelta(days=1)\n",
    "\n",
    "index_name = 'S&P500' # NASDAQ - 'nasdaq'\n",
    "stocks = fdr.StockListing(index_name)\n",
    "tickers = stocks['Symbol'].tolist()\n",
    "\n",
    "exportList = pd.DataFrame(columns=['Stock', \"RS_Rating\", \"50 Day MA\", \"150 Day Ma\", \"200 Day MA\", \"52 Week Low\", \"52 week High\"])\n",
    "returns_multiples = []\n",
    "\n",
    "# Index Returns\n",
    "index_name = 'US500'\n",
    "index_df = fdr.DataReader(index_name, start_date, end_date)\n",
    "index_return = (index_df['Change'] + 1).cumprod()[-1]\n",
    "\n",
    "filePath='./quants/data/'\n",
    "\n",
    "# Find top 30% performing stocks (relative to the S&P 500)\n",
    "for ticker in tickers:\n",
    "    # Download historical data as CSV for each stock (makes the process faster)\n",
    "#     df = pdr.get_data_yahoo(ticker, start_date, end_date)\n",
    "    df = fdr.DataReader(ticker, start_date, end_date)\n",
    "    df.to_csv(f'{filePath}{ticker}.csv')\n",
    "\n",
    "    # Calculating returns relative to the market (returns multiple)\n",
    "    df['Change'] = df['Close'].pct_change()\n",
    "    stock_return = (df['Change'] + 1).cumprod()[-1]\n",
    "    \n",
    "    returns_multiple = round((stock_return / index_return), 2)\n",
    "    returns_multiples.extend([returns_multiple])\n",
    "    \n",
    "    print (f'Ticker: {ticker}; Returns Multiple against S&P 500: {returns_multiple}\\n')\n",
    "    time.sleep(1)\n",
    "\n",
    "# Creating dataframe of only top 30%\n",
    "rs_df = pd.DataFrame(list(zip(tickers, returns_multiples)), columns=['Ticker', 'Returns_multiple'])\n",
    "rs_df['RS_Rating'] = rs_df.Returns_multiple.rank(pct=True) * 100\n",
    "rs_df = rs_df[rs_df.RS_Rating >= rs_df.RS_Rating.quantile(.70)]"
   ]
  },
  {
   "cell_type": "code",
   "execution_count": null,
   "id": "86850d54-eae5-4316-aee9-3289d76c7765",
   "metadata": {},
   "outputs": [],
   "source": [
    "%run quants/1_DailyStockPrices.py"
   ]
  },
  {
   "cell_type": "code",
   "execution_count": null,
   "id": "0e99c6ae-9c5c-43ee-ad70-ec07b02fa4d2",
   "metadata": {},
   "outputs": [],
   "source": []
  }
 ],
 "metadata": {
  "kernelspec": {
   "display_name": "Python 3",
   "language": "python",
   "name": "python3"
  },
  "language_info": {
   "codemirror_mode": {
    "name": "ipython",
    "version": 3
   },
   "file_extension": ".py",
   "mimetype": "text/x-python",
   "name": "python",
   "nbconvert_exporter": "python",
   "pygments_lexer": "ipython3",
   "version": "3.8.9"
  }
 },
 "nbformat": 4,
 "nbformat_minor": 5
}
