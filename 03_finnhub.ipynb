{
 "cells": [
  {
   "cell_type": "code",
   "execution_count": 31,
   "id": "3f820e31-e708-403a-9fd2-dcd039864dc1",
   "metadata": {},
   "outputs": [],
   "source": [
    "import yfinance as yf\n",
    "import pymysql\n",
    "import datetime \n",
    "import pandas as pd \n",
    "from dateutil.relativedelta import relativedelta\n",
    "from yahoo_earnings_calendar import YahooEarningsCalendar\n",
    "yec = YahooEarningsCalendar()"
   ]
  },
  {
   "cell_type": "code",
   "execution_count": 3,
   "id": "d1902469-8479-41fa-b830-3924915c985c",
   "metadata": {},
   "outputs": [],
   "source": [
    "# 1. DB 연결\n",
    "def connect_db():\n",
    "    conn = pymysql.connect(host=\"localhost\", user=\"root\", password=\"4team123!\",\n",
    "                           db=\"stockDB\", charset=\"utf8\")  \n",
    "    return conn\n",
    "\n",
    "today = datetime.datetime.now().strftime('%Y%m%d') \n",
    "conn = connect_db()\n",
    "curs = conn.cursor() "
   ]
  },
  {
   "cell_type": "code",
   "execution_count": 5,
   "id": "533f8643-9ab9-4ed7-8c7b-8ba834f03862",
   "metadata": {},
   "outputs": [
    {
     "name": "stdout",
     "output_type": "stream",
     "text": [
      "7525\n"
     ]
    }
   ],
   "source": [
    "# 이미 입력된 TICKER 리스트 \n",
    "sql = \"SELECT DISTINCT SYMBOL FROM USA_STOCK_INFO\" \n",
    "curs.execute(sql) \n",
    "stock_list = [item[0] for item in curs.fetchall()] \n",
    "conn.commit() \n",
    "print(len(stock_list))"
   ]
  },
  {
   "cell_type": "code",
   "execution_count": 7,
   "id": "2ef201d9-2ea9-4b15-b25a-b1ffeab4b2c5",
   "metadata": {},
   "outputs": [],
   "source": [
    "# 입력된 ticker의 최근 실적발표일을 리턴 \n",
    "def get_pre_earning_date(ticker): \n",
    "    pre_earning_date = [] \n",
    "    try: \n",
    "        history = si.get_earnings_history(ticker) \n",
    "        before_now = [x['startdatetime'][0:10].replace('-','') for x in history if x['startdatetime'][0:10].replace('-','') < today] \n",
    "        pre_earning_date.append(before_now[0])         \n",
    "    except: \n",
    "        pre_earning_date.append('') \n",
    "    return pre_earning_date"
   ]
  },
  {
   "cell_type": "code",
   "execution_count": 8,
   "id": "e3e376c1-f5fe-4fbf-b049-25351b804c5f",
   "metadata": {},
   "outputs": [],
   "source": [
    "def get_next_earning_date(ticker): \n",
    "    next_earning_date = [] \n",
    "    try: \n",
    "        next_earning_date.append(si.get_next_earnings_date(ticker).strftime('%Y%m%d')) \n",
    "    except: \n",
    "        next_earning_date.append('') \n",
    "    return next_earning_date"
   ]
  },
  {
   "cell_type": "code",
   "execution_count": null,
   "id": "d86984cd-ba60-4ad6-9d4f-37a1904d0f24",
   "metadata": {},
   "outputs": [],
   "source": []
  },
  {
   "cell_type": "code",
   "execution_count": null,
   "id": "82d8fdf7-bce0-40f7-a721-fc4da1b141b6",
   "metadata": {},
   "outputs": [],
   "source": [
    "sql = \"\"\"update USA_STOCK_INFO set PRE_EARNING_DATE = %s , NEXT_EARNING_DATE = %s where symbol = %s\"\"\" \n",
    "\n",
    "# 반복문 돌면서 INSERT \n",
    "for i, ticker in enumerate(stock_list): \n",
    "    try: \n",
    "        earning_date_info = get_pre_earning_date(ticker) \n",
    "        earning_date_info = earning_date_info + get_next_earning_date(ticker) \n",
    "        earning_date_info = earning_date_info + [ticker] \n",
    "#         curs.execute(sql, earning_date_info) \n",
    "#         conn.commit() \n",
    "    except Exception as e: \n",
    "        print(i, ' 번 째 오류 발생 : ', ticker, ' 오류:', str(e))"
   ]
  },
  {
   "cell_type": "markdown",
   "id": "cf746760-b451-4cfa-bd5a-2a738332a07f",
   "metadata": {},
   "source": [
    "# DB 데이터 로딩"
   ]
  },
  {
   "cell_type": "code",
   "execution_count": 28,
   "id": "28e5ec72-0221-4b8c-8d1b-6874192a94cc",
   "metadata": {},
   "outputs": [
    {
     "data": {
      "text/plain": [
       "['', '', 'GLO RT WI']"
      ]
     },
     "execution_count": 28,
     "metadata": {},
     "output_type": "execute_result"
    }
   ],
   "source": [
    "earning_date_info"
   ]
  },
  {
   "cell_type": "code",
   "execution_count": 14,
   "id": "df6b1970-cd90-47af-8b5e-1a943b90a9b9",
   "metadata": {},
   "outputs": [],
   "source": [
    "cur = conn.cursor() # 2. 커서 생성 (트럭, 연결로프)\n",
    "sql = \"SELECT * FROM `usa_stock_info`\"\n",
    "cur.execute(sql)\n",
    "\n",
    "rows = cur.fetchall()"
   ]
  },
  {
   "cell_type": "code",
   "execution_count": 21,
   "id": "57777ebc-3d4b-49f2-b894-895aa2331c8f",
   "metadata": {},
   "outputs": [],
   "source": [
    "dataList = list(rows)\n",
    "\n",
    "df = pd.DataFrame(\n",
    "    dataList, columns=['index', 'Symbol', 'Name', 'Industry', 'IndustryCode'])"
   ]
  },
  {
   "cell_type": "code",
   "execution_count": 27,
   "id": "532d92b2-9a8e-4f42-b283-486c511baa01",
   "metadata": {},
   "outputs": [
    {
     "data": {
      "text/html": [
       "<div>\n",
       "<style scoped>\n",
       "    .dataframe tbody tr th:only-of-type {\n",
       "        vertical-align: middle;\n",
       "    }\n",
       "\n",
       "    .dataframe tbody tr th {\n",
       "        vertical-align: top;\n",
       "    }\n",
       "\n",
       "    .dataframe thead th {\n",
       "        text-align: right;\n",
       "    }\n",
       "</style>\n",
       "<table border=\"1\" class=\"dataframe\">\n",
       "  <thead>\n",
       "    <tr style=\"text-align: right;\">\n",
       "      <th></th>\n",
       "      <th>index</th>\n",
       "      <th>Symbol</th>\n",
       "      <th>Name</th>\n",
       "      <th>Industry</th>\n",
       "      <th>IndustryCode</th>\n",
       "    </tr>\n",
       "  </thead>\n",
       "  <tbody>\n",
       "    <tr>\n",
       "      <th>0</th>\n",
       "      <td>0</td>\n",
       "      <td>AAPL</td>\n",
       "      <td>Apple Inc</td>\n",
       "      <td>컴퓨터, 전화 및 가전제품</td>\n",
       "      <td>571060</td>\n",
       "    </tr>\n",
       "    <tr>\n",
       "      <th>1</th>\n",
       "      <td>1</td>\n",
       "      <td>MSFT</td>\n",
       "      <td>Microsoft Corp</td>\n",
       "      <td>소프트웨어 및 IT서비스</td>\n",
       "      <td>572010</td>\n",
       "    </tr>\n",
       "    <tr>\n",
       "      <th>2</th>\n",
       "      <td>2</td>\n",
       "      <td>AMZN</td>\n",
       "      <td>Amazon.com Inc</td>\n",
       "      <td>다양한 소매업</td>\n",
       "      <td>534020</td>\n",
       "    </tr>\n",
       "    <tr>\n",
       "      <th>3</th>\n",
       "      <td>3</td>\n",
       "      <td>FB</td>\n",
       "      <td>Facebook Inc Class A</td>\n",
       "      <td>소프트웨어 및 IT서비스</td>\n",
       "      <td>572010</td>\n",
       "    </tr>\n",
       "    <tr>\n",
       "      <th>4</th>\n",
       "      <td>4</td>\n",
       "      <td>GOOGL</td>\n",
       "      <td>Alphabet Inc Class A</td>\n",
       "      <td>소프트웨어 및 IT서비스</td>\n",
       "      <td>572010</td>\n",
       "    </tr>\n",
       "    <tr>\n",
       "      <th>...</th>\n",
       "      <td>...</td>\n",
       "      <td>...</td>\n",
       "      <td>...</td>\n",
       "      <td>...</td>\n",
       "      <td>...</td>\n",
       "    </tr>\n",
       "    <tr>\n",
       "      <th>7524</th>\n",
       "      <td>292</td>\n",
       "      <td>IPB</td>\n",
       "      <td>Merrill LYNCH Depositor Inc Indexplus Trust Se...</td>\n",
       "      <td>은행</td>\n",
       "      <td>551010</td>\n",
       "    </tr>\n",
       "    <tr>\n",
       "      <th>7525</th>\n",
       "      <td>293</td>\n",
       "      <td>VHAQ RT</td>\n",
       "      <td>Viveon Health Acquisition Corp</td>\n",
       "      <td>기타 금융업</td>\n",
       "      <td>556010</td>\n",
       "    </tr>\n",
       "    <tr>\n",
       "      <th>7526</th>\n",
       "      <td>294</td>\n",
       "      <td>GLQ RT WI</td>\n",
       "      <td>Clough Global Equity Fund</td>\n",
       "      <td>다양한 금융서비스</td>\n",
       "      <td>555010</td>\n",
       "    </tr>\n",
       "    <tr>\n",
       "      <th>7527</th>\n",
       "      <td>295</td>\n",
       "      <td>GLV RT WI</td>\n",
       "      <td>Clough Global Dividend and Income Fund</td>\n",
       "      <td>다양한 금융서비스</td>\n",
       "      <td>555010</td>\n",
       "    </tr>\n",
       "    <tr>\n",
       "      <th>7528</th>\n",
       "      <td>296</td>\n",
       "      <td>GLO RT WI</td>\n",
       "      <td>Clough Global Opportunities Fund</td>\n",
       "      <td>다양한 금융서비스</td>\n",
       "      <td>555010</td>\n",
       "    </tr>\n",
       "  </tbody>\n",
       "</table>\n",
       "<p>7529 rows × 5 columns</p>\n",
       "</div>"
      ],
      "text/plain": [
       "      index     Symbol                                               Name  \\\n",
       "0         0       AAPL                                          Apple Inc   \n",
       "1         1       MSFT                                     Microsoft Corp   \n",
       "2         2       AMZN                                     Amazon.com Inc   \n",
       "3         3         FB                               Facebook Inc Class A   \n",
       "4         4      GOOGL                               Alphabet Inc Class A   \n",
       "...     ...        ...                                                ...   \n",
       "7524    292        IPB  Merrill LYNCH Depositor Inc Indexplus Trust Se...   \n",
       "7525    293    VHAQ RT                     Viveon Health Acquisition Corp   \n",
       "7526    294  GLQ RT WI                          Clough Global Equity Fund   \n",
       "7527    295  GLV RT WI             Clough Global Dividend and Income Fund   \n",
       "7528    296  GLO RT WI                   Clough Global Opportunities Fund   \n",
       "\n",
       "            Industry IndustryCode  \n",
       "0     컴퓨터, 전화 및 가전제품       571060  \n",
       "1      소프트웨어 및 IT서비스       572010  \n",
       "2            다양한 소매업       534020  \n",
       "3      소프트웨어 및 IT서비스       572010  \n",
       "4      소프트웨어 및 IT서비스       572010  \n",
       "...              ...          ...  \n",
       "7524              은행       551010  \n",
       "7525          기타 금융업       556010  \n",
       "7526       다양한 금융서비스       555010  \n",
       "7527       다양한 금융서비스       555010  \n",
       "7528       다양한 금융서비스       555010  \n",
       "\n",
       "[7529 rows x 5 columns]"
      ]
     },
     "execution_count": 27,
     "metadata": {},
     "output_type": "execute_result"
    }
   ],
   "source": [
    "df"
   ]
  },
  {
   "cell_type": "markdown",
   "id": "c602dbfb-972b-4b59-b63a-b7a5331004e8",
   "metadata": {},
   "source": [
    "# 실적발표일"
   ]
  },
  {
   "cell_type": "code",
   "execution_count": null,
   "id": "1d135d70-cb5d-4a5d-b2b8-9686372c1f89",
   "metadata": {},
   "outputs": [],
   "source": [
    "# Execute the to_sql for writting DF into SQL\n",
    "df_stock.to_sql('usa_stock_info', engine, if_exists='append', index=False)  \n"
   ]
  },
  {
   "cell_type": "code",
   "execution_count": 91,
   "id": "d7c9fef3-5a57-47f4-834a-935cf444d1f4",
   "metadata": {},
   "outputs": [],
   "source": [
    "# Returns the next earnings date of BOX in Unix timestamp\n",
    "def get_next_earning_date(ticker):       \n",
    "    return yec.get_next_earnings_date(ticker)"
   ]
  },
  {
   "cell_type": "code",
   "execution_count": 92,
   "id": "33221dd3-0744-4e36-b536-5e076770c874",
   "metadata": {},
   "outputs": [
    {
     "data": {
      "text/plain": [
       "1627430400"
      ]
     },
     "execution_count": 92,
     "metadata": {},
     "output_type": "execute_result"
    }
   ],
   "source": [
    "get_next_earning_date('AAPL')"
   ]
  },
  {
   "cell_type": "markdown",
   "id": "f0f297c5-7994-4bc3-9f8d-4ebf597a5879",
   "metadata": {},
   "source": [
    "# 배당정보"
   ]
  },
  {
   "cell_type": "code",
   "execution_count": 63,
   "id": "d19a99ff-b751-4d0f-a493-485532b3a95d",
   "metadata": {},
   "outputs": [],
   "source": [
    "import finnhub\n",
    "\n",
    "# Setup client\n",
    "# finnhub_client = finnhub.Client(api_key=\"c3dg1raad3icrjj6ha80\")\n",
    "finnhub_client = finnhub.Client(api_key=\"sandbox_c3dg1raad3icrjj6ha8g\")\n",
    "\n",
    "token='c3dg1raad3icrjj6ha80'\n",
    "# token='sandbox_c3dg1raad3icrjj6ha8g'\n",
    "api_key='sandbox_c3dg1raad3icrjj6ha8g'\n",
    "token='sandbox_c3dg1raad3icrjj6ha8g'\n",
    "url = f'https://finnhub.io/api/v1/stock/symbol?exchange=US&token={api_key}'\n",
    "hist_url = 'https://finnhub.io/api/v1/stock/metric?'\n",
    "\n",
    "import requests\n",
    "def get_dividends(symbol):\n",
    "    global token\n",
    "    url = f'https://finnhub.io/api/v1/stock/dividend2?symbol={symbol}&token={token}'\n",
    "    r = requests.get(url)\n",
    "    return r.json()\n",
    "#     print(r.json())"
   ]
  },
  {
   "cell_type": "code",
   "execution_count": 98,
   "id": "2e91c301-17f9-43c8-940f-9208cecf72ad",
   "metadata": {},
   "outputs": [],
   "source": [
    "ret = get_dividends('AAPL')"
   ]
  },
  {
   "cell_type": "code",
   "execution_count": 99,
   "id": "da444ca1-3617-4dc3-a956-1429f182e585",
   "metadata": {},
   "outputs": [],
   "source": [
    "dividends_date = ret['data'][-1]['exDate']"
   ]
  },
  {
   "cell_type": "code",
   "execution_count": 100,
   "id": "0b3b0416-b359-4adc-9056-bca4003e0549",
   "metadata": {},
   "outputs": [
    {
     "name": "stdout",
     "output_type": "stream",
     "text": [
      "2021-05-07\n"
     ]
    }
   ],
   "source": [
    "print(dividends_date)"
   ]
  },
  {
   "cell_type": "code",
   "execution_count": 101,
   "id": "4fc9e427-6e86-422f-87ad-bf70909392e0",
   "metadata": {},
   "outputs": [],
   "source": [
    "recent = ret['data'][-5:]"
   ]
  },
  {
   "cell_type": "code",
   "execution_count": 109,
   "id": "13b23629-e9ab-4beb-8938-13d84c923f57",
   "metadata": {},
   "outputs": [
    {
     "name": "stdout",
     "output_type": "stream",
     "text": [
      "0.82\n",
      "0.82\n",
      "0.205\n",
      "0.205\n",
      "0.22\n",
      "2.27\n",
      "0.454\n"
     ]
    }
   ],
   "source": [
    "sum = 0\n",
    "recents = ret['data'][-5:]\n",
    "freq = len(recents)\n",
    "for div in recents:\n",
    "    sum += div['amount']\n",
    "    print(div['amount'])\n",
    "    \n",
    "print(sum)\n",
    "avg = sum/freq\n",
    "print(avg)"
   ]
  },
  {
   "cell_type": "code",
   "execution_count": 74,
   "id": "d0c3cece-b6c0-4743-814b-b80aae108a89",
   "metadata": {},
   "outputs": [
    {
     "data": {
      "text/plain": [
       "'2021-05-07'"
      ]
     },
     "execution_count": 74,
     "metadata": {},
     "output_type": "execute_result"
    }
   ],
   "source": [
    "this_div_date = ret['data'][-1]['exDate']\n",
    "this_div_date"
   ]
  },
  {
   "cell_type": "code",
   "execution_count": null,
   "id": "f962aef0-c6b4-4a87-bc22-ad83215826f0",
   "metadata": {},
   "outputs": [],
   "source": []
  }
 ],
 "metadata": {
  "kernelspec": {
   "display_name": "Python 3",
   "language": "python",
   "name": "python3"
  },
  "language_info": {
   "codemirror_mode": {
    "name": "ipython",
    "version": 3
   },
   "file_extension": ".py",
   "mimetype": "text/x-python",
   "name": "python",
   "nbconvert_exporter": "python",
   "pygments_lexer": "ipython3",
   "version": "3.8.9"
  }
 },
 "nbformat": 4,
 "nbformat_minor": 5
}
