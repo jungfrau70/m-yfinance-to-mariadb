{
 "cells": [
  {
   "cell_type": "code",
   "execution_count": 7,
   "id": "daa0802e-aa36-480b-af73-8781426a34f5",
   "metadata": {},
   "outputs": [],
   "source": [
    "import yfinance as yf\n",
    "import pymysql\n",
    "import datetime \n",
    "import pandas as pd \n",
    "from dateutil.relativedelta import relativedelta\n",
    "from yahoo_earnings_calendar import YahooEarningsCalendar\n",
    "yec = YahooEarningsCalendar()"
   ]
  },
  {
   "cell_type": "code",
   "execution_count": 9,
   "id": "3569302e-6099-4c3a-a5bd-820066493307",
   "metadata": {},
   "outputs": [],
   "source": [
    "# 1. DB 연결\n",
    "def connect_db():\n",
    "    conn = pymysql.connect(host=\"localhost\", user=\"root\", password=\"4team123!\",\n",
    "                           db=\"investar\", charset=\"utf8\")  \n",
    "    return conn\n",
    "\n",
    "today = datetime.datetime.now().strftime('%Y%m%d') \n",
    "conn = connect_db()\n",
    "curs = conn.cursor() "
   ]
  },
  {
   "cell_type": "markdown",
   "id": "ffc175f1-a4b7-4503-8ae2-6b3793e84c6e",
   "metadata": {},
   "source": [
    "# 종목(Ticker) 리스트 가져오기"
   ]
  },
  {
   "cell_type": "code",
   "execution_count": 4,
   "id": "2fb49bee-2f9a-454e-89ea-051115fd72ed",
   "metadata": {},
   "outputs": [
    {
     "name": "stdout",
     "output_type": "stream",
     "text": [
      "7525\n"
     ]
    }
   ],
   "source": [
    "sql = \"SELECT DISTINCT symbol FROM USA_STOCK_INFO\"\n",
    "curs.execute(sql) \n",
    "stock_list = [item[0] for item in curs.fetchall()] \n",
    "# conn.commit() \n",
    "# conn.close() \n",
    "print(len(stock_list))"
   ]
  },
  {
   "cell_type": "code",
   "execution_count": 5,
   "id": "5f69b4ce-37a1-4569-84ce-943c165aba94",
   "metadata": {},
   "outputs": [],
   "source": [
    "# 파일 다운로드 함수 \n",
    "file_path = \"./ASSETS/\" \n",
    "def download(url, file_name = None): \n",
    "    if not file_name: \n",
    "        file_name = url.split('/')[-1] \n",
    "        \n",
    "    with open(file_path+file_name, \"wb\") as file: \n",
    "        response = requests.get(url) \n",
    "        if response.status_code == 200: \n",
    "            file.write(response.content) \n",
    "            return True \n",
    "        return False"
   ]
  },
  {
   "cell_type": "code",
   "execution_count": 6,
   "id": "588ec9f7-62f6-4641-bf99-a3e99ad9c4e6",
   "metadata": {},
   "outputs": [],
   "source": [
    "# 실적 정보 다운로드 함수 \n",
    "def download_data(ticker): \n",
    "    income_url = \"https://stockrow.com/api/companies/{ticker}/financials.xlsx?dimension=Q&section=Income%20Statement&sort=desc\" \n",
    "    # Ticker 실적 정보 다운로드 \n",
    "    income_down = download(income_url.format(ticker=ticker), \"{ticker}_INCOME.xlsx\".format(ticker=ticker)) \n",
    "    if income_down == True: \n",
    "        return True \n",
    "    else: \n",
    "        return False"
   ]
  },
  {
   "cell_type": "code",
   "execution_count": 7,
   "id": "7b806224-c2c5-4ad5-8483-cddf4fedf961",
   "metadata": {},
   "outputs": [],
   "source": [
    "# 실적 정보 가져오는 함수 \n",
    "def get_stock_data(ticker): \n",
    "    # Ticker 주식 정보 Read \n",
    "    df_income = pd.read_excel(file_path+\"{ticker}_INCOME.xlsx\".format(ticker=ticker), index_col=0).fillna(0) \n",
    "    df_income = df_income.T \n",
    "    \n",
    "    list_isnert = [] \n",
    "    null_value = float(0) \n",
    "    \n",
    "    # 매출액 최근 5분기 \n",
    "    if 'Revenue' in df_income.columns: \n",
    "        for i in range(0,5): \n",
    "            list_isnert.append(float(df_income.iloc[i]['Revenue'])) \n",
    "    else : \n",
    "        list_isnert = list_isnert + [0,0,0,0,0] \n",
    "        \n",
    "    # 영업이익 최근 5분기 \n",
    "    if 'Operating Income' in df_income.columns: \n",
    "        for i in range(0,5): \n",
    "            list_isnert.append(float(df_income.iloc[i]['Operating Income'])) \n",
    "    else: \n",
    "        list_isnert = list_isnert + [0,0,0,0,0] \n",
    "        \n",
    "    # 순이익 최근 5분기 \n",
    "    if 'Net Income Common' in df_income.columns: \n",
    "        for i in range(0,5): \n",
    "            list_isnert.append(float(df_income.iloc[i]['Net Income Common'])) \n",
    "    else: \n",
    "        list_isnert = list_isnert + [0,0,0,0,0] \n",
    "        list_isnert = list_isnert + [str(df_income.index[0]).replace('-','')[:8], ticker] \n",
    "    return list_isnert"
   ]
  },
  {
   "cell_type": "code",
   "execution_count": 9,
   "id": "a8f7eb94-d1ee-4b86-a681-b0393f989fa7",
   "metadata": {},
   "outputs": [],
   "source": [
    "sql = \"\"\"UPDATE USA_STOCK_INFO SET SR_RE1 = %s , SR_RE2 = %s , SR_RE3 = %s , SR_RE4 = %s , SR_RE5 = %s , SR_OI1 = %s , SR_OI2 = %s , SR_OI3 = %s , SR_OI4 = %s , SR_OI5 = %s , SR_NI1 = %s , SR_NI2 = %s , SR_NI3 = %s , SR_NI4 = %s , SR_NI5 = %s , SR_YMD = %s WHERE STOCK_CODE = %s \"\"\""
   ]
  },
  {
   "cell_type": "code",
   "execution_count": 10,
   "id": "01c5eef7-a3b3-4841-bc57-a33893938d84",
   "metadata": {},
   "outputs": [
    {
     "name": "stdout",
     "output_type": "stream",
     "text": [
      "UPDATE USA_STOCK_INFO SET SR_RE1 = %s , SR_RE2 = %s , SR_RE3 = %s , SR_RE4 = %s , SR_RE5 = %s , SR_OI1 = %s , SR_OI2 = %s , SR_OI3 = %s , SR_OI4 = %s , SR_OI5 = %s , SR_NI1 = %s , SR_NI2 = %s , SR_NI3 = %s , SR_NI4 = %s , SR_NI5 = %s , SR_YMD = %s WHERE STOCK_CODE = %s \n"
     ]
    }
   ],
   "source": [
    "print(sql)"
   ]
  },
  {
   "cell_type": "code",
   "execution_count": null,
   "id": "97b6e1f0-78fa-4935-a1ad-555ee196d147",
   "metadata": {},
   "outputs": [],
   "source": [
    "# 반복문 돌면서 INSERT \n",
    "\n",
    "for i, ticker in enumerate(stock_list): \n",
    "    try: \n",
    "        if download_data(ticker): \n",
    "            stock_info = get_stock_data(ticker) \n",
    "            curs.execute(sql, stock_info) \n",
    "            conn.commit() \n",
    "        # else: \n",
    "        # print(i, ' 번 째 ', ticker, ' : NO DATA PASS') \n",
    "    except Exception as e: \n",
    "        print(i, ' 번 째 오류 발생 : ', ticker, ' 오류:', str(e)) conn.close()"
   ]
  }
 ],
 "metadata": {
  "kernelspec": {
   "display_name": "Python 3",
   "language": "python",
   "name": "python3"
  },
  "language_info": {
   "codemirror_mode": {
    "name": "ipython",
    "version": 3
   },
   "file_extension": ".py",
   "mimetype": "text/x-python",
   "name": "python",
   "nbconvert_exporter": "python",
   "pygments_lexer": "ipython3",
   "version": "3.8.9"
  }
 },
 "nbformat": 4,
 "nbformat_minor": 5
}
