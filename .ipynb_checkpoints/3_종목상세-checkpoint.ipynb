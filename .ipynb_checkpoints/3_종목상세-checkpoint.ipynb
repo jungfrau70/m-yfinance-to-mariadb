{
 "cells": [
  {
   "cell_type": "markdown",
   "id": "8588ebbc-02ae-4989-8741-626b2a2a03d0",
   "metadata": {},
   "source": [
    "# Loading Libraries"
   ]
  },
  {
   "cell_type": "code",
   "execution_count": 1,
   "id": "28a62663-c4ac-4782-87df-369df086c32d",
   "metadata": {},
   "outputs": [],
   "source": [
    "import concurrent.futures\n",
    "import json\n",
    "import numpy as np\n",
    "import pandas as pd\n",
    "import requests\n",
    "import time\n",
    "import yfinance as yf\n",
    "yf.pdr_override()\n",
    "\n",
    "from datetime import datetime\n",
    "import matplotlib.pyplot as plt\n",
    "from pandas_datareader import data as pdr\n",
    "from pandas.io.json import json_normalize\n",
    "from tqdm import tqdm"
   ]
  },
  {
   "cell_type": "markdown",
   "id": "17f9da43-45df-45d1-982c-1df72abd1251",
   "metadata": {},
   "source": [
    "# Variables"
   ]
  },
  {
   "cell_type": "code",
   "execution_count": 2,
   "id": "30509aed-64e0-4316-9c18-4d8c82451faa",
   "metadata": {},
   "outputs": [],
   "source": [
    "today = datetime.today().strftime('%Y-%m-%d')"
   ]
  },
  {
   "cell_type": "code",
   "execution_count": 3,
   "id": "2eefa96b-0970-4f75-98a7-52e9715a23bc",
   "metadata": {},
   "outputs": [],
   "source": [
    "def years_ago(dt, years):\n",
    "    if dt.month == 2 and dt.day == 29:\n",
    "        dt = dt.replace(day=28)\n",
    "\n",
    "    return dt.replace(year=dt.year - years)"
   ]
  },
  {
   "cell_type": "code",
   "execution_count": 4,
   "id": "d695c1e5-a7a1-4c98-b793-0d3f21e0c996",
   "metadata": {},
   "outputs": [],
   "source": [
    "one_year_ago = years_ago(datetime.today(), 1).strftime('%Y-%m-%d')"
   ]
  },
  {
   "cell_type": "code",
   "execution_count": 5,
   "id": "f7431b9c-d76b-473c-bd2f-e772d5b4159b",
   "metadata": {},
   "outputs": [],
   "source": [
    "ticker_list = \"ticker_list.csv\""
   ]
  },
  {
   "cell_type": "code",
   "execution_count": 6,
   "id": "7bc2a895-f62f-4539-8748-fb6db2bf24bd",
   "metadata": {},
   "outputs": [],
   "source": [
    "# token='c3dg1raad3icrjj6ha80'\n",
    "token='sandbox_c3dg1raad3icrjj6ha8g'\n",
    "api_key='sandbox_c3dg1raad3icrjj6ha8g'\n",
    "token='sandbox_c3dg1raad3icrjj6ha8g'\n",
    "url = f'https://finnhub.io/api/v1/stock/symbol?exchange=US&token={api_key}'\n",
    "\n",
    "MAX_THREADS = 300"
   ]
  },
  {
   "cell_type": "code",
   "execution_count": 7,
   "id": "3affe5ae-bf6a-4067-ac55-eda03e2345d3",
   "metadata": {},
   "outputs": [
    {
     "name": "stdout",
     "output_type": "stream",
     "text": [
      "https://finnhub.io/api/v1/stock/symbol?exchange=US&token=sandbox_c3dg1raad3icrjj6ha8g\n"
     ]
    }
   ],
   "source": [
    "print(url)"
   ]
  },
  {
   "cell_type": "markdown",
   "id": "7dd9c9cc-93ad-4b53-9081-38b89646052c",
   "metadata": {},
   "source": [
    "# Getting list_of_tickers"
   ]
  },
  {
   "cell_type": "code",
   "execution_count": null,
   "id": "56a7dafe-e5eb-4700-8b4f-913983ada8d9",
   "metadata": {},
   "outputs": [],
   "source": [
    "r = requests.get(url)  \n",
    "# 주피터 IOPub data rate exceeded. 해결방법 jupyter notebook --NotebookApp.iopub_data_rate_limit=1.0e10"
   ]
  },
  {
   "cell_type": "code",
   "execution_count": null,
   "id": "16e504d7-a5a9-4112-987f-512ba7ebaafa",
   "metadata": {},
   "outputs": [],
   "source": [
    "df = pd.json_normalize(r.json())"
   ]
  },
  {
   "cell_type": "code",
   "execution_count": null,
   "id": "fe135a3d-4318-409d-8def-9c133663e418",
   "metadata": {},
   "outputs": [],
   "source": [
    "df_tickers = df['symbol']\n",
    "df_tickers.to_csv(\"ticker_list.csv\", index=False)"
   ]
  },
  {
   "cell_type": "code",
   "execution_count": null,
   "id": "c1d956f2-bb78-469f-8954-30feeb89900a",
   "metadata": {},
   "outputs": [],
   "source": [
    "# list_of_tickers\n",
    "list_of_tickers = df['symbol'].values.tolist()"
   ]
  },
  {
   "cell_type": "markdown",
   "id": "8e6bd09f-3650-4c93-a05d-b358fcf91cd5",
   "metadata": {},
   "source": [
    "# Loading list_of_tickers"
   ]
  },
  {
   "cell_type": "code",
   "execution_count": 8,
   "id": "70a83613-f44a-4e1f-9b20-db322977835b",
   "metadata": {},
   "outputs": [],
   "source": [
    "df_tickers = pd.read_csv(ticker_list)\n",
    "list_of_tickers = df_tickers['symbol'].values.tolist()"
   ]
  },
  {
   "cell_type": "code",
   "execution_count": 9,
   "id": "2b5d21ce-deba-41e7-99e9-d5233427a98e",
   "metadata": {},
   "outputs": [
    {
     "name": "stdout",
     "output_type": "stream",
     "text": [
      "27498\n"
     ]
    }
   ],
   "source": [
    "print(len(list_of_tickers))"
   ]
  },
  {
   "cell_type": "code",
   "execution_count": 10,
   "id": "3726eed4-27b2-4418-8a87-877b4587d27b",
   "metadata": {},
   "outputs": [
    {
     "name": "stdout",
     "output_type": "stream",
     "text": [
      "CLALF\n",
      "MRAM\n",
      "PMKY\n",
      "VRME\n",
      "CBDX\n",
      "BCRD\n",
      "FHS\n",
      "SPND\n",
      "TLMD\n",
      "SILLF\n"
     ]
    }
   ],
   "source": [
    "count = 0\n",
    "for ticker in list_of_tickers:\n",
    "    print(ticker)\n",
    "    count += 1\n",
    "    if count >= 10:\n",
    "        break"
   ]
  },
  {
   "cell_type": "markdown",
   "id": "af2ff6b9-b946-4117-b563-c0f6c97c3da5",
   "metadata": {},
   "source": [
    "# Historical Price"
   ]
  },
  {
   "cell_type": "code",
   "execution_count": 12,
   "id": "973727ec-16f2-4181-b7cc-8f298d8398d4",
   "metadata": {},
   "outputs": [],
   "source": [
    "base_url = 'https://finnhub.io/api/v1/stock/metric?'"
   ]
  },
  {
   "cell_type": "code",
   "execution_count": 55,
   "id": "9771be7a-5db2-40d4-810f-4cdc971d315c",
   "metadata": {},
   "outputs": [],
   "source": [
    "r = requests.get(base_url, params = {'symbol': ticker, 'token':token,'metric':'price'})\n",
    "text = r.text\n",
    "ret = json.loads(text)\n",
    "df_hist = pd.DataFrame.from_dict(ret)\n",
    "df_hist.reset_index(level=0, inplace=True) # # df_hist['index1'] = df_hist.index\n",
    "df_hist = df_hist.pivot(index='symbol', columns=['index'], values='metric')\n",
    "df_hist.reset_index(level=0, inplace=True)"
   ]
  },
  {
   "cell_type": "code",
   "execution_count": 56,
   "id": "7bf7ad7c-f0a5-4e0d-b075-015eff159628",
   "metadata": {},
   "outputs": [
    {
     "data": {
      "text/html": [
       "<div>\n",
       "<style scoped>\n",
       "    .dataframe tbody tr th:only-of-type {\n",
       "        vertical-align: middle;\n",
       "    }\n",
       "\n",
       "    .dataframe tbody tr th {\n",
       "        vertical-align: top;\n",
       "    }\n",
       "\n",
       "    .dataframe thead th {\n",
       "        text-align: right;\n",
       "    }\n",
       "</style>\n",
       "<table border=\"1\" class=\"dataframe\">\n",
       "  <thead>\n",
       "    <tr style=\"text-align: right;\">\n",
       "      <th>index</th>\n",
       "      <th>symbol</th>\n",
       "      <th>10DayAverageTradingVolume</th>\n",
       "      <th>13WeekPriceReturnDaily</th>\n",
       "      <th>26WeekPriceReturnDaily</th>\n",
       "      <th>3MonthAverageTradingVolume</th>\n",
       "      <th>52WeekHigh</th>\n",
       "      <th>52WeekHighDate</th>\n",
       "      <th>52WeekLow</th>\n",
       "      <th>52WeekLowDate</th>\n",
       "      <th>52WeekPriceReturnDaily</th>\n",
       "      <th>5DayPriceReturnDaily</th>\n",
       "      <th>beta</th>\n",
       "      <th>marketCapitalization</th>\n",
       "      <th>monthToDatePriceReturnDaily</th>\n",
       "      <th>priceRelativeToS&amp;P50013Week</th>\n",
       "      <th>priceRelativeToS&amp;P50026Week</th>\n",
       "      <th>priceRelativeToS&amp;P5004Week</th>\n",
       "      <th>priceRelativeToS&amp;P50052Week</th>\n",
       "      <th>priceRelativeToS&amp;P500Ytd</th>\n",
       "      <th>yearToDatePriceReturnDaily</th>\n",
       "    </tr>\n",
       "  </thead>\n",
       "  <tbody>\n",
       "    <tr>\n",
       "      <th>0</th>\n",
       "      <td>U77.SI</td>\n",
       "      <td>6.031135</td>\n",
       "      <td>33.47828</td>\n",
       "      <td>381.94442</td>\n",
       "      <td>185.303085</td>\n",
       "      <td>3.85</td>\n",
       "      <td>Brillo's</td>\n",
       "      <td>1.078</td>\n",
       "      <td>assize</td>\n",
       "      <td>941.111105</td>\n",
       "      <td>0</td>\n",
       "      <td>6.939735</td>\n",
       "      <td>1186.8846</td>\n",
       "      <td>-4.471555</td>\n",
       "      <td>35.38898</td>\n",
       "      <td>300.8368</td>\n",
       "      <td>24.560085</td>\n",
       "      <td>710.09884</td>\n",
       "      <td>178.59435</td>\n",
       "      <td>248.80955</td>\n",
       "    </tr>\n",
       "  </tbody>\n",
       "</table>\n",
       "</div>"
      ],
      "text/plain": [
       "index  symbol 10DayAverageTradingVolume 13WeekPriceReturnDaily  \\\n",
       "0      U77.SI                  6.031135               33.47828   \n",
       "\n",
       "index 26WeekPriceReturnDaily 3MonthAverageTradingVolume 52WeekHigh  \\\n",
       "0                  381.94442                 185.303085       3.85   \n",
       "\n",
       "index 52WeekHighDate 52WeekLow 52WeekLowDate 52WeekPriceReturnDaily  \\\n",
       "0           Brillo's     1.078        assize             941.111105   \n",
       "\n",
       "index 5DayPriceReturnDaily      beta marketCapitalization  \\\n",
       "0                        0  6.939735            1186.8846   \n",
       "\n",
       "index monthToDatePriceReturnDaily priceRelativeToS&P50013Week  \\\n",
       "0                       -4.471555                    35.38898   \n",
       "\n",
       "index priceRelativeToS&P50026Week priceRelativeToS&P5004Week  \\\n",
       "0                        300.8368                  24.560085   \n",
       "\n",
       "index priceRelativeToS&P50052Week priceRelativeToS&P500Ytd  \\\n",
       "0                       710.09884                178.59435   \n",
       "\n",
       "index yearToDatePriceReturnDaily  \n",
       "0                      248.80955  "
      ]
     },
     "execution_count": 56,
     "metadata": {},
     "output_type": "execute_result"
    }
   ],
   "source": [
    "df_hist"
   ]
  },
  {
   "cell_type": "code",
   "execution_count": 57,
   "id": "d7716993-a199-4406-ba3b-96b376367873",
   "metadata": {},
   "outputs": [
    {
     "name": "stdout",
     "output_type": "stream",
     "text": [
      "symbol\n",
      "10DayAverageTradingVolume\n",
      "13WeekPriceReturnDaily\n",
      "26WeekPriceReturnDaily\n",
      "3MonthAverageTradingVolume\n",
      "52WeekHigh\n",
      "52WeekHighDate\n",
      "52WeekLow\n",
      "52WeekLowDate\n",
      "52WeekPriceReturnDaily\n",
      "5DayPriceReturnDaily\n",
      "beta\n",
      "marketCapitalization\n",
      "monthToDatePriceReturnDaily\n",
      "priceRelativeToS&P50013Week\n",
      "priceRelativeToS&P50026Week\n",
      "priceRelativeToS&P5004Week\n",
      "priceRelativeToS&P50052Week\n",
      "priceRelativeToS&P500Ytd\n",
      "yearToDatePriceReturnDaily\n"
     ]
    }
   ],
   "source": [
    "# iterating the columns\n",
    "for col in df_hist.columns:\n",
    "    print(col)"
   ]
  },
  {
   "cell_type": "code",
   "execution_count": 66,
   "id": "355d572c-b233-4b87-be62-6597cccd826f",
   "metadata": {},
   "outputs": [],
   "source": [
    "def get_historical_price(ticker)->dict:\n",
    "    global token\n",
    "    try:\n",
    "        r = requests.get(base_url, params = {'symbol': ticker, 'token':token,'metric':'price'})\n",
    "        text = r.text\n",
    "        ret = json.loads(text)\n",
    "        df_hist = pd.DataFrame.from_dict(ret)\n",
    "        df_hist.reset_index(level=0, inplace=True) # # df_hist['index1'] = df_hist.index\n",
    "        df_hist = df_hist.pivot(index='symbol', columns=['index'], values='metric')\n",
    "        df_hist.reset_index(level=0, inplace=True)\n",
    "        return df_hist\n",
    "    except:\n",
    "        pass"
   ]
  },
  {
   "cell_type": "code",
   "execution_count": 67,
   "id": "25bcbaeb-dc0b-4415-a685-2e8eea6ffa3f",
   "metadata": {},
   "outputs": [],
   "source": [
    "# count = 0\n",
    "# records_of_tickers = []\n",
    "# for ticker in list_of_tickers:\n",
    "#     ret = get_historical_price(ticker, token)\n",
    "#     records_of_tickers.append(ret)\n",
    "#     count += 1\n",
    "#     if count >= 10:\n",
    "#         break"
   ]
  },
  {
   "cell_type": "code",
   "execution_count": 76,
   "id": "d80bbf30-cc88-4fd6-84a5-d8a98915e9af",
   "metadata": {},
   "outputs": [],
   "source": [
    "def get_hist(list_of_tickers):\n",
    "    threads = min(MAX_THREADS, len(list_of_tickers))\n",
    "    with concurrent.futures.ThreadPoolExecutor(max_workers=threads) as executor:\n",
    "        for number, df in tqdm(zip(list_of_tickers, executor.map(get_historical_price, list_of_tickers))):\n",
    "            if df.empty:\n",
    "                print('%s dataframe is empty!', number)\n",
    "            else:\n",
    "                df.to_csv(\"stock_hist.csv\", index=False, mode='a', header=False, date_format='%Y%m%d', encoding='utf-8-sig')"
   ]
  },
  {
   "cell_type": "code",
   "execution_count": 77,
   "id": "999450d0-949b-45cc-9333-d05bf5a02fff",
   "metadata": {},
   "outputs": [],
   "source": [
    "# df_hist = pd.DataFrame(records_of_tickers)"
   ]
  },
  {
   "cell_type": "code",
   "execution_count": 78,
   "id": "b811bf6d-4677-46b0-b7a0-3c596c278a2b",
   "metadata": {},
   "outputs": [],
   "source": [
    "# df_hist"
   ]
  },
  {
   "cell_type": "code",
   "execution_count": null,
   "id": "f6cab0f9-aca5-4c97-a6ba-28e06dbbfa54",
   "metadata": {},
   "outputs": [
    {
     "name": "stderr",
     "output_type": "stream",
     "text": [
      "2it [00:14,  7.27s/it]\n"
     ]
    }
   ],
   "source": [
    "get_hist(list_of_tickers)"
   ]
  },
  {
   "cell_type": "code",
   "execution_count": null,
   "id": "0ef0fa8c-c987-4d7e-b87f-1aadda539825",
   "metadata": {},
   "outputs": [],
   "source": []
  },
  {
   "cell_type": "code",
   "execution_count": null,
   "id": "aa339146-e199-4c1e-8f1a-ad1aa3a0225f",
   "metadata": {},
   "outputs": [],
   "source": []
  },
  {
   "cell_type": "code",
   "execution_count": null,
   "id": "fac81f16-3fb9-41d1-b4f0-e1e48360c912",
   "metadata": {},
   "outputs": [],
   "source": []
  },
  {
   "cell_type": "code",
   "execution_count": null,
   "id": "fc881aa3-344b-4e7b-95d7-458ea8b28ae8",
   "metadata": {},
   "outputs": [],
   "source": []
  },
  {
   "cell_type": "markdown",
   "id": "a446d512-7c66-4faf-98fb-56ac6e876e41",
   "metadata": {},
   "source": [
    "# Target Price"
   ]
  },
  {
   "cell_type": "code",
   "execution_count": null,
   "id": "d39e18d6-43c8-421f-880b-8eba3faee139",
   "metadata": {},
   "outputs": [],
   "source": [
    "def get_target_price(ticker, token)->dict:\n",
    "    base_url = 'https://finnhub.io/api/v1/stock/price-target?'\n",
    "    r = requests.get(base_url, params = {'symbol': ticker, 'token':token})\n",
    "    text = r.text\n",
    "    text = json.loads(text)\n",
    "    return text"
   ]
  },
  {
   "cell_type": "code",
   "execution_count": null,
   "id": "9920c5d9-01ed-4783-b9db-762dfa2e1319",
   "metadata": {},
   "outputs": [],
   "source": [
    "list_of_tickers[0:10]"
   ]
  },
  {
   "cell_type": "code",
   "execution_count": null,
   "id": "77d42519-ff63-44e5-a1ca-ed26c6026a1e",
   "metadata": {},
   "outputs": [],
   "source": [
    "count = 0\n",
    "records_of_tickers = []\n",
    "for ticker in list_of_tickers:\n",
    "    ret = get_target_price(ticker, token)\n",
    "    records_of_tickers.append(ret)\n",
    "    count += 1\n",
    "    if count >= 10:\n",
    "        break"
   ]
  },
  {
   "cell_type": "code",
   "execution_count": null,
   "id": "f6fbfac0-1e9d-4e6c-aabe-b1017c4b9716",
   "metadata": {},
   "outputs": [],
   "source": [
    "df_esti = pd.DataFrame(records_of_tickers)"
   ]
  },
  {
   "cell_type": "code",
   "execution_count": null,
   "id": "1ad7de55-e625-4ef3-a0b9-e6fa416057d5",
   "metadata": {},
   "outputs": [],
   "source": [
    "df_esti"
   ]
  },
  {
   "cell_type": "code",
   "execution_count": null,
   "id": "5ae625bd-ec1b-49d0-a221-d1195e047ef4",
   "metadata": {},
   "outputs": [],
   "source": [
    "merged_df = df_esti.merge(df_hist, how = 'left', on = ['symbol'])"
   ]
  },
  {
   "cell_type": "code",
   "execution_count": null,
   "id": "c9e80032-12bf-40ba-a861-cc0e1ce73b18",
   "metadata": {},
   "outputs": [],
   "source": [
    "merged_df"
   ]
  },
  {
   "cell_type": "code",
   "execution_count": null,
   "id": "8b5481d7-e0c4-4e90-a937-1c04e5074adc",
   "metadata": {},
   "outputs": [],
   "source": [
    "merged_df.dropna(subset=['symbol'])"
   ]
  },
  {
   "cell_type": "code",
   "execution_count": null,
   "id": "013f5d9b-948b-4122-b085-9b239f63df3b",
   "metadata": {},
   "outputs": [],
   "source": [
    "print(type(merged_df['symbol'].iloc[0]))"
   ]
  },
  {
   "cell_type": "code",
   "execution_count": null,
   "id": "48c2aa8f-7eac-45e9-aa7e-d4aabc8f3cb6",
   "metadata": {},
   "outputs": [],
   "source": [
    "df1 = merged_df.replace(np.nan, '', regex=True)"
   ]
  },
  {
   "cell_type": "code",
   "execution_count": null,
   "id": "91942ddc-aa7e-4bf7-af64-2dc21cd1692d",
   "metadata": {},
   "outputs": [],
   "source": [
    "merged_df['symbol'] = merged_df['symbol'].replace('', np.nan)"
   ]
  },
  {
   "cell_type": "code",
   "execution_count": null,
   "id": "e80cda2f-0c08-48e3-b4b9-c654fdadb760",
   "metadata": {},
   "outputs": [],
   "source": [
    "merged_df"
   ]
  },
  {
   "cell_type": "code",
   "execution_count": null,
   "id": "3b7ff647-7b09-4e34-bc99-3f67d5370046",
   "metadata": {},
   "outputs": [],
   "source": [
    "merged_df.dropna(subset=['symbol'], inplace=True)"
   ]
  },
  {
   "cell_type": "code",
   "execution_count": null,
   "id": "2e6c2b5a-7622-4205-bbfb-e260dff0cd9c",
   "metadata": {},
   "outputs": [],
   "source": [
    "merged_df"
   ]
  },
  {
   "cell_type": "markdown",
   "id": "d11327e4-6604-4287-88fb-42f4e9244675",
   "metadata": {},
   "source": [
    "# Recommendation Trends"
   ]
  },
  {
   "cell_type": "code",
   "execution_count": null,
   "id": "0f533e2b-5a7f-4e91-a864-5372b91c7696",
   "metadata": {},
   "outputs": [],
   "source": [
    "def get_recommmand_trends(ticker, token)->dict:\n",
    "    base_url = 'https://finnhub.io/api/v1/stock/recommendation?'\n",
    "    r = requests.get(base_url, params = {'symbol': ticker, 'token':token})\n",
    "    text = r.text\n",
    "    return (ticker, text)"
   ]
  },
  {
   "cell_type": "code",
   "execution_count": null,
   "id": "57400596-4aff-4c87-a57c-d9c30e2f9046",
   "metadata": {},
   "outputs": [],
   "source": [
    "list_of_tickers = merged_df['symbol'].tolist()"
   ]
  },
  {
   "cell_type": "code",
   "execution_count": null,
   "id": "8a81dffa-74db-4ea1-895d-65fef0bde6f1",
   "metadata": {},
   "outputs": [],
   "source": [
    "count = 0\n",
    "records_of_tickers = []\n",
    "for ticker in list_of_tickers:\n",
    "    ret = get_recommmand_trends(ticker, token)\n",
    "    records_of_tickers.append(ret)\n",
    "    count += 1\n",
    "    if count >= 10:\n",
    "        break"
   ]
  },
  {
   "cell_type": "code",
   "execution_count": null,
   "id": "8b839084-fb85-40ae-a512-1a7bc49fbdbf",
   "metadata": {},
   "outputs": [],
   "source": [
    "records_of_tickers"
   ]
  },
  {
   "cell_type": "code",
   "execution_count": null,
   "id": "30d46a7b-3ad1-4c39-b6a0-ae29974870fc",
   "metadata": {},
   "outputs": [],
   "source": [
    "df_recom = pd.DataFrame(records_of_tickers)"
   ]
  },
  {
   "cell_type": "code",
   "execution_count": null,
   "id": "18dffc83-1cba-416e-abef-b3d22edc7f38",
   "metadata": {},
   "outputs": [],
   "source": [
    "df_recom"
   ]
  },
  {
   "cell_type": "code",
   "execution_count": null,
   "id": "093604de-1c2b-418e-bd1a-1b29a31655c7",
   "metadata": {},
   "outputs": [],
   "source": [
    "df_recom.columns = ['symbol','recommendation']"
   ]
  },
  {
   "cell_type": "code",
   "execution_count": null,
   "id": "03007294-c042-41b4-9f89-c25bc35f7767",
   "metadata": {},
   "outputs": [],
   "source": [
    "df_recom"
   ]
  },
  {
   "cell_type": "code",
   "execution_count": null,
   "id": "04beb9ed-f9b8-4618-9105-8baad80494ef",
   "metadata": {},
   "outputs": [],
   "source": [
    "merged_df = merged_df.merge(df_recom, how = 'left', on = ['symbol'])"
   ]
  },
  {
   "cell_type": "code",
   "execution_count": null,
   "id": "4c55a597-f061-4a35-a4fa-a86a79cf2ba7",
   "metadata": {},
   "outputs": [],
   "source": [
    "merged_df"
   ]
  },
  {
   "cell_type": "code",
   "execution_count": null,
   "id": "3cc503eb-9525-48ab-855f-3cb9d27269ae",
   "metadata": {},
   "outputs": [],
   "source": []
  },
  {
   "cell_type": "code",
   "execution_count": null,
   "id": "6d5e1ad1-827b-47b2-905c-c4d9d0b73019",
   "metadata": {},
   "outputs": [],
   "source": []
  },
  {
   "cell_type": "code",
   "execution_count": null,
   "id": "2a847211-a43d-4cb2-bb66-af92de1a98de",
   "metadata": {},
   "outputs": [],
   "source": []
  },
  {
   "cell_type": "code",
   "execution_count": null,
   "id": "7364723d-ade4-4f4d-9c77-fb50b70e8358",
   "metadata": {},
   "outputs": [],
   "source": [
    "data = pdr.get_data_yahoo('^KS11', one_year_ago, today)"
   ]
  },
  {
   "cell_type": "code",
   "execution_count": null,
   "id": "848f5fc7-82f1-4513-bf01-da53d9b5776c",
   "metadata": {},
   "outputs": [],
   "source": [
    "data.describe()['Adj Close']"
   ]
  },
  {
   "cell_type": "code",
   "execution_count": null,
   "id": "79e06912-6378-4a58-801c-649444a5ee16",
   "metadata": {},
   "outputs": [],
   "source": []
  },
  {
   "cell_type": "code",
   "execution_count": null,
   "id": "5dacaa7c-4cf2-4b41-9edb-e5264c2f736e",
   "metadata": {},
   "outputs": [],
   "source": [
    "kospi = pdr.get_data_yahoo('^KS11', '2004-01-04')\n",
    "\n",
    "window = 252\n",
    "peak = kospi['Adj Close'].rolling(window, min_periods=1).max()\n",
    "drawdown = kospi['Adj Close']/peak - 1.0\n",
    "max_dd = drawdown.rolling(window, min_periods=1).min()\n",
    " \n",
    "plt.figure(figsize=(9, 7))\n",
    "plt.subplot(211)\n",
    "kospi['Close'].plot(label='KOSPI', title='KOSPI MDD', grid=True, legend=True)\n",
    "plt.subplot(212)\n",
    "drawdown.plot(c='blue', label='KOSPI DD', grid=True, legend=True)\n",
    "max_dd.plot(c='red', label='KOSPI MDD', grid=True, legend=True)\n",
    "plt.show()"
   ]
  },
  {
   "cell_type": "code",
   "execution_count": null,
   "id": "e207829c-0aec-49d0-a121-d51b2fae0106",
   "metadata": {},
   "outputs": [],
   "source": []
  }
 ],
 "metadata": {
  "kernelspec": {
   "display_name": "Python 3",
   "language": "python",
   "name": "python3"
  },
  "language_info": {
   "codemirror_mode": {
    "name": "ipython",
    "version": 3
   },
   "file_extension": ".py",
   "mimetype": "text/x-python",
   "name": "python",
   "nbconvert_exporter": "python",
   "pygments_lexer": "ipython3",
   "version": "3.8.8"
  }
 },
 "nbformat": 4,
 "nbformat_minor": 5
}
