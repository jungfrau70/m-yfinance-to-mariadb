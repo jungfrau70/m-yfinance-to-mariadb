{
 "cells": [
  {
   "cell_type": "code",
   "execution_count": 1,
   "id": "1c5665e6-7bb3-4e4e-9397-721598cf196f",
   "metadata": {},
   "outputs": [],
   "source": [
    "import datetime\n",
    "import pymysql\n",
    "pymysql.install_as_MySQLdb()"
   ]
  },
  {
   "cell_type": "markdown",
   "id": "f55d9517-bc4d-42a2-a8b6-dcdb302193c4",
   "metadata": {},
   "source": [
    "# DB 적재"
   ]
  },
  {
   "cell_type": "code",
   "execution_count": 2,
   "id": "9188ad68-a0f7-4939-8c78-cd4397875e29",
   "metadata": {},
   "outputs": [],
   "source": [
    "from Investar import DBUpdater"
   ]
  },
  {
   "cell_type": "code",
   "execution_count": 4,
   "id": "50a648d2-be48-4256-839c-b142606fde11",
   "metadata": {},
   "outputs": [],
   "source": [
    "dbu = DBUpdater.DBUpdater()"
   ]
  },
  {
   "cell_type": "code",
   "execution_count": 5,
   "id": "3ce27e6c-dcbb-4f12-96a1-7fdbea0de66d",
   "metadata": {},
   "outputs": [
    {
     "data": {
      "text/html": [
       "<div>\n",
       "<style scoped>\n",
       "    .dataframe tbody tr th:only-of-type {\n",
       "        vertical-align: middle;\n",
       "    }\n",
       "\n",
       "    .dataframe tbody tr th {\n",
       "        vertical-align: top;\n",
       "    }\n",
       "\n",
       "    .dataframe thead th {\n",
       "        text-align: right;\n",
       "    }\n",
       "</style>\n",
       "<table border=\"1\" class=\"dataframe\">\n",
       "  <thead>\n",
       "    <tr style=\"text-align: right;\">\n",
       "      <th></th>\n",
       "      <th>code</th>\n",
       "      <th>company</th>\n",
       "    </tr>\n",
       "  </thead>\n",
       "  <tbody>\n",
       "    <tr>\n",
       "      <th>0</th>\n",
       "      <td>004840</td>\n",
       "      <td>DRB동일</td>\n",
       "    </tr>\n",
       "    <tr>\n",
       "      <th>1</th>\n",
       "      <td>155660</td>\n",
       "      <td>DSR</td>\n",
       "    </tr>\n",
       "    <tr>\n",
       "      <th>2</th>\n",
       "      <td>001250</td>\n",
       "      <td>GS글로벌</td>\n",
       "    </tr>\n",
       "    <tr>\n",
       "      <th>3</th>\n",
       "      <td>294870</td>\n",
       "      <td>HDC현대산업개발</td>\n",
       "    </tr>\n",
       "    <tr>\n",
       "      <th>4</th>\n",
       "      <td>092220</td>\n",
       "      <td>KEC</td>\n",
       "    </tr>\n",
       "    <tr>\n",
       "      <th>...</th>\n",
       "      <td>...</td>\n",
       "      <td>...</td>\n",
       "    </tr>\n",
       "    <tr>\n",
       "      <th>2446</th>\n",
       "      <td>318660</td>\n",
       "      <td>타임기술</td>\n",
       "    </tr>\n",
       "    <tr>\n",
       "      <th>2447</th>\n",
       "      <td>199800</td>\n",
       "      <td>툴젠</td>\n",
       "    </tr>\n",
       "    <tr>\n",
       "      <th>2448</th>\n",
       "      <td>222670</td>\n",
       "      <td>플럼라인생명과학</td>\n",
       "    </tr>\n",
       "    <tr>\n",
       "      <th>2449</th>\n",
       "      <td>331660</td>\n",
       "      <td>한국미라클피플사</td>\n",
       "    </tr>\n",
       "    <tr>\n",
       "      <th>2450</th>\n",
       "      <td>212310</td>\n",
       "      <td>휴벡셀</td>\n",
       "    </tr>\n",
       "  </tbody>\n",
       "</table>\n",
       "<p>2451 rows × 2 columns</p>\n",
       "</div>"
      ],
      "text/plain": [
       "        code    company\n",
       "0     004840      DRB동일\n",
       "1     155660        DSR\n",
       "2     001250      GS글로벌\n",
       "3     294870  HDC현대산업개발\n",
       "4     092220        KEC\n",
       "...      ...        ...\n",
       "2446  318660       타임기술\n",
       "2447  199800         툴젠\n",
       "2448  222670   플럼라인생명과학\n",
       "2449  331660   한국미라클피플사\n",
       "2450  212310        휴벡셀\n",
       "\n",
       "[2451 rows x 2 columns]"
      ]
     },
     "execution_count": 5,
     "metadata": {},
     "output_type": "execute_result"
    }
   ],
   "source": [
    "dbu.read_krx_code()"
   ]
  },
  {
   "cell_type": "code",
   "execution_count": 6,
   "id": "33f471a7-4118-4231-b93b-b54857196865",
   "metadata": {},
   "outputs": [],
   "source": [
    "dbu.update_daily_price(10)"
   ]
  },
  {
   "cell_type": "code",
   "execution_count": 5,
   "id": "79b812c3-0364-4188-a913-9346730f858c",
   "metadata": {
    "tags": []
   },
   "outputs": [],
   "source": [
    "#dbu.execute_daily()"
   ]
  },
  {
   "cell_type": "markdown",
   "id": "f2d8f21e-b29a-4f3e-9f0a-41af2703e247",
   "metadata": {},
   "source": [
    "# DB 조회"
   ]
  },
  {
   "cell_type": "code",
   "execution_count": 7,
   "id": "1db203a0-c95e-4cc2-9d52-ba95f486d7cf",
   "metadata": {},
   "outputs": [
    {
     "data": {
      "text/html": [
       "<div>\n",
       "<style scoped>\n",
       "    .dataframe tbody tr th:only-of-type {\n",
       "        vertical-align: middle;\n",
       "    }\n",
       "\n",
       "    .dataframe tbody tr th {\n",
       "        vertical-align: top;\n",
       "    }\n",
       "\n",
       "    .dataframe thead th {\n",
       "        text-align: right;\n",
       "    }\n",
       "</style>\n",
       "<table border=\"1\" class=\"dataframe\">\n",
       "  <thead>\n",
       "    <tr style=\"text-align: right;\">\n",
       "      <th></th>\n",
       "      <th>code</th>\n",
       "      <th>date</th>\n",
       "      <th>open</th>\n",
       "      <th>high</th>\n",
       "      <th>low</th>\n",
       "      <th>close</th>\n",
       "      <th>diff</th>\n",
       "      <th>volume</th>\n",
       "    </tr>\n",
       "    <tr>\n",
       "      <th>date</th>\n",
       "      <th></th>\n",
       "      <th></th>\n",
       "      <th></th>\n",
       "      <th></th>\n",
       "      <th></th>\n",
       "      <th></th>\n",
       "      <th></th>\n",
       "      <th></th>\n",
       "    </tr>\n",
       "  </thead>\n",
       "  <tbody>\n",
       "  </tbody>\n",
       "</table>\n",
       "</div>"
      ],
      "text/plain": [
       "Empty DataFrame\n",
       "Columns: [code, date, open, high, low, close, diff, volume]\n",
       "Index: []"
      ]
     },
     "execution_count": 7,
     "metadata": {},
     "output_type": "execute_result"
    }
   ],
   "source": [
    "from Investar import Analyzer\n",
    "mk = Analyzer.MarketDB()\n",
    "mk.get_daily_price('삼성전자', '2019-09-30', '2021-07-03')"
   ]
  },
  {
   "cell_type": "code",
   "execution_count": 8,
   "id": "2484dfc1-4fd2-4367-9820-9a435a9942ad",
   "metadata": {},
   "outputs": [],
   "source": [
    "# 1. DB 연결\n",
    "def connect_db():\n",
    "    conn = pymysql.connect(host=\"localhost\", user=\"root\", password=\"4team123!\",\n",
    "                           db=\"INVESTAR\", charset=\"utf8\")  \n",
    "    return conn\n",
    "\n",
    "today = datetime.datetime.now().strftime('%Y%m%d') \n",
    "conn = connect_db()\n",
    "curs = conn.cursor() "
   ]
  },
  {
   "cell_type": "code",
   "execution_count": 9,
   "id": "b2e9e31d-2081-41b7-9f92-7d264d837f75",
   "metadata": {},
   "outputs": [],
   "source": [
    "# 2. DB 연결 종료\n",
    "conn.close()"
   ]
  }
 ],
 "metadata": {
  "kernelspec": {
   "display_name": "Python 3",
   "language": "python",
   "name": "python3"
  },
  "language_info": {
   "codemirror_mode": {
    "name": "ipython",
    "version": 3
   },
   "file_extension": ".py",
   "mimetype": "text/x-python",
   "name": "python",
   "nbconvert_exporter": "python",
   "pygments_lexer": "ipython3",
   "version": "3.8.9"
  }
 },
 "nbformat": 4,
 "nbformat_minor": 5
}
