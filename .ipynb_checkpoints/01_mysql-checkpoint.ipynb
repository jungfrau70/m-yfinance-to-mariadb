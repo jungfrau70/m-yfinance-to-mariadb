{
 "cells": [
  {
   "cell_type": "code",
   "execution_count": 6,
   "id": "1c5665e6-7bb3-4e4e-9397-721598cf196f",
   "metadata": {},
   "outputs": [],
   "source": [
    "import datetime\n",
    "import pymysql\n",
    "pymysql.install_as_MySQLdb()"
   ]
  },
  {
   "cell_type": "code",
   "execution_count": 11,
   "id": "2484dfc1-4fd2-4367-9820-9a435a9942ad",
   "metadata": {},
   "outputs": [],
   "source": [
    "# 1. DB 연결\n",
    "def connect_db():\n",
    "    conn = pymysql.connect(host=\"localhost\", user=\"root\", password=\"4team123!\",\n",
    "                           db=\"INVESTAR\", charset=\"utf8\")  \n",
    "    return conn\n",
    "\n",
    "today = datetime.datetime.now().strftime('%Y%m%d') \n",
    "conn = connect_db()\n",
    "curs = conn.cursor() "
   ]
  },
  {
   "cell_type": "code",
   "execution_count": 12,
   "id": "b2e9e31d-2081-41b7-9f92-7d264d837f75",
   "metadata": {},
   "outputs": [],
   "source": [
    "# 2. DB 연결 종료\n",
    "conn.close()"
   ]
  }
 ],
 "metadata": {
  "kernelspec": {
   "display_name": "Python 3",
   "language": "python",
   "name": "python3"
  },
  "language_info": {
   "codemirror_mode": {
    "name": "ipython",
    "version": 3
   },
   "file_extension": ".py",
   "mimetype": "text/x-python",
   "name": "python",
   "nbconvert_exporter": "python",
   "pygments_lexer": "ipython3",
   "version": "3.8.9"
  }
 },
 "nbformat": 4,
 "nbformat_minor": 5
}
