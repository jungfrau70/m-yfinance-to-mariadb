{
 "cells": [
  {
   "cell_type": "markdown",
   "id": "ba41fea3-f9fe-4824-893f-cf8463751bdd",
   "metadata": {},
   "source": [
    "# 기본분석 Fundamental analysis\n",
    "시장가치와 내재가치가 괴리가 생기고, 주가(시장가격)가 내재가치에 수렴한다는 전제"
   ]
  },
  {
   "cell_type": "code",
   "execution_count": null,
   "id": "a921ba5c-2c46-4cd1-8d82-8376fd4d8620",
   "metadata": {},
   "outputs": [],
   "source": []
  },
  {
   "cell_type": "markdown",
   "id": "127dcf45-f30d-425a-a242-6d4d529538f2",
   "metadata": {},
   "source": [
    "## 시장가치와내재가치\n",
    "\n",
    "- 양적분석 : 재무제표, 주가와손익, 산업자료등수치자료\n",
    "\n",
    "- 질적분석 : 경기, 산업동향, 노사문제, CEO의능력 등\n",
    "\n",
    "- 기술분석을 위해서도 기본분석은 중요"
   ]
  },
  {
   "cell_type": "markdown",
   "id": "46c24f8f-c2cf-4c38-8ff7-3f496e07a32c",
   "metadata": {},
   "source": [
    "## 기본분석의한계\n",
    "\n",
    "- 재무제표의 데이터는 시의성이 떨어진다 (년간4회)\n",
    "\n",
    "- 시장가치와 내재가치와 괴리가 지나치게 오래 지속 될수있다\n",
    "\n",
    "- 내재가치 평가에 주관적 판단 (검증이어렵다)"
   ]
  },
  {
   "cell_type": "code",
   "execution_count": 53,
   "id": "28a62663-c4ac-4782-87df-369df086c32d",
   "metadata": {},
   "outputs": [],
   "source": [
    "import pandas as pd\n",
    "import requests\n",
    "import yfinance as yf\n",
    "yf.pdr_override()\n",
    "\n",
    "from datetime import datetime\n",
    "import matplotlib.pyplot as plt\n",
    "from pandas_datareader import data as pdr\n",
    "from pandas.io.json import json_normalize"
   ]
  },
  {
   "cell_type": "markdown",
   "id": "17f9da43-45df-45d1-982c-1df72abd1251",
   "metadata": {},
   "source": [
    "# Getting Today"
   ]
  },
  {
   "cell_type": "code",
   "execution_count": 55,
   "id": "30509aed-64e0-4316-9c18-4d8c82451faa",
   "metadata": {},
   "outputs": [],
   "source": [
    "today = datetime.today().strftime('%Y-%m-%d')"
   ]
  },
  {
   "cell_type": "code",
   "execution_count": 61,
   "id": "2eefa96b-0970-4f75-98a7-52e9715a23bc",
   "metadata": {},
   "outputs": [],
   "source": [
    "def years_ago(dt, years):\n",
    "    if dt.month == 2 and dt.day == 29:\n",
    "        dt = dt.replace(day=28)\n",
    "\n",
    "    return dt.replace(year=dt.year - years)"
   ]
  },
  {
   "cell_type": "code",
   "execution_count": 66,
   "id": "d695c1e5-a7a1-4c98-b793-0d3f21e0c996",
   "metadata": {},
   "outputs": [],
   "source": [
    "one_year_ago = years_ago(datetime.today(), 1).strftime('%Y-%m-%d')"
   ]
  },
  {
   "cell_type": "markdown",
   "id": "7dd9c9cc-93ad-4b53-9081-38b89646052c",
   "metadata": {},
   "source": [
    "# Getting list_of_tickers"
   ]
  },
  {
   "cell_type": "code",
   "execution_count": 30,
   "id": "56a7dafe-e5eb-4700-8b4f-913983ada8d9",
   "metadata": {},
   "outputs": [
    {
     "name": "stderr",
     "output_type": "stream",
     "text": [
      "<ipython-input-30-c76a521487d6>:2: FutureWarning: pandas.io.json.json_normalize is deprecated, use pandas.json_normalize instead\n",
      "  res = json_normalize(a)\n"
     ]
    }
   ],
   "source": [
    "r = requests.get('https://finnhub.io/api/v1/stock/symbol?exchange=US&token=c3dg1raad3icrjj6ha80')\n",
    "res = json_normalize(a)\n",
    "df = pd.DataFrame(res)\n",
    "df_tickers = df['symbol']\n",
    "df_tickers.to_csv(\"ticker_list.csv\", index=False)"
   ]
  },
  {
   "cell_type": "code",
   "execution_count": 43,
   "id": "c1d956f2-bb78-469f-8954-30feeb89900a",
   "metadata": {},
   "outputs": [],
   "source": [
    "# list_of_tickers\n",
    "list_of_tickers = df['symbol'].values.tolist()"
   ]
  },
  {
   "cell_type": "code",
   "execution_count": 44,
   "id": "2b5d21ce-deba-41e7-99e9-d5233427a98e",
   "metadata": {},
   "outputs": [
    {
     "name": "stdout",
     "output_type": "stream",
     "text": [
      "27498\n"
     ]
    }
   ],
   "source": [
    "print(len(list_of_tickers))"
   ]
  },
  {
   "cell_type": "code",
   "execution_count": 57,
   "id": "3726eed4-27b2-4418-8a87-877b4587d27b",
   "metadata": {},
   "outputs": [
    {
     "name": "stdout",
     "output_type": "stream",
     "text": [
      "BGPPF\n",
      "EEVVF\n",
      "LABFF\n",
      "ADTTF\n",
      "HPE\n",
      "MDLZ\n",
      "ETEC\n",
      "PSB.PRX\n",
      "YANG\n",
      "CSOPF\n"
     ]
    }
   ],
   "source": [
    "count = 0\n",
    "for ticker in list_of_tickers:\n",
    "    print(ticker)\n",
    "    data = pdr.get_data_yahoo(ticker, start=, end=today)\n",
    "    count += 1\n",
    "    if count >= 10:\n",
    "        break"
   ]
  },
  {
   "cell_type": "code",
   "execution_count": 68,
   "id": "7364723d-ade4-4f4d-9c77-fb50b70e8358",
   "metadata": {},
   "outputs": [
    {
     "name": "stdout",
     "output_type": "stream",
     "text": [
      "[*********************100%***********************]  1 of 1 completed\n"
     ]
    }
   ],
   "source": [
    "data = pdr.get_data_yahoo('^KS11', one_year_ago, today)"
   ]
  },
  {
   "cell_type": "code",
   "execution_count": 76,
   "id": "848f5fc7-82f1-4513-bf01-da53d9b5776c",
   "metadata": {},
   "outputs": [
    {
     "data": {
      "text/plain": [
       "count     248.000000\n",
       "mean     2765.603302\n",
       "std       388.385370\n",
       "min      2093.479980\n",
       "25%      2366.522461\n",
       "50%      2807.730103\n",
       "75%      3136.045044\n",
       "max      3302.840088\n",
       "Name: Adj Close, dtype: float64"
      ]
     },
     "execution_count": 76,
     "metadata": {},
     "output_type": "execute_result"
    }
   ],
   "source": [
    "data.describe()['Adj Close']"
   ]
  },
  {
   "cell_type": "code",
   "execution_count": null,
   "id": "79e06912-6378-4a58-801c-649444a5ee16",
   "metadata": {},
   "outputs": [],
   "source": []
  },
  {
   "cell_type": "code",
   "execution_count": 26,
   "id": "5dacaa7c-4cf2-4b41-9edb-e5264c2f736e",
   "metadata": {},
   "outputs": [
    {
     "ename": "ModuleNotFoundError",
     "evalue": "No module named 'Investar'",
     "output_type": "error",
     "traceback": [
      "\u001b[1;31m---------------------------------------------------------------------------\u001b[0m",
      "\u001b[1;31mModuleNotFoundError\u001b[0m                       Traceback (most recent call last)",
      "\u001b[1;32m<ipython-input-26-fbd5dab7cce6>\u001b[0m in \u001b[0;36m<module>\u001b[1;34m\u001b[0m\n\u001b[0;32m      1\u001b[0m \u001b[1;32mimport\u001b[0m \u001b[0mmatplotlib\u001b[0m\u001b[1;33m.\u001b[0m\u001b[0mpyplot\u001b[0m \u001b[1;32mas\u001b[0m \u001b[0mplt\u001b[0m\u001b[1;33m\u001b[0m\u001b[1;33m\u001b[0m\u001b[0m\n\u001b[1;32m----> 2\u001b[1;33m \u001b[1;32mfrom\u001b[0m \u001b[0mInvestar\u001b[0m \u001b[1;32mimport\u001b[0m \u001b[0mAnalyzer\u001b[0m\u001b[1;33m\u001b[0m\u001b[1;33m\u001b[0m\u001b[0m\n\u001b[0m\u001b[0;32m      3\u001b[0m \u001b[1;33m\u001b[0m\u001b[0m\n\u001b[0;32m      4\u001b[0m \u001b[0mmk\u001b[0m \u001b[1;33m=\u001b[0m \u001b[0mAnalyzer\u001b[0m\u001b[1;33m.\u001b[0m\u001b[0mMarketDB\u001b[0m\u001b[1;33m(\u001b[0m\u001b[1;33m)\u001b[0m\u001b[1;33m\u001b[0m\u001b[1;33m\u001b[0m\u001b[0m\n\u001b[0;32m      5\u001b[0m \u001b[0mdf\u001b[0m \u001b[1;33m=\u001b[0m \u001b[0mmk\u001b[0m\u001b[1;33m.\u001b[0m\u001b[0mget_daily_price\u001b[0m\u001b[1;33m(\u001b[0m\u001b[1;34m'삼성전자'\u001b[0m\u001b[1;33m,\u001b[0m \u001b[1;34m'1998-04-27'\u001b[0m\u001b[1;33m,\u001b[0m \u001b[1;34m'2018-04-27'\u001b[0m\u001b[1;33m)\u001b[0m\u001b[1;33m\u001b[0m\u001b[1;33m\u001b[0m\u001b[0m\n",
      "\u001b[1;31mModuleNotFoundError\u001b[0m: No module named 'Investar'"
     ]
    }
   ],
   "source": [
    "kospi = pdr.get_data_yahoo('^KS11', '2004-01-04')\n",
    "\n",
    "window = 252\n",
    "peak = kospi['Adj Close'].rolling(window, min_periods=1).max()\n",
    "drawdown = kospi['Adj Close']/peak - 1.0\n",
    "max_dd = drawdown.rolling(window, min_periods=1).min()\n",
    " \n",
    "plt.figure(figsize=(9, 7))\n",
    "plt.subplot(211)\n",
    "kospi['Close'].plot(label='KOSPI', title='KOSPI MDD', grid=True, legend=True)\n",
    "plt.subplot(212)\n",
    "drawdown.plot(c='blue', label='KOSPI DD', grid=True, legend=True)\n",
    "max_dd.plot(c='red', label='KOSPI MDD', grid=True, legend=True)\n",
    "plt.show()"
   ]
  },
  {
   "cell_type": "code",
   "execution_count": null,
   "id": "e207829c-0aec-49d0-a121-d51b2fae0106",
   "metadata": {},
   "outputs": [],
   "source": []
  }
 ],
 "metadata": {
  "kernelspec": {
   "display_name": "Python 3",
   "language": "python",
   "name": "python3"
  },
  "language_info": {
   "codemirror_mode": {
    "name": "ipython",
    "version": 3
   },
   "file_extension": ".py",
   "mimetype": "text/x-python",
   "name": "python",
   "nbconvert_exporter": "python",
   "pygments_lexer": "ipython3",
   "version": "3.8.8"
  }
 },
 "nbformat": 4,
 "nbformat_minor": 5
}
